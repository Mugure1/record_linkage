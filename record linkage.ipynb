{
 "cells": [
  {
   "cell_type": "code",
   "execution_count": 1,
   "id": "a349433b",
   "metadata": {},
   "outputs": [],
   "source": [
    "import pandas as pd\n",
    "import numpy as np\n"
   ]
  },
  {
   "cell_type": "code",
   "execution_count": 2,
   "id": "ea306be4",
   "metadata": {},
   "outputs": [],
   "source": [
    "hdss=pd.read_csv(\"C:\\\\Users\\\\f\\\\Downloads\\\\synthetic_hdss_v3.csv\")\n",
    "facility=pd.read_csv(\"C:\\\\Users\\\\f\\\\Downloads\\\\synthetic_facility_v3.csv\")"
   ]
  },
  {
   "cell_type": "code",
   "execution_count": 3,
   "id": "47eb3d4d",
   "metadata": {},
   "outputs": [
    {
     "data": {
      "text/html": [
       "<div>\n",
       "<style scoped>\n",
       "    .dataframe tbody tr th:only-of-type {\n",
       "        vertical-align: middle;\n",
       "    }\n",
       "\n",
       "    .dataframe tbody tr th {\n",
       "        vertical-align: top;\n",
       "    }\n",
       "\n",
       "    .dataframe thead th {\n",
       "        text-align: right;\n",
       "    }\n",
       "</style>\n",
       "<table border=\"1\" class=\"dataframe\">\n",
       "  <thead>\n",
       "    <tr style=\"text-align: right;\">\n",
       "      <th></th>\n",
       "      <th>recnr</th>\n",
       "      <th>firstname</th>\n",
       "      <th>lastname</th>\n",
       "      <th>petname</th>\n",
       "      <th>dob</th>\n",
       "      <th>sex</th>\n",
       "      <th>nationalid</th>\n",
       "      <th>hdssid</th>\n",
       "      <th>hdsshhid</th>\n",
       "    </tr>\n",
       "  </thead>\n",
       "  <tbody>\n",
       "    <tr>\n",
       "      <th>0</th>\n",
       "      <td>1</td>\n",
       "      <td>Zaina</td>\n",
       "      <td>Hanifa</td>\n",
       "      <td>Ula</td>\n",
       "      <td>22-09-1930 00:00</td>\n",
       "      <td>2</td>\n",
       "      <td>NaN</td>\n",
       "      <td>I20001</td>\n",
       "      <td>HH100001</td>\n",
       "    </tr>\n",
       "    <tr>\n",
       "      <th>1</th>\n",
       "      <td>2</td>\n",
       "      <td>Godfrey</td>\n",
       "      <td>Maganda</td>\n",
       "      <td>Mukama</td>\n",
       "      <td>15-07-1934 00:00</td>\n",
       "      <td>1</td>\n",
       "      <td>NaN</td>\n",
       "      <td>I20002</td>\n",
       "      <td>HH100002</td>\n",
       "    </tr>\n",
       "    <tr>\n",
       "      <th>2</th>\n",
       "      <td>3</td>\n",
       "      <td>Kasim</td>\n",
       "      <td>Ngobi</td>\n",
       "      <td>Galabuzi</td>\n",
       "      <td>03-03-1983 00:00</td>\n",
       "      <td>1</td>\n",
       "      <td>NaN</td>\n",
       "      <td>I20003</td>\n",
       "      <td>HH100003</td>\n",
       "    </tr>\n",
       "    <tr>\n",
       "      <th>3</th>\n",
       "      <td>4</td>\n",
       "      <td>Esther</td>\n",
       "      <td>NaN</td>\n",
       "      <td>Inara</td>\n",
       "      <td>30-07-1968 00:00</td>\n",
       "      <td>2</td>\n",
       "      <td>NaN</td>\n",
       "      <td>I20004</td>\n",
       "      <td>HH100004</td>\n",
       "    </tr>\n",
       "    <tr>\n",
       "      <th>4</th>\n",
       "      <td>5</td>\n",
       "      <td>Sumaya</td>\n",
       "      <td>Swabula</td>\n",
       "      <td>NaN</td>\n",
       "      <td>13-12-1930 00:00</td>\n",
       "      <td>2</td>\n",
       "      <td>NaN</td>\n",
       "      <td>I20005</td>\n",
       "      <td>HH100005</td>\n",
       "    </tr>\n",
       "  </tbody>\n",
       "</table>\n",
       "</div>"
      ],
      "text/plain": [
       "   recnr firstname lastname   petname               dob  sex  nationalid  \\\n",
       "0      1     Zaina   Hanifa       Ula  22-09-1930 00:00    2         NaN   \n",
       "1      2   Godfrey  Maganda    Mukama  15-07-1934 00:00    1         NaN   \n",
       "2      3     Kasim    Ngobi  Galabuzi  03-03-1983 00:00    1         NaN   \n",
       "3      4    Esther      NaN     Inara  30-07-1968 00:00    2         NaN   \n",
       "4      5    Sumaya  Swabula       NaN  13-12-1930 00:00    2         NaN   \n",
       "\n",
       "   hdssid  hdsshhid  \n",
       "0  I20001  HH100001  \n",
       "1  I20002  HH100002  \n",
       "2  I20003  HH100003  \n",
       "3  I20004  HH100004  \n",
       "4  I20005  HH100005  "
      ]
     },
     "execution_count": 3,
     "metadata": {},
     "output_type": "execute_result"
    }
   ],
   "source": [
    "hdss.head()"
   ]
  },
  {
   "cell_type": "code",
   "execution_count": 4,
   "id": "ccb7db47",
   "metadata": {},
   "outputs": [
    {
     "data": {
      "text/html": [
       "<div>\n",
       "<style scoped>\n",
       "    .dataframe tbody tr th:only-of-type {\n",
       "        vertical-align: middle;\n",
       "    }\n",
       "\n",
       "    .dataframe tbody tr th {\n",
       "        vertical-align: top;\n",
       "    }\n",
       "\n",
       "    .dataframe thead th {\n",
       "        text-align: right;\n",
       "    }\n",
       "</style>\n",
       "<table border=\"1\" class=\"dataframe\">\n",
       "  <thead>\n",
       "    <tr style=\"text-align: right;\">\n",
       "      <th></th>\n",
       "      <th>recnr</th>\n",
       "      <th>firstname</th>\n",
       "      <th>lastname</th>\n",
       "      <th>petname</th>\n",
       "      <th>dob</th>\n",
       "      <th>sex</th>\n",
       "      <th>nationalid</th>\n",
       "      <th>patientid</th>\n",
       "      <th>visitdate</th>\n",
       "    </tr>\n",
       "  </thead>\n",
       "  <tbody>\n",
       "    <tr>\n",
       "      <th>0</th>\n",
       "      <td>2</td>\n",
       "      <td>Fatuma</td>\n",
       "      <td>NaN</td>\n",
       "      <td>Zaina</td>\n",
       "      <td>24-08-2017 00:00</td>\n",
       "      <td>2</td>\n",
       "      <td>N_ID_5000</td>\n",
       "      <td>2069</td>\n",
       "      <td>10-09-2018</td>\n",
       "    </tr>\n",
       "    <tr>\n",
       "      <th>1</th>\n",
       "      <td>3</td>\n",
       "      <td>Gloria</td>\n",
       "      <td>Rashida</td>\n",
       "      <td>NaN</td>\n",
       "      <td>11-07-1993 00:00</td>\n",
       "      <td>2</td>\n",
       "      <td>N_ID_11861</td>\n",
       "      <td>2079</td>\n",
       "      <td>14-12-2022</td>\n",
       "    </tr>\n",
       "    <tr>\n",
       "      <th>2</th>\n",
       "      <td>4</td>\n",
       "      <td>Ali</td>\n",
       "      <td>Hakram</td>\n",
       "      <td>Igomu</td>\n",
       "      <td>17-05-2014 00:00</td>\n",
       "      <td>1</td>\n",
       "      <td>N_ID_11864</td>\n",
       "      <td>2080</td>\n",
       "      <td>09-06-2023</td>\n",
       "    </tr>\n",
       "    <tr>\n",
       "      <th>3</th>\n",
       "      <td>5</td>\n",
       "      <td>Nakalema</td>\n",
       "      <td>NaN</td>\n",
       "      <td>Nkwanga</td>\n",
       "      <td>27-02-2026 00:00</td>\n",
       "      <td>2</td>\n",
       "      <td>N_ID_11867</td>\n",
       "      <td>2081</td>\n",
       "      <td>07-02-2019</td>\n",
       "    </tr>\n",
       "    <tr>\n",
       "      <th>4</th>\n",
       "      <td>6</td>\n",
       "      <td>Asuman</td>\n",
       "      <td>Sempa</td>\n",
       "      <td>Aguti</td>\n",
       "      <td>02-03-2002 00:00</td>\n",
       "      <td>1</td>\n",
       "      <td>N_ID_11870</td>\n",
       "      <td>2082</td>\n",
       "      <td>18-08-2020</td>\n",
       "    </tr>\n",
       "  </tbody>\n",
       "</table>\n",
       "</div>"
      ],
      "text/plain": [
       "   recnr firstname lastname  petname               dob  sex  nationalid  \\\n",
       "0      2    Fatuma      NaN    Zaina  24-08-2017 00:00    2   N_ID_5000   \n",
       "1      3    Gloria  Rashida      NaN  11-07-1993 00:00    2  N_ID_11861   \n",
       "2      4       Ali   Hakram    Igomu  17-05-2014 00:00    1  N_ID_11864   \n",
       "3      5  Nakalema      NaN  Nkwanga  27-02-2026 00:00    2  N_ID_11867   \n",
       "4      6    Asuman    Sempa    Aguti  02-03-2002 00:00    1  N_ID_11870   \n",
       "\n",
       "   patientid   visitdate  \n",
       "0       2069  10-09-2018  \n",
       "1       2079  14-12-2022  \n",
       "2       2080  09-06-2023  \n",
       "3       2081  07-02-2019  \n",
       "4       2082  18-08-2020  "
      ]
     },
     "execution_count": 4,
     "metadata": {},
     "output_type": "execute_result"
    }
   ],
   "source": [
    "facility.head()"
   ]
  },
  {
   "cell_type": "code",
   "execution_count": 5,
   "id": "1a88c61f",
   "metadata": {},
   "outputs": [
    {
     "data": {
      "text/html": [
       "<div>\n",
       "<style scoped>\n",
       "    .dataframe tbody tr th:only-of-type {\n",
       "        vertical-align: middle;\n",
       "    }\n",
       "\n",
       "    .dataframe tbody tr th {\n",
       "        vertical-align: top;\n",
       "    }\n",
       "\n",
       "    .dataframe thead th {\n",
       "        text-align: right;\n",
       "    }\n",
       "</style>\n",
       "<table border=\"1\" class=\"dataframe\">\n",
       "  <thead>\n",
       "    <tr style=\"text-align: right;\">\n",
       "      <th></th>\n",
       "      <th>recnr</th>\n",
       "      <th>sex</th>\n",
       "      <th>nationalid</th>\n",
       "    </tr>\n",
       "  </thead>\n",
       "  <tbody>\n",
       "    <tr>\n",
       "      <th>count</th>\n",
       "      <td>4115.000000</td>\n",
       "      <td>4115.00000</td>\n",
       "      <td>0.0</td>\n",
       "    </tr>\n",
       "    <tr>\n",
       "      <th>mean</th>\n",
       "      <td>2058.000000</td>\n",
       "      <td>1.64836</td>\n",
       "      <td>NaN</td>\n",
       "    </tr>\n",
       "    <tr>\n",
       "      <th>std</th>\n",
       "      <td>1188.042508</td>\n",
       "      <td>0.47754</td>\n",
       "      <td>NaN</td>\n",
       "    </tr>\n",
       "    <tr>\n",
       "      <th>min</th>\n",
       "      <td>1.000000</td>\n",
       "      <td>1.00000</td>\n",
       "      <td>NaN</td>\n",
       "    </tr>\n",
       "    <tr>\n",
       "      <th>25%</th>\n",
       "      <td>1029.500000</td>\n",
       "      <td>1.00000</td>\n",
       "      <td>NaN</td>\n",
       "    </tr>\n",
       "    <tr>\n",
       "      <th>50%</th>\n",
       "      <td>2058.000000</td>\n",
       "      <td>2.00000</td>\n",
       "      <td>NaN</td>\n",
       "    </tr>\n",
       "    <tr>\n",
       "      <th>75%</th>\n",
       "      <td>3086.500000</td>\n",
       "      <td>2.00000</td>\n",
       "      <td>NaN</td>\n",
       "    </tr>\n",
       "    <tr>\n",
       "      <th>max</th>\n",
       "      <td>4115.000000</td>\n",
       "      <td>2.00000</td>\n",
       "      <td>NaN</td>\n",
       "    </tr>\n",
       "  </tbody>\n",
       "</table>\n",
       "</div>"
      ],
      "text/plain": [
       "             recnr         sex  nationalid\n",
       "count  4115.000000  4115.00000         0.0\n",
       "mean   2058.000000     1.64836         NaN\n",
       "std    1188.042508     0.47754         NaN\n",
       "min       1.000000     1.00000         NaN\n",
       "25%    1029.500000     1.00000         NaN\n",
       "50%    2058.000000     2.00000         NaN\n",
       "75%    3086.500000     2.00000         NaN\n",
       "max    4115.000000     2.00000         NaN"
      ]
     },
     "execution_count": 5,
     "metadata": {},
     "output_type": "execute_result"
    }
   ],
   "source": [
    "hdss.describe()"
   ]
  },
  {
   "cell_type": "code",
   "execution_count": 6,
   "id": "6a3d1460",
   "metadata": {},
   "outputs": [
    {
     "data": {
      "text/plain": [
       "recnr            0\n",
       "firstname        0\n",
       "lastname        84\n",
       "petname       1221\n",
       "dob              0\n",
       "sex              0\n",
       "nationalid    4115\n",
       "hdssid           0\n",
       "hdsshhid         0\n",
       "dtype: int64"
      ]
     },
     "execution_count": 6,
     "metadata": {},
     "output_type": "execute_result"
    }
   ],
   "source": [
    "hdss.isna().sum()"
   ]
  },
  {
   "cell_type": "code",
   "execution_count": 7,
   "id": "6b190db3",
   "metadata": {},
   "outputs": [
    {
     "data": {
      "text/plain": [
       "(4115, 9)"
      ]
     },
     "execution_count": 7,
     "metadata": {},
     "output_type": "execute_result"
    }
   ],
   "source": [
    "hdss.shape"
   ]
  },
  {
   "cell_type": "code",
   "execution_count": 8,
   "id": "d52fdc36",
   "metadata": {},
   "outputs": [
    {
     "data": {
      "text/plain": [
       "(2902, 9)"
      ]
     },
     "execution_count": 8,
     "metadata": {},
     "output_type": "execute_result"
    }
   ],
   "source": [
    "facility.shape"
   ]
  },
  {
   "cell_type": "code",
   "execution_count": 9,
   "id": "37e502d5",
   "metadata": {},
   "outputs": [
    {
     "data": {
      "text/plain": [
       "recnr           0\n",
       "firstname       0\n",
       "lastname       67\n",
       "petname       391\n",
       "dob             0\n",
       "sex             0\n",
       "nationalid      0\n",
       "patientid       0\n",
       "visitdate       0\n",
       "dtype: int64"
      ]
     },
     "execution_count": 9,
     "metadata": {},
     "output_type": "execute_result"
    }
   ],
   "source": [
    "facility.isna().sum()"
   ]
  },
  {
   "cell_type": "code",
   "execution_count": 10,
   "id": "ce5265d1",
   "metadata": {},
   "outputs": [
    {
     "data": {
      "text/plain": [
       "0       False\n",
       "1       False\n",
       "2       False\n",
       "3       False\n",
       "4       False\n",
       "        ...  \n",
       "2897    False\n",
       "2898    False\n",
       "2899    False\n",
       "2900    False\n",
       "2901    False\n",
       "Name: nationalid, Length: 2902, dtype: bool"
      ]
     },
     "execution_count": 10,
     "metadata": {},
     "output_type": "execute_result"
    }
   ],
   "source": [
    "duplicates_facility=facility['nationalid'].duplicated()\n",
    "duplicates_facility"
   ]
  },
  {
   "cell_type": "code",
   "execution_count": 11,
   "id": "f2022a53",
   "metadata": {},
   "outputs": [
    {
     "data": {
      "text/plain": [
       "2902"
      ]
     },
     "execution_count": 11,
     "metadata": {},
     "output_type": "execute_result"
    }
   ],
   "source": [
    "facility['nationalid'].nunique()"
   ]
  },
  {
   "cell_type": "code",
   "execution_count": 12,
   "id": "18dffa23",
   "metadata": {},
   "outputs": [
    {
     "data": {
      "text/plain": [
       "2902"
      ]
     },
     "execution_count": 12,
     "metadata": {},
     "output_type": "execute_result"
    }
   ],
   "source": [
    "facility['patientid'].nunique()"
   ]
  },
  {
   "cell_type": "code",
   "execution_count": 13,
   "id": "7de74b5b",
   "metadata": {},
   "outputs": [
    {
     "data": {
      "text/plain": [
       "array(['Fatuma', 'Gloria', 'Ali', 'Nakalema', 'Asuman', 'Haifa',\n",
       "       'Namutamba', 'Madina', 'Mulondo', 'Bakali', 'Nasiri', 'Azena',\n",
       "       'Shuube', 'Akiramu', 'Nakinonko', 'Hajara', 'Wanyenya', 'Rose',\n",
       "       'Nabirye', 'Mukama', 'Basalirwa', 'Amulasi', 'Viola', 'Sauya',\n",
       "       'Booza', 'Naigaga', 'Shamimu', 'Katoko', 'Aminsi', 'Balidawa',\n",
       "       'Namugabo', 'Kaziba', 'Isiko', 'Rehema', 'Muwanguzi',\n",
       "       'Bakarikwiira', 'Jane', 'Zabina', 'Waiswa', 'Babirye', 'Florence',\n",
       "       'Mutesi', 'Kakaire', 'Zauma', 'Magoola', 'Fauza', 'Shamim',\n",
       "       'Favour', 'Naima', 'Justine', 'Christina', 'Anisha', 'Hailati',\n",
       "       'Suzan', 'Nakagiri', 'Nakiyemba', 'Edirisa', 'Kalabako', 'Fahadi',\n",
       "       'Nuulu', 'Nkutu', 'Ikoba', 'Namulero', 'Kasujja', 'Aisa',\n",
       "       'Hudaiya', 'Kalimu', 'Mary', 'Sarah', 'Wambi', 'Kaliku',\n",
       "       'Namuwaya', 'Ibra', 'Ndase', 'Namulondo', 'Mugoya', 'George',\n",
       "       'Yeseri', 'Aramanazan', 'Nangobi', 'Awali', 'Hussein', 'Ruth',\n",
       "       'Kasifa', 'Namusobya', 'Kusaini', 'Swabula', 'Byansi', 'Sophie',\n",
       "       'Shafuwa', 'Mugaya', 'Zirifa', 'Bizowenah', 'Bazifa', 'Pande',\n",
       "       'Alima', 'Betty', 'Ryhan', 'Zura', 'Faridah', 'Margret', 'Musa',\n",
       "       'Haminsi', 'Umaru', 'Ibrahim', 'Namatende', 'Zaituna', 'Sharita',\n",
       "       'Nakagolo', 'Kagoya', 'Suleya', 'Faizo', 'Musitafa', 'Saufa',\n",
       "       'Nakaziba', 'Geofrey', 'Isima', 'Namuyindi', 'Namwase', 'Iduma',\n",
       "       'Kazi', 'Fatiya', 'Mwandha', 'Isaac', 'Janet', 'Hadija', 'Nuru',\n",
       "       'Nakasango', 'Masitala', 'Sawuya', 'Miria', 'Bwire', 'Ivan',\n",
       "       'Bafumba', 'Jowali', 'Apeyro', 'Muwaiswa', 'Shaidati', 'Hindu',\n",
       "       'Rashid', 'Shaban', 'Tenywa', 'Jafra', 'Bushira', 'Zakiya',\n",
       "       'Namususwa', 'Magumba', 'Mutaka', 'Twaha', 'Benon', 'Derick',\n",
       "       'Rahuma', 'Isabirye', 'Mwamini', 'Scovia', 'Sowali', 'Angel',\n",
       "       'Edith', 'Nakidodo', 'Safalu', 'Jamira', 'Hairati', 'Nakiyuka',\n",
       "       'Zeulence', 'Namugere', 'Ibunabasi', 'Ronah', 'Kuzaifa', 'Retisha',\n",
       "       'Siidah', 'Kawala', 'Butelaba', 'Sheila', 'Edinansi', 'Aisha',\n",
       "       'Isifu', 'Christine', 'Rwabaga', 'Twaifu', 'Nakizibu', 'Abdallah',\n",
       "       'Nasimu', 'Saadi', 'Yona', 'Mutuku', 'Joy', 'Joyce', 'Saudah',\n",
       "       'Saidi', 'Namunana', 'Namukose', 'Christopher', 'Banali',\n",
       "       'Muyangu', 'Mariam', 'Kisambira', 'Moses', 'Haruna', 'Salamusida',\n",
       "       'Kauma', 'Bayati', 'Namwigalo', 'Bateganya', 'Kikyonkyo', 'Sofia',\n",
       "       'Naume', 'Shafique', 'Sumaya', 'Kaawa', 'Magola', 'Tape', 'Nalu',\n",
       "       'Rebecca', 'Isma', 'John', 'Twairi', 'Malondo', 'Shanifa', 'Aziza',\n",
       "       'Kelvin', 'Mwesigwa', 'Aishata', 'Kimumwe', 'Alex', 'Kamanda',\n",
       "       'Joseph', 'Phillipal', 'Ahamada', 'Eriasa', 'Naikura', 'Shafiki',\n",
       "       'Bamalumba', 'Buradina', 'Mudungu', 'Fatina', 'Shamida',\n",
       "       'Namuwanga', 'Bikadho', 'Labiya', 'Nasabu', 'Tendo', 'Hajira',\n",
       "       'Nabbosa', 'Faziri', 'Nagawa', 'Wilson', 'Timugibwa', 'Kisakye',\n",
       "       'Naiboka', 'Kaudha', 'Taitankoko', 'Charles', 'Josephine',\n",
       "       'Brenda', 'Hafusa', 'Sowobi', 'Asumati', 'Kyeroti', 'Hairat',\n",
       "       'Abubakali', 'Jamiya', 'Mulawa', 'Saida', 'Jamali', 'Otana',\n",
       "       'Racheal', 'Emmanuel', 'Nasozi', 'Jalia', 'Ayubu', 'Maimuna',\n",
       "       'Naikoba', 'Faith', 'Hanisha', 'Derrick', 'Namukobe', 'Patrick',\n",
       "       'Faisi', 'Kiranda', 'Yonasan', 'Nualudini', 'Ben', 'Ziyada',\n",
       "       'Muzafalu', 'Fahima', 'Zaina', 'Ziadi', 'Namwebya', 'Nandase',\n",
       "       'Sharon', 'Naswiba', 'Jamila', 'Wahabu', 'Hibah', 'Beatrice',\n",
       "       'Aza', 'Namukubembe', 'Barua', 'Jimmy', 'Hasifa', 'Muzafaru',\n",
       "       'Nkwanga', 'Sudaisi', 'Kwabakya', 'Judith', 'Kidodo', 'Maganda',\n",
       "       'Bumali', 'Janat', 'Basoga', 'Shamina', 'Bakalimya', 'Kasirye',\n",
       "       'Faima', 'Sadiki', 'Katerine', 'Isa', 'Ayuubu', 'Nanfuka',\n",
       "       'Zahara', 'Irene', 'Babra', 'Sylvia', 'Namaganda', 'Nandego',\n",
       "       'Jackline', 'Sanon', 'Ntono', 'Shube', 'Tagoole', 'Abdal',\n",
       "       'Namalondo', 'Morgan', 'Dukain', 'Nulu', 'Kasanvu', 'Mubaraka',\n",
       "       'Reticia', 'Kato', 'Ziliya', 'Nankwanga', 'Mathias', 'Perusi',\n",
       "       'Namugogo', 'Ngobi', 'Salimu', 'Asha', 'Sheira', 'Salima',\n",
       "       'Shanita', 'Talugende', 'Ashirafu', 'Abuneli', 'Bogere', 'Mwamadi',\n",
       "       'Jamiru', 'Irine', 'Talausi', 'Safiya', 'Mirembe', 'Erimia',\n",
       "       'Joshua', 'Abalyogera', 'Razaka', 'Mpaata', 'Zabuloni', 'Mutamba',\n",
       "       'Mayi', 'Amina', 'Nakisuyi', 'Musasizi', 'Rashida', 'Naiwumbwe',\n",
       "       'Nakasolo', 'Kulabako', 'Sulaina', 'Nagiwa', 'Jamawa', 'Sharuwa',\n",
       "       'Joan', 'Fahad', 'Muwaya', 'Juma', 'Kalulu', 'Tracy', 'Akello',\n",
       "       'Zubedah', 'Sulaimu', 'Namuganza', 'Namudiba', 'Mirisa', 'Shatra',\n",
       "       'Shanick', 'Abdul-Shakulu', 'Shirati', 'Abdalah', 'Nuuludini',\n",
       "       'Rajabu', 'Byogero', 'Nakazibwe', 'Lukia', 'Afani', 'Nakato',\n",
       "       'Amuli', 'Mutwalibi', 'Patience', 'Lukiya', 'Elizabeth', 'Mutale',\n",
       "       'Nualu', 'Nakangu', 'Abatuka', 'Bwayo', 'Bitaminsi', 'Sadara',\n",
       "       'Elesi', 'Kiirya', 'Swabra', 'James', 'Bimbasa', 'Steven',\n",
       "       'Safiruna', 'Bachwa', 'Zubeda', 'Victoria', 'Muyende', 'Mebra',\n",
       "       'Razia', 'Nalujja', 'Nabulumba', 'Mayanja', 'Magidu', 'Fazira',\n",
       "       'Minsa', 'Hafizu', 'Wotali', 'Muzamiru', 'Byaluhanga', 'Mukalu',\n",
       "       'Chris', 'Kirunda', 'Recheal', 'Salaimu', 'Sharifa', 'Muhamed',\n",
       "       'Lamala', 'Minina', 'Mukisa', 'Salim', 'Amosi', 'Hassan',\n",
       "       'Namugaya', 'Rahim', 'Haulati', 'Kyambalango', 'Fred', 'Hawa',\n",
       "       'Shaluwa', 'Mawazi', 'Nakakawa', 'Zalika', 'Tumusime', 'Pius',\n",
       "       'Namagembe', 'Tahiya', 'Shafika', 'Amiri', 'Kyagonga', 'Laura',\n",
       "       'Sumini', 'Ratifa', 'Mugwana', 'Mwaiduma', 'Robinah', 'Jovia',\n",
       "       'Siragi', 'Faibe', 'Lovisa', 'Sylivia', 'Mujibu', 'Arafati',\n",
       "       'Nasiba', 'Maido', 'Abdusalamu', 'Mirabu', 'Rahuman', 'Lulala',\n",
       "       'Gavoola', 'Nambi', 'Rhiyani', 'Nubu', 'Kamuyati', 'Swabala',\n",
       "       'Kyoyagara', 'Siraji', 'Namugwana', 'Mariamu', 'Bari', 'Loy',\n",
       "       'Edrine', 'Samuel', 'Najuwa', 'Badru', 'Afua', 'Namubiru',\n",
       "       'Rahima', 'Nantume', 'Tamusuza', 'David', 'Dinah', 'Dauson',\n",
       "       'Khansenge', 'Muzito', 'Laziya', 'Bonfance', 'Ziwena', 'Namwirya',\n",
       "       'Vicent', 'Lairati', 'Kamera', 'Night', 'Ibanda', 'Mbabazi',\n",
       "       'Talemwa', 'Afuwa', 'Lillian', 'Safuwa', 'Babigumira', 'Damali',\n",
       "       'Benda', 'Sowedi', 'Sukeina', 'Nubuwati', 'Kwagala', 'Amali',\n",
       "       'Amaliza', 'Abasa', 'Masitula', 'Alamanzan', 'Kenedi', 'Janiffer',\n",
       "       'Babita', 'Richard', 'Madia', 'Zawumina', 'Nsubuga', 'Kigenyi',\n",
       "       'Nakayima', 'Kusein', 'Kirevu', 'Mwajabu', 'Hawah', 'Moreen',\n",
       "       'Lydia', 'Ndada', 'Balikowa', 'Balaka', 'Bamulumba', 'Saban',\n",
       "       'Hanani', 'Kabaisanza', 'Muzahamu', 'Salaina', 'Magezi', 'Ronald',\n",
       "       'Byandala', 'Moris', 'Kostant', 'Godfrey', 'Musubika', 'Esther',\n",
       "       'Zainabu', 'Zubairi', 'Farida', 'Sauba', 'Nakirya', 'Gerald',\n",
       "       'Alaisa', 'Wamubi', 'Safia', 'Tamuzadde', 'Magemeso', 'Amola',\n",
       "       'Nsuuro', 'Zefa', 'Edrin', 'Saluwa', 'Tulaifu', 'Alihamidu',\n",
       "       'Shamidu', 'Shakira', 'Nasser', 'Nakyema', 'Zulaika', 'Banuli',\n",
       "       'Kasata', 'Rakibu', 'Ssebagala', 'Swabiru', 'Namanda', 'Akiru',\n",
       "       'Samira', 'Grace', 'Kabaseke', 'Kajete', 'Ntule', 'Bulukani',\n",
       "       'Asiiya', 'Tausi', 'Shadia', 'Ababu', 'Mutatya', 'Najirah',\n",
       "       'Aiman', 'Asiina', 'Namalinda', 'Badiru', 'Namugose', 'Efulansi',\n",
       "       'Lwabaga', 'Katonda', 'Nanangwe', 'Humairi', 'Coline', 'Kyakulaga',\n",
       "       'Erina', 'Jude', 'Silina', 'Jingo', 'Zalaika', 'Nakamyuka',\n",
       "       'Muwanika', 'Nkundwe', 'Akini', 'Muhammed', 'Wakake', 'Janida',\n",
       "       'Asanta', 'Salumina', 'Ziriya', 'Najibu', 'Halima', 'Waigangala',\n",
       "       'Zauja', 'Safina', 'Yahaya', 'Nabudo', 'Namudope', 'Fidah',\n",
       "       'Kalusein', 'Specioza', 'Shalif', 'Mpali', 'Nalubega', 'Rayan',\n",
       "       'Koire', 'Penina', 'Nampina', 'Tikabulamu', 'Baby', 'Abbo',\n",
       "       'Daniel', 'Kuzaima', 'Abdu', 'Bamuwaile', 'Malilo', 'Aidah',\n",
       "       'Fadalu', 'Kalule', 'Buuza', 'Bukumbi', 'Zihura', 'Tikabala',\n",
       "       'Nantale', 'Medi', 'Patricia', 'Jalira', 'Amalasi', 'Nasalu',\n",
       "       'Marion', 'Stella', 'Nankya', 'Switina', 'Bahar', 'Tonny',\n",
       "       'Franco', 'Nahia', 'Basiti', 'Kauthara', 'Mbeiza', 'Nabanda',\n",
       "       'Balyegisawa', 'Ayanga', 'Sulaiman', 'Midina', 'Salaiman', 'Peace',\n",
       "       'Herone', 'Yiidi', 'Hajati', 'Asiimwe', 'Bazigu', 'Kalalu',\n",
       "       'Falique', 'Viora', 'Wakabi', 'Angella', 'Asina', 'Mayimuna',\n",
       "       'Shakulu', 'Salama', 'Sandra', 'Alafat', 'Abudu', 'Nusula',\n",
       "       'Kirabira', 'Kamalali', 'Rukiya', 'Shadiya', 'Materida', 'Ismail',\n",
       "       'Aidha', 'Sadat', 'Janati', 'Namirembe', 'Lubanga', 'Jenipher',\n",
       "       'Namulinda', 'Namumbya', 'Swaibu', 'Hailat', 'Bria', 'Anisa',\n",
       "       'Hamidu', 'Ganyana', 'Namuyaga', 'Treva', 'Salimanti', 'Kamudyu',\n",
       "       'Faishali', 'Aribo', 'Rawaha', 'Hadijah', 'Harriet', 'Namusubo',\n",
       "       'Nasita', 'Sumani', 'Lukowe', 'Tahamida', 'Mubezi', 'Hanifa',\n",
       "       'Abo', 'Sande', 'Kadijja', 'Asar', 'Kwezera', 'Marvin', 'Jalila',\n",
       "       'Azah', 'Francis', 'Mutunda', 'Mukose', 'Kevine', 'Kubona',\n",
       "       'Subira', 'Yakuti', 'Amurati', 'Vicky', 'Yenusu', 'Alimu',\n",
       "       'Shakalu', 'Gramuseni', 'Buyinza', 'Sanala', 'Kayenga', 'Layer',\n",
       "       'Swabura', 'Muyinda', 'Kisige', 'Namakala', 'Lukaiya', 'Mukulu',\n",
       "       'Nabakoza', 'Jazila', 'Sooka', 'Muzaifa', 'Wasike', 'Amurasi',\n",
       "       'Nakito', 'Baka', 'Nakalanzi', 'Ndhabe', 'Lawrence', 'Jamada',\n",
       "       'Precious', 'Umar', 'Sumaiya', 'Kyamayazi', 'Paul', 'Joanita',\n",
       "       'Nakadama', 'Eseza', 'Federesi', 'Nasifu', 'Bernice', 'Annet',\n",
       "       'Simon', 'Zabala', 'Asadi', 'Sheilati', 'Haulatu', 'Munabi',\n",
       "       'Naisanga', 'Agala', 'Hakima', 'Shifura', 'Mbwali', 'Nakabambwe',\n",
       "       'Mpuli', 'Bazibu', 'Mwase', 'Jaliru', 'Agnes', 'Teddy', 'Huda',\n",
       "       'Edward', 'Asia', 'Nanyanzi', 'Namakoye', 'Kagoma', 'Kyobe',\n",
       "       'Matuba', 'Kitimbo', 'Jamilah', 'Najala', 'Jamiri', 'Fazili',\n",
       "       'Shifa', 'Opolot', 'Kamoga', 'Peter', 'Igaga', 'Azamu', 'Nantongo',\n",
       "       'Kasim', 'Deborah', 'Jaliet', 'Alice', 'Kuseini', 'Ajalo',\n",
       "       'Mwajuma', 'Swabuulu', 'Getrude', 'Lasifa', 'Mulani', 'Dhamufala',\n",
       "       'Marriam', 'Mahadi', 'Maliki', 'Zaumina', 'Kiyuba', 'Namukuve',\n",
       "       'Nakiranda', 'Nansambada', 'Namulwa', 'Namulwasira', 'Hibba',\n",
       "       'Azizi', 'Nziran', 'Ukasha', 'Adingo', 'Monica', 'Taliki',\n",
       "       'Abdulrahuman', 'Kobusingye', 'Azam', 'Natasha', 'Doreen', 'Monic',\n",
       "       'Nakamume', 'Bakibisemu', 'Nabukenya', 'Kayanga', 'Bumaali',\n",
       "       'Jesca', 'Takiyu', 'Magala', 'Amuza', 'Banda', 'Naibira',\n",
       "       'Mashihuda', 'Kamadha', 'Lira', 'Biryeri', 'Abdu-Hakim', 'Akili',\n",
       "       'Angela', 'Abila', 'Namulomo', 'Nelthan', 'Afiza', 'Faridi',\n",
       "       'Allan', 'Mutwaribi', 'Shakibu', 'Petralina', 'Akiiya',\n",
       "       'Nonsiyata', 'Gatisa', 'Kafuko', 'Stephen', 'Safiat', 'Janeti',\n",
       "       'Hakimu', 'Achuma', 'Shafiga', 'Nsera', 'Mere', 'Katebe',\n",
       "       'Kamidha', 'Ngudo', 'Muksasa', 'Bwana', 'Zabula', 'Resite',\n",
       "       'Ludiga', 'Nankanja', 'Ashifati', 'Owori', 'Mujalasa', 'Bitu',\n",
       "       'Huseein', 'Restay', 'Nzara', 'Bazi', 'Akimu', 'Latifa', 'Bashiri',\n",
       "       'Kapisi', 'Rita', 'Samson', 'Dalilu', 'Abudala', 'Mugala', 'Menya',\n",
       "       'Robert', 'Zidha', 'Yusira', 'Asa', 'Nakimali', 'Naibinga',\n",
       "       'Sumaima', 'Namayanja', 'Fadulu', 'Rashidi', 'Malawa', 'Alikoba',\n",
       "       'Owere', 'Sembattya', 'Alaziya', 'Edisa', 'Mercy', 'Denis',\n",
       "       'Takola', 'Swaliki'], dtype=object)"
      ]
     },
     "execution_count": 13,
     "metadata": {},
     "output_type": "execute_result"
    }
   ],
   "source": [
    "facility['firstname'].unique()"
   ]
  },
  {
   "cell_type": "code",
   "execution_count": 14,
   "id": "8bdec580",
   "metadata": {},
   "outputs": [
    {
     "data": {
      "text/plain": [
       "array(['Zaina', 'Godfrey', 'Kasim', ..., 'Hawah', 'Nasweba', 'Sharita'],\n",
       "      dtype=object)"
      ]
     },
     "execution_count": 14,
     "metadata": {},
     "output_type": "execute_result"
    }
   ],
   "source": [
    "hdss['firstname'].unique()"
   ]
  },
  {
   "cell_type": "code",
   "execution_count": 15,
   "id": "8e93957f",
   "metadata": {},
   "outputs": [
    {
     "data": {
      "text/plain": [
       "1193"
      ]
     },
     "execution_count": 15,
     "metadata": {},
     "output_type": "execute_result"
    }
   ],
   "source": [
    "hdss['firstname'].nunique()"
   ]
  },
  {
   "cell_type": "code",
   "execution_count": 16,
   "id": "58fbdf93",
   "metadata": {},
   "outputs": [
    {
     "data": {
      "text/plain": [
       "2"
      ]
     },
     "execution_count": 16,
     "metadata": {},
     "output_type": "execute_result"
    }
   ],
   "source": [
    "hdss['sex'].nunique()"
   ]
  },
  {
   "cell_type": "code",
   "execution_count": 17,
   "id": "0cbb6798",
   "metadata": {},
   "outputs": [
    {
     "data": {
      "text/plain": [
       "2"
      ]
     },
     "execution_count": 17,
     "metadata": {},
     "output_type": "execute_result"
    }
   ],
   "source": [
    "facility['sex'].nunique()"
   ]
  },
  {
   "cell_type": "markdown",
   "id": "a90487df",
   "metadata": {},
   "source": [
    "# DATA CLEANING"
   ]
  },
  {
   "cell_type": "markdown",
   "id": "9dbf7f8f",
   "metadata": {},
   "source": [
    "1. change the case of all text entries to lowercase\n",
    "2. remove special characters and whitespaces in dates, and id columns."
   ]
  },
  {
   "cell_type": "code",
   "execution_count": 18,
   "id": "a1d37c50",
   "metadata": {},
   "outputs": [],
   "source": [
    "hdss1=hdss\n"
   ]
  },
  {
   "cell_type": "code",
   "execution_count": 19,
   "id": "98b94ead",
   "metadata": {},
   "outputs": [
    {
     "data": {
      "text/plain": [
       "recnr           int64\n",
       "firstname      object\n",
       "lastname       object\n",
       "petname        object\n",
       "dob            object\n",
       "sex             int64\n",
       "nationalid    float64\n",
       "hdssid         object\n",
       "hdsshhid       object\n",
       "dtype: object"
      ]
     },
     "execution_count": 19,
     "metadata": {},
     "output_type": "execute_result"
    }
   ],
   "source": [
    "hdss1.dtypes"
   ]
  },
  {
   "cell_type": "code",
   "execution_count": 20,
   "id": "ad5968b5",
   "metadata": {},
   "outputs": [],
   "source": [
    "hdss1['firstname']=hdss1['firstname'].str.lower()"
   ]
  },
  {
   "cell_type": "code",
   "execution_count": 21,
   "id": "8bee7ccd",
   "metadata": {},
   "outputs": [],
   "source": [
    "hdss1['lastname']=hdss1['lastname'].str.lower()\n",
    "hdss1['petname']=hdss1['petname'].str.lower()"
   ]
  },
  {
   "cell_type": "code",
   "execution_count": 22,
   "id": "fdae29ca",
   "metadata": {},
   "outputs": [
    {
     "data": {
      "text/plain": [
       "recnr           int64\n",
       "firstname      object\n",
       "lastname       object\n",
       "petname        object\n",
       "dob            object\n",
       "sex             int64\n",
       "nationalid    float64\n",
       "hdssid         object\n",
       "hdsshhid       object\n",
       "dtype: object"
      ]
     },
     "execution_count": 22,
     "metadata": {},
     "output_type": "execute_result"
    }
   ],
   "source": [
    "hdss1.dtypes"
   ]
  },
  {
   "cell_type": "code",
   "execution_count": 23,
   "id": "9fb032b3",
   "metadata": {},
   "outputs": [
    {
     "data": {
      "text/html": [
       "<div>\n",
       "<style scoped>\n",
       "    .dataframe tbody tr th:only-of-type {\n",
       "        vertical-align: middle;\n",
       "    }\n",
       "\n",
       "    .dataframe tbody tr th {\n",
       "        vertical-align: top;\n",
       "    }\n",
       "\n",
       "    .dataframe thead th {\n",
       "        text-align: right;\n",
       "    }\n",
       "</style>\n",
       "<table border=\"1\" class=\"dataframe\">\n",
       "  <thead>\n",
       "    <tr style=\"text-align: right;\">\n",
       "      <th></th>\n",
       "      <th>recnr</th>\n",
       "      <th>firstname</th>\n",
       "      <th>lastname</th>\n",
       "      <th>petname</th>\n",
       "      <th>dob</th>\n",
       "      <th>sex</th>\n",
       "      <th>nationalid</th>\n",
       "      <th>hdssid</th>\n",
       "      <th>hdsshhid</th>\n",
       "    </tr>\n",
       "  </thead>\n",
       "  <tbody>\n",
       "    <tr>\n",
       "      <th>0</th>\n",
       "      <td>1</td>\n",
       "      <td>zaina</td>\n",
       "      <td>hanifa</td>\n",
       "      <td>ula</td>\n",
       "      <td>22-09-1930 00:00</td>\n",
       "      <td>2</td>\n",
       "      <td>NaN</td>\n",
       "      <td>I20001</td>\n",
       "      <td>HH100001</td>\n",
       "    </tr>\n",
       "    <tr>\n",
       "      <th>1</th>\n",
       "      <td>2</td>\n",
       "      <td>godfrey</td>\n",
       "      <td>maganda</td>\n",
       "      <td>mukama</td>\n",
       "      <td>15-07-1934 00:00</td>\n",
       "      <td>1</td>\n",
       "      <td>NaN</td>\n",
       "      <td>I20002</td>\n",
       "      <td>HH100002</td>\n",
       "    </tr>\n",
       "    <tr>\n",
       "      <th>2</th>\n",
       "      <td>3</td>\n",
       "      <td>kasim</td>\n",
       "      <td>ngobi</td>\n",
       "      <td>galabuzi</td>\n",
       "      <td>03-03-1983 00:00</td>\n",
       "      <td>1</td>\n",
       "      <td>NaN</td>\n",
       "      <td>I20003</td>\n",
       "      <td>HH100003</td>\n",
       "    </tr>\n",
       "    <tr>\n",
       "      <th>3</th>\n",
       "      <td>4</td>\n",
       "      <td>esther</td>\n",
       "      <td>NaN</td>\n",
       "      <td>inara</td>\n",
       "      <td>30-07-1968 00:00</td>\n",
       "      <td>2</td>\n",
       "      <td>NaN</td>\n",
       "      <td>I20004</td>\n",
       "      <td>HH100004</td>\n",
       "    </tr>\n",
       "    <tr>\n",
       "      <th>4</th>\n",
       "      <td>5</td>\n",
       "      <td>sumaya</td>\n",
       "      <td>swabula</td>\n",
       "      <td>NaN</td>\n",
       "      <td>13-12-1930 00:00</td>\n",
       "      <td>2</td>\n",
       "      <td>NaN</td>\n",
       "      <td>I20005</td>\n",
       "      <td>HH100005</td>\n",
       "    </tr>\n",
       "  </tbody>\n",
       "</table>\n",
       "</div>"
      ],
      "text/plain": [
       "   recnr firstname lastname   petname               dob  sex  nationalid  \\\n",
       "0      1     zaina   hanifa       ula  22-09-1930 00:00    2         NaN   \n",
       "1      2   godfrey  maganda    mukama  15-07-1934 00:00    1         NaN   \n",
       "2      3     kasim    ngobi  galabuzi  03-03-1983 00:00    1         NaN   \n",
       "3      4    esther      NaN     inara  30-07-1968 00:00    2         NaN   \n",
       "4      5    sumaya  swabula       NaN  13-12-1930 00:00    2         NaN   \n",
       "\n",
       "   hdssid  hdsshhid  \n",
       "0  I20001  HH100001  \n",
       "1  I20002  HH100002  \n",
       "2  I20003  HH100003  \n",
       "3  I20004  HH100004  \n",
       "4  I20005  HH100005  "
      ]
     },
     "execution_count": 23,
     "metadata": {},
     "output_type": "execute_result"
    }
   ],
   "source": [
    "hdss1.head()"
   ]
  },
  {
   "cell_type": "code",
   "execution_count": 24,
   "id": "c6e1062f",
   "metadata": {},
   "outputs": [],
   "source": [
    "facility1=facility\n",
    "facility1['firstname']=facility1['firstname'].str.lower()\n",
    "facility1['lastname']=facility1['lastname'].str.lower()\n",
    "facility1['petname']=facility1['petname'].str.lower()"
   ]
  },
  {
   "cell_type": "code",
   "execution_count": 25,
   "id": "f19a9fe4",
   "metadata": {},
   "outputs": [
    {
     "data": {
      "text/html": [
       "<div>\n",
       "<style scoped>\n",
       "    .dataframe tbody tr th:only-of-type {\n",
       "        vertical-align: middle;\n",
       "    }\n",
       "\n",
       "    .dataframe tbody tr th {\n",
       "        vertical-align: top;\n",
       "    }\n",
       "\n",
       "    .dataframe thead th {\n",
       "        text-align: right;\n",
       "    }\n",
       "</style>\n",
       "<table border=\"1\" class=\"dataframe\">\n",
       "  <thead>\n",
       "    <tr style=\"text-align: right;\">\n",
       "      <th></th>\n",
       "      <th>recnr</th>\n",
       "      <th>firstname</th>\n",
       "      <th>lastname</th>\n",
       "      <th>petname</th>\n",
       "      <th>dob</th>\n",
       "      <th>sex</th>\n",
       "      <th>nationalid</th>\n",
       "      <th>patientid</th>\n",
       "      <th>visitdate</th>\n",
       "    </tr>\n",
       "  </thead>\n",
       "  <tbody>\n",
       "    <tr>\n",
       "      <th>0</th>\n",
       "      <td>2</td>\n",
       "      <td>fatuma</td>\n",
       "      <td>NaN</td>\n",
       "      <td>zaina</td>\n",
       "      <td>24-08-2017 00:00</td>\n",
       "      <td>2</td>\n",
       "      <td>N_ID_5000</td>\n",
       "      <td>2069</td>\n",
       "      <td>10-09-2018</td>\n",
       "    </tr>\n",
       "    <tr>\n",
       "      <th>1</th>\n",
       "      <td>3</td>\n",
       "      <td>gloria</td>\n",
       "      <td>rashida</td>\n",
       "      <td>NaN</td>\n",
       "      <td>11-07-1993 00:00</td>\n",
       "      <td>2</td>\n",
       "      <td>N_ID_11861</td>\n",
       "      <td>2079</td>\n",
       "      <td>14-12-2022</td>\n",
       "    </tr>\n",
       "    <tr>\n",
       "      <th>2</th>\n",
       "      <td>4</td>\n",
       "      <td>ali</td>\n",
       "      <td>hakram</td>\n",
       "      <td>igomu</td>\n",
       "      <td>17-05-2014 00:00</td>\n",
       "      <td>1</td>\n",
       "      <td>N_ID_11864</td>\n",
       "      <td>2080</td>\n",
       "      <td>09-06-2023</td>\n",
       "    </tr>\n",
       "    <tr>\n",
       "      <th>3</th>\n",
       "      <td>5</td>\n",
       "      <td>nakalema</td>\n",
       "      <td>NaN</td>\n",
       "      <td>nkwanga</td>\n",
       "      <td>27-02-2026 00:00</td>\n",
       "      <td>2</td>\n",
       "      <td>N_ID_11867</td>\n",
       "      <td>2081</td>\n",
       "      <td>07-02-2019</td>\n",
       "    </tr>\n",
       "    <tr>\n",
       "      <th>4</th>\n",
       "      <td>6</td>\n",
       "      <td>asuman</td>\n",
       "      <td>sempa</td>\n",
       "      <td>aguti</td>\n",
       "      <td>02-03-2002 00:00</td>\n",
       "      <td>1</td>\n",
       "      <td>N_ID_11870</td>\n",
       "      <td>2082</td>\n",
       "      <td>18-08-2020</td>\n",
       "    </tr>\n",
       "  </tbody>\n",
       "</table>\n",
       "</div>"
      ],
      "text/plain": [
       "   recnr firstname lastname  petname               dob  sex  nationalid  \\\n",
       "0      2    fatuma      NaN    zaina  24-08-2017 00:00    2   N_ID_5000   \n",
       "1      3    gloria  rashida      NaN  11-07-1993 00:00    2  N_ID_11861   \n",
       "2      4       ali   hakram    igomu  17-05-2014 00:00    1  N_ID_11864   \n",
       "3      5  nakalema      NaN  nkwanga  27-02-2026 00:00    2  N_ID_11867   \n",
       "4      6    asuman    sempa    aguti  02-03-2002 00:00    1  N_ID_11870   \n",
       "\n",
       "   patientid   visitdate  \n",
       "0       2069  10-09-2018  \n",
       "1       2079  14-12-2022  \n",
       "2       2080  09-06-2023  \n",
       "3       2081  07-02-2019  \n",
       "4       2082  18-08-2020  "
      ]
     },
     "execution_count": 25,
     "metadata": {},
     "output_type": "execute_result"
    }
   ],
   "source": [
    "facility1.head()"
   ]
  },
  {
   "cell_type": "code",
   "execution_count": 26,
   "id": "5f19d495",
   "metadata": {},
   "outputs": [
    {
     "name": "stderr",
     "output_type": "stream",
     "text": [
      "C:\\Users\\f\\AppData\\Local\\Temp\\ipykernel_2476\\2132289345.py:2: UserWarning: Parsing dates in %d-%m-%Y %H:%M format when dayfirst=False (the default) was specified. Pass `dayfirst=True` or specify a format to silence this warning.\n",
      "  facility1['date']=pd.to_datetime(facility1['dob']).dt.date\n",
      "C:\\Users\\f\\AppData\\Local\\Temp\\ipykernel_2476\\2132289345.py:3: UserWarning: Parsing dates in %d-%m-%Y %H:%M format when dayfirst=False (the default) was specified. Pass `dayfirst=True` or specify a format to silence this warning.\n",
      "  facility1['time']=pd.to_datetime(facility1['dob']).dt.time\n"
     ]
    }
   ],
   "source": [
    "import datetime as dt\n",
    "facility1['date']=pd.to_datetime(facility1['dob']).dt.date\n",
    "facility1['time']=pd.to_datetime(facility1['dob']).dt.time"
   ]
  },
  {
   "cell_type": "code",
   "execution_count": 27,
   "id": "496d28ae",
   "metadata": {},
   "outputs": [
    {
     "name": "stderr",
     "output_type": "stream",
     "text": [
      "C:\\Users\\f\\AppData\\Local\\Temp\\ipykernel_2476\\215214284.py:1: UserWarning: Parsing dates in %d-%m-%Y %H:%M format when dayfirst=False (the default) was specified. Pass `dayfirst=True` or specify a format to silence this warning.\n",
      "  hdss1['date']=pd.to_datetime(hdss1['dob']).dt.date\n",
      "C:\\Users\\f\\AppData\\Local\\Temp\\ipykernel_2476\\215214284.py:2: UserWarning: Parsing dates in %d-%m-%Y %H:%M format when dayfirst=False (the default) was specified. Pass `dayfirst=True` or specify a format to silence this warning.\n",
      "  hdss1['time']=pd.to_datetime(hdss1['dob']).dt.time\n"
     ]
    }
   ],
   "source": [
    "hdss1['date']=pd.to_datetime(hdss1['dob']).dt.date\n",
    "hdss1['time']=pd.to_datetime(hdss1['dob']).dt.time"
   ]
  },
  {
   "cell_type": "code",
   "execution_count": 28,
   "id": "d629006a",
   "metadata": {},
   "outputs": [
    {
     "data": {
      "text/plain": [
       "1"
      ]
     },
     "execution_count": 28,
     "metadata": {},
     "output_type": "execute_result"
    }
   ],
   "source": [
    "facility1['time'].nunique()"
   ]
  },
  {
   "cell_type": "code",
   "execution_count": 29,
   "id": "9f5af469",
   "metadata": {},
   "outputs": [
    {
     "data": {
      "text/plain": [
       "1"
      ]
     },
     "execution_count": 29,
     "metadata": {},
     "output_type": "execute_result"
    }
   ],
   "source": [
    "hdss1['time'].nunique()"
   ]
  },
  {
   "cell_type": "code",
   "execution_count": 30,
   "id": "e6194936",
   "metadata": {},
   "outputs": [
    {
     "data": {
      "text/plain": [
       "Index(['recnr', 'firstname', 'lastname', 'petname', 'dob', 'sex', 'nationalid',\n",
       "       'hdssid', 'hdsshhid', 'date', 'time'],\n",
       "      dtype='object')"
      ]
     },
     "execution_count": 30,
     "metadata": {},
     "output_type": "execute_result"
    }
   ],
   "source": [
    "hdss1.columns"
   ]
  },
  {
   "cell_type": "code",
   "execution_count": 31,
   "id": "d0960af0",
   "metadata": {},
   "outputs": [],
   "source": [
    "hdss1.drop(['dob','time'],axis=1,inplace=True)"
   ]
  },
  {
   "cell_type": "code",
   "execution_count": 32,
   "id": "c92b1fcb",
   "metadata": {},
   "outputs": [
    {
     "data": {
      "text/plain": [
       "0       1930-09-22\n",
       "1       1934-07-15\n",
       "2       1983-03-03\n",
       "3       1968-07-30\n",
       "4       1930-12-13\n",
       "           ...    \n",
       "4110    1981-03-18\n",
       "4111    1998-06-28\n",
       "4112    1986-04-03\n",
       "4113    2001-12-19\n",
       "4114    1990-08-23\n",
       "Name: date, Length: 4115, dtype: object"
      ]
     },
     "execution_count": 32,
     "metadata": {},
     "output_type": "execute_result"
    }
   ],
   "source": [
    "hdss1['date'].replace('-','')"
   ]
  },
  {
   "cell_type": "code",
   "execution_count": 33,
   "id": "cc97322f",
   "metadata": {},
   "outputs": [
    {
     "data": {
      "text/html": [
       "<div>\n",
       "<style scoped>\n",
       "    .dataframe tbody tr th:only-of-type {\n",
       "        vertical-align: middle;\n",
       "    }\n",
       "\n",
       "    .dataframe tbody tr th {\n",
       "        vertical-align: top;\n",
       "    }\n",
       "\n",
       "    .dataframe thead th {\n",
       "        text-align: right;\n",
       "    }\n",
       "</style>\n",
       "<table border=\"1\" class=\"dataframe\">\n",
       "  <thead>\n",
       "    <tr style=\"text-align: right;\">\n",
       "      <th></th>\n",
       "      <th>recnr</th>\n",
       "      <th>firstname</th>\n",
       "      <th>lastname</th>\n",
       "      <th>petname</th>\n",
       "      <th>sex</th>\n",
       "      <th>nationalid</th>\n",
       "      <th>hdssid</th>\n",
       "      <th>hdsshhid</th>\n",
       "      <th>date</th>\n",
       "    </tr>\n",
       "  </thead>\n",
       "  <tbody>\n",
       "    <tr>\n",
       "      <th>0</th>\n",
       "      <td>1</td>\n",
       "      <td>zaina</td>\n",
       "      <td>hanifa</td>\n",
       "      <td>ula</td>\n",
       "      <td>2</td>\n",
       "      <td>NaN</td>\n",
       "      <td>I20001</td>\n",
       "      <td>HH100001</td>\n",
       "      <td>1930-09-22</td>\n",
       "    </tr>\n",
       "    <tr>\n",
       "      <th>1</th>\n",
       "      <td>2</td>\n",
       "      <td>godfrey</td>\n",
       "      <td>maganda</td>\n",
       "      <td>mukama</td>\n",
       "      <td>1</td>\n",
       "      <td>NaN</td>\n",
       "      <td>I20002</td>\n",
       "      <td>HH100002</td>\n",
       "      <td>1934-07-15</td>\n",
       "    </tr>\n",
       "    <tr>\n",
       "      <th>2</th>\n",
       "      <td>3</td>\n",
       "      <td>kasim</td>\n",
       "      <td>ngobi</td>\n",
       "      <td>galabuzi</td>\n",
       "      <td>1</td>\n",
       "      <td>NaN</td>\n",
       "      <td>I20003</td>\n",
       "      <td>HH100003</td>\n",
       "      <td>1983-03-03</td>\n",
       "    </tr>\n",
       "    <tr>\n",
       "      <th>3</th>\n",
       "      <td>4</td>\n",
       "      <td>esther</td>\n",
       "      <td>NaN</td>\n",
       "      <td>inara</td>\n",
       "      <td>2</td>\n",
       "      <td>NaN</td>\n",
       "      <td>I20004</td>\n",
       "      <td>HH100004</td>\n",
       "      <td>1968-07-30</td>\n",
       "    </tr>\n",
       "    <tr>\n",
       "      <th>4</th>\n",
       "      <td>5</td>\n",
       "      <td>sumaya</td>\n",
       "      <td>swabula</td>\n",
       "      <td>NaN</td>\n",
       "      <td>2</td>\n",
       "      <td>NaN</td>\n",
       "      <td>I20005</td>\n",
       "      <td>HH100005</td>\n",
       "      <td>1930-12-13</td>\n",
       "    </tr>\n",
       "  </tbody>\n",
       "</table>\n",
       "</div>"
      ],
      "text/plain": [
       "   recnr firstname lastname   petname  sex  nationalid  hdssid  hdsshhid  \\\n",
       "0      1     zaina   hanifa       ula    2         NaN  I20001  HH100001   \n",
       "1      2   godfrey  maganda    mukama    1         NaN  I20002  HH100002   \n",
       "2      3     kasim    ngobi  galabuzi    1         NaN  I20003  HH100003   \n",
       "3      4    esther      NaN     inara    2         NaN  I20004  HH100004   \n",
       "4      5    sumaya  swabula       NaN    2         NaN  I20005  HH100005   \n",
       "\n",
       "         date  \n",
       "0  1930-09-22  \n",
       "1  1934-07-15  \n",
       "2  1983-03-03  \n",
       "3  1968-07-30  \n",
       "4  1930-12-13  "
      ]
     },
     "execution_count": 33,
     "metadata": {},
     "output_type": "execute_result"
    }
   ],
   "source": [
    "hdss1.head()"
   ]
  },
  {
   "cell_type": "code",
   "execution_count": 34,
   "id": "6eeed651",
   "metadata": {},
   "outputs": [
    {
     "data": {
      "text/plain": [
       "recnr           int64\n",
       "firstname      object\n",
       "lastname       object\n",
       "petname        object\n",
       "sex             int64\n",
       "nationalid    float64\n",
       "hdssid         object\n",
       "hdsshhid       object\n",
       "date           object\n",
       "dtype: object"
      ]
     },
     "execution_count": 34,
     "metadata": {},
     "output_type": "execute_result"
    }
   ],
   "source": [
    "hdss.dtypes"
   ]
  },
  {
   "cell_type": "code",
   "execution_count": 35,
   "id": "4cb22e50",
   "metadata": {},
   "outputs": [
    {
     "name": "stdout",
     "output_type": "stream",
     "text": [
      "   recnr firstname lastname   petname  sex  nationalid  hdssid  hdsshhid  \\\n",
      "0      1     zaina   hanifa       ula    2         NaN  I20001  HH100001   \n",
      "1      2   godfrey  maganda    mukama    1         NaN  I20002  HH100002   \n",
      "2      3     kasim    ngobi  galabuzi    1         NaN  I20003  HH100003   \n",
      "3      4    esther      NaN     inara    2         NaN  I20004  HH100004   \n",
      "4      5    sumaya  swabula       NaN    2         NaN  I20005  HH100005   \n",
      "\n",
      "       date  \n",
      "0  19300922  \n",
      "1  19340715  \n",
      "2  19830303  \n",
      "3  19680730  \n",
      "4  19301213  \n"
     ]
    }
   ],
   "source": [
    "def remove_hyphen(column):\n",
    "    return column.str.replace(\"-\",\"\")\n",
    "hdss1['date']=hdss1['date'].astype(str)\n",
    "hdss1['date']=remove_hyphen(hdss1['date'])\n",
    "print(hdss1.head())"
   ]
  },
  {
   "cell_type": "code",
   "execution_count": 36,
   "id": "012e0f7f",
   "metadata": {},
   "outputs": [
    {
     "data": {
      "text/html": [
       "<div>\n",
       "<style scoped>\n",
       "    .dataframe tbody tr th:only-of-type {\n",
       "        vertical-align: middle;\n",
       "    }\n",
       "\n",
       "    .dataframe tbody tr th {\n",
       "        vertical-align: top;\n",
       "    }\n",
       "\n",
       "    .dataframe thead th {\n",
       "        text-align: right;\n",
       "    }\n",
       "</style>\n",
       "<table border=\"1\" class=\"dataframe\">\n",
       "  <thead>\n",
       "    <tr style=\"text-align: right;\">\n",
       "      <th></th>\n",
       "      <th>recnr</th>\n",
       "      <th>firstname</th>\n",
       "      <th>lastname</th>\n",
       "      <th>petname</th>\n",
       "      <th>sex</th>\n",
       "      <th>nationalid</th>\n",
       "      <th>hdssid</th>\n",
       "      <th>hdsshhid</th>\n",
       "      <th>date</th>\n",
       "    </tr>\n",
       "  </thead>\n",
       "  <tbody>\n",
       "    <tr>\n",
       "      <th>4110</th>\n",
       "      <td>4111</td>\n",
       "      <td>sharita</td>\n",
       "      <td>nabirye</td>\n",
       "      <td>NaN</td>\n",
       "      <td>2</td>\n",
       "      <td>NaN</td>\n",
       "      <td>I24111</td>\n",
       "      <td>HH104111</td>\n",
       "      <td>19810318</td>\n",
       "    </tr>\n",
       "    <tr>\n",
       "      <th>4111</th>\n",
       "      <td>4112</td>\n",
       "      <td>tenywa</td>\n",
       "      <td>kapiso</td>\n",
       "      <td>biraaro</td>\n",
       "      <td>1</td>\n",
       "      <td>NaN</td>\n",
       "      <td>I24112</td>\n",
       "      <td>HH104112</td>\n",
       "      <td>19980628</td>\n",
       "    </tr>\n",
       "    <tr>\n",
       "      <th>4112</th>\n",
       "      <td>4113</td>\n",
       "      <td>mariam</td>\n",
       "      <td>babirye</td>\n",
       "      <td>NaN</td>\n",
       "      <td>2</td>\n",
       "      <td>NaN</td>\n",
       "      <td>I24113</td>\n",
       "      <td>HH104113</td>\n",
       "      <td>19860403</td>\n",
       "    </tr>\n",
       "    <tr>\n",
       "      <th>4113</th>\n",
       "      <td>4114</td>\n",
       "      <td>nangobi</td>\n",
       "      <td>tracy</td>\n",
       "      <td>NaN</td>\n",
       "      <td>2</td>\n",
       "      <td>NaN</td>\n",
       "      <td>I24114</td>\n",
       "      <td>HH104114</td>\n",
       "      <td>20011219</td>\n",
       "    </tr>\n",
       "    <tr>\n",
       "      <th>4114</th>\n",
       "      <td>4115</td>\n",
       "      <td>joshua</td>\n",
       "      <td>kasubi</td>\n",
       "      <td>najjuma</td>\n",
       "      <td>1</td>\n",
       "      <td>NaN</td>\n",
       "      <td>I24115</td>\n",
       "      <td>HH104115</td>\n",
       "      <td>19900823</td>\n",
       "    </tr>\n",
       "  </tbody>\n",
       "</table>\n",
       "</div>"
      ],
      "text/plain": [
       "      recnr firstname lastname  petname  sex  nationalid  hdssid  hdsshhid  \\\n",
       "4110   4111   sharita  nabirye      NaN    2         NaN  I24111  HH104111   \n",
       "4111   4112    tenywa   kapiso  biraaro    1         NaN  I24112  HH104112   \n",
       "4112   4113    mariam  babirye      NaN    2         NaN  I24113  HH104113   \n",
       "4113   4114   nangobi    tracy      NaN    2         NaN  I24114  HH104114   \n",
       "4114   4115    joshua   kasubi  najjuma    1         NaN  I24115  HH104115   \n",
       "\n",
       "          date  \n",
       "4110  19810318  \n",
       "4111  19980628  \n",
       "4112  19860403  \n",
       "4113  20011219  \n",
       "4114  19900823  "
      ]
     },
     "execution_count": 36,
     "metadata": {},
     "output_type": "execute_result"
    }
   ],
   "source": [
    "hdss1.tail()"
   ]
  },
  {
   "cell_type": "code",
   "execution_count": 37,
   "id": "c4b29434",
   "metadata": {},
   "outputs": [
    {
     "data": {
      "text/html": [
       "<div>\n",
       "<style scoped>\n",
       "    .dataframe tbody tr th:only-of-type {\n",
       "        vertical-align: middle;\n",
       "    }\n",
       "\n",
       "    .dataframe tbody tr th {\n",
       "        vertical-align: top;\n",
       "    }\n",
       "\n",
       "    .dataframe thead th {\n",
       "        text-align: right;\n",
       "    }\n",
       "</style>\n",
       "<table border=\"1\" class=\"dataframe\">\n",
       "  <thead>\n",
       "    <tr style=\"text-align: right;\">\n",
       "      <th></th>\n",
       "      <th>recnr</th>\n",
       "      <th>firstname</th>\n",
       "      <th>lastname</th>\n",
       "      <th>petname</th>\n",
       "      <th>sex</th>\n",
       "      <th>nationalid</th>\n",
       "      <th>hdssid</th>\n",
       "      <th>hdsshhid</th>\n",
       "      <th>date</th>\n",
       "    </tr>\n",
       "  </thead>\n",
       "  <tbody>\n",
       "    <tr>\n",
       "      <th>0</th>\n",
       "      <td>1</td>\n",
       "      <td>zaina</td>\n",
       "      <td>hanifa</td>\n",
       "      <td>ula</td>\n",
       "      <td>2</td>\n",
       "      <td>NaN</td>\n",
       "      <td>I20001</td>\n",
       "      <td>HH100001</td>\n",
       "      <td>19300922</td>\n",
       "    </tr>\n",
       "    <tr>\n",
       "      <th>1</th>\n",
       "      <td>2</td>\n",
       "      <td>godfrey</td>\n",
       "      <td>maganda</td>\n",
       "      <td>mukama</td>\n",
       "      <td>1</td>\n",
       "      <td>NaN</td>\n",
       "      <td>I20002</td>\n",
       "      <td>HH100002</td>\n",
       "      <td>19340715</td>\n",
       "    </tr>\n",
       "    <tr>\n",
       "      <th>2</th>\n",
       "      <td>3</td>\n",
       "      <td>kasim</td>\n",
       "      <td>ngobi</td>\n",
       "      <td>galabuzi</td>\n",
       "      <td>1</td>\n",
       "      <td>NaN</td>\n",
       "      <td>I20003</td>\n",
       "      <td>HH100003</td>\n",
       "      <td>19830303</td>\n",
       "    </tr>\n",
       "    <tr>\n",
       "      <th>3</th>\n",
       "      <td>4</td>\n",
       "      <td>esther</td>\n",
       "      <td>NaN</td>\n",
       "      <td>inara</td>\n",
       "      <td>2</td>\n",
       "      <td>NaN</td>\n",
       "      <td>I20004</td>\n",
       "      <td>HH100004</td>\n",
       "      <td>19680730</td>\n",
       "    </tr>\n",
       "    <tr>\n",
       "      <th>4</th>\n",
       "      <td>5</td>\n",
       "      <td>sumaya</td>\n",
       "      <td>swabula</td>\n",
       "      <td>NaN</td>\n",
       "      <td>2</td>\n",
       "      <td>NaN</td>\n",
       "      <td>I20005</td>\n",
       "      <td>HH100005</td>\n",
       "      <td>19301213</td>\n",
       "    </tr>\n",
       "  </tbody>\n",
       "</table>\n",
       "</div>"
      ],
      "text/plain": [
       "   recnr firstname lastname   petname  sex  nationalid  hdssid  hdsshhid  \\\n",
       "0      1     zaina   hanifa       ula    2         NaN  I20001  HH100001   \n",
       "1      2   godfrey  maganda    mukama    1         NaN  I20002  HH100002   \n",
       "2      3     kasim    ngobi  galabuzi    1         NaN  I20003  HH100003   \n",
       "3      4    esther      NaN     inara    2         NaN  I20004  HH100004   \n",
       "4      5    sumaya  swabula       NaN    2         NaN  I20005  HH100005   \n",
       "\n",
       "       date  \n",
       "0  19300922  \n",
       "1  19340715  \n",
       "2  19830303  \n",
       "3  19680730  \n",
       "4  19301213  "
      ]
     },
     "execution_count": 37,
     "metadata": {},
     "output_type": "execute_result"
    }
   ],
   "source": [
    "hdss1.head()"
   ]
  },
  {
   "cell_type": "code",
   "execution_count": 38,
   "id": "8a034150",
   "metadata": {},
   "outputs": [],
   "source": [
    "hdss1['hdsshhid']=hdss1['hdsshhid'].str.replace(\"HH\",\"\")"
   ]
  },
  {
   "cell_type": "code",
   "execution_count": 39,
   "id": "5e562b45",
   "metadata": {},
   "outputs": [],
   "source": [
    "hdss1['hdssid']=hdss1['hdssid'].str.replace(\"I\",\"\")"
   ]
  },
  {
   "cell_type": "code",
   "execution_count": 40,
   "id": "eefe5e2e",
   "metadata": {},
   "outputs": [
    {
     "data": {
      "text/html": [
       "<div>\n",
       "<style scoped>\n",
       "    .dataframe tbody tr th:only-of-type {\n",
       "        vertical-align: middle;\n",
       "    }\n",
       "\n",
       "    .dataframe tbody tr th {\n",
       "        vertical-align: top;\n",
       "    }\n",
       "\n",
       "    .dataframe thead th {\n",
       "        text-align: right;\n",
       "    }\n",
       "</style>\n",
       "<table border=\"1\" class=\"dataframe\">\n",
       "  <thead>\n",
       "    <tr style=\"text-align: right;\">\n",
       "      <th></th>\n",
       "      <th>recnr</th>\n",
       "      <th>firstname</th>\n",
       "      <th>lastname</th>\n",
       "      <th>petname</th>\n",
       "      <th>sex</th>\n",
       "      <th>nationalid</th>\n",
       "      <th>hdssid</th>\n",
       "      <th>hdsshhid</th>\n",
       "      <th>date</th>\n",
       "    </tr>\n",
       "  </thead>\n",
       "  <tbody>\n",
       "    <tr>\n",
       "      <th>0</th>\n",
       "      <td>1</td>\n",
       "      <td>zaina</td>\n",
       "      <td>hanifa</td>\n",
       "      <td>ula</td>\n",
       "      <td>2</td>\n",
       "      <td>NaN</td>\n",
       "      <td>20001</td>\n",
       "      <td>100001</td>\n",
       "      <td>19300922</td>\n",
       "    </tr>\n",
       "    <tr>\n",
       "      <th>1</th>\n",
       "      <td>2</td>\n",
       "      <td>godfrey</td>\n",
       "      <td>maganda</td>\n",
       "      <td>mukama</td>\n",
       "      <td>1</td>\n",
       "      <td>NaN</td>\n",
       "      <td>20002</td>\n",
       "      <td>100002</td>\n",
       "      <td>19340715</td>\n",
       "    </tr>\n",
       "    <tr>\n",
       "      <th>2</th>\n",
       "      <td>3</td>\n",
       "      <td>kasim</td>\n",
       "      <td>ngobi</td>\n",
       "      <td>galabuzi</td>\n",
       "      <td>1</td>\n",
       "      <td>NaN</td>\n",
       "      <td>20003</td>\n",
       "      <td>100003</td>\n",
       "      <td>19830303</td>\n",
       "    </tr>\n",
       "    <tr>\n",
       "      <th>3</th>\n",
       "      <td>4</td>\n",
       "      <td>esther</td>\n",
       "      <td>NaN</td>\n",
       "      <td>inara</td>\n",
       "      <td>2</td>\n",
       "      <td>NaN</td>\n",
       "      <td>20004</td>\n",
       "      <td>100004</td>\n",
       "      <td>19680730</td>\n",
       "    </tr>\n",
       "    <tr>\n",
       "      <th>4</th>\n",
       "      <td>5</td>\n",
       "      <td>sumaya</td>\n",
       "      <td>swabula</td>\n",
       "      <td>NaN</td>\n",
       "      <td>2</td>\n",
       "      <td>NaN</td>\n",
       "      <td>20005</td>\n",
       "      <td>100005</td>\n",
       "      <td>19301213</td>\n",
       "    </tr>\n",
       "  </tbody>\n",
       "</table>\n",
       "</div>"
      ],
      "text/plain": [
       "   recnr firstname lastname   petname  sex  nationalid hdssid hdsshhid  \\\n",
       "0      1     zaina   hanifa       ula    2         NaN  20001   100001   \n",
       "1      2   godfrey  maganda    mukama    1         NaN  20002   100002   \n",
       "2      3     kasim    ngobi  galabuzi    1         NaN  20003   100003   \n",
       "3      4    esther      NaN     inara    2         NaN  20004   100004   \n",
       "4      5    sumaya  swabula       NaN    2         NaN  20005   100005   \n",
       "\n",
       "       date  \n",
       "0  19300922  \n",
       "1  19340715  \n",
       "2  19830303  \n",
       "3  19680730  \n",
       "4  19301213  "
      ]
     },
     "execution_count": 40,
     "metadata": {},
     "output_type": "execute_result"
    }
   ],
   "source": [
    "hdss1.head()"
   ]
  },
  {
   "cell_type": "code",
   "execution_count": 41,
   "id": "ba8a31c7",
   "metadata": {},
   "outputs": [
    {
     "data": {
      "text/html": [
       "<div>\n",
       "<style scoped>\n",
       "    .dataframe tbody tr th:only-of-type {\n",
       "        vertical-align: middle;\n",
       "    }\n",
       "\n",
       "    .dataframe tbody tr th {\n",
       "        vertical-align: top;\n",
       "    }\n",
       "\n",
       "    .dataframe thead th {\n",
       "        text-align: right;\n",
       "    }\n",
       "</style>\n",
       "<table border=\"1\" class=\"dataframe\">\n",
       "  <thead>\n",
       "    <tr style=\"text-align: right;\">\n",
       "      <th></th>\n",
       "      <th>recnr</th>\n",
       "      <th>firstname</th>\n",
       "      <th>lastname</th>\n",
       "      <th>petname</th>\n",
       "      <th>dob</th>\n",
       "      <th>sex</th>\n",
       "      <th>nationalid</th>\n",
       "      <th>patientid</th>\n",
       "      <th>visitdate</th>\n",
       "      <th>date</th>\n",
       "      <th>time</th>\n",
       "    </tr>\n",
       "  </thead>\n",
       "  <tbody>\n",
       "    <tr>\n",
       "      <th>0</th>\n",
       "      <td>2</td>\n",
       "      <td>fatuma</td>\n",
       "      <td>NaN</td>\n",
       "      <td>zaina</td>\n",
       "      <td>24-08-2017 00:00</td>\n",
       "      <td>2</td>\n",
       "      <td>N_ID_5000</td>\n",
       "      <td>2069</td>\n",
       "      <td>10-09-2018</td>\n",
       "      <td>2017-08-24</td>\n",
       "      <td>00:00:00</td>\n",
       "    </tr>\n",
       "    <tr>\n",
       "      <th>1</th>\n",
       "      <td>3</td>\n",
       "      <td>gloria</td>\n",
       "      <td>rashida</td>\n",
       "      <td>NaN</td>\n",
       "      <td>11-07-1993 00:00</td>\n",
       "      <td>2</td>\n",
       "      <td>N_ID_11861</td>\n",
       "      <td>2079</td>\n",
       "      <td>14-12-2022</td>\n",
       "      <td>1993-07-11</td>\n",
       "      <td>00:00:00</td>\n",
       "    </tr>\n",
       "    <tr>\n",
       "      <th>2</th>\n",
       "      <td>4</td>\n",
       "      <td>ali</td>\n",
       "      <td>hakram</td>\n",
       "      <td>igomu</td>\n",
       "      <td>17-05-2014 00:00</td>\n",
       "      <td>1</td>\n",
       "      <td>N_ID_11864</td>\n",
       "      <td>2080</td>\n",
       "      <td>09-06-2023</td>\n",
       "      <td>2014-05-17</td>\n",
       "      <td>00:00:00</td>\n",
       "    </tr>\n",
       "    <tr>\n",
       "      <th>3</th>\n",
       "      <td>5</td>\n",
       "      <td>nakalema</td>\n",
       "      <td>NaN</td>\n",
       "      <td>nkwanga</td>\n",
       "      <td>27-02-2026 00:00</td>\n",
       "      <td>2</td>\n",
       "      <td>N_ID_11867</td>\n",
       "      <td>2081</td>\n",
       "      <td>07-02-2019</td>\n",
       "      <td>2026-02-27</td>\n",
       "      <td>00:00:00</td>\n",
       "    </tr>\n",
       "    <tr>\n",
       "      <th>4</th>\n",
       "      <td>6</td>\n",
       "      <td>asuman</td>\n",
       "      <td>sempa</td>\n",
       "      <td>aguti</td>\n",
       "      <td>02-03-2002 00:00</td>\n",
       "      <td>1</td>\n",
       "      <td>N_ID_11870</td>\n",
       "      <td>2082</td>\n",
       "      <td>18-08-2020</td>\n",
       "      <td>2002-03-02</td>\n",
       "      <td>00:00:00</td>\n",
       "    </tr>\n",
       "  </tbody>\n",
       "</table>\n",
       "</div>"
      ],
      "text/plain": [
       "   recnr firstname lastname  petname               dob  sex  nationalid  \\\n",
       "0      2    fatuma      NaN    zaina  24-08-2017 00:00    2   N_ID_5000   \n",
       "1      3    gloria  rashida      NaN  11-07-1993 00:00    2  N_ID_11861   \n",
       "2      4       ali   hakram    igomu  17-05-2014 00:00    1  N_ID_11864   \n",
       "3      5  nakalema      NaN  nkwanga  27-02-2026 00:00    2  N_ID_11867   \n",
       "4      6    asuman    sempa    aguti  02-03-2002 00:00    1  N_ID_11870   \n",
       "\n",
       "   patientid   visitdate        date      time  \n",
       "0       2069  10-09-2018  2017-08-24  00:00:00  \n",
       "1       2079  14-12-2022  1993-07-11  00:00:00  \n",
       "2       2080  09-06-2023  2014-05-17  00:00:00  \n",
       "3       2081  07-02-2019  2026-02-27  00:00:00  \n",
       "4       2082  18-08-2020  2002-03-02  00:00:00  "
      ]
     },
     "execution_count": 41,
     "metadata": {},
     "output_type": "execute_result"
    }
   ],
   "source": [
    "facility1.head()"
   ]
  },
  {
   "cell_type": "code",
   "execution_count": 42,
   "id": "eb654320",
   "metadata": {},
   "outputs": [
    {
     "name": "stdout",
     "output_type": "stream",
     "text": [
      "   recnr firstname lastname  petname               dob  sex  nationalid  \\\n",
      "0      2    fatuma      NaN    zaina  24-08-2017 00:00    2   N_ID_5000   \n",
      "1      3    gloria  rashida      NaN  11-07-1993 00:00    2  N_ID_11861   \n",
      "2      4       ali   hakram    igomu  17-05-2014 00:00    1  N_ID_11864   \n",
      "3      5  nakalema      NaN  nkwanga  27-02-2026 00:00    2  N_ID_11867   \n",
      "4      6    asuman    sempa    aguti  02-03-2002 00:00    1  N_ID_11870   \n",
      "\n",
      "   patientid   visitdate      date      time  \n",
      "0       2069  10-09-2018  20170824  00:00:00  \n",
      "1       2079  14-12-2022  19930711  00:00:00  \n",
      "2       2080  09-06-2023  20140517  00:00:00  \n",
      "3       2081  07-02-2019  20260227  00:00:00  \n",
      "4       2082  18-08-2020  20020302  00:00:00  \n"
     ]
    }
   ],
   "source": [
    "facility1['date']=facility1['date'].astype(str)\n",
    "facility1['date']=remove_hyphen(facility1['date'])\n",
    "print(facility1.head())"
   ]
  },
  {
   "cell_type": "code",
   "execution_count": 43,
   "id": "7226f3bc",
   "metadata": {},
   "outputs": [],
   "source": [
    "facility1['visitdate']=remove_hyphen(facility1['visitdate'])"
   ]
  },
  {
   "cell_type": "code",
   "execution_count": 44,
   "id": "00db696e",
   "metadata": {},
   "outputs": [],
   "source": [
    "facility1['nationalid']=facility1['nationalid'].astype(str)\n",
    "facility1['nationalid']=facility1['nationalid'].str.replace(\"N_ID_\",\"\")"
   ]
  },
  {
   "cell_type": "code",
   "execution_count": 45,
   "id": "35a3795a",
   "metadata": {},
   "outputs": [
    {
     "data": {
      "text/html": [
       "<div>\n",
       "<style scoped>\n",
       "    .dataframe tbody tr th:only-of-type {\n",
       "        vertical-align: middle;\n",
       "    }\n",
       "\n",
       "    .dataframe tbody tr th {\n",
       "        vertical-align: top;\n",
       "    }\n",
       "\n",
       "    .dataframe thead th {\n",
       "        text-align: right;\n",
       "    }\n",
       "</style>\n",
       "<table border=\"1\" class=\"dataframe\">\n",
       "  <thead>\n",
       "    <tr style=\"text-align: right;\">\n",
       "      <th></th>\n",
       "      <th>recnr</th>\n",
       "      <th>firstname</th>\n",
       "      <th>lastname</th>\n",
       "      <th>petname</th>\n",
       "      <th>dob</th>\n",
       "      <th>sex</th>\n",
       "      <th>nationalid</th>\n",
       "      <th>patientid</th>\n",
       "      <th>visitdate</th>\n",
       "      <th>date</th>\n",
       "      <th>time</th>\n",
       "    </tr>\n",
       "  </thead>\n",
       "  <tbody>\n",
       "    <tr>\n",
       "      <th>0</th>\n",
       "      <td>2</td>\n",
       "      <td>fatuma</td>\n",
       "      <td>NaN</td>\n",
       "      <td>zaina</td>\n",
       "      <td>24-08-2017 00:00</td>\n",
       "      <td>2</td>\n",
       "      <td>5000</td>\n",
       "      <td>2069</td>\n",
       "      <td>10092018</td>\n",
       "      <td>20170824</td>\n",
       "      <td>00:00:00</td>\n",
       "    </tr>\n",
       "    <tr>\n",
       "      <th>1</th>\n",
       "      <td>3</td>\n",
       "      <td>gloria</td>\n",
       "      <td>rashida</td>\n",
       "      <td>NaN</td>\n",
       "      <td>11-07-1993 00:00</td>\n",
       "      <td>2</td>\n",
       "      <td>11861</td>\n",
       "      <td>2079</td>\n",
       "      <td>14122022</td>\n",
       "      <td>19930711</td>\n",
       "      <td>00:00:00</td>\n",
       "    </tr>\n",
       "    <tr>\n",
       "      <th>2</th>\n",
       "      <td>4</td>\n",
       "      <td>ali</td>\n",
       "      <td>hakram</td>\n",
       "      <td>igomu</td>\n",
       "      <td>17-05-2014 00:00</td>\n",
       "      <td>1</td>\n",
       "      <td>11864</td>\n",
       "      <td>2080</td>\n",
       "      <td>09062023</td>\n",
       "      <td>20140517</td>\n",
       "      <td>00:00:00</td>\n",
       "    </tr>\n",
       "    <tr>\n",
       "      <th>3</th>\n",
       "      <td>5</td>\n",
       "      <td>nakalema</td>\n",
       "      <td>NaN</td>\n",
       "      <td>nkwanga</td>\n",
       "      <td>27-02-2026 00:00</td>\n",
       "      <td>2</td>\n",
       "      <td>11867</td>\n",
       "      <td>2081</td>\n",
       "      <td>07022019</td>\n",
       "      <td>20260227</td>\n",
       "      <td>00:00:00</td>\n",
       "    </tr>\n",
       "    <tr>\n",
       "      <th>4</th>\n",
       "      <td>6</td>\n",
       "      <td>asuman</td>\n",
       "      <td>sempa</td>\n",
       "      <td>aguti</td>\n",
       "      <td>02-03-2002 00:00</td>\n",
       "      <td>1</td>\n",
       "      <td>11870</td>\n",
       "      <td>2082</td>\n",
       "      <td>18082020</td>\n",
       "      <td>20020302</td>\n",
       "      <td>00:00:00</td>\n",
       "    </tr>\n",
       "  </tbody>\n",
       "</table>\n",
       "</div>"
      ],
      "text/plain": [
       "   recnr firstname lastname  petname               dob  sex nationalid  \\\n",
       "0      2    fatuma      NaN    zaina  24-08-2017 00:00    2       5000   \n",
       "1      3    gloria  rashida      NaN  11-07-1993 00:00    2      11861   \n",
       "2      4       ali   hakram    igomu  17-05-2014 00:00    1      11864   \n",
       "3      5  nakalema      NaN  nkwanga  27-02-2026 00:00    2      11867   \n",
       "4      6    asuman    sempa    aguti  02-03-2002 00:00    1      11870   \n",
       "\n",
       "   patientid visitdate      date      time  \n",
       "0       2069  10092018  20170824  00:00:00  \n",
       "1       2079  14122022  19930711  00:00:00  \n",
       "2       2080  09062023  20140517  00:00:00  \n",
       "3       2081  07022019  20260227  00:00:00  \n",
       "4       2082  18082020  20020302  00:00:00  "
      ]
     },
     "execution_count": 45,
     "metadata": {},
     "output_type": "execute_result"
    }
   ],
   "source": [
    "facility1.head()"
   ]
  },
  {
   "cell_type": "code",
   "execution_count": 46,
   "id": "d518a3b1",
   "metadata": {},
   "outputs": [
    {
     "data": {
      "text/html": [
       "<div>\n",
       "<style scoped>\n",
       "    .dataframe tbody tr th:only-of-type {\n",
       "        vertical-align: middle;\n",
       "    }\n",
       "\n",
       "    .dataframe tbody tr th {\n",
       "        vertical-align: top;\n",
       "    }\n",
       "\n",
       "    .dataframe thead th {\n",
       "        text-align: right;\n",
       "    }\n",
       "</style>\n",
       "<table border=\"1\" class=\"dataframe\">\n",
       "  <thead>\n",
       "    <tr style=\"text-align: right;\">\n",
       "      <th></th>\n",
       "      <th>recnr</th>\n",
       "      <th>firstname</th>\n",
       "      <th>lastname</th>\n",
       "      <th>petname</th>\n",
       "      <th>sex</th>\n",
       "      <th>nationalid</th>\n",
       "      <th>hdssid</th>\n",
       "      <th>hdsshhid</th>\n",
       "      <th>date</th>\n",
       "    </tr>\n",
       "  </thead>\n",
       "  <tbody>\n",
       "    <tr>\n",
       "      <th>0</th>\n",
       "      <td>1</td>\n",
       "      <td>zaina</td>\n",
       "      <td>hanifa</td>\n",
       "      <td>ula</td>\n",
       "      <td>2</td>\n",
       "      <td>NaN</td>\n",
       "      <td>20001</td>\n",
       "      <td>100001</td>\n",
       "      <td>19300922</td>\n",
       "    </tr>\n",
       "    <tr>\n",
       "      <th>1</th>\n",
       "      <td>2</td>\n",
       "      <td>godfrey</td>\n",
       "      <td>maganda</td>\n",
       "      <td>mukama</td>\n",
       "      <td>1</td>\n",
       "      <td>NaN</td>\n",
       "      <td>20002</td>\n",
       "      <td>100002</td>\n",
       "      <td>19340715</td>\n",
       "    </tr>\n",
       "  </tbody>\n",
       "</table>\n",
       "</div>"
      ],
      "text/plain": [
       "   recnr firstname lastname petname  sex  nationalid hdssid hdsshhid      date\n",
       "0      1     zaina   hanifa     ula    2         NaN  20001   100001  19300922\n",
       "1      2   godfrey  maganda  mukama    1         NaN  20002   100002  19340715"
      ]
     },
     "execution_count": 46,
     "metadata": {},
     "output_type": "execute_result"
    }
   ],
   "source": [
    "hdss1.head(2)"
   ]
  },
  {
   "cell_type": "code",
   "execution_count": 49,
   "id": "b320f399",
   "metadata": {},
   "outputs": [
    {
     "data": {
      "text/html": [
       "<div>\n",
       "<style scoped>\n",
       "    .dataframe tbody tr th:only-of-type {\n",
       "        vertical-align: middle;\n",
       "    }\n",
       "\n",
       "    .dataframe tbody tr th {\n",
       "        vertical-align: top;\n",
       "    }\n",
       "\n",
       "    .dataframe thead th {\n",
       "        text-align: right;\n",
       "    }\n",
       "</style>\n",
       "<table border=\"1\" class=\"dataframe\">\n",
       "  <thead>\n",
       "    <tr style=\"text-align: right;\">\n",
       "      <th></th>\n",
       "      <th>recnr</th>\n",
       "      <th>firstname</th>\n",
       "      <th>lastname</th>\n",
       "      <th>petname</th>\n",
       "      <th>sex</th>\n",
       "      <th>nationalid</th>\n",
       "      <th>patientid</th>\n",
       "      <th>visitdate</th>\n",
       "      <th>date</th>\n",
       "    </tr>\n",
       "  </thead>\n",
       "  <tbody>\n",
       "    <tr>\n",
       "      <th>0</th>\n",
       "      <td>2</td>\n",
       "      <td>fatuma</td>\n",
       "      <td>NaN</td>\n",
       "      <td>zaina</td>\n",
       "      <td>2</td>\n",
       "      <td>5000</td>\n",
       "      <td>2069</td>\n",
       "      <td>10092018</td>\n",
       "      <td>20170824</td>\n",
       "    </tr>\n",
       "    <tr>\n",
       "      <th>1</th>\n",
       "      <td>3</td>\n",
       "      <td>gloria</td>\n",
       "      <td>rashida</td>\n",
       "      <td>NaN</td>\n",
       "      <td>2</td>\n",
       "      <td>11861</td>\n",
       "      <td>2079</td>\n",
       "      <td>14122022</td>\n",
       "      <td>19930711</td>\n",
       "    </tr>\n",
       "  </tbody>\n",
       "</table>\n",
       "</div>"
      ],
      "text/plain": [
       "   recnr firstname lastname petname  sex nationalid  patientid visitdate  \\\n",
       "0      2    fatuma      NaN   zaina    2       5000       2069  10092018   \n",
       "1      3    gloria  rashida     NaN    2      11861       2079  14122022   \n",
       "\n",
       "       date  \n",
       "0  20170824  \n",
       "1  19930711  "
      ]
     },
     "execution_count": 49,
     "metadata": {},
     "output_type": "execute_result"
    }
   ],
   "source": [
    "facility1.head(2)"
   ]
  },
  {
   "cell_type": "code",
   "execution_count": 48,
   "id": "4ba55429",
   "metadata": {},
   "outputs": [],
   "source": [
    "facility1.drop(['dob','time'],axis=1,inplace=True)"
   ]
  },
  {
   "cell_type": "markdown",
   "id": "b169b4b6",
   "metadata": {},
   "source": [
    "# modelling"
   ]
  },
  {
   "cell_type": "code",
   "execution_count": 51,
   "id": "ea9afe7c",
   "metadata": {},
   "outputs": [
    {
     "name": "stdout",
     "output_type": "stream",
     "text": [
      "Requirement already satisfied: recordlinkage in c:\\users\\f\\anaconda3\\lib\\site-packages (0.16)\n",
      "Requirement already satisfied: jellyfish>=1 in c:\\users\\f\\anaconda3\\lib\\site-packages (from recordlinkage) (1.0.1)\n",
      "Requirement already satisfied: numpy>=1.13 in c:\\users\\f\\anaconda3\\lib\\site-packages (from recordlinkage) (1.24.3)\n",
      "Requirement already satisfied: pandas<3,>=1 in c:\\users\\f\\anaconda3\\lib\\site-packages (from recordlinkage) (2.0.3)\n",
      "Requirement already satisfied: scipy>=1 in c:\\users\\f\\anaconda3\\lib\\site-packages (from recordlinkage) (1.11.1)\n",
      "Requirement already satisfied: scikit-learn>=1 in c:\\users\\f\\anaconda3\\lib\\site-packages (from recordlinkage) (1.3.0)\n",
      "Requirement already satisfied: joblib in c:\\users\\f\\anaconda3\\lib\\site-packages (from recordlinkage) (1.2.0)\n",
      "Requirement already satisfied: python-dateutil>=2.8.2 in c:\\users\\f\\anaconda3\\lib\\site-packages (from pandas<3,>=1->recordlinkage) (2.8.2)\n",
      "Requirement already satisfied: pytz>=2020.1 in c:\\users\\f\\anaconda3\\lib\\site-packages (from pandas<3,>=1->recordlinkage) (2023.3.post1)\n",
      "Requirement already satisfied: tzdata>=2022.1 in c:\\users\\f\\anaconda3\\lib\\site-packages (from pandas<3,>=1->recordlinkage) (2023.3)\n",
      "Requirement already satisfied: threadpoolctl>=2.0.0 in c:\\users\\f\\anaconda3\\lib\\site-packages (from scikit-learn>=1->recordlinkage) (2.2.0)\n",
      "Requirement already satisfied: six>=1.5 in c:\\users\\f\\anaconda3\\lib\\site-packages (from python-dateutil>=2.8.2->pandas<3,>=1->recordlinkage) (1.16.0)\n"
     ]
    }
   ],
   "source": [
    "!pip install recordlinkage"
   ]
  },
  {
   "cell_type": "code",
   "execution_count": 54,
   "id": "c2e82439",
   "metadata": {},
   "outputs": [],
   "source": [
    "import recordlinkage as rl"
   ]
  },
  {
   "cell_type": "code",
   "execution_count": 55,
   "id": "8e9a9637",
   "metadata": {},
   "outputs": [
    {
     "data": {
      "text/plain": [
       "34093"
      ]
     },
     "execution_count": 55,
     "metadata": {},
     "output_type": "execute_result"
    }
   ],
   "source": [
    "indexer=rl.Index()\n",
    "indexer.block(\"firstname\")\n",
    "candidate_links=indexer.index(hdss1,facility1)\n",
    "len(candidate_links)"
   ]
  },
  {
   "cell_type": "code",
   "execution_count": 77,
   "id": "b97912b4",
   "metadata": {},
   "outputs": [],
   "source": [
    "compare_cl=rl.Compare()\n",
    "compare_cl.exact(\"firstname\",\"firstname\",label=\"first_name\")\n",
    "compare_cl.exact(\"sex\",\"sex\",label=\"sex\")\n",
    "compare_cl.exact(\"date\",\"date\",label=\"dob\")\n",
    "compare_cl.string(\"lastname\",\"lastname\",method=\"jarowinkler\",threshold=0.85,label=\"lastname\")\n",
    "features=compare_cl.compute(candidate_links,hdss1,facility1)"
   ]
  },
  {
   "cell_type": "code",
   "execution_count": 58,
   "id": "1260d646",
   "metadata": {},
   "outputs": [
    {
     "data": {
      "text/html": [
       "<div>\n",
       "<style scoped>\n",
       "    .dataframe tbody tr th:only-of-type {\n",
       "        vertical-align: middle;\n",
       "    }\n",
       "\n",
       "    .dataframe tbody tr th {\n",
       "        vertical-align: top;\n",
       "    }\n",
       "\n",
       "    .dataframe thead th {\n",
       "        text-align: right;\n",
       "    }\n",
       "</style>\n",
       "<table border=\"1\" class=\"dataframe\">\n",
       "  <thead>\n",
       "    <tr style=\"text-align: right;\">\n",
       "      <th></th>\n",
       "      <th></th>\n",
       "      <th>first_name</th>\n",
       "      <th>sex</th>\n",
       "      <th>dob</th>\n",
       "      <th>lastname</th>\n",
       "    </tr>\n",
       "  </thead>\n",
       "  <tbody>\n",
       "    <tr>\n",
       "      <th rowspan=\"5\" valign=\"top\">0</th>\n",
       "      <th>427</th>\n",
       "      <td>1</td>\n",
       "      <td>1</td>\n",
       "      <td>0</td>\n",
       "      <td>0.0</td>\n",
       "    </tr>\n",
       "    <tr>\n",
       "      <th>486</th>\n",
       "      <td>1</td>\n",
       "      <td>1</td>\n",
       "      <td>0</td>\n",
       "      <td>0.0</td>\n",
       "    </tr>\n",
       "    <tr>\n",
       "      <th>550</th>\n",
       "      <td>1</td>\n",
       "      <td>1</td>\n",
       "      <td>0</td>\n",
       "      <td>0.0</td>\n",
       "    </tr>\n",
       "    <tr>\n",
       "      <th>637</th>\n",
       "      <td>1</td>\n",
       "      <td>1</td>\n",
       "      <td>0</td>\n",
       "      <td>0.0</td>\n",
       "    </tr>\n",
       "    <tr>\n",
       "      <th>1136</th>\n",
       "      <td>1</td>\n",
       "      <td>1</td>\n",
       "      <td>0</td>\n",
       "      <td>0.0</td>\n",
       "    </tr>\n",
       "    <tr>\n",
       "      <th>...</th>\n",
       "      <th>...</th>\n",
       "      <td>...</td>\n",
       "      <td>...</td>\n",
       "      <td>...</td>\n",
       "      <td>...</td>\n",
       "    </tr>\n",
       "    <tr>\n",
       "      <th>4084</th>\n",
       "      <th>1548</th>\n",
       "      <td>1</td>\n",
       "      <td>1</td>\n",
       "      <td>0</td>\n",
       "      <td>1.0</td>\n",
       "    </tr>\n",
       "    <tr>\n",
       "      <th rowspan=\"2\" valign=\"top\">4097</th>\n",
       "      <th>1031</th>\n",
       "      <td>1</td>\n",
       "      <td>1</td>\n",
       "      <td>1</td>\n",
       "      <td>1.0</td>\n",
       "    </tr>\n",
       "    <tr>\n",
       "      <th>2867</th>\n",
       "      <td>1</td>\n",
       "      <td>1</td>\n",
       "      <td>0</td>\n",
       "      <td>1.0</td>\n",
       "    </tr>\n",
       "    <tr>\n",
       "      <th rowspan=\"2\" valign=\"top\">4110</th>\n",
       "      <th>126</th>\n",
       "      <td>1</td>\n",
       "      <td>1</td>\n",
       "      <td>1</td>\n",
       "      <td>1.0</td>\n",
       "    </tr>\n",
       "    <tr>\n",
       "      <th>1349</th>\n",
       "      <td>1</td>\n",
       "      <td>1</td>\n",
       "      <td>0</td>\n",
       "      <td>1.0</td>\n",
       "    </tr>\n",
       "  </tbody>\n",
       "</table>\n",
       "<p>34093 rows × 4 columns</p>\n",
       "</div>"
      ],
      "text/plain": [
       "           first_name  sex  dob  lastname\n",
       "0    427            1    1    0       0.0\n",
       "     486            1    1    0       0.0\n",
       "     550            1    1    0       0.0\n",
       "     637            1    1    0       0.0\n",
       "     1136           1    1    0       0.0\n",
       "...               ...  ...  ...       ...\n",
       "4084 1548           1    1    0       1.0\n",
       "4097 1031           1    1    1       1.0\n",
       "     2867           1    1    0       1.0\n",
       "4110 126            1    1    1       1.0\n",
       "     1349           1    1    0       1.0\n",
       "\n",
       "[34093 rows x 4 columns]"
      ]
     },
     "execution_count": 58,
     "metadata": {},
     "output_type": "execute_result"
    }
   ],
   "source": [
    "features"
   ]
  },
  {
   "cell_type": "code",
   "execution_count": 60,
   "id": "2410f8cb",
   "metadata": {},
   "outputs": [
    {
     "data": {
      "text/html": [
       "<div>\n",
       "<style scoped>\n",
       "    .dataframe tbody tr th:only-of-type {\n",
       "        vertical-align: middle;\n",
       "    }\n",
       "\n",
       "    .dataframe tbody tr th {\n",
       "        vertical-align: top;\n",
       "    }\n",
       "\n",
       "    .dataframe thead th {\n",
       "        text-align: right;\n",
       "    }\n",
       "</style>\n",
       "<table border=\"1\" class=\"dataframe\">\n",
       "  <thead>\n",
       "    <tr style=\"text-align: right;\">\n",
       "      <th></th>\n",
       "      <th>first_name</th>\n",
       "      <th>sex</th>\n",
       "      <th>dob</th>\n",
       "      <th>lastname</th>\n",
       "    </tr>\n",
       "  </thead>\n",
       "  <tbody>\n",
       "    <tr>\n",
       "      <th>count</th>\n",
       "      <td>34093.0</td>\n",
       "      <td>34093.000000</td>\n",
       "      <td>34093.000000</td>\n",
       "      <td>34093.000000</td>\n",
       "    </tr>\n",
       "    <tr>\n",
       "      <th>mean</th>\n",
       "      <td>1.0</td>\n",
       "      <td>0.977855</td>\n",
       "      <td>0.026252</td>\n",
       "      <td>0.090282</td>\n",
       "    </tr>\n",
       "    <tr>\n",
       "      <th>std</th>\n",
       "      <td>0.0</td>\n",
       "      <td>0.147158</td>\n",
       "      <td>0.159885</td>\n",
       "      <td>0.286590</td>\n",
       "    </tr>\n",
       "    <tr>\n",
       "      <th>min</th>\n",
       "      <td>1.0</td>\n",
       "      <td>0.000000</td>\n",
       "      <td>0.000000</td>\n",
       "      <td>0.000000</td>\n",
       "    </tr>\n",
       "    <tr>\n",
       "      <th>25%</th>\n",
       "      <td>1.0</td>\n",
       "      <td>1.000000</td>\n",
       "      <td>0.000000</td>\n",
       "      <td>0.000000</td>\n",
       "    </tr>\n",
       "    <tr>\n",
       "      <th>50%</th>\n",
       "      <td>1.0</td>\n",
       "      <td>1.000000</td>\n",
       "      <td>0.000000</td>\n",
       "      <td>0.000000</td>\n",
       "    </tr>\n",
       "    <tr>\n",
       "      <th>75%</th>\n",
       "      <td>1.0</td>\n",
       "      <td>1.000000</td>\n",
       "      <td>0.000000</td>\n",
       "      <td>0.000000</td>\n",
       "    </tr>\n",
       "    <tr>\n",
       "      <th>max</th>\n",
       "      <td>1.0</td>\n",
       "      <td>1.000000</td>\n",
       "      <td>1.000000</td>\n",
       "      <td>1.000000</td>\n",
       "    </tr>\n",
       "  </tbody>\n",
       "</table>\n",
       "</div>"
      ],
      "text/plain": [
       "       first_name           sex           dob      lastname\n",
       "count     34093.0  34093.000000  34093.000000  34093.000000\n",
       "mean          1.0      0.977855      0.026252      0.090282\n",
       "std           0.0      0.147158      0.159885      0.286590\n",
       "min           1.0      0.000000      0.000000      0.000000\n",
       "25%           1.0      1.000000      0.000000      0.000000\n",
       "50%           1.0      1.000000      0.000000      0.000000\n",
       "75%           1.0      1.000000      0.000000      0.000000\n",
       "max           1.0      1.000000      1.000000      1.000000"
      ]
     },
     "execution_count": 60,
     "metadata": {},
     "output_type": "execute_result"
    }
   ],
   "source": [
    "features.describe()"
   ]
  },
  {
   "cell_type": "code",
   "execution_count": 61,
   "id": "1c445ac6",
   "metadata": {},
   "outputs": [
    {
     "data": {
      "text/plain": [
       "4.0      853\n",
       "3.0     2267\n",
       "2.0    30218\n",
       "1.0      755\n",
       "Name: count, dtype: int64"
      ]
     },
     "execution_count": 61,
     "metadata": {},
     "output_type": "execute_result"
    }
   ],
   "source": [
    "features.sum(axis=1).value_counts().sort_index(ascending=False)"
   ]
  },
  {
   "cell_type": "code",
   "execution_count": 62,
   "id": "21b0b4c9",
   "metadata": {},
   "outputs": [
    {
     "data": {
      "text/html": [
       "<div>\n",
       "<style scoped>\n",
       "    .dataframe tbody tr th:only-of-type {\n",
       "        vertical-align: middle;\n",
       "    }\n",
       "\n",
       "    .dataframe tbody tr th {\n",
       "        vertical-align: top;\n",
       "    }\n",
       "\n",
       "    .dataframe thead th {\n",
       "        text-align: right;\n",
       "    }\n",
       "</style>\n",
       "<table border=\"1\" class=\"dataframe\">\n",
       "  <thead>\n",
       "    <tr style=\"text-align: right;\">\n",
       "      <th></th>\n",
       "      <th></th>\n",
       "      <th>first_name</th>\n",
       "      <th>sex</th>\n",
       "      <th>dob</th>\n",
       "      <th>lastname</th>\n",
       "    </tr>\n",
       "  </thead>\n",
       "  <tbody>\n",
       "    <tr>\n",
       "      <th>0</th>\n",
       "      <th>2501</th>\n",
       "      <td>1</td>\n",
       "      <td>1</td>\n",
       "      <td>0</td>\n",
       "      <td>1.0</td>\n",
       "    </tr>\n",
       "    <tr>\n",
       "      <th rowspan=\"2\" valign=\"top\">149</th>\n",
       "      <th>637</th>\n",
       "      <td>1</td>\n",
       "      <td>1</td>\n",
       "      <td>0</td>\n",
       "      <td>1.0</td>\n",
       "    </tr>\n",
       "    <tr>\n",
       "      <th>2239</th>\n",
       "      <td>1</td>\n",
       "      <td>1</td>\n",
       "      <td>1</td>\n",
       "      <td>1.0</td>\n",
       "    </tr>\n",
       "    <tr>\n",
       "      <th>882</th>\n",
       "      <th>486</th>\n",
       "      <td>1</td>\n",
       "      <td>1</td>\n",
       "      <td>0</td>\n",
       "      <td>1.0</td>\n",
       "    </tr>\n",
       "    <tr>\n",
       "      <th>2428</th>\n",
       "      <th>427</th>\n",
       "      <td>1</td>\n",
       "      <td>1</td>\n",
       "      <td>0</td>\n",
       "      <td>1.0</td>\n",
       "    </tr>\n",
       "    <tr>\n",
       "      <th>...</th>\n",
       "      <th>...</th>\n",
       "      <td>...</td>\n",
       "      <td>...</td>\n",
       "      <td>...</td>\n",
       "      <td>...</td>\n",
       "    </tr>\n",
       "    <tr>\n",
       "      <th>4084</th>\n",
       "      <th>1548</th>\n",
       "      <td>1</td>\n",
       "      <td>1</td>\n",
       "      <td>0</td>\n",
       "      <td>1.0</td>\n",
       "    </tr>\n",
       "    <tr>\n",
       "      <th rowspan=\"2\" valign=\"top\">4097</th>\n",
       "      <th>1031</th>\n",
       "      <td>1</td>\n",
       "      <td>1</td>\n",
       "      <td>1</td>\n",
       "      <td>1.0</td>\n",
       "    </tr>\n",
       "    <tr>\n",
       "      <th>2867</th>\n",
       "      <td>1</td>\n",
       "      <td>1</td>\n",
       "      <td>0</td>\n",
       "      <td>1.0</td>\n",
       "    </tr>\n",
       "    <tr>\n",
       "      <th rowspan=\"2\" valign=\"top\">4110</th>\n",
       "      <th>126</th>\n",
       "      <td>1</td>\n",
       "      <td>1</td>\n",
       "      <td>1</td>\n",
       "      <td>1.0</td>\n",
       "    </tr>\n",
       "    <tr>\n",
       "      <th>1349</th>\n",
       "      <td>1</td>\n",
       "      <td>1</td>\n",
       "      <td>0</td>\n",
       "      <td>1.0</td>\n",
       "    </tr>\n",
       "  </tbody>\n",
       "</table>\n",
       "<p>3120 rows × 4 columns</p>\n",
       "</div>"
      ],
      "text/plain": [
       "           first_name  sex  dob  lastname\n",
       "0    2501           1    1    0       1.0\n",
       "149  637            1    1    0       1.0\n",
       "     2239           1    1    1       1.0\n",
       "882  486            1    1    0       1.0\n",
       "2428 427            1    1    0       1.0\n",
       "...               ...  ...  ...       ...\n",
       "4084 1548           1    1    0       1.0\n",
       "4097 1031           1    1    1       1.0\n",
       "     2867           1    1    0       1.0\n",
       "4110 126            1    1    1       1.0\n",
       "     1349           1    1    0       1.0\n",
       "\n",
       "[3120 rows x 4 columns]"
      ]
     },
     "execution_count": 62,
     "metadata": {},
     "output_type": "execute_result"
    }
   ],
   "source": [
    "features[features.sum(axis=1) > 2]"
   ]
  },
  {
   "cell_type": "code",
   "execution_count": 64,
   "id": "997a521e",
   "metadata": {},
   "outputs": [
    {
     "data": {
      "text/html": [
       "<div>\n",
       "<style scoped>\n",
       "    .dataframe tbody tr th:only-of-type {\n",
       "        vertical-align: middle;\n",
       "    }\n",
       "\n",
       "    .dataframe tbody tr th {\n",
       "        vertical-align: top;\n",
       "    }\n",
       "\n",
       "    .dataframe thead th {\n",
       "        text-align: right;\n",
       "    }\n",
       "</style>\n",
       "<table border=\"1\" class=\"dataframe\">\n",
       "  <thead>\n",
       "    <tr style=\"text-align: right;\">\n",
       "      <th></th>\n",
       "      <th></th>\n",
       "      <th>first_name</th>\n",
       "      <th>sex</th>\n",
       "      <th>dob</th>\n",
       "      <th>lastname</th>\n",
       "    </tr>\n",
       "  </thead>\n",
       "  <tbody>\n",
       "    <tr>\n",
       "      <th rowspan=\"5\" valign=\"top\">0</th>\n",
       "      <th>427</th>\n",
       "      <td>1</td>\n",
       "      <td>1</td>\n",
       "      <td>0</td>\n",
       "      <td>0.0</td>\n",
       "    </tr>\n",
       "    <tr>\n",
       "      <th>486</th>\n",
       "      <td>1</td>\n",
       "      <td>1</td>\n",
       "      <td>0</td>\n",
       "      <td>0.0</td>\n",
       "    </tr>\n",
       "    <tr>\n",
       "      <th>550</th>\n",
       "      <td>1</td>\n",
       "      <td>1</td>\n",
       "      <td>0</td>\n",
       "      <td>0.0</td>\n",
       "    </tr>\n",
       "    <tr>\n",
       "      <th>637</th>\n",
       "      <td>1</td>\n",
       "      <td>1</td>\n",
       "      <td>0</td>\n",
       "      <td>0.0</td>\n",
       "    </tr>\n",
       "    <tr>\n",
       "      <th>1136</th>\n",
       "      <td>1</td>\n",
       "      <td>1</td>\n",
       "      <td>0</td>\n",
       "      <td>0.0</td>\n",
       "    </tr>\n",
       "    <tr>\n",
       "      <th>...</th>\n",
       "      <th>...</th>\n",
       "      <td>...</td>\n",
       "      <td>...</td>\n",
       "      <td>...</td>\n",
       "      <td>...</td>\n",
       "    </tr>\n",
       "    <tr>\n",
       "      <th rowspan=\"2\" valign=\"top\">3729</th>\n",
       "      <th>1139</th>\n",
       "      <td>1</td>\n",
       "      <td>1</td>\n",
       "      <td>0</td>\n",
       "      <td>0.0</td>\n",
       "    </tr>\n",
       "    <tr>\n",
       "      <th>1321</th>\n",
       "      <td>1</td>\n",
       "      <td>1</td>\n",
       "      <td>0</td>\n",
       "      <td>0.0</td>\n",
       "    </tr>\n",
       "    <tr>\n",
       "      <th rowspan=\"2\" valign=\"top\">3934</th>\n",
       "      <th>585</th>\n",
       "      <td>1</td>\n",
       "      <td>1</td>\n",
       "      <td>0</td>\n",
       "      <td>0.0</td>\n",
       "    </tr>\n",
       "    <tr>\n",
       "      <th>1139</th>\n",
       "      <td>1</td>\n",
       "      <td>1</td>\n",
       "      <td>0</td>\n",
       "      <td>0.0</td>\n",
       "    </tr>\n",
       "    <tr>\n",
       "      <th>3748</th>\n",
       "      <th>1666</th>\n",
       "      <td>1</td>\n",
       "      <td>1</td>\n",
       "      <td>0</td>\n",
       "      <td>0.0</td>\n",
       "    </tr>\n",
       "  </tbody>\n",
       "</table>\n",
       "<p>30218 rows × 4 columns</p>\n",
       "</div>"
      ],
      "text/plain": [
       "           first_name  sex  dob  lastname\n",
       "0    427            1    1    0       0.0\n",
       "     486            1    1    0       0.0\n",
       "     550            1    1    0       0.0\n",
       "     637            1    1    0       0.0\n",
       "     1136           1    1    0       0.0\n",
       "...               ...  ...  ...       ...\n",
       "3729 1139           1    1    0       0.0\n",
       "     1321           1    1    0       0.0\n",
       "3934 585            1    1    0       0.0\n",
       "     1139           1    1    0       0.0\n",
       "3748 1666           1    1    0       0.0\n",
       "\n",
       "[30218 rows x 4 columns]"
      ]
     },
     "execution_count": 64,
     "metadata": {},
     "output_type": "execute_result"
    }
   ],
   "source": [
    "features[features.sum(axis=1) == 2]"
   ]
  },
  {
   "cell_type": "code",
   "execution_count": 65,
   "id": "2fada590",
   "metadata": {},
   "outputs": [
    {
     "data": {
      "text/html": [
       "<div>\n",
       "<style scoped>\n",
       "    .dataframe tbody tr th:only-of-type {\n",
       "        vertical-align: middle;\n",
       "    }\n",
       "\n",
       "    .dataframe tbody tr th {\n",
       "        vertical-align: top;\n",
       "    }\n",
       "\n",
       "    .dataframe thead th {\n",
       "        text-align: right;\n",
       "    }\n",
       "</style>\n",
       "<table border=\"1\" class=\"dataframe\">\n",
       "  <thead>\n",
       "    <tr style=\"text-align: right;\">\n",
       "      <th></th>\n",
       "      <th>recnr</th>\n",
       "      <th>firstname</th>\n",
       "      <th>lastname</th>\n",
       "      <th>petname</th>\n",
       "      <th>sex</th>\n",
       "      <th>nationalid</th>\n",
       "      <th>hdssid</th>\n",
       "      <th>hdsshhid</th>\n",
       "      <th>date</th>\n",
       "    </tr>\n",
       "  </thead>\n",
       "  <tbody>\n",
       "    <tr>\n",
       "      <th>0</th>\n",
       "      <td>1</td>\n",
       "      <td>zaina</td>\n",
       "      <td>hanifa</td>\n",
       "      <td>ula</td>\n",
       "      <td>2</td>\n",
       "      <td>NaN</td>\n",
       "      <td>20001</td>\n",
       "      <td>100001</td>\n",
       "      <td>19300922</td>\n",
       "    </tr>\n",
       "  </tbody>\n",
       "</table>\n",
       "</div>"
      ],
      "text/plain": [
       "   recnr firstname lastname petname  sex  nationalid hdssid hdsshhid      date\n",
       "0      1     zaina   hanifa     ula    2         NaN  20001   100001  19300922"
      ]
     },
     "execution_count": 65,
     "metadata": {},
     "output_type": "execute_result"
    }
   ],
   "source": [
    "hdss1[hdss1.index.isin([0])]"
   ]
  },
  {
   "cell_type": "code",
   "execution_count": 66,
   "id": "383ddeb1",
   "metadata": {},
   "outputs": [
    {
     "data": {
      "text/html": [
       "<div>\n",
       "<style scoped>\n",
       "    .dataframe tbody tr th:only-of-type {\n",
       "        vertical-align: middle;\n",
       "    }\n",
       "\n",
       "    .dataframe tbody tr th {\n",
       "        vertical-align: top;\n",
       "    }\n",
       "\n",
       "    .dataframe thead th {\n",
       "        text-align: right;\n",
       "    }\n",
       "</style>\n",
       "<table border=\"1\" class=\"dataframe\">\n",
       "  <thead>\n",
       "    <tr style=\"text-align: right;\">\n",
       "      <th></th>\n",
       "      <th>recnr</th>\n",
       "      <th>firstname</th>\n",
       "      <th>lastname</th>\n",
       "      <th>petname</th>\n",
       "      <th>sex</th>\n",
       "      <th>nationalid</th>\n",
       "      <th>patientid</th>\n",
       "      <th>visitdate</th>\n",
       "      <th>date</th>\n",
       "    </tr>\n",
       "  </thead>\n",
       "  <tbody>\n",
       "    <tr>\n",
       "      <th>427</th>\n",
       "      <td>429</td>\n",
       "      <td>zaina</td>\n",
       "      <td>kantono</td>\n",
       "      <td>canda</td>\n",
       "      <td>2</td>\n",
       "      <td>6248</td>\n",
       "      <td>2499</td>\n",
       "      <td>15092019</td>\n",
       "      <td>19870524</td>\n",
       "    </tr>\n",
       "    <tr>\n",
       "      <th>486</th>\n",
       "      <td>488</td>\n",
       "      <td>zaina</td>\n",
       "      <td>yawoleire</td>\n",
       "      <td>kisekka</td>\n",
       "      <td>2</td>\n",
       "      <td>6425</td>\n",
       "      <td>2558</td>\n",
       "      <td>12112020</td>\n",
       "      <td>19821031</td>\n",
       "    </tr>\n",
       "    <tr>\n",
       "      <th>550</th>\n",
       "      <td>552</td>\n",
       "      <td>zaina</td>\n",
       "      <td>sheira</td>\n",
       "      <td>NaN</td>\n",
       "      <td>2</td>\n",
       "      <td>6620</td>\n",
       "      <td>2622</td>\n",
       "      <td>21012022</td>\n",
       "      <td>19310228</td>\n",
       "    </tr>\n",
       "    <tr>\n",
       "      <th>637</th>\n",
       "      <td>639</td>\n",
       "      <td>zaina</td>\n",
       "      <td>wotaali</td>\n",
       "      <td>nabirye</td>\n",
       "      <td>2</td>\n",
       "      <td>6881</td>\n",
       "      <td>2709</td>\n",
       "      <td>20062023</td>\n",
       "      <td>20241015</td>\n",
       "    </tr>\n",
       "  </tbody>\n",
       "</table>\n",
       "</div>"
      ],
      "text/plain": [
       "     recnr firstname   lastname  petname  sex nationalid  patientid visitdate  \\\n",
       "427    429     zaina    kantono    canda    2       6248       2499  15092019   \n",
       "486    488     zaina  yawoleire  kisekka    2       6425       2558  12112020   \n",
       "550    552     zaina     sheira      NaN    2       6620       2622  21012022   \n",
       "637    639     zaina    wotaali  nabirye    2       6881       2709  20062023   \n",
       "\n",
       "         date  \n",
       "427  19870524  \n",
       "486  19821031  \n",
       "550  19310228  \n",
       "637  20241015  "
      ]
     },
     "execution_count": 66,
     "metadata": {},
     "output_type": "execute_result"
    }
   ],
   "source": [
    "facility1[facility1.index.isin([427,486,550,637])]"
   ]
  },
  {
   "cell_type": "code",
   "execution_count": 67,
   "id": "b124f5d9",
   "metadata": {},
   "outputs": [
    {
     "data": {
      "text/html": [
       "<div>\n",
       "<style scoped>\n",
       "    .dataframe tbody tr th:only-of-type {\n",
       "        vertical-align: middle;\n",
       "    }\n",
       "\n",
       "    .dataframe tbody tr th {\n",
       "        vertical-align: top;\n",
       "    }\n",
       "\n",
       "    .dataframe thead th {\n",
       "        text-align: right;\n",
       "    }\n",
       "</style>\n",
       "<table border=\"1\" class=\"dataframe\">\n",
       "  <thead>\n",
       "    <tr style=\"text-align: right;\">\n",
       "      <th></th>\n",
       "      <th>recnr</th>\n",
       "      <th>firstname</th>\n",
       "      <th>lastname</th>\n",
       "      <th>petname</th>\n",
       "      <th>sex</th>\n",
       "      <th>nationalid</th>\n",
       "      <th>patientid</th>\n",
       "      <th>visitdate</th>\n",
       "      <th>date</th>\n",
       "    </tr>\n",
       "  </thead>\n",
       "  <tbody>\n",
       "    <tr>\n",
       "      <th>2501</th>\n",
       "      <td>2503</td>\n",
       "      <td>zaina</td>\n",
       "      <td>hanifa</td>\n",
       "      <td>kasozi</td>\n",
       "      <td>2</td>\n",
       "      <td>12509</td>\n",
       "      <td>4571</td>\n",
       "      <td>27102019</td>\n",
       "      <td>19300909</td>\n",
       "    </tr>\n",
       "  </tbody>\n",
       "</table>\n",
       "</div>"
      ],
      "text/plain": [
       "      recnr firstname lastname petname  sex nationalid  patientid visitdate  \\\n",
       "2501   2503     zaina   hanifa  kasozi    2      12509       4571  27102019   \n",
       "\n",
       "          date  \n",
       "2501  19300909  "
      ]
     },
     "execution_count": 67,
     "metadata": {},
     "output_type": "execute_result"
    }
   ],
   "source": [
    "facility1[facility1.index.isin([2501])]"
   ]
  },
  {
   "cell_type": "code",
   "execution_count": 68,
   "id": "78497e0c",
   "metadata": {},
   "outputs": [
    {
     "name": "stdout",
     "output_type": "stream",
     "text": [
      "     recnr firstname   lastname petname  sex  nationalid hdssid hdsshhid  \\\n",
      "882    883     zaina  yawoleire     ela    2         NaN  20883   100883   \n",
      "\n",
      "         date  \n",
      "882  19821113  \n",
      "     recnr firstname   lastname  petname  sex nationalid  patientid visitdate  \\\n",
      "486    488     zaina  yawoleire  kisekka    2       6425       2558  12112020   \n",
      "\n",
      "         date  \n",
      "486  19821031  \n"
     ]
    }
   ],
   "source": [
    "print (hdss1[hdss1.index.isin([882])])\n",
    "print(facility1[facility1.index.isin([486])])"
   ]
  },
  {
   "cell_type": "code",
   "execution_count": 69,
   "id": "40fcfb58",
   "metadata": {},
   "outputs": [
    {
     "data": {
      "text/plain": [
       "2"
      ]
     },
     "execution_count": 69,
     "metadata": {},
     "output_type": "execute_result"
    }
   ],
   "source": [
    "features[\"dob\"].nunique()"
   ]
  },
  {
   "cell_type": "code",
   "execution_count": 70,
   "id": "f4930fd3",
   "metadata": {},
   "outputs": [
    {
     "data": {
      "text/plain": [
       "2"
      ]
     },
     "execution_count": 70,
     "metadata": {},
     "output_type": "execute_result"
    }
   ],
   "source": [
    "features[\"lastname\"].nunique()"
   ]
  },
  {
   "cell_type": "markdown",
   "id": "f2a9eacf",
   "metadata": {},
   "source": [
    "# classification"
   ]
  },
  {
   "cell_type": "code",
   "execution_count": 72,
   "id": "c7394f14",
   "metadata": {},
   "outputs": [
    {
     "data": {
      "text/plain": [
       "first_name      int64\n",
       "sex             int64\n",
       "dob             int64\n",
       "lastname      float64\n",
       "dtype: object"
      ]
     },
     "execution_count": 72,
     "metadata": {},
     "output_type": "execute_result"
    }
   ],
   "source": [
    "features.dtypes"
   ]
  },
  {
   "cell_type": "code",
   "execution_count": 73,
   "id": "7ed100a1",
   "metadata": {},
   "outputs": [],
   "source": [
    "features['lastname']=features['lastname'].astype(int)"
   ]
  },
  {
   "cell_type": "code",
   "execution_count": 80,
   "id": "55027271",
   "metadata": {},
   "outputs": [
    {
     "name": "stdout",
     "output_type": "stream",
     "text": [
      "['Non-Match', 'Non-Match', 'Non-Match', 'Non-Match', 'Non-Match', 'Non-Match', 'Non-Match', 'Non-Match', 'Non-Match', 'Non-Match', 'Non-Match', 'Non-Match', 'Non-Match', 'Non-Match', 'Non-Match', 'Non-Match', 'Non-Match', 'Match', 'Non-Match', 'Non-Match', 'Non-Match', 'Non-Match', 'Non-Match', 'Non-Match', 'Non-Match', 'Non-Match', 'Non-Match', 'Non-Match', 'Non-Match', 'Non-Match', 'Non-Match', 'Non-Match', 'Non-Match', 'Non-Match', 'Non-Match', 'Non-Match', 'Non-Match', 'Non-Match', 'Non-Match', 'Non-Match', 'Non-Match', 'Non-Match', 'Non-Match', 'Non-Match', 'Non-Match', 'Non-Match', 'Non-Match', 'Non-Match', 'Non-Match', 'Non-Match', 'Non-Match', 'Non-Match', 'Non-Match', 'Non-Match', 'Non-Match', 'Non-Match', 'Non-Match', 'Non-Match', 'Non-Match', 'Non-Match', 'Non-Match', 'Non-Match', 'Match', 'Non-Match', 'Non-Match', 'Non-Match', 'Non-Match', 'Non-Match', 'Non-Match', 'Non-Match', 'Non-Match', 'Non-Match', 'Non-Match', 'Non-Match', 'Non-Match', 'Non-Match', 'Non-Match', 'Non-Match', 'Non-Match', 'Non-Match', 'Non-Match', 'Non-Match', 'Non-Match', 'Non-Match', 'Non-Match', 'Non-Match', 'Non-Match', 'Non-Match', 'Non-Match', 'Non-Match', 'Non-Match', 'Non-Match', 'Non-Match', 'Non-Match', 'Non-Match', 'Non-Match', 'Non-Match', 'Non-Match', 'Non-Match', 'Non-Match', 'Non-Match', 'Non-Match', 'Non-Match', 'Non-Match', 'Non-Match', 'Non-Match', 'Match', 'Non-Match', 'Non-Match', 'Non-Match', 'Non-Match', 'Non-Match', 'Non-Match', 'Non-Match', 'Non-Match', 'Non-Match', 'Non-Match', 'Non-Match', 'Non-Match', 'Non-Match', 'Non-Match', 'Non-Match', 'Non-Match', 'Non-Match', 'Match', 'Non-Match', 'Non-Match', 'Non-Match', 'Non-Match', 'Non-Match', 'Non-Match', 'Non-Match', 'Non-Match', 'Non-Match', 'Non-Match', 'Non-Match', 'Non-Match', 'Non-Match', 'Non-Match', 'Non-Match', 'Match', 'Non-Match', 'Non-Match', 'Non-Match', 'Non-Match', 'Non-Match', 'Non-Match', 'Non-Match', 'Non-Match', 'Non-Match', 'Non-Match', 'Non-Match', 'Non-Match', 'Non-Match', 'Match', 'Non-Match', 'Non-Match', 'Non-Match', 'Non-Match', 'Non-Match', 'Non-Match', 'Non-Match', 'Non-Match', 'Non-Match', 'Non-Match', 'Non-Match', 'Non-Match', 'Match', 'Non-Match', 'Non-Match', 'Non-Match', 'Non-Match', 'Non-Match', 'Non-Match', 'Non-Match', 'Non-Match', 'Non-Match', 'Non-Match', 'Non-Match', 'Non-Match', 'Match', 'Non-Match', 'Non-Match', 'Non-Match', 'Non-Match', 'Non-Match', 'Non-Match', 'Non-Match', 'Non-Match', 'Non-Match', 'Non-Match', 'Non-Match', 'Non-Match', 'Non-Match', 'Non-Match', 'Non-Match', 'Non-Match', 'Non-Match', 'Non-Match', 'Non-Match', 'Non-Match', 'Non-Match', 'Non-Match', 'Non-Match', 'Non-Match', 'Non-Match', 'Non-Match', 'Non-Match', 'Non-Match', 'Non-Match', 'Non-Match', 'Non-Match', 'Non-Match', 'Match', 'Non-Match', 'Non-Match', 'Non-Match', 'Non-Match', 'Non-Match', 'Non-Match', 'Non-Match', 'Non-Match', 'Non-Match', 'Non-Match', 'Non-Match', 'Non-Match', 'Non-Match', 'Non-Match', 'Non-Match', 'Match', 'Non-Match', 'Non-Match', 'Non-Match', 'Non-Match', 'Non-Match', 'Non-Match', 'Non-Match', 'Non-Match', 'Non-Match', 'Non-Match', 'Non-Match', 'Non-Match', 'Non-Match', 'Non-Match', 'Non-Match', 'Non-Match', 'Non-Match', 'Non-Match', 'Non-Match', 'Non-Match', 'Non-Match', 'Non-Match', 'Non-Match', 'Non-Match', 'Non-Match', 'Non-Match', 'Non-Match', 'Non-Match', 'Non-Match', 'Non-Match', 'Non-Match', 'Non-Match', 'Non-Match', 'Non-Match', 'Non-Match', 'Non-Match', 'Non-Match', 'Non-Match', 'Non-Match', 'Non-Match', 'Non-Match', 'Non-Match', 'Non-Match', 'Non-Match', 'Non-Match', 'Non-Match', 'Non-Match', 'Non-Match', 'Non-Match', 'Match', 'Non-Match', 'Non-Match', 'Non-Match', 'Non-Match', 'Non-Match', 'Non-Match', 'Match', 'Non-Match', 'Non-Match', 'Non-Match', 'Non-Match', 'Non-Match', 'Non-Match', 'Non-Match', 'Non-Match', 'Non-Match', 'Non-Match', 'Non-Match', 'Non-Match', 'Non-Match', 'Non-Match', 'Match', 'Non-Match', 'Non-Match', 'Non-Match', 'Non-Match', 'Non-Match', 'Non-Match', 'Non-Match', 'Non-Match', 'Non-Match', 'Non-Match', 'Non-Match', 'Non-Match', 'Non-Match', 'Non-Match', 'Non-Match', 'Non-Match', 'Non-Match', 'Non-Match', 'Non-Match', 'Non-Match', 'Non-Match', 'Non-Match', 'Non-Match', 'Non-Match', 'Non-Match', 'Non-Match', 'Non-Match', 'Non-Match', 'Non-Match', 'Non-Match', 'Non-Match', 'Non-Match', 'Match', 'Non-Match', 'Non-Match', 'Match', 'Non-Match', 'Non-Match', 'Non-Match', 'Non-Match', 'Non-Match', 'Non-Match', 'Non-Match', 'Non-Match', 'Non-Match', 'Non-Match', 'Non-Match', 'Non-Match', 'Non-Match', 'Non-Match', 'Non-Match', 'Non-Match', 'Non-Match', 'Non-Match', 'Non-Match', 'Non-Match', 'Non-Match', 'Non-Match', 'Non-Match', 'Non-Match', 'Non-Match', 'Non-Match', 'Non-Match', 'Non-Match', 'Non-Match', 'Non-Match', 'Non-Match', 'Non-Match', 'Non-Match', 'Non-Match', 'Non-Match', 'Non-Match', 'Non-Match', 'Non-Match', 'Non-Match', 'Non-Match', 'Non-Match', 'Non-Match', 'Non-Match', 'Non-Match', 'Non-Match', 'Non-Match', 'Non-Match', 'Non-Match', 'Non-Match', 'Non-Match', 'Non-Match', 'Non-Match', 'Non-Match', 'Non-Match', 'Non-Match', 'Non-Match', 'Non-Match', 'Non-Match', 'Non-Match', 'Non-Match', 'Non-Match', 'Non-Match', 'Non-Match', 'Non-Match', 'Non-Match', 'Non-Match', 'Non-Match', 'Non-Match', 'Non-Match', 'Non-Match', 'Non-Match', 'Non-Match', 'Non-Match', 'Non-Match', 'Non-Match', 'Non-Match', 'Non-Match', 'Non-Match', 'Non-Match', 'Non-Match', 'Match', 'Non-Match', 'Non-Match', 'Non-Match', 'Non-Match', 'Non-Match', 'Non-Match', 'Non-Match', 'Non-Match', 'Non-Match', 'Non-Match', 'Match', 'Match', 'Non-Match', 'Non-Match', 'Non-Match', 'Non-Match', 'Non-Match', 'Non-Match', 'Non-Match', 'Non-Match', 'Non-Match', 'Non-Match', 'Non-Match', 'Non-Match', 'Non-Match', 'Non-Match', 'Non-Match', 'Non-Match', 'Non-Match', 'Non-Match', 'Non-Match', 'Non-Match', 'Non-Match', 'Non-Match', 'Non-Match', 'Non-Match', 'Non-Match', 'Non-Match', 'Non-Match', 'Non-Match', 'Match', 'Non-Match', 'Non-Match', 'Non-Match', 'Non-Match', 'Non-Match', 'Non-Match', 'Non-Match', 'Non-Match', 'Non-Match', 'Non-Match', 'Non-Match', 'Non-Match', 'Non-Match', 'Non-Match', 'Non-Match', 'Non-Match', 'Non-Match', 'Non-Match', 'Non-Match', 'Non-Match', 'Non-Match', 'Non-Match', 'Non-Match', 'Non-Match', 'Non-Match', 'Non-Match', 'Non-Match', 'Non-Match', 'Non-Match', 'Non-Match', 'Non-Match', 'Non-Match', 'Non-Match', 'Non-Match', 'Match', 'Non-Match', 'Non-Match', 'Non-Match', 'Non-Match', 'Non-Match', 'Non-Match', 'Non-Match', 'Non-Match', 'Non-Match', 'Non-Match', 'Non-Match', 'Non-Match', 'Non-Match', 'Non-Match', 'Non-Match', 'Non-Match', 'Non-Match', 'Non-Match', 'Non-Match', 'Non-Match', 'Non-Match', 'Non-Match', 'Non-Match', 'Non-Match', 'Non-Match', 'Non-Match', 'Non-Match', 'Non-Match', 'Non-Match', 'Non-Match', 'Non-Match', 'Non-Match', 'Non-Match', 'Non-Match', 'Non-Match', 'Non-Match', 'Non-Match', 'Non-Match', 'Non-Match', 'Non-Match', 'Non-Match', 'Non-Match', 'Non-Match', 'Non-Match', 'Non-Match', 'Non-Match', 'Non-Match', 'Non-Match', 'Non-Match', 'Non-Match', 'Non-Match', 'Non-Match', 'Non-Match', 'Non-Match', 'Non-Match', 'Non-Match', 'Non-Match', 'Non-Match', 'Non-Match', 'Non-Match', 'Non-Match', 'Non-Match', 'Non-Match', 'Non-Match', 'Non-Match', 'Non-Match', 'Non-Match', 'Non-Match', 'Non-Match', 'Non-Match', 'Non-Match', 'Non-Match', 'Non-Match', 'Non-Match', 'Non-Match', 'Non-Match', 'Non-Match', 'Non-Match', 'Non-Match', 'Non-Match', 'Non-Match', 'Non-Match', 'Non-Match', 'Non-Match', 'Non-Match', 'Non-Match', 'Non-Match', 'Non-Match', 'Non-Match', 'Non-Match', 'Non-Match', 'Non-Match', 'Non-Match', 'Non-Match', 'Non-Match', 'Non-Match', 'Non-Match', 'Non-Match', 'Non-Match', 'Non-Match', 'Non-Match', 'Non-Match', 'Non-Match', 'Non-Match', 'Non-Match', 'Non-Match', 'Non-Match', 'Non-Match', 'Non-Match', 'Non-Match', 'Non-Match', 'Non-Match', 'Non-Match', 'Non-Match', 'Non-Match', 'Non-Match', 'Non-Match', 'Non-Match', 'Non-Match', 'Non-Match', 'Non-Match', 'Non-Match', 'Non-Match', 'Non-Match', 'Non-Match', 'Non-Match', 'Non-Match', 'Non-Match', 'Non-Match', 'Non-Match', 'Non-Match', 'Non-Match', 'Non-Match', 'Non-Match', 'Non-Match', 'Non-Match', 'Non-Match', 'Non-Match', 'Match', 'Non-Match', 'Non-Match', 'Non-Match', 'Non-Match', 'Non-Match', 'Non-Match', 'Non-Match', 'Non-Match', 'Non-Match', 'Non-Match', 'Non-Match', 'Non-Match', 'Non-Match', 'Non-Match', 'Non-Match', 'Non-Match', 'Non-Match', 'Non-Match', 'Non-Match', 'Non-Match', 'Non-Match', 'Non-Match', 'Non-Match', 'Non-Match', 'Non-Match', 'Non-Match', 'Non-Match', 'Non-Match', 'Non-Match', 'Non-Match', 'Non-Match', 'Non-Match', 'Non-Match', 'Non-Match', 'Non-Match', 'Non-Match', 'Non-Match', 'Non-Match', 'Non-Match', 'Non-Match', 'Non-Match', 'Non-Match', 'Non-Match', 'Non-Match', 'Non-Match', 'Non-Match', 'Non-Match', 'Non-Match', 'Non-Match', 'Non-Match', 'Non-Match', 'Non-Match', 'Non-Match', 'Non-Match', 'Non-Match', 'Non-Match', 'Non-Match', 'Non-Match', 'Non-Match', 'Non-Match', 'Non-Match', 'Non-Match', 'Non-Match', 'Non-Match', 'Non-Match', 'Non-Match', 'Non-Match', 'Non-Match', 'Non-Match', 'Non-Match', 'Non-Match', 'Non-Match', 'Non-Match', 'Non-Match', 'Non-Match', 'Non-Match', 'Non-Match', 'Non-Match', 'Non-Match', 'Non-Match', 'Non-Match', 'Non-Match', 'Non-Match', 'Non-Match', 'Non-Match', 'Non-Match', 'Non-Match', 'Non-Match', 'Non-Match', 'Non-Match', 'Non-Match', 'Non-Match', 'Non-Match', 'Non-Match', 'Non-Match', 'Non-Match', 'Non-Match', 'Non-Match', 'Non-Match', 'Non-Match', 'Non-Match', 'Non-Match', 'Non-Match', 'Non-Match', 'Non-Match', 'Non-Match', 'Non-Match', 'Non-Match', 'Non-Match', 'Non-Match', 'Non-Match', 'Non-Match', 'Non-Match', 'Non-Match', 'Non-Match', 'Non-Match', 'Non-Match', 'Non-Match', 'Non-Match', 'Non-Match', 'Non-Match', 'Non-Match', 'Non-Match', 'Non-Match', 'Non-Match', 'Non-Match', 'Non-Match', 'Non-Match', 'Non-Match', 'Non-Match', 'Non-Match', 'Non-Match', 'Non-Match', 'Non-Match', 'Non-Match', 'Non-Match', 'Non-Match', 'Non-Match', 'Non-Match', 'Non-Match', 'Non-Match', 'Non-Match', 'Non-Match', 'Non-Match', 'Non-Match', 'Non-Match', 'Non-Match', 'Non-Match', 'Non-Match', 'Non-Match', 'Non-Match', 'Non-Match', 'Non-Match', 'Non-Match', 'Non-Match', 'Non-Match', 'Non-Match', 'Non-Match', 'Non-Match', 'Non-Match', 'Non-Match', 'Non-Match', 'Non-Match', 'Non-Match', 'Non-Match', 'Non-Match', 'Non-Match', 'Non-Match', 'Non-Match', 'Non-Match', 'Non-Match', 'Non-Match', 'Non-Match', 'Non-Match', 'Non-Match', 'Non-Match', 'Non-Match', 'Non-Match', 'Non-Match', 'Non-Match', 'Non-Match', 'Non-Match', 'Non-Match', 'Non-Match', 'Non-Match', 'Non-Match', 'Non-Match', 'Non-Match', 'Non-Match', 'Non-Match', 'Non-Match', 'Non-Match', 'Non-Match', 'Non-Match', 'Non-Match', 'Non-Match', 'Non-Match', 'Non-Match', 'Non-Match', 'Non-Match', 'Non-Match', 'Non-Match', 'Non-Match', 'Non-Match', 'Non-Match', 'Non-Match', 'Non-Match', 'Non-Match', 'Non-Match', 'Non-Match', 'Non-Match', 'Non-Match', 'Non-Match', 'Non-Match', 'Non-Match', 'Non-Match', 'Non-Match', 'Non-Match', 'Non-Match', 'Non-Match', 'Non-Match', 'Non-Match', 'Non-Match', 'Non-Match', 'Non-Match', 'Non-Match', 'Non-Match', 'Non-Match', 'Non-Match', 'Non-Match', 'Non-Match', 'Non-Match', 'Non-Match', 'Non-Match', 'Non-Match', 'Non-Match', 'Non-Match', 'Non-Match', 'Non-Match', 'Non-Match', 'Non-Match', 'Non-Match', 'Non-Match', 'Non-Match', 'Non-Match', 'Non-Match', 'Non-Match', 'Non-Match', 'Non-Match', 'Non-Match', 'Non-Match', 'Non-Match', 'Non-Match', 'Non-Match', 'Non-Match', 'Non-Match', 'Non-Match', 'Non-Match', 'Non-Match', 'Non-Match', 'Non-Match', 'Non-Match', 'Non-Match', 'Non-Match', 'Non-Match', 'Non-Match', 'Non-Match', 'Non-Match', 'Non-Match', 'Non-Match', 'Non-Match', 'Non-Match', 'Non-Match', 'Non-Match', 'Non-Match', 'Non-Match', 'Non-Match', 'Non-Match', 'Non-Match', 'Non-Match', 'Non-Match', 'Non-Match', 'Non-Match', 'Non-Match', 'Non-Match', 'Non-Match', 'Non-Match', 'Non-Match', 'Non-Match', 'Non-Match', 'Non-Match', 'Non-Match', 'Non-Match', 'Non-Match', 'Non-Match', 'Non-Match', 'Non-Match', 'Non-Match', 'Non-Match', 'Non-Match', 'Non-Match', 'Non-Match', 'Non-Match', 'Non-Match', 'Non-Match', 'Non-Match', 'Non-Match', 'Non-Match', 'Non-Match', 'Non-Match', 'Non-Match', 'Non-Match', 'Non-Match', 'Non-Match', 'Non-Match', 'Non-Match', 'Non-Match', 'Non-Match', 'Non-Match', 'Non-Match', 'Non-Match', 'Non-Match', 'Non-Match', 'Non-Match', 'Non-Match', 'Non-Match', 'Non-Match', 'Non-Match', 'Non-Match', 'Non-Match', 'Non-Match', 'Non-Match', 'Non-Match', 'Non-Match', 'Non-Match', 'Non-Match', 'Non-Match', 'Non-Match', 'Non-Match', 'Non-Match', 'Non-Match', 'Non-Match', 'Non-Match', 'Non-Match', 'Non-Match', 'Non-Match', 'Non-Match', 'Non-Match', 'Non-Match', 'Non-Match', 'Non-Match', 'Non-Match', 'Non-Match', 'Non-Match', 'Non-Match', 'Non-Match', 'Non-Match', 'Non-Match', 'Non-Match', 'Non-Match', 'Non-Match', 'Non-Match', 'Non-Match', 'Non-Match', 'Non-Match', 'Non-Match', 'Non-Match', 'Non-Match', 'Non-Match', 'Non-Match', 'Non-Match', 'Non-Match', 'Non-Match', 'Non-Match', 'Non-Match', 'Non-Match', 'Non-Match', 'Non-Match', 'Non-Match', 'Non-Match', 'Non-Match', 'Non-Match', 'Non-Match', 'Non-Match', 'Non-Match', 'Non-Match', 'Non-Match', 'Non-Match', 'Non-Match', 'Non-Match', 'Non-Match', 'Non-Match', 'Non-Match', 'Non-Match', 'Non-Match', 'Non-Match', 'Non-Match', 'Non-Match', 'Non-Match', 'Non-Match', 'Non-Match', 'Non-Match', 'Non-Match', 'Non-Match', 'Match', 'Non-Match', 'Non-Match', 'Non-Match', 'Non-Match', 'Non-Match', 'Non-Match', 'Non-Match', 'Non-Match', 'Non-Match', 'Non-Match', 'Non-Match', 'Non-Match', 'Non-Match', 'Non-Match', 'Non-Match', 'Non-Match', 'Non-Match', 'Non-Match', 'Non-Match', 'Non-Match', 'Non-Match', 'Non-Match', 'Non-Match', 'Non-Match', 'Non-Match', 'Non-Match', 'Non-Match', 'Non-Match', 'Non-Match', 'Non-Match', 'Non-Match', 'Non-Match', 'Non-Match', 'Non-Match', 'Non-Match', 'Non-Match', 'Non-Match', 'Non-Match', 'Non-Match', 'Non-Match', 'Non-Match', 'Non-Match', 'Non-Match', 'Non-Match', 'Non-Match', 'Non-Match', 'Non-Match', 'Non-Match', 'Non-Match', 'Non-Match', 'Non-Match', 'Non-Match', 'Non-Match', 'Non-Match', 'Non-Match', 'Non-Match', 'Non-Match', 'Non-Match', 'Non-Match', 'Non-Match', 'Non-Match', 'Non-Match', 'Non-Match', 'Non-Match', 'Non-Match', 'Non-Match', 'Non-Match', 'Non-Match', 'Non-Match', 'Non-Match', 'Non-Match', 'Non-Match', 'Non-Match', 'Non-Match', 'Non-Match', 'Non-Match', 'Non-Match', 'Non-Match', 'Non-Match', 'Non-Match', 'Non-Match', 'Non-Match', 'Non-Match', 'Non-Match', 'Non-Match', 'Non-Match', 'Non-Match', 'Non-Match', 'Non-Match', 'Non-Match', 'Non-Match', 'Non-Match', 'Non-Match', 'Non-Match', 'Non-Match', 'Non-Match', 'Non-Match', 'Non-Match', 'Non-Match', 'Non-Match', 'Non-Match', 'Non-Match', 'Non-Match', 'Non-Match', 'Match', 'Non-Match', 'Non-Match', 'Non-Match', 'Non-Match', 'Non-Match', 'Non-Match', 'Non-Match', 'Non-Match', 'Non-Match', 'Non-Match', 'Non-Match', 'Non-Match', 'Non-Match', 'Non-Match', 'Non-Match', 'Non-Match', 'Non-Match', 'Non-Match', 'Non-Match', 'Non-Match', 'Non-Match', 'Non-Match', 'Non-Match', 'Non-Match', 'Non-Match', 'Non-Match', 'Non-Match', 'Non-Match', 'Non-Match', 'Non-Match', 'Non-Match', 'Non-Match', 'Non-Match', 'Non-Match', 'Non-Match', 'Non-Match', 'Non-Match', 'Non-Match', 'Non-Match', 'Non-Match', 'Non-Match', 'Non-Match', 'Non-Match', 'Non-Match', 'Non-Match', 'Non-Match', 'Non-Match', 'Non-Match', 'Non-Match', 'Non-Match', 'Non-Match', 'Non-Match', 'Non-Match', 'Non-Match', 'Non-Match', 'Non-Match', 'Non-Match', 'Non-Match', 'Non-Match', 'Non-Match', 'Non-Match', 'Non-Match', 'Non-Match', 'Non-Match', 'Non-Match', 'Non-Match', 'Non-Match', 'Non-Match', 'Non-Match', 'Non-Match', 'Non-Match', 'Non-Match', 'Non-Match', 'Non-Match', 'Match', 'Non-Match', 'Non-Match', 'Non-Match', 'Non-Match', 'Non-Match', 'Non-Match', 'Non-Match', 'Non-Match', 'Non-Match', 'Non-Match', 'Non-Match', 'Non-Match', 'Non-Match', 'Non-Match', 'Non-Match', 'Non-Match', 'Non-Match', 'Non-Match', 'Non-Match', 'Non-Match', 'Non-Match', 'Non-Match', 'Non-Match', 'Non-Match', 'Non-Match', 'Non-Match', 'Non-Match', 'Non-Match', 'Non-Match', 'Non-Match', 'Non-Match', 'Non-Match', 'Non-Match', 'Non-Match', 'Non-Match', 'Non-Match', 'Non-Match', 'Non-Match', 'Non-Match', 'Non-Match', 'Non-Match', 'Non-Match', 'Non-Match', 'Non-Match', 'Non-Match', 'Non-Match', 'Non-Match', 'Non-Match', 'Non-Match', 'Non-Match', 'Non-Match', 'Non-Match', 'Non-Match', 'Non-Match', 'Non-Match', 'Non-Match', 'Non-Match', 'Non-Match', 'Non-Match', 'Non-Match', 'Non-Match', 'Non-Match', 'Non-Match', 'Non-Match', 'Non-Match', 'Non-Match', 'Non-Match', 'Non-Match', 'Non-Match', 'Non-Match', 'Non-Match', 'Non-Match', 'Non-Match', 'Non-Match', 'Non-Match', 'Match', 'Non-Match', 'Non-Match', 'Non-Match', 'Non-Match', 'Non-Match', 'Non-Match', 'Non-Match', 'Non-Match', 'Non-Match', 'Non-Match', 'Non-Match', 'Non-Match', 'Non-Match', 'Non-Match', 'Non-Match', 'Non-Match', 'Non-Match', 'Non-Match', 'Non-Match', 'Non-Match', 'Non-Match', 'Non-Match', 'Non-Match', 'Non-Match', 'Non-Match', 'Non-Match', 'Non-Match', 'Non-Match', 'Non-Match', 'Non-Match', 'Non-Match', 'Non-Match', 'Non-Match', 'Non-Match', 'Non-Match', 'Non-Match', 'Non-Match', 'Non-Match', 'Non-Match', 'Non-Match', 'Non-Match', 'Non-Match', 'Non-Match', 'Non-Match', 'Non-Match', 'Non-Match', 'Non-Match', 'Non-Match', 'Non-Match', 'Non-Match', 'Non-Match', 'Non-Match', 'Non-Match', 'Non-Match', 'Non-Match', 'Non-Match', 'Non-Match', 'Non-Match', 'Non-Match', 'Non-Match', 'Non-Match', 'Non-Match', 'Non-Match', 'Non-Match', 'Non-Match', 'Non-Match', 'Non-Match', 'Non-Match', 'Non-Match', 'Non-Match', 'Non-Match', 'Non-Match', 'Non-Match', 'Non-Match', 'Non-Match', 'Non-Match', 'Non-Match', 'Non-Match', 'Non-Match', 'Non-Match', 'Non-Match', 'Non-Match', 'Non-Match', 'Non-Match', 'Non-Match', 'Non-Match', 'Non-Match', 'Non-Match', 'Non-Match', 'Non-Match', 'Non-Match', 'Non-Match', 'Non-Match', 'Non-Match', 'Non-Match', 'Non-Match', 'Non-Match', 'Non-Match', 'Non-Match', 'Non-Match', 'Non-Match', 'Non-Match', 'Non-Match', 'Non-Match', 'Non-Match', 'Non-Match', 'Non-Match', 'Match', 'Non-Match', 'Non-Match', 'Non-Match', 'Non-Match', 'Non-Match', 'Non-Match', 'Non-Match', 'Non-Match', 'Non-Match', 'Non-Match', 'Non-Match', 'Non-Match', 'Non-Match', 'Non-Match', 'Non-Match', 'Non-Match', 'Non-Match', 'Non-Match', 'Non-Match', 'Non-Match', 'Non-Match', 'Non-Match', 'Non-Match', 'Non-Match', 'Non-Match', 'Non-Match', 'Non-Match', 'Non-Match', 'Non-Match', 'Non-Match', 'Non-Match', 'Non-Match', 'Non-Match', 'Non-Match', 'Non-Match', 'Non-Match', 'Non-Match', 'Non-Match', 'Non-Match', 'Non-Match', 'Non-Match', 'Non-Match', 'Non-Match', 'Non-Match', 'Non-Match', 'Non-Match', 'Non-Match', 'Non-Match', 'Non-Match', 'Non-Match', 'Non-Match', 'Non-Match', 'Non-Match', 'Non-Match', 'Non-Match', 'Non-Match', 'Non-Match', 'Non-Match', 'Non-Match', 'Non-Match', 'Non-Match', 'Non-Match', 'Non-Match', 'Non-Match', 'Non-Match', 'Non-Match', 'Non-Match', 'Non-Match', 'Non-Match', 'Non-Match', 'Non-Match', 'Non-Match', 'Non-Match', 'Non-Match', 'Non-Match', 'Non-Match', 'Non-Match', 'Non-Match', 'Non-Match', 'Non-Match', 'Non-Match', 'Non-Match', 'Non-Match', 'Non-Match', 'Non-Match', 'Non-Match', 'Non-Match', 'Non-Match', 'Non-Match', 'Non-Match', 'Non-Match', 'Non-Match', 'Non-Match', 'Non-Match', 'Non-Match', 'Non-Match', 'Non-Match', 'Non-Match', 'Non-Match', 'Non-Match', 'Non-Match', 'Non-Match', 'Non-Match', 'Non-Match', 'Non-Match', 'Non-Match', 'Non-Match', 'Non-Match', 'Non-Match', 'Non-Match', 'Non-Match', 'Non-Match', 'Non-Match', 'Non-Match', 'Non-Match', 'Non-Match', 'Non-Match', 'Non-Match', 'Non-Match', 'Non-Match', 'Non-Match', 'Non-Match', 'Non-Match', 'Non-Match', 'Non-Match', 'Non-Match', 'Non-Match', 'Non-Match', 'Non-Match', 'Non-Match', 'Non-Match', 'Non-Match', 'Non-Match', 'Non-Match', 'Non-Match', 'Match', 'Non-Match', 'Non-Match', 'Non-Match', 'Non-Match', 'Non-Match', 'Non-Match', 'Non-Match', 'Non-Match', 'Non-Match', 'Non-Match', 'Non-Match', 'Non-Match', 'Non-Match', 'Non-Match', 'Non-Match', 'Non-Match', 'Non-Match', 'Non-Match', 'Non-Match', 'Non-Match', 'Non-Match', 'Non-Match', 'Non-Match', 'Non-Match', 'Non-Match', 'Non-Match', 'Non-Match', 'Non-Match', 'Non-Match', 'Non-Match', 'Non-Match', 'Non-Match', 'Non-Match', 'Non-Match', 'Non-Match', 'Non-Match', 'Non-Match', 'Non-Match', 'Non-Match', 'Non-Match', 'Non-Match', 'Non-Match', 'Non-Match', 'Non-Match', 'Non-Match', 'Non-Match', 'Non-Match', 'Non-Match', 'Non-Match', 'Non-Match', 'Non-Match', 'Non-Match', 'Non-Match', 'Non-Match', 'Non-Match', 'Non-Match', 'Non-Match', 'Non-Match', 'Non-Match', 'Non-Match', 'Non-Match', 'Non-Match', 'Non-Match', 'Non-Match', 'Non-Match', 'Non-Match', 'Non-Match', 'Non-Match', 'Non-Match', 'Non-Match', 'Non-Match', 'Non-Match', 'Non-Match', 'Non-Match', 'Non-Match', 'Non-Match', 'Non-Match', 'Non-Match', 'Non-Match', 'Non-Match', 'Non-Match', 'Non-Match', 'Non-Match', 'Non-Match', 'Non-Match', 'Non-Match', 'Non-Match', 'Non-Match', 'Non-Match', 'Non-Match', 'Non-Match', 'Non-Match', 'Non-Match', 'Non-Match', 'Non-Match', 'Non-Match', 'Non-Match', 'Non-Match', 'Non-Match', 'Non-Match', 'Non-Match', 'Non-Match', 'Non-Match', 'Non-Match', 'Non-Match', 'Non-Match', 'Non-Match', 'Non-Match', 'Non-Match', 'Non-Match', 'Non-Match', 'Non-Match', 'Non-Match', 'Non-Match', 'Non-Match', 'Non-Match', 'Non-Match', 'Non-Match', 'Non-Match', 'Non-Match', 'Non-Match', 'Non-Match', 'Non-Match', 'Non-Match', 'Non-Match', 'Non-Match', 'Non-Match', 'Non-Match', 'Non-Match', 'Non-Match', 'Non-Match', 'Non-Match', 'Non-Match', 'Non-Match', 'Non-Match', 'Non-Match', 'Non-Match', 'Non-Match', 'Non-Match', 'Non-Match', 'Non-Match', 'Non-Match', 'Non-Match', 'Non-Match', 'Non-Match', 'Non-Match', 'Non-Match', 'Non-Match', 'Non-Match', 'Non-Match', 'Non-Match', 'Non-Match', 'Non-Match', 'Non-Match', 'Non-Match', 'Non-Match', 'Non-Match', 'Non-Match', 'Non-Match', 'Non-Match', 'Non-Match', 'Non-Match', 'Non-Match', 'Non-Match', 'Non-Match', 'Non-Match', 'Non-Match', 'Non-Match', 'Non-Match', 'Non-Match', 'Non-Match', 'Non-Match', 'Non-Match', 'Non-Match', 'Non-Match', 'Non-Match', 'Non-Match', 'Non-Match', 'Non-Match', 'Non-Match', 'Non-Match', 'Non-Match', 'Non-Match', 'Non-Match', 'Non-Match', 'Non-Match', 'Non-Match', 'Non-Match', 'Non-Match', 'Non-Match', 'Non-Match', 'Non-Match', 'Non-Match', 'Non-Match', 'Non-Match', 'Non-Match', 'Non-Match', 'Non-Match', 'Non-Match', 'Non-Match', 'Non-Match', 'Non-Match', 'Non-Match', 'Non-Match', 'Non-Match', 'Non-Match', 'Non-Match', 'Non-Match', 'Non-Match', 'Non-Match', 'Non-Match', 'Non-Match', 'Non-Match', 'Non-Match', 'Non-Match', 'Non-Match', 'Non-Match', 'Non-Match', 'Non-Match', 'Non-Match', 'Non-Match', 'Match', 'Non-Match', 'Non-Match', 'Non-Match', 'Non-Match', 'Non-Match', 'Non-Match', 'Non-Match', 'Non-Match', 'Non-Match', 'Non-Match', 'Non-Match', 'Non-Match', 'Non-Match', 'Non-Match', 'Non-Match', 'Non-Match', 'Non-Match', 'Non-Match', 'Non-Match', 'Non-Match', 'Non-Match', 'Non-Match', 'Non-Match', 'Non-Match', 'Non-Match', 'Non-Match', 'Non-Match', 'Non-Match', 'Non-Match', 'Non-Match', 'Non-Match', 'Non-Match', 'Non-Match', 'Non-Match', 'Non-Match', 'Non-Match', 'Non-Match', 'Non-Match', 'Non-Match', 'Non-Match', 'Non-Match', 'Non-Match', 'Non-Match', 'Non-Match', 'Non-Match', 'Non-Match', 'Non-Match', 'Non-Match', 'Non-Match', 'Non-Match', 'Non-Match', 'Non-Match', 'Non-Match', 'Non-Match', 'Non-Match', 'Non-Match', 'Non-Match', 'Non-Match', 'Non-Match', 'Non-Match', 'Non-Match', 'Non-Match', 'Non-Match', 'Non-Match', 'Non-Match', 'Non-Match', 'Non-Match', 'Non-Match', 'Non-Match', 'Non-Match', 'Non-Match', 'Non-Match', 'Non-Match', 'Non-Match', 'Non-Match', 'Non-Match', 'Non-Match', 'Non-Match', 'Non-Match', 'Non-Match', 'Non-Match', 'Non-Match', 'Non-Match', 'Non-Match', 'Non-Match', 'Non-Match', 'Non-Match', 'Non-Match', 'Non-Match', 'Non-Match', 'Non-Match', 'Non-Match', 'Non-Match', 'Non-Match', 'Non-Match', 'Non-Match', 'Non-Match', 'Non-Match', 'Non-Match', 'Non-Match', 'Non-Match', 'Non-Match', 'Non-Match', 'Non-Match', 'Non-Match', 'Non-Match', 'Non-Match', 'Non-Match', 'Non-Match', 'Non-Match', 'Non-Match', 'Non-Match', 'Non-Match', 'Non-Match', 'Non-Match', 'Non-Match', 'Non-Match', 'Non-Match', 'Non-Match', 'Non-Match', 'Non-Match', 'Non-Match', 'Non-Match', 'Non-Match', 'Non-Match', 'Non-Match', 'Non-Match', 'Non-Match', 'Non-Match', 'Non-Match', 'Non-Match', 'Non-Match', 'Non-Match', 'Non-Match', 'Non-Match', 'Non-Match', 'Non-Match', 'Non-Match', 'Non-Match', 'Non-Match', 'Non-Match', 'Non-Match', 'Non-Match', 'Non-Match', 'Non-Match', 'Non-Match', 'Non-Match', 'Non-Match', 'Non-Match', 'Non-Match', 'Non-Match', 'Non-Match', 'Non-Match', 'Non-Match', 'Non-Match', 'Non-Match', 'Non-Match', 'Non-Match', 'Non-Match', 'Non-Match', 'Non-Match', 'Non-Match', 'Non-Match', 'Non-Match', 'Non-Match', 'Non-Match', 'Non-Match', 'Non-Match', 'Non-Match', 'Non-Match', 'Non-Match', 'Non-Match', 'Non-Match', 'Non-Match', 'Non-Match', 'Non-Match', 'Non-Match', 'Non-Match', 'Non-Match', 'Non-Match', 'Non-Match', 'Match', 'Non-Match', 'Non-Match', 'Non-Match', 'Non-Match', 'Non-Match', 'Non-Match', 'Non-Match', 'Non-Match', 'Non-Match', 'Non-Match', 'Non-Match', 'Non-Match', 'Non-Match', 'Non-Match', 'Non-Match', 'Non-Match', 'Non-Match', 'Non-Match', 'Non-Match', 'Non-Match', 'Non-Match', 'Non-Match', 'Non-Match', 'Non-Match', 'Non-Match', 'Non-Match', 'Non-Match', 'Non-Match', 'Non-Match', 'Non-Match', 'Non-Match', 'Non-Match', 'Non-Match', 'Non-Match', 'Non-Match', 'Non-Match', 'Non-Match', 'Non-Match', 'Non-Match', 'Non-Match', 'Non-Match', 'Non-Match', 'Non-Match', 'Match', 'Non-Match', 'Non-Match', 'Non-Match', 'Non-Match', 'Non-Match', 'Non-Match', 'Non-Match', 'Non-Match', 'Non-Match', 'Non-Match', 'Non-Match', 'Non-Match', 'Non-Match', 'Non-Match', 'Non-Match', 'Non-Match', 'Non-Match', 'Non-Match', 'Non-Match', 'Non-Match', 'Non-Match', 'Non-Match', 'Non-Match', 'Non-Match', 'Non-Match', 'Non-Match', 'Non-Match', 'Non-Match', 'Non-Match', 'Non-Match', 'Non-Match', 'Non-Match', 'Non-Match', 'Non-Match', 'Non-Match', 'Non-Match', 'Non-Match', 'Non-Match', 'Non-Match', 'Non-Match', 'Non-Match', 'Non-Match', 'Non-Match', 'Non-Match', 'Non-Match', 'Non-Match', 'Non-Match', 'Non-Match', 'Non-Match', 'Non-Match', 'Non-Match', 'Non-Match', 'Non-Match', 'Non-Match', 'Non-Match', 'Non-Match', 'Non-Match', 'Non-Match', 'Non-Match', 'Non-Match', 'Non-Match', 'Non-Match', 'Non-Match', 'Non-Match', 'Non-Match', 'Non-Match', 'Non-Match', 'Non-Match', 'Non-Match', 'Non-Match', 'Non-Match', 'Non-Match', 'Non-Match', 'Non-Match', 'Non-Match', 'Non-Match', 'Match', 'Non-Match', 'Non-Match', 'Non-Match', 'Non-Match', 'Non-Match', 'Non-Match', 'Non-Match', 'Non-Match', 'Non-Match', 'Non-Match', 'Non-Match', 'Non-Match', 'Non-Match', 'Non-Match', 'Non-Match', 'Non-Match', 'Non-Match', 'Non-Match', 'Non-Match', 'Non-Match', 'Non-Match', 'Non-Match', 'Non-Match', 'Non-Match', 'Non-Match', 'Non-Match', 'Non-Match', 'Non-Match', 'Non-Match', 'Non-Match', 'Non-Match', 'Non-Match', 'Non-Match', 'Non-Match', 'Non-Match', 'Non-Match', 'Non-Match', 'Non-Match', 'Non-Match', 'Non-Match', 'Non-Match', 'Non-Match', 'Non-Match', 'Non-Match', 'Non-Match', 'Non-Match', 'Non-Match', 'Non-Match', 'Non-Match', 'Non-Match', 'Non-Match', 'Non-Match', 'Non-Match', 'Non-Match', 'Non-Match', 'Non-Match', 'Non-Match', 'Non-Match', 'Non-Match', 'Non-Match', 'Non-Match', 'Non-Match', 'Non-Match', 'Non-Match', 'Non-Match', 'Non-Match', 'Non-Match', 'Non-Match', 'Non-Match', 'Non-Match', 'Non-Match', 'Non-Match', 'Non-Match', 'Non-Match', 'Non-Match', 'Non-Match', 'Non-Match', 'Non-Match', 'Non-Match', 'Non-Match', 'Non-Match', 'Non-Match', 'Non-Match', 'Non-Match', 'Non-Match', 'Non-Match', 'Non-Match', 'Non-Match', 'Non-Match', 'Non-Match', 'Non-Match', 'Non-Match', 'Non-Match', 'Non-Match', 'Non-Match', 'Non-Match', 'Non-Match', 'Non-Match', 'Non-Match', 'Non-Match', 'Non-Match', 'Non-Match', 'Match', 'Non-Match', 'Non-Match', 'Non-Match', 'Non-Match', 'Non-Match', 'Non-Match', 'Non-Match', 'Non-Match', 'Non-Match', 'Non-Match', 'Non-Match', 'Non-Match', 'Non-Match', 'Non-Match', 'Non-Match', 'Non-Match', 'Non-Match', 'Non-Match', 'Non-Match', 'Non-Match', 'Non-Match', 'Non-Match', 'Non-Match', 'Non-Match', 'Non-Match', 'Non-Match', 'Non-Match', 'Non-Match', 'Non-Match', 'Non-Match', 'Non-Match', 'Non-Match', 'Non-Match', 'Non-Match', 'Non-Match', 'Non-Match', 'Non-Match', 'Non-Match', 'Non-Match', 'Non-Match', 'Non-Match', 'Non-Match', 'Non-Match', 'Non-Match', 'Non-Match', 'Non-Match', 'Non-Match', 'Non-Match', 'Non-Match', 'Non-Match', 'Non-Match', 'Non-Match', 'Non-Match', 'Non-Match', 'Non-Match', 'Non-Match', 'Non-Match', 'Non-Match', 'Non-Match', 'Non-Match', 'Non-Match', 'Non-Match', 'Non-Match', 'Non-Match', 'Non-Match', 'Non-Match', 'Non-Match', 'Non-Match', 'Non-Match', 'Non-Match', 'Non-Match', 'Non-Match', 'Non-Match', 'Non-Match', 'Non-Match', 'Non-Match', 'Non-Match', 'Non-Match', 'Non-Match', 'Non-Match', 'Non-Match', 'Non-Match', 'Non-Match', 'Non-Match', 'Non-Match', 'Non-Match', 'Non-Match', 'Non-Match', 'Non-Match', 'Non-Match', 'Non-Match', 'Non-Match', 'Non-Match', 'Non-Match', 'Non-Match', 'Non-Match', 'Non-Match', 'Non-Match', 'Non-Match', 'Non-Match', 'Non-Match', 'Non-Match', 'Non-Match', 'Non-Match', 'Non-Match', 'Non-Match', 'Non-Match', 'Non-Match', 'Non-Match', 'Non-Match', 'Non-Match', 'Non-Match', 'Non-Match', 'Non-Match', 'Non-Match', 'Non-Match', 'Non-Match', 'Non-Match', 'Non-Match', 'Non-Match', 'Non-Match', 'Non-Match', 'Non-Match', 'Non-Match', 'Non-Match', 'Non-Match', 'Non-Match', 'Non-Match', 'Non-Match', 'Non-Match', 'Non-Match', 'Non-Match', 'Non-Match', 'Non-Match', 'Non-Match', 'Non-Match', 'Non-Match', 'Non-Match', 'Non-Match', 'Non-Match', 'Non-Match', 'Match', 'Non-Match', 'Non-Match', 'Non-Match', 'Non-Match', 'Non-Match', 'Non-Match', 'Non-Match', 'Non-Match', 'Non-Match', 'Non-Match', 'Non-Match', 'Non-Match', 'Non-Match', 'Non-Match', 'Non-Match', 'Non-Match', 'Non-Match', 'Non-Match', 'Non-Match', 'Non-Match', 'Non-Match', 'Non-Match', 'Non-Match', 'Non-Match', 'Non-Match', 'Non-Match', 'Non-Match', 'Non-Match', 'Non-Match', 'Non-Match', 'Non-Match', 'Non-Match', 'Non-Match', 'Non-Match', 'Non-Match', 'Non-Match', 'Non-Match', 'Non-Match', 'Non-Match', 'Non-Match', 'Non-Match', 'Non-Match', 'Non-Match', 'Non-Match', 'Non-Match', 'Non-Match', 'Non-Match', 'Non-Match', 'Non-Match', 'Non-Match', 'Non-Match', 'Non-Match', 'Non-Match', 'Non-Match', 'Non-Match', 'Non-Match', 'Non-Match', 'Non-Match', 'Non-Match', 'Non-Match', 'Non-Match', 'Non-Match', 'Non-Match', 'Non-Match', 'Non-Match', 'Non-Match', 'Non-Match', 'Non-Match', 'Non-Match', 'Non-Match', 'Non-Match', 'Non-Match', 'Non-Match', 'Non-Match', 'Non-Match', 'Non-Match', 'Non-Match', 'Non-Match', 'Non-Match', 'Non-Match', 'Non-Match', 'Non-Match', 'Non-Match', 'Non-Match', 'Non-Match', 'Non-Match', 'Non-Match', 'Non-Match', 'Non-Match', 'Non-Match', 'Non-Match', 'Non-Match', 'Non-Match', 'Non-Match', 'Non-Match', 'Non-Match', 'Non-Match', 'Non-Match', 'Non-Match', 'Non-Match', 'Non-Match', 'Non-Match', 'Non-Match', 'Non-Match', 'Non-Match', 'Non-Match', 'Non-Match', 'Non-Match', 'Non-Match', 'Non-Match', 'Non-Match', 'Non-Match', 'Non-Match', 'Non-Match', 'Non-Match', 'Non-Match', 'Non-Match', 'Non-Match', 'Non-Match', 'Non-Match', 'Non-Match', 'Non-Match', 'Non-Match', 'Non-Match', 'Non-Match', 'Non-Match', 'Non-Match', 'Non-Match', 'Non-Match', 'Non-Match', 'Non-Match', 'Non-Match', 'Non-Match', 'Non-Match', 'Non-Match', 'Non-Match', 'Non-Match', 'Non-Match', 'Non-Match', 'Non-Match', 'Non-Match', 'Non-Match', 'Non-Match', 'Non-Match', 'Non-Match', 'Non-Match', 'Non-Match', 'Non-Match', 'Non-Match', 'Non-Match', 'Non-Match', 'Non-Match', 'Non-Match', 'Non-Match', 'Non-Match', 'Non-Match', 'Non-Match', 'Non-Match', 'Non-Match', 'Non-Match', 'Non-Match', 'Non-Match', 'Non-Match', 'Non-Match', 'Non-Match', 'Non-Match', 'Non-Match', 'Non-Match', 'Non-Match', 'Non-Match', 'Non-Match', 'Non-Match', 'Non-Match', 'Non-Match', 'Non-Match', 'Non-Match', 'Non-Match', 'Non-Match', 'Non-Match', 'Non-Match', 'Non-Match', 'Non-Match', 'Non-Match', 'Non-Match', 'Non-Match', 'Non-Match', 'Non-Match', 'Non-Match', 'Non-Match', 'Non-Match', 'Non-Match', 'Non-Match', 'Non-Match', 'Non-Match', 'Non-Match', 'Non-Match', 'Non-Match', 'Non-Match', 'Non-Match', 'Non-Match', 'Non-Match', 'Non-Match', 'Non-Match', 'Non-Match', 'Non-Match', 'Non-Match', 'Non-Match', 'Non-Match', 'Non-Match', 'Non-Match', 'Non-Match', 'Non-Match', 'Non-Match', 'Non-Match', 'Non-Match', 'Non-Match', 'Non-Match', 'Non-Match', 'Non-Match', 'Non-Match', 'Non-Match', 'Non-Match', 'Non-Match', 'Non-Match', 'Non-Match', 'Non-Match', 'Non-Match', 'Non-Match', 'Non-Match', 'Non-Match', 'Non-Match', 'Non-Match', 'Non-Match', 'Non-Match', 'Non-Match', 'Non-Match', 'Non-Match', 'Non-Match', 'Non-Match', 'Match', 'Non-Match', 'Non-Match', 'Non-Match', 'Non-Match', 'Non-Match', 'Non-Match', 'Non-Match', 'Non-Match', 'Non-Match', 'Non-Match', 'Non-Match', 'Non-Match', 'Non-Match', 'Non-Match', 'Non-Match', 'Non-Match', 'Non-Match', 'Non-Match', 'Non-Match', 'Non-Match', 'Non-Match', 'Non-Match', 'Non-Match', 'Non-Match', 'Non-Match', 'Non-Match', 'Non-Match', 'Non-Match', 'Non-Match', 'Non-Match', 'Non-Match', 'Non-Match', 'Non-Match', 'Non-Match', 'Non-Match', 'Match', 'Non-Match', 'Non-Match', 'Non-Match', 'Non-Match', 'Non-Match', 'Non-Match', 'Non-Match', 'Non-Match', 'Non-Match', 'Non-Match', 'Non-Match', 'Non-Match', 'Non-Match', 'Non-Match', 'Non-Match', 'Non-Match', 'Non-Match', 'Non-Match', 'Non-Match', 'Non-Match', 'Non-Match', 'Non-Match', 'Non-Match', 'Non-Match', 'Non-Match', 'Non-Match', 'Non-Match', 'Non-Match', 'Non-Match', 'Non-Match', 'Non-Match', 'Non-Match', 'Non-Match', 'Non-Match', 'Non-Match', 'Non-Match', 'Non-Match', 'Non-Match', 'Non-Match', 'Non-Match', 'Non-Match', 'Non-Match', 'Non-Match', 'Non-Match', 'Non-Match', 'Non-Match', 'Non-Match', 'Non-Match', 'Non-Match', 'Non-Match', 'Non-Match', 'Non-Match', 'Non-Match', 'Non-Match', 'Non-Match', 'Non-Match', 'Non-Match', 'Non-Match', 'Non-Match', 'Non-Match', 'Non-Match', 'Non-Match', 'Non-Match', 'Non-Match', 'Non-Match', 'Non-Match', 'Non-Match', 'Non-Match', 'Non-Match', 'Non-Match', 'Non-Match', 'Non-Match', 'Non-Match', 'Non-Match', 'Non-Match', 'Non-Match', 'Non-Match', 'Non-Match', 'Non-Match', 'Non-Match', 'Non-Match', 'Non-Match', 'Non-Match', 'Non-Match', 'Non-Match', 'Non-Match', 'Non-Match', 'Non-Match', 'Non-Match', 'Non-Match', 'Non-Match', 'Non-Match', 'Non-Match', 'Non-Match', 'Non-Match', 'Non-Match', 'Non-Match', 'Non-Match', 'Non-Match', 'Non-Match', 'Non-Match', 'Non-Match', 'Non-Match', 'Non-Match', 'Non-Match', 'Non-Match', 'Non-Match', 'Non-Match', 'Non-Match', 'Match', 'Non-Match', 'Non-Match', 'Non-Match', 'Non-Match', 'Non-Match', 'Non-Match', 'Non-Match', 'Non-Match', 'Non-Match', 'Non-Match', 'Non-Match', 'Non-Match', 'Non-Match', 'Non-Match', 'Non-Match', 'Non-Match', 'Non-Match', 'Non-Match', 'Non-Match', 'Non-Match', 'Non-Match', 'Non-Match', 'Non-Match', 'Non-Match', 'Non-Match', 'Non-Match', 'Non-Match', 'Non-Match', 'Non-Match', 'Non-Match', 'Non-Match', 'Non-Match', 'Non-Match', 'Non-Match', 'Non-Match', 'Non-Match', 'Non-Match', 'Non-Match', 'Non-Match', 'Non-Match', 'Non-Match', 'Non-Match', 'Non-Match', 'Non-Match', 'Non-Match', 'Non-Match', 'Non-Match', 'Non-Match', 'Non-Match', 'Non-Match', 'Non-Match', 'Non-Match', 'Non-Match', 'Non-Match', 'Non-Match', 'Non-Match', 'Non-Match', 'Non-Match', 'Non-Match', 'Non-Match', 'Non-Match', 'Non-Match', 'Non-Match', 'Match', 'Non-Match', 'Non-Match', 'Non-Match', 'Non-Match', 'Non-Match', 'Non-Match', 'Non-Match', 'Non-Match', 'Non-Match', 'Non-Match', 'Non-Match', 'Non-Match', 'Non-Match', 'Non-Match', 'Non-Match', 'Non-Match', 'Non-Match', 'Non-Match', 'Non-Match', 'Non-Match', 'Non-Match', 'Non-Match', 'Non-Match', 'Non-Match', 'Non-Match', 'Non-Match', 'Non-Match', 'Non-Match', 'Non-Match', 'Non-Match', 'Non-Match', 'Non-Match', 'Non-Match', 'Non-Match', 'Non-Match', 'Non-Match', 'Non-Match', 'Non-Match', 'Non-Match', 'Non-Match', 'Non-Match', 'Non-Match', 'Non-Match', 'Non-Match', 'Non-Match', 'Non-Match', 'Non-Match', 'Non-Match', 'Non-Match', 'Non-Match', 'Non-Match', 'Non-Match', 'Non-Match', 'Non-Match', 'Non-Match', 'Non-Match', 'Non-Match', 'Non-Match', 'Non-Match', 'Non-Match', 'Non-Match', 'Non-Match', 'Non-Match', 'Non-Match', 'Non-Match', 'Non-Match', 'Non-Match', 'Non-Match', 'Non-Match', 'Non-Match', 'Non-Match', 'Non-Match', 'Non-Match', 'Non-Match', 'Non-Match', 'Non-Match', 'Non-Match', 'Non-Match', 'Non-Match', 'Non-Match', 'Non-Match', 'Non-Match', 'Non-Match', 'Non-Match', 'Non-Match', 'Non-Match', 'Non-Match', 'Non-Match', 'Non-Match', 'Non-Match', 'Non-Match', 'Non-Match', 'Non-Match', 'Non-Match', 'Non-Match', 'Non-Match', 'Non-Match', 'Non-Match', 'Non-Match', 'Non-Match', 'Non-Match', 'Non-Match', 'Non-Match', 'Non-Match', 'Non-Match', 'Non-Match', 'Non-Match', 'Non-Match', 'Non-Match', 'Non-Match', 'Non-Match', 'Non-Match', 'Non-Match', 'Non-Match', 'Non-Match', 'Non-Match', 'Non-Match', 'Non-Match', 'Non-Match', 'Non-Match', 'Non-Match', 'Non-Match', 'Non-Match', 'Non-Match', 'Non-Match', 'Non-Match', 'Non-Match', 'Non-Match', 'Non-Match', 'Non-Match', 'Non-Match', 'Non-Match', 'Non-Match', 'Non-Match', 'Non-Match', 'Non-Match', 'Non-Match', 'Non-Match', 'Non-Match', 'Non-Match', 'Non-Match', 'Non-Match', 'Non-Match', 'Non-Match', 'Non-Match', 'Non-Match', 'Non-Match', 'Non-Match', 'Non-Match', 'Non-Match', 'Non-Match', 'Non-Match', 'Non-Match', 'Non-Match', 'Non-Match', 'Non-Match', 'Non-Match', 'Non-Match', 'Non-Match', 'Non-Match', 'Non-Match', 'Non-Match', 'Non-Match', 'Non-Match', 'Non-Match', 'Non-Match', 'Non-Match', 'Non-Match', 'Non-Match', 'Non-Match', 'Non-Match', 'Non-Match', 'Non-Match', 'Non-Match', 'Non-Match', 'Non-Match', 'Non-Match', 'Non-Match', 'Non-Match', 'Non-Match', 'Non-Match', 'Non-Match', 'Non-Match', 'Non-Match', 'Non-Match', 'Non-Match', 'Non-Match', 'Non-Match', 'Non-Match', 'Non-Match', 'Non-Match', 'Non-Match', 'Non-Match', 'Non-Match', 'Non-Match', 'Non-Match', 'Non-Match', 'Non-Match', 'Non-Match', 'Match', 'Non-Match', 'Non-Match', 'Non-Match', 'Non-Match', 'Non-Match', 'Non-Match', 'Non-Match', 'Non-Match', 'Non-Match', 'Non-Match', 'Non-Match', 'Non-Match', 'Non-Match', 'Non-Match', 'Non-Match', 'Non-Match', 'Non-Match', 'Non-Match', 'Non-Match', 'Non-Match', 'Non-Match', 'Non-Match', 'Non-Match', 'Non-Match', 'Non-Match', 'Non-Match', 'Non-Match', 'Non-Match', 'Non-Match', 'Non-Match', 'Non-Match', 'Non-Match', 'Non-Match', 'Non-Match', 'Non-Match', 'Non-Match', 'Non-Match', 'Non-Match', 'Non-Match', 'Non-Match', 'Non-Match', 'Non-Match', 'Non-Match', 'Non-Match', 'Non-Match', 'Non-Match', 'Non-Match', 'Non-Match', 'Non-Match', 'Non-Match', 'Non-Match', 'Non-Match', 'Non-Match', 'Non-Match', 'Non-Match', 'Non-Match', 'Non-Match', 'Non-Match', 'Non-Match', 'Non-Match', 'Non-Match', 'Non-Match', 'Non-Match', 'Non-Match', 'Non-Match', 'Non-Match', 'Non-Match', 'Non-Match', 'Non-Match', 'Non-Match', 'Non-Match', 'Non-Match', 'Non-Match', 'Non-Match', 'Non-Match', 'Non-Match', 'Non-Match', 'Non-Match', 'Non-Match', 'Non-Match', 'Non-Match', 'Non-Match', 'Non-Match', 'Non-Match', 'Non-Match', 'Non-Match', 'Non-Match', 'Non-Match', 'Non-Match', 'Non-Match', 'Non-Match', 'Non-Match', 'Non-Match', 'Non-Match', 'Non-Match', 'Non-Match', 'Non-Match', 'Non-Match', 'Non-Match', 'Non-Match', 'Non-Match', 'Non-Match', 'Non-Match', 'Non-Match', 'Non-Match', 'Non-Match', 'Non-Match', 'Non-Match', 'Non-Match', 'Non-Match', 'Non-Match', 'Non-Match', 'Non-Match', 'Non-Match', 'Non-Match', 'Non-Match', 'Non-Match', 'Non-Match', 'Non-Match', 'Match', 'Non-Match', 'Non-Match', 'Non-Match', 'Non-Match', 'Non-Match', 'Non-Match', 'Non-Match', 'Non-Match', 'Non-Match', 'Non-Match', 'Non-Match', 'Non-Match', 'Non-Match', 'Non-Match', 'Non-Match', 'Non-Match', 'Non-Match', 'Non-Match', 'Non-Match', 'Non-Match', 'Non-Match', 'Non-Match', 'Non-Match', 'Non-Match', 'Non-Match', 'Non-Match', 'Non-Match', 'Non-Match', 'Non-Match', 'Non-Match', 'Non-Match', 'Non-Match', 'Non-Match', 'Match', 'Non-Match', 'Non-Match', 'Non-Match', 'Non-Match', 'Non-Match', 'Non-Match', 'Non-Match', 'Non-Match', 'Non-Match', 'Non-Match', 'Non-Match', 'Non-Match', 'Non-Match', 'Non-Match', 'Non-Match', 'Non-Match', 'Match', 'Non-Match', 'Non-Match', 'Non-Match', 'Non-Match', 'Non-Match', 'Non-Match', 'Non-Match', 'Non-Match', 'Non-Match', 'Non-Match', 'Non-Match', 'Non-Match', 'Non-Match', 'Non-Match', 'Non-Match', 'Non-Match', 'Non-Match', 'Non-Match', 'Non-Match', 'Non-Match', 'Non-Match', 'Non-Match', 'Non-Match', 'Non-Match', 'Non-Match', 'Non-Match', 'Non-Match', 'Non-Match', 'Non-Match', 'Non-Match', 'Non-Match', 'Non-Match', 'Non-Match', 'Non-Match', 'Non-Match', 'Non-Match', 'Non-Match', 'Non-Match', 'Non-Match', 'Non-Match', 'Non-Match', 'Non-Match', 'Non-Match', 'Non-Match', 'Non-Match', 'Non-Match', 'Non-Match', 'Non-Match', 'Non-Match', 'Non-Match', 'Non-Match', 'Non-Match', 'Non-Match', 'Non-Match', 'Non-Match', 'Non-Match', 'Non-Match', 'Non-Match', 'Non-Match', 'Non-Match', 'Non-Match', 'Non-Match', 'Non-Match', 'Non-Match', 'Non-Match', 'Non-Match', 'Non-Match', 'Non-Match', 'Non-Match', 'Non-Match', 'Non-Match', 'Non-Match', 'Non-Match', 'Non-Match', 'Non-Match', 'Non-Match', 'Non-Match', 'Non-Match', 'Non-Match', 'Non-Match', 'Non-Match', 'Non-Match', 'Non-Match', 'Non-Match', 'Non-Match', 'Non-Match', 'Non-Match', 'Non-Match', 'Non-Match', 'Non-Match', 'Non-Match', 'Non-Match', 'Non-Match', 'Non-Match', 'Non-Match', 'Non-Match', 'Non-Match', 'Non-Match', 'Non-Match', 'Non-Match', 'Non-Match', 'Non-Match', 'Non-Match', 'Non-Match', 'Non-Match', 'Non-Match', 'Non-Match', 'Non-Match', 'Non-Match', 'Non-Match', 'Non-Match', 'Non-Match', 'Non-Match', 'Non-Match', 'Non-Match', 'Non-Match', 'Non-Match', 'Non-Match', 'Non-Match', 'Non-Match', 'Non-Match', 'Non-Match', 'Non-Match', 'Non-Match', 'Non-Match', 'Non-Match', 'Non-Match', 'Non-Match', 'Non-Match', 'Non-Match', 'Non-Match', 'Non-Match', 'Non-Match', 'Non-Match', 'Non-Match', 'Non-Match', 'Non-Match', 'Non-Match', 'Non-Match', 'Non-Match', 'Non-Match', 'Non-Match', 'Non-Match', 'Non-Match', 'Match', 'Non-Match', 'Non-Match', 'Non-Match', 'Non-Match', 'Non-Match', 'Non-Match', 'Non-Match', 'Non-Match', 'Non-Match', 'Non-Match', 'Non-Match', 'Non-Match', 'Non-Match', 'Non-Match', 'Non-Match', 'Non-Match', 'Non-Match', 'Non-Match', 'Non-Match', 'Non-Match', 'Non-Match', 'Non-Match', 'Non-Match', 'Non-Match', 'Non-Match', 'Non-Match', 'Non-Match', 'Non-Match', 'Non-Match', 'Non-Match', 'Non-Match', 'Non-Match', 'Non-Match', 'Non-Match', 'Non-Match', 'Non-Match', 'Non-Match', 'Non-Match', 'Non-Match', 'Non-Match', 'Non-Match', 'Non-Match', 'Non-Match', 'Non-Match', 'Non-Match', 'Non-Match', 'Non-Match', 'Non-Match', 'Non-Match', 'Non-Match', 'Non-Match', 'Non-Match', 'Non-Match', 'Non-Match', 'Non-Match', 'Non-Match', 'Non-Match', 'Non-Match', 'Non-Match', 'Non-Match', 'Non-Match', 'Non-Match', 'Non-Match', 'Non-Match', 'Non-Match', 'Non-Match', 'Non-Match', 'Non-Match', 'Non-Match', 'Non-Match', 'Non-Match', 'Non-Match', 'Non-Match', 'Non-Match', 'Non-Match', 'Non-Match', 'Non-Match', 'Non-Match', 'Non-Match', 'Non-Match', 'Non-Match', 'Non-Match', 'Non-Match', 'Non-Match', 'Non-Match', 'Non-Match', 'Non-Match', 'Non-Match', 'Non-Match', 'Non-Match', 'Non-Match', 'Non-Match', 'Non-Match', 'Non-Match', 'Non-Match', 'Non-Match', 'Non-Match', 'Non-Match', 'Non-Match', 'Non-Match', 'Non-Match', 'Non-Match', 'Non-Match', 'Non-Match', 'Non-Match', 'Non-Match', 'Non-Match', 'Non-Match', 'Non-Match', 'Non-Match', 'Non-Match', 'Non-Match', 'Non-Match', 'Non-Match', 'Non-Match', 'Non-Match', 'Non-Match', 'Non-Match', 'Non-Match', 'Non-Match', 'Non-Match', 'Non-Match', 'Non-Match', 'Non-Match', 'Non-Match', 'Non-Match', 'Non-Match', 'Non-Match', 'Non-Match', 'Non-Match', 'Non-Match', 'Non-Match', 'Non-Match', 'Non-Match', 'Non-Match', 'Non-Match', 'Non-Match', 'Non-Match', 'Non-Match', 'Non-Match', 'Non-Match', 'Non-Match', 'Non-Match', 'Non-Match', 'Non-Match', 'Non-Match', 'Non-Match', 'Non-Match', 'Non-Match', 'Non-Match', 'Non-Match', 'Non-Match', 'Non-Match', 'Non-Match', 'Non-Match', 'Non-Match', 'Non-Match', 'Non-Match', 'Non-Match', 'Non-Match', 'Non-Match', 'Non-Match', 'Non-Match', 'Non-Match', 'Non-Match', 'Non-Match', 'Non-Match', 'Non-Match', 'Non-Match', 'Non-Match', 'Non-Match', 'Non-Match', 'Non-Match', 'Non-Match', 'Non-Match', 'Non-Match', 'Non-Match', 'Non-Match', 'Non-Match', 'Non-Match', 'Non-Match', 'Non-Match', 'Non-Match', 'Non-Match', 'Non-Match', 'Non-Match', 'Non-Match', 'Non-Match', 'Non-Match', 'Non-Match', 'Non-Match', 'Non-Match', 'Non-Match', 'Non-Match', 'Non-Match', 'Non-Match', 'Non-Match', 'Non-Match', 'Non-Match', 'Non-Match', 'Non-Match', 'Non-Match', 'Non-Match', 'Non-Match', 'Non-Match', 'Non-Match', 'Non-Match', 'Non-Match', 'Non-Match', 'Non-Match', 'Non-Match', 'Non-Match', 'Non-Match', 'Non-Match', 'Non-Match', 'Non-Match', 'Non-Match', 'Non-Match', 'Non-Match', 'Non-Match', 'Non-Match', 'Non-Match', 'Non-Match', 'Non-Match', 'Non-Match', 'Non-Match', 'Non-Match', 'Non-Match', 'Non-Match', 'Non-Match', 'Non-Match', 'Non-Match', 'Non-Match', 'Non-Match', 'Non-Match', 'Non-Match', 'Non-Match', 'Non-Match', 'Non-Match', 'Non-Match', 'Non-Match', 'Non-Match', 'Non-Match', 'Non-Match', 'Non-Match', 'Non-Match', 'Non-Match', 'Non-Match', 'Non-Match', 'Non-Match', 'Non-Match', 'Non-Match', 'Non-Match', 'Non-Match', 'Non-Match', 'Non-Match', 'Non-Match', 'Non-Match', 'Non-Match', 'Non-Match', 'Non-Match', 'Non-Match', 'Non-Match', 'Non-Match', 'Non-Match', 'Non-Match', 'Non-Match', 'Non-Match', 'Non-Match', 'Non-Match', 'Non-Match', 'Non-Match', 'Non-Match', 'Non-Match', 'Non-Match', 'Non-Match', 'Non-Match', 'Non-Match', 'Non-Match', 'Non-Match', 'Non-Match', 'Non-Match', 'Non-Match', 'Non-Match', 'Non-Match', 'Non-Match', 'Non-Match', 'Non-Match', 'Non-Match', 'Non-Match', 'Non-Match', 'Non-Match', 'Non-Match', 'Non-Match', 'Non-Match', 'Non-Match', 'Non-Match', 'Non-Match', 'Non-Match', 'Non-Match', 'Non-Match', 'Non-Match', 'Non-Match', 'Non-Match', 'Non-Match', 'Non-Match', 'Non-Match', 'Non-Match', 'Non-Match', 'Non-Match', 'Non-Match', 'Non-Match', 'Non-Match', 'Non-Match', 'Non-Match', 'Non-Match', 'Non-Match', 'Non-Match', 'Non-Match', 'Non-Match', 'Non-Match', 'Non-Match', 'Non-Match', 'Non-Match', 'Non-Match', 'Non-Match', 'Non-Match', 'Non-Match', 'Non-Match', 'Non-Match', 'Non-Match', 'Non-Match', 'Non-Match', 'Non-Match', 'Non-Match', 'Non-Match', 'Non-Match', 'Non-Match', 'Non-Match', 'Non-Match', 'Non-Match', 'Non-Match', 'Non-Match', 'Non-Match', 'Non-Match', 'Non-Match', 'Non-Match', 'Non-Match', 'Non-Match', 'Non-Match', 'Non-Match', 'Non-Match', 'Non-Match', 'Non-Match', 'Non-Match', 'Non-Match', 'Non-Match', 'Non-Match', 'Non-Match', 'Non-Match', 'Non-Match', 'Non-Match', 'Non-Match', 'Non-Match', 'Non-Match', 'Non-Match', 'Non-Match', 'Non-Match', 'Non-Match', 'Non-Match', 'Non-Match', 'Non-Match', 'Non-Match', 'Non-Match', 'Non-Match', 'Non-Match', 'Non-Match', 'Non-Match', 'Non-Match', 'Non-Match', 'Non-Match', 'Non-Match', 'Non-Match', 'Non-Match', 'Non-Match', 'Non-Match', 'Non-Match', 'Non-Match', 'Non-Match', 'Non-Match', 'Non-Match', 'Non-Match', 'Non-Match', 'Non-Match', 'Non-Match', 'Non-Match', 'Non-Match', 'Non-Match', 'Non-Match', 'Non-Match', 'Non-Match', 'Non-Match', 'Non-Match', 'Non-Match', 'Non-Match', 'Non-Match', 'Non-Match', 'Non-Match', 'Non-Match', 'Non-Match', 'Non-Match', 'Non-Match', 'Non-Match', 'Non-Match', 'Non-Match', 'Non-Match', 'Non-Match', 'Non-Match', 'Non-Match', 'Non-Match', 'Non-Match', 'Match', 'Non-Match', 'Non-Match', 'Non-Match', 'Non-Match', 'Non-Match', 'Non-Match', 'Non-Match', 'Non-Match', 'Non-Match', 'Non-Match', 'Non-Match', 'Non-Match', 'Non-Match', 'Non-Match', 'Non-Match', 'Non-Match', 'Non-Match', 'Non-Match', 'Match', 'Non-Match', 'Non-Match', 'Non-Match', 'Non-Match', 'Non-Match', 'Non-Match', 'Non-Match', 'Non-Match', 'Non-Match', 'Non-Match', 'Match', 'Non-Match', 'Non-Match', 'Non-Match', 'Non-Match', 'Non-Match', 'Non-Match', 'Non-Match', 'Non-Match', 'Non-Match', 'Non-Match', 'Non-Match', 'Non-Match', 'Non-Match', 'Non-Match', 'Non-Match', 'Non-Match', 'Non-Match', 'Non-Match', 'Non-Match', 'Non-Match', 'Non-Match', 'Non-Match', 'Non-Match', 'Non-Match', 'Non-Match', 'Non-Match', 'Non-Match', 'Non-Match', 'Non-Match', 'Non-Match', 'Non-Match', 'Non-Match', 'Non-Match', 'Non-Match', 'Non-Match', 'Non-Match', 'Non-Match', 'Non-Match', 'Non-Match', 'Non-Match', 'Non-Match', 'Non-Match', 'Non-Match', 'Non-Match', 'Non-Match', 'Non-Match', 'Non-Match', 'Non-Match', 'Non-Match', 'Non-Match', 'Non-Match', 'Non-Match', 'Non-Match', 'Non-Match', 'Non-Match', 'Non-Match', 'Non-Match', 'Match', 'Non-Match', 'Non-Match', 'Non-Match', 'Non-Match', 'Non-Match', 'Non-Match', 'Non-Match', 'Non-Match', 'Non-Match', 'Non-Match', 'Non-Match', 'Non-Match', 'Non-Match', 'Match', 'Non-Match', 'Non-Match', 'Non-Match', 'Non-Match', 'Non-Match', 'Non-Match', 'Non-Match', 'Non-Match', 'Non-Match', 'Non-Match', 'Non-Match', 'Non-Match', 'Non-Match', 'Non-Match', 'Non-Match', 'Non-Match', 'Non-Match', 'Non-Match', 'Non-Match', 'Non-Match', 'Non-Match', 'Non-Match', 'Non-Match', 'Non-Match', 'Non-Match', 'Non-Match', 'Non-Match', 'Non-Match', 'Non-Match', 'Non-Match', 'Non-Match', 'Non-Match', 'Non-Match', 'Non-Match', 'Non-Match', 'Non-Match', 'Non-Match', 'Non-Match', 'Non-Match', 'Non-Match', 'Non-Match', 'Non-Match', 'Non-Match', 'Non-Match', 'Non-Match', 'Non-Match', 'Non-Match', 'Match', 'Non-Match', 'Non-Match', 'Non-Match', 'Non-Match', 'Non-Match', 'Non-Match', 'Non-Match', 'Non-Match', 'Non-Match', 'Non-Match', 'Match', 'Non-Match', 'Non-Match', 'Non-Match', 'Non-Match', 'Non-Match', 'Non-Match', 'Non-Match', 'Non-Match', 'Non-Match', 'Non-Match', 'Non-Match', 'Non-Match', 'Non-Match', 'Non-Match', 'Non-Match', 'Non-Match', 'Non-Match', 'Non-Match', 'Non-Match', 'Non-Match', 'Non-Match', 'Non-Match', 'Non-Match', 'Non-Match', 'Non-Match', 'Non-Match', 'Non-Match', 'Non-Match', 'Non-Match', 'Non-Match', 'Non-Match', 'Non-Match', 'Match', 'Non-Match', 'Non-Match', 'Non-Match', 'Non-Match', 'Non-Match', 'Non-Match', 'Non-Match', 'Non-Match', 'Non-Match', 'Non-Match', 'Non-Match', 'Non-Match', 'Non-Match', 'Non-Match', 'Match', 'Non-Match', 'Non-Match', 'Non-Match', 'Non-Match', 'Non-Match', 'Non-Match', 'Non-Match', 'Non-Match', 'Non-Match', 'Non-Match', 'Non-Match', 'Non-Match', 'Non-Match', 'Non-Match', 'Non-Match', 'Non-Match', 'Non-Match', 'Non-Match', 'Non-Match', 'Non-Match', 'Non-Match', 'Non-Match', 'Non-Match', 'Non-Match', 'Non-Match', 'Non-Match', 'Non-Match', 'Non-Match', 'Non-Match', 'Non-Match', 'Non-Match', 'Non-Match', 'Non-Match', 'Non-Match', 'Non-Match', 'Non-Match', 'Non-Match', 'Non-Match', 'Non-Match', 'Non-Match', 'Non-Match', 'Non-Match', 'Non-Match', 'Non-Match', 'Non-Match', 'Non-Match', 'Match', 'Non-Match', 'Non-Match', 'Non-Match', 'Non-Match', 'Non-Match', 'Non-Match', 'Non-Match', 'Non-Match', 'Non-Match', 'Non-Match', 'Non-Match', 'Non-Match', 'Non-Match', 'Non-Match', 'Non-Match', 'Non-Match', 'Non-Match', 'Non-Match', 'Non-Match', 'Non-Match', 'Match', 'Non-Match', 'Non-Match', 'Non-Match', 'Non-Match', 'Non-Match', 'Non-Match', 'Non-Match', 'Non-Match', 'Non-Match', 'Non-Match', 'Non-Match', 'Non-Match', 'Non-Match', 'Non-Match', 'Non-Match', 'Non-Match', 'Non-Match', 'Non-Match', 'Non-Match', 'Non-Match', 'Non-Match', 'Non-Match', 'Non-Match', 'Non-Match', 'Non-Match', 'Non-Match', 'Non-Match', 'Non-Match', 'Non-Match', 'Non-Match', 'Non-Match', 'Non-Match', 'Non-Match', 'Non-Match', 'Non-Match', 'Non-Match', 'Match', 'Non-Match', 'Non-Match', 'Non-Match', 'Non-Match', 'Non-Match', 'Non-Match', 'Non-Match', 'Non-Match', 'Non-Match', 'Non-Match', 'Non-Match', 'Non-Match', 'Non-Match', 'Non-Match', 'Non-Match', 'Non-Match', 'Non-Match', 'Non-Match', 'Non-Match', 'Non-Match', 'Non-Match', 'Non-Match', 'Non-Match', 'Non-Match', 'Match', 'Non-Match', 'Non-Match', 'Non-Match', 'Non-Match', 'Non-Match', 'Non-Match', 'Non-Match', 'Non-Match', 'Non-Match', 'Non-Match', 'Non-Match', 'Non-Match', 'Non-Match', 'Non-Match', 'Non-Match', 'Non-Match', 'Non-Match', 'Non-Match', 'Non-Match', 'Non-Match', 'Non-Match', 'Non-Match', 'Non-Match', 'Non-Match', 'Non-Match', 'Non-Match', 'Non-Match', 'Non-Match', 'Non-Match', 'Non-Match', 'Non-Match', 'Non-Match', 'Non-Match', 'Non-Match', 'Non-Match', 'Non-Match', 'Non-Match', 'Non-Match', 'Non-Match', 'Non-Match', 'Non-Match', 'Non-Match', 'Non-Match', 'Non-Match', 'Non-Match', 'Non-Match', 'Non-Match', 'Non-Match', 'Non-Match', 'Non-Match', 'Non-Match', 'Non-Match', 'Non-Match', 'Non-Match', 'Non-Match', 'Non-Match', 'Non-Match', 'Non-Match', 'Non-Match', 'Match', 'Non-Match', 'Non-Match', 'Non-Match', 'Non-Match', 'Non-Match', 'Non-Match', 'Non-Match', 'Non-Match', 'Non-Match', 'Non-Match', 'Non-Match', 'Non-Match', 'Non-Match', 'Non-Match', 'Non-Match', 'Non-Match', 'Non-Match', 'Non-Match', 'Non-Match', 'Non-Match', 'Non-Match', 'Non-Match', 'Non-Match', 'Non-Match', 'Non-Match', 'Non-Match', 'Non-Match', 'Non-Match', 'Non-Match', 'Non-Match', 'Non-Match', 'Non-Match', 'Non-Match', 'Non-Match', 'Non-Match', 'Non-Match', 'Non-Match', 'Non-Match', 'Non-Match', 'Non-Match', 'Non-Match', 'Non-Match', 'Non-Match', 'Non-Match', 'Non-Match', 'Non-Match', 'Non-Match', 'Non-Match', 'Non-Match', 'Non-Match', 'Non-Match', 'Non-Match', 'Non-Match', 'Non-Match', 'Non-Match', 'Non-Match', 'Non-Match', 'Non-Match', 'Non-Match', 'Non-Match', 'Non-Match', 'Non-Match', 'Non-Match', 'Non-Match', 'Non-Match', 'Non-Match', 'Non-Match', 'Non-Match', 'Non-Match', 'Non-Match', 'Non-Match', 'Non-Match', 'Non-Match', 'Non-Match', 'Non-Match', 'Non-Match', 'Non-Match', 'Non-Match', 'Non-Match', 'Non-Match', 'Non-Match', 'Non-Match', 'Non-Match', 'Non-Match', 'Non-Match', 'Non-Match', 'Non-Match', 'Non-Match', 'Non-Match', 'Non-Match', 'Non-Match', 'Non-Match', 'Non-Match', 'Non-Match', 'Non-Match', 'Non-Match', 'Non-Match', 'Non-Match', 'Non-Match', 'Non-Match', 'Non-Match', 'Non-Match', 'Non-Match', 'Non-Match', 'Non-Match', 'Non-Match', 'Non-Match', 'Non-Match', 'Non-Match', 'Non-Match', 'Non-Match', 'Non-Match', 'Non-Match', 'Non-Match', 'Non-Match', 'Non-Match', 'Non-Match', 'Non-Match', 'Non-Match', 'Match', 'Non-Match', 'Non-Match', 'Non-Match', 'Non-Match', 'Non-Match', 'Non-Match', 'Non-Match', 'Match', 'Non-Match', 'Non-Match', 'Non-Match', 'Non-Match', 'Non-Match', 'Non-Match', 'Non-Match', 'Non-Match', 'Match', 'Non-Match', 'Non-Match', 'Non-Match', 'Non-Match', 'Non-Match', 'Non-Match', 'Non-Match', 'Non-Match', 'Non-Match', 'Non-Match', 'Non-Match', 'Non-Match', 'Non-Match', 'Non-Match', 'Non-Match', 'Non-Match', 'Non-Match', 'Non-Match', 'Non-Match', 'Non-Match', 'Non-Match', 'Non-Match', 'Non-Match', 'Non-Match', 'Match', 'Non-Match', 'Non-Match', 'Non-Match', 'Non-Match', 'Non-Match', 'Non-Match', 'Non-Match', 'Non-Match', 'Non-Match', 'Non-Match', 'Non-Match', 'Non-Match', 'Non-Match', 'Non-Match', 'Non-Match', 'Non-Match', 'Non-Match', 'Non-Match', 'Non-Match', 'Non-Match', 'Non-Match', 'Non-Match', 'Non-Match', 'Non-Match', 'Non-Match', 'Non-Match', 'Non-Match', 'Non-Match', 'Non-Match', 'Non-Match', 'Non-Match', 'Non-Match', 'Non-Match', 'Non-Match', 'Non-Match', 'Non-Match', 'Non-Match', 'Non-Match', 'Non-Match', 'Non-Match', 'Non-Match', 'Non-Match', 'Non-Match', 'Non-Match', 'Non-Match', 'Non-Match', 'Non-Match', 'Non-Match', 'Non-Match', 'Non-Match', 'Non-Match', 'Non-Match', 'Non-Match', 'Non-Match', 'Non-Match', 'Non-Match', 'Non-Match', 'Non-Match', 'Non-Match', 'Non-Match', 'Non-Match', 'Non-Match', 'Non-Match', 'Non-Match', 'Non-Match', 'Non-Match', 'Non-Match', 'Non-Match', 'Non-Match', 'Non-Match', 'Non-Match', 'Non-Match', 'Non-Match', 'Non-Match', 'Non-Match', 'Non-Match', 'Non-Match', 'Non-Match', 'Non-Match', 'Non-Match', 'Non-Match', 'Non-Match', 'Non-Match', 'Non-Match', 'Non-Match', 'Non-Match', 'Non-Match', 'Non-Match', 'Non-Match', 'Non-Match', 'Non-Match', 'Non-Match', 'Match', 'Non-Match', 'Non-Match', 'Non-Match', 'Non-Match', 'Non-Match', 'Non-Match', 'Non-Match', 'Non-Match', 'Non-Match', 'Non-Match', 'Non-Match', 'Non-Match', 'Non-Match', 'Non-Match', 'Non-Match', 'Non-Match', 'Non-Match', 'Non-Match', 'Non-Match', 'Non-Match', 'Non-Match', 'Non-Match', 'Non-Match', 'Non-Match', 'Non-Match', 'Non-Match', 'Non-Match', 'Non-Match', 'Non-Match', 'Non-Match', 'Non-Match', 'Non-Match', 'Non-Match', 'Non-Match', 'Non-Match', 'Non-Match', 'Non-Match', 'Non-Match', 'Non-Match', 'Non-Match', 'Non-Match', 'Non-Match', 'Non-Match', 'Non-Match', 'Non-Match', 'Non-Match', 'Non-Match', 'Non-Match', 'Non-Match', 'Non-Match', 'Non-Match', 'Non-Match', 'Non-Match', 'Non-Match', 'Non-Match', 'Non-Match', 'Non-Match', 'Non-Match', 'Non-Match', 'Non-Match', 'Non-Match', 'Non-Match', 'Non-Match', 'Non-Match', 'Non-Match', 'Non-Match', 'Non-Match', 'Non-Match', 'Non-Match', 'Non-Match', 'Non-Match', 'Non-Match', 'Non-Match', 'Non-Match', 'Non-Match', 'Non-Match', 'Non-Match', 'Non-Match', 'Non-Match', 'Non-Match', 'Non-Match', 'Non-Match', 'Non-Match', 'Non-Match', 'Non-Match', 'Non-Match', 'Non-Match', 'Non-Match', 'Non-Match', 'Non-Match', 'Non-Match', 'Non-Match', 'Non-Match', 'Non-Match', 'Non-Match', 'Non-Match', 'Non-Match', 'Non-Match', 'Non-Match', 'Non-Match', 'Non-Match', 'Non-Match', 'Non-Match', 'Non-Match', 'Non-Match', 'Non-Match', 'Non-Match', 'Non-Match', 'Non-Match', 'Non-Match', 'Non-Match', 'Non-Match', 'Non-Match', 'Non-Match', 'Non-Match', 'Non-Match', 'Non-Match', 'Non-Match', 'Non-Match', 'Non-Match', 'Non-Match', 'Non-Match', 'Non-Match', 'Non-Match', 'Non-Match', 'Non-Match', 'Non-Match', 'Non-Match', 'Non-Match', 'Non-Match', 'Non-Match', 'Non-Match', 'Non-Match', 'Match', 'Non-Match', 'Non-Match', 'Non-Match', 'Non-Match', 'Non-Match', 'Non-Match', 'Non-Match', 'Non-Match', 'Non-Match', 'Non-Match', 'Non-Match', 'Non-Match', 'Non-Match', 'Non-Match', 'Non-Match', 'Non-Match', 'Non-Match', 'Non-Match', 'Non-Match', 'Non-Match', 'Non-Match', 'Non-Match', 'Non-Match', 'Non-Match', 'Non-Match', 'Non-Match', 'Non-Match', 'Non-Match', 'Non-Match', 'Non-Match', 'Non-Match', 'Non-Match', 'Non-Match', 'Non-Match', 'Non-Match', 'Non-Match', 'Non-Match', 'Non-Match', 'Non-Match', 'Non-Match', 'Non-Match', 'Non-Match', 'Non-Match', 'Non-Match', 'Non-Match', 'Non-Match', 'Non-Match', 'Non-Match', 'Non-Match', 'Non-Match', 'Match', 'Non-Match', 'Non-Match', 'Non-Match', 'Non-Match', 'Non-Match', 'Match', 'Non-Match', 'Non-Match', 'Non-Match', 'Non-Match', 'Non-Match', 'Non-Match', 'Non-Match', 'Non-Match', 'Non-Match', 'Non-Match', 'Non-Match', 'Non-Match', 'Non-Match', 'Non-Match', 'Non-Match', 'Non-Match', 'Non-Match', 'Non-Match', 'Non-Match', 'Non-Match', 'Non-Match', 'Non-Match', 'Non-Match', 'Non-Match', 'Non-Match', 'Non-Match', 'Non-Match', 'Non-Match', 'Non-Match', 'Non-Match', 'Non-Match', 'Non-Match', 'Non-Match', 'Non-Match', 'Match', 'Non-Match', 'Non-Match', 'Non-Match', 'Non-Match', 'Non-Match', 'Non-Match', 'Non-Match', 'Non-Match', 'Non-Match', 'Non-Match', 'Non-Match', 'Non-Match', 'Non-Match', 'Non-Match', 'Non-Match', 'Non-Match', 'Non-Match', 'Non-Match', 'Non-Match', 'Non-Match', 'Non-Match', 'Non-Match', 'Non-Match', 'Non-Match', 'Non-Match', 'Match', 'Non-Match', 'Non-Match', 'Non-Match', 'Non-Match', 'Non-Match', 'Non-Match', 'Non-Match', 'Non-Match', 'Non-Match', 'Non-Match', 'Non-Match', 'Non-Match', 'Non-Match', 'Non-Match', 'Non-Match', 'Non-Match', 'Non-Match', 'Non-Match', 'Non-Match', 'Non-Match', 'Non-Match', 'Non-Match', 'Non-Match', 'Non-Match', 'Non-Match', 'Non-Match', 'Non-Match', 'Non-Match', 'Non-Match', 'Non-Match', 'Non-Match', 'Non-Match', 'Match', 'Non-Match', 'Non-Match', 'Non-Match', 'Non-Match', 'Non-Match', 'Non-Match', 'Non-Match', 'Non-Match', 'Non-Match', 'Non-Match', 'Non-Match', 'Non-Match', 'Non-Match', 'Non-Match', 'Non-Match', 'Non-Match', 'Non-Match', 'Non-Match', 'Non-Match', 'Non-Match', 'Non-Match', 'Non-Match', 'Non-Match', 'Non-Match', 'Non-Match', 'Non-Match', 'Non-Match', 'Non-Match', 'Non-Match', 'Non-Match', 'Non-Match', 'Non-Match', 'Non-Match', 'Non-Match', 'Non-Match', 'Non-Match', 'Non-Match', 'Match', 'Non-Match', 'Non-Match', 'Non-Match', 'Non-Match', 'Non-Match', 'Non-Match', 'Non-Match', 'Non-Match', 'Non-Match', 'Non-Match', 'Non-Match', 'Match', 'Non-Match', 'Non-Match', 'Non-Match', 'Non-Match', 'Non-Match', 'Non-Match', 'Non-Match', 'Non-Match', 'Non-Match', 'Non-Match', 'Non-Match', 'Non-Match', 'Non-Match', 'Non-Match', 'Non-Match', 'Non-Match', 'Non-Match', 'Non-Match', 'Non-Match', 'Non-Match', 'Non-Match', 'Non-Match', 'Non-Match', 'Non-Match', 'Non-Match', 'Non-Match', 'Non-Match', 'Non-Match', 'Non-Match', 'Non-Match', 'Non-Match', 'Non-Match', 'Non-Match', 'Non-Match', 'Non-Match', 'Non-Match', 'Match', 'Non-Match', 'Non-Match', 'Non-Match', 'Non-Match', 'Non-Match', 'Non-Match', 'Non-Match', 'Non-Match', 'Non-Match', 'Non-Match', 'Non-Match', 'Non-Match', 'Non-Match', 'Non-Match', 'Non-Match', 'Non-Match', 'Non-Match', 'Non-Match', 'Non-Match', 'Non-Match', 'Non-Match', 'Non-Match', 'Non-Match', 'Non-Match', 'Non-Match', 'Non-Match', 'Non-Match', 'Non-Match', 'Non-Match', 'Non-Match', 'Non-Match', 'Non-Match', 'Non-Match', 'Non-Match', 'Non-Match', 'Non-Match', 'Non-Match', 'Non-Match', 'Non-Match', 'Non-Match', 'Non-Match', 'Non-Match', 'Non-Match', 'Non-Match', 'Non-Match', 'Non-Match', 'Non-Match', 'Non-Match', 'Non-Match', 'Non-Match', 'Non-Match', 'Non-Match', 'Non-Match', 'Non-Match', 'Non-Match', 'Non-Match', 'Non-Match', 'Non-Match', 'Non-Match', 'Non-Match', 'Non-Match', 'Non-Match', 'Non-Match', 'Non-Match', 'Non-Match', 'Non-Match', 'Non-Match', 'Non-Match', 'Non-Match', 'Non-Match', 'Non-Match', 'Non-Match', 'Non-Match', 'Non-Match', 'Non-Match', 'Non-Match', 'Non-Match', 'Non-Match', 'Non-Match', 'Non-Match', 'Match', 'Non-Match', 'Non-Match', 'Non-Match', 'Non-Match', 'Non-Match', 'Non-Match', 'Non-Match', 'Non-Match', 'Non-Match', 'Non-Match', 'Match', 'Non-Match', 'Non-Match', 'Non-Match', 'Non-Match', 'Non-Match', 'Non-Match', 'Non-Match', 'Non-Match', 'Non-Match', 'Non-Match', 'Non-Match', 'Non-Match', 'Non-Match', 'Match', 'Non-Match', 'Non-Match', 'Non-Match', 'Non-Match', 'Non-Match', 'Non-Match', 'Non-Match', 'Non-Match', 'Non-Match', 'Non-Match', 'Non-Match', 'Non-Match', 'Non-Match', 'Non-Match', 'Non-Match', 'Non-Match', 'Non-Match', 'Non-Match', 'Non-Match', 'Non-Match', 'Non-Match', 'Non-Match', 'Non-Match', 'Non-Match', 'Non-Match', 'Non-Match', 'Non-Match', 'Non-Match', 'Non-Match', 'Non-Match', 'Non-Match', 'Non-Match', 'Non-Match', 'Non-Match', 'Non-Match', 'Non-Match', 'Non-Match', 'Non-Match', 'Non-Match', 'Non-Match', 'Non-Match', 'Match', 'Non-Match', 'Non-Match', 'Non-Match', 'Non-Match', 'Non-Match', 'Non-Match', 'Non-Match', 'Match', 'Non-Match', 'Non-Match', 'Non-Match', 'Non-Match', 'Non-Match', 'Non-Match', 'Non-Match', 'Non-Match', 'Non-Match', 'Non-Match', 'Non-Match', 'Non-Match', 'Non-Match', 'Non-Match', 'Non-Match', 'Non-Match', 'Non-Match', 'Non-Match', 'Non-Match', 'Match', 'Non-Match', 'Non-Match', 'Non-Match', 'Non-Match', 'Non-Match', 'Non-Match', 'Non-Match', 'Non-Match', 'Non-Match', 'Non-Match', 'Non-Match', 'Non-Match', 'Non-Match', 'Non-Match', 'Non-Match', 'Non-Match', 'Non-Match', 'Non-Match', 'Non-Match', 'Non-Match', 'Non-Match', 'Non-Match', 'Non-Match', 'Non-Match', 'Non-Match', 'Non-Match', 'Non-Match', 'Non-Match', 'Non-Match', 'Non-Match', 'Non-Match', 'Non-Match', 'Non-Match', 'Non-Match', 'Non-Match', 'Non-Match', 'Non-Match', 'Non-Match', 'Non-Match', 'Non-Match', 'Non-Match', 'Non-Match', 'Non-Match', 'Non-Match', 'Non-Match', 'Non-Match', 'Non-Match', 'Non-Match', 'Non-Match', 'Non-Match', 'Non-Match', 'Non-Match', 'Non-Match', 'Non-Match', 'Non-Match', 'Non-Match', 'Non-Match', 'Non-Match', 'Non-Match', 'Non-Match', 'Non-Match', 'Match', 'Non-Match', 'Non-Match', 'Non-Match', 'Non-Match', 'Non-Match', 'Non-Match', 'Match', 'Non-Match', 'Non-Match', 'Non-Match', 'Non-Match', 'Non-Match', 'Non-Match', 'Non-Match', 'Non-Match', 'Non-Match', 'Non-Match', 'Non-Match', 'Non-Match', 'Non-Match', 'Non-Match', 'Non-Match', 'Match', 'Non-Match', 'Non-Match', 'Non-Match', 'Non-Match', 'Non-Match', 'Non-Match', 'Non-Match', 'Non-Match', 'Non-Match', 'Non-Match', 'Non-Match', 'Non-Match', 'Non-Match', 'Non-Match', 'Non-Match', 'Non-Match', 'Non-Match', 'Non-Match', 'Match', 'Non-Match', 'Non-Match', 'Non-Match', 'Non-Match', 'Non-Match', 'Non-Match', 'Non-Match', 'Match', 'Non-Match', 'Non-Match', 'Non-Match', 'Non-Match', 'Non-Match', 'Non-Match', 'Non-Match', 'Non-Match', 'Non-Match', 'Non-Match', 'Non-Match', 'Non-Match', 'Match', 'Non-Match', 'Non-Match', 'Non-Match', 'Non-Match', 'Non-Match', 'Match', 'Non-Match', 'Non-Match', 'Non-Match', 'Match', 'Non-Match', 'Non-Match', 'Non-Match', 'Non-Match', 'Non-Match', 'Non-Match', 'Non-Match', 'Non-Match', 'Non-Match', 'Non-Match', 'Non-Match', 'Non-Match', 'Non-Match', 'Non-Match', 'Non-Match', 'Non-Match', 'Non-Match', 'Non-Match', 'Non-Match', 'Non-Match', 'Non-Match', 'Non-Match', 'Match', 'Non-Match', 'Non-Match', 'Non-Match', 'Non-Match', 'Non-Match', 'Non-Match', 'Non-Match', 'Non-Match', 'Non-Match', 'Non-Match', 'Non-Match', 'Non-Match', 'Non-Match', 'Non-Match', 'Non-Match', 'Non-Match', 'Non-Match', 'Non-Match', 'Non-Match', 'Non-Match', 'Non-Match', 'Non-Match', 'Non-Match', 'Non-Match', 'Non-Match', 'Non-Match', 'Non-Match', 'Non-Match', 'Non-Match', 'Non-Match', 'Non-Match', 'Non-Match', 'Non-Match', 'Non-Match', 'Non-Match', 'Non-Match', 'Non-Match', 'Non-Match', 'Non-Match', 'Non-Match', 'Non-Match', 'Non-Match', 'Non-Match', 'Non-Match', 'Non-Match', 'Non-Match', 'Non-Match', 'Non-Match', 'Non-Match', 'Non-Match', 'Non-Match', 'Non-Match', 'Non-Match', 'Non-Match', 'Non-Match', 'Non-Match', 'Non-Match', 'Non-Match', 'Non-Match', 'Non-Match', 'Non-Match', 'Non-Match', 'Non-Match', 'Non-Match', 'Non-Match', 'Non-Match', 'Non-Match', 'Non-Match', 'Non-Match', 'Non-Match', 'Non-Match', 'Non-Match', 'Non-Match', 'Non-Match', 'Non-Match', 'Non-Match', 'Non-Match', 'Non-Match', 'Non-Match', 'Non-Match', 'Non-Match', 'Non-Match', 'Non-Match', 'Non-Match', 'Non-Match', 'Non-Match', 'Non-Match', 'Non-Match', 'Non-Match', 'Non-Match', 'Non-Match', 'Non-Match', 'Non-Match', 'Non-Match', 'Non-Match', 'Non-Match', 'Non-Match', 'Non-Match', 'Non-Match', 'Non-Match', 'Non-Match', 'Non-Match', 'Non-Match', 'Non-Match', 'Non-Match', 'Non-Match', 'Non-Match', 'Non-Match', 'Non-Match', 'Non-Match', 'Non-Match', 'Non-Match', 'Non-Match', 'Non-Match', 'Non-Match', 'Non-Match', 'Non-Match', 'Non-Match', 'Non-Match', 'Non-Match', 'Non-Match', 'Non-Match', 'Non-Match', 'Non-Match', 'Non-Match', 'Non-Match', 'Non-Match', 'Non-Match', 'Non-Match', 'Non-Match', 'Non-Match', 'Non-Match', 'Non-Match', 'Non-Match', 'Non-Match', 'Non-Match', 'Non-Match', 'Non-Match', 'Non-Match', 'Non-Match', 'Non-Match', 'Non-Match', 'Non-Match', 'Non-Match', 'Non-Match', 'Non-Match', 'Non-Match', 'Non-Match', 'Non-Match', 'Non-Match', 'Non-Match', 'Non-Match', 'Non-Match', 'Match', 'Non-Match', 'Non-Match', 'Non-Match', 'Non-Match', 'Non-Match', 'Non-Match', 'Non-Match', 'Non-Match', 'Non-Match', 'Non-Match', 'Non-Match', 'Non-Match', 'Non-Match', 'Non-Match', 'Non-Match', 'Non-Match', 'Non-Match', 'Non-Match', 'Non-Match', 'Non-Match', 'Non-Match', 'Non-Match', 'Non-Match', 'Non-Match', 'Non-Match', 'Non-Match', 'Non-Match', 'Non-Match', 'Non-Match', 'Non-Match', 'Non-Match', 'Non-Match', 'Non-Match', 'Non-Match', 'Match', 'Non-Match', 'Non-Match', 'Non-Match', 'Non-Match', 'Non-Match', 'Non-Match', 'Non-Match', 'Non-Match', 'Non-Match', 'Non-Match', 'Non-Match', 'Non-Match', 'Non-Match', 'Non-Match', 'Non-Match', 'Non-Match', 'Non-Match', 'Non-Match', 'Non-Match', 'Non-Match', 'Non-Match', 'Non-Match', 'Non-Match', 'Non-Match', 'Non-Match', 'Non-Match', 'Non-Match', 'Non-Match', 'Non-Match', 'Non-Match', 'Non-Match', 'Non-Match', 'Non-Match', 'Non-Match', 'Non-Match', 'Non-Match', 'Non-Match', 'Non-Match', 'Non-Match', 'Non-Match', 'Non-Match', 'Non-Match', 'Non-Match', 'Non-Match', 'Non-Match', 'Non-Match', 'Non-Match', 'Non-Match', 'Non-Match', 'Non-Match', 'Non-Match', 'Non-Match', 'Non-Match', 'Non-Match', 'Non-Match', 'Non-Match', 'Non-Match', 'Non-Match', 'Non-Match', 'Non-Match', 'Non-Match', 'Non-Match', 'Non-Match', 'Non-Match', 'Non-Match', 'Non-Match', 'Non-Match', 'Non-Match', 'Non-Match', 'Non-Match', 'Non-Match', 'Non-Match', 'Non-Match', 'Non-Match', 'Non-Match', 'Non-Match', 'Non-Match', 'Non-Match', 'Non-Match', 'Non-Match', 'Non-Match', 'Non-Match', 'Non-Match', 'Non-Match', 'Non-Match', 'Non-Match', 'Non-Match', 'Non-Match', 'Non-Match', 'Non-Match', 'Non-Match', 'Non-Match', 'Non-Match', 'Non-Match', 'Non-Match', 'Non-Match', 'Non-Match', 'Non-Match', 'Non-Match', 'Non-Match', 'Non-Match', 'Non-Match', 'Non-Match', 'Non-Match', 'Non-Match', 'Non-Match', 'Non-Match', 'Non-Match', 'Match', 'Non-Match', 'Non-Match', 'Non-Match', 'Non-Match', 'Non-Match', 'Non-Match', 'Non-Match', 'Non-Match', 'Non-Match', 'Non-Match', 'Non-Match', 'Non-Match', 'Non-Match', 'Non-Match', 'Non-Match', 'Non-Match', 'Non-Match', 'Non-Match', 'Non-Match', 'Non-Match', 'Non-Match', 'Non-Match', 'Non-Match', 'Non-Match', 'Non-Match', 'Non-Match', 'Non-Match', 'Non-Match', 'Non-Match', 'Non-Match', 'Non-Match', 'Non-Match', 'Non-Match', 'Non-Match', 'Non-Match', 'Non-Match', 'Non-Match', 'Non-Match', 'Non-Match', 'Non-Match', 'Non-Match', 'Non-Match', 'Non-Match', 'Non-Match', 'Non-Match', 'Non-Match', 'Non-Match', 'Non-Match', 'Non-Match', 'Non-Match', 'Non-Match', 'Match', 'Non-Match', 'Non-Match', 'Non-Match', 'Non-Match', 'Non-Match', 'Non-Match', 'Non-Match', 'Non-Match', 'Non-Match', 'Non-Match', 'Match', 'Non-Match', 'Non-Match', 'Non-Match', 'Non-Match', 'Non-Match', 'Non-Match', 'Non-Match', 'Non-Match', 'Non-Match', 'Non-Match', 'Non-Match', 'Non-Match', 'Non-Match', 'Non-Match', 'Non-Match', 'Non-Match', 'Match', 'Non-Match', 'Non-Match', 'Non-Match', 'Non-Match', 'Non-Match', 'Non-Match', 'Non-Match', 'Non-Match', 'Non-Match', 'Non-Match', 'Non-Match', 'Non-Match', 'Non-Match', 'Non-Match', 'Non-Match', 'Non-Match', 'Non-Match', 'Non-Match', 'Non-Match', 'Non-Match', 'Non-Match', 'Non-Match', 'Non-Match', 'Non-Match', 'Non-Match', 'Non-Match', 'Non-Match', 'Non-Match', 'Non-Match', 'Non-Match', 'Non-Match', 'Non-Match', 'Non-Match', 'Non-Match', 'Non-Match', 'Non-Match', 'Non-Match', 'Non-Match', 'Non-Match', 'Non-Match', 'Non-Match', 'Non-Match', 'Non-Match', 'Non-Match', 'Non-Match', 'Non-Match', 'Non-Match', 'Non-Match', 'Non-Match', 'Match', 'Non-Match', 'Non-Match', 'Non-Match', 'Non-Match', 'Non-Match', 'Non-Match', 'Non-Match', 'Non-Match', 'Non-Match', 'Non-Match', 'Non-Match', 'Non-Match', 'Non-Match', 'Non-Match', 'Non-Match', 'Non-Match', 'Non-Match', 'Non-Match', 'Non-Match', 'Non-Match', 'Non-Match', 'Non-Match', 'Non-Match', 'Non-Match', 'Non-Match', 'Non-Match', 'Non-Match', 'Non-Match', 'Non-Match', 'Non-Match', 'Non-Match', 'Non-Match', 'Non-Match', 'Non-Match', 'Non-Match', 'Non-Match', 'Non-Match', 'Non-Match', 'Non-Match', 'Non-Match', 'Non-Match', 'Non-Match', 'Non-Match', 'Non-Match', 'Non-Match', 'Non-Match', 'Non-Match', 'Non-Match', 'Non-Match', 'Non-Match', 'Non-Match', 'Non-Match', 'Non-Match', 'Non-Match', 'Non-Match', 'Non-Match', 'Non-Match', 'Non-Match', 'Non-Match', 'Non-Match', 'Non-Match', 'Non-Match', 'Non-Match', 'Non-Match', 'Non-Match', 'Non-Match', 'Non-Match', 'Non-Match', 'Non-Match', 'Non-Match', 'Non-Match', 'Non-Match', 'Non-Match', 'Non-Match', 'Non-Match', 'Non-Match', 'Non-Match', 'Non-Match', 'Non-Match', 'Non-Match', 'Non-Match', 'Non-Match', 'Non-Match', 'Non-Match', 'Non-Match', 'Non-Match', 'Non-Match', 'Non-Match', 'Non-Match', 'Non-Match', 'Non-Match', 'Non-Match', 'Non-Match', 'Non-Match', 'Non-Match', 'Non-Match', 'Non-Match', 'Non-Match', 'Non-Match', 'Non-Match', 'Non-Match', 'Non-Match', 'Non-Match', 'Non-Match', 'Non-Match', 'Non-Match', 'Non-Match', 'Non-Match', 'Non-Match', 'Non-Match', 'Non-Match', 'Non-Match', 'Non-Match', 'Non-Match', 'Non-Match', 'Match', 'Non-Match', 'Non-Match', 'Non-Match', 'Non-Match', 'Non-Match', 'Non-Match', 'Non-Match', 'Non-Match', 'Non-Match', 'Non-Match', 'Non-Match', 'Non-Match', 'Non-Match', 'Non-Match', 'Non-Match', 'Non-Match', 'Non-Match', 'Non-Match', 'Non-Match', 'Non-Match', 'Non-Match', 'Non-Match', 'Non-Match', 'Non-Match', 'Non-Match', 'Non-Match', 'Non-Match', 'Non-Match', 'Non-Match', 'Non-Match', 'Non-Match', 'Non-Match', 'Non-Match', 'Non-Match', 'Non-Match', 'Non-Match', 'Non-Match', 'Non-Match', 'Non-Match', 'Non-Match', 'Non-Match', 'Non-Match', 'Non-Match', 'Non-Match', 'Non-Match', 'Non-Match', 'Non-Match', 'Non-Match', 'Non-Match', 'Non-Match', 'Non-Match', 'Non-Match', 'Non-Match', 'Non-Match', 'Non-Match', 'Non-Match', 'Non-Match', 'Non-Match', 'Non-Match', 'Non-Match', 'Non-Match', 'Non-Match', 'Non-Match', 'Non-Match', 'Non-Match', 'Non-Match', 'Non-Match', 'Non-Match', 'Non-Match', 'Non-Match', 'Non-Match', 'Non-Match', 'Non-Match', 'Non-Match', 'Non-Match', 'Non-Match', 'Non-Match', 'Non-Match', 'Non-Match', 'Non-Match', 'Match', 'Non-Match', 'Non-Match', 'Non-Match', 'Non-Match', 'Non-Match', 'Non-Match', 'Non-Match', 'Non-Match', 'Non-Match', 'Non-Match', 'Non-Match', 'Non-Match', 'Non-Match', 'Non-Match', 'Non-Match', 'Non-Match', 'Non-Match', 'Non-Match', 'Non-Match', 'Non-Match', 'Non-Match', 'Non-Match', 'Non-Match', 'Non-Match', 'Non-Match', 'Non-Match', 'Non-Match', 'Non-Match', 'Non-Match', 'Non-Match', 'Non-Match', 'Non-Match', 'Non-Match', 'Non-Match', 'Non-Match', 'Non-Match', 'Non-Match', 'Non-Match', 'Non-Match', 'Non-Match', 'Non-Match', 'Non-Match', 'Non-Match', 'Non-Match', 'Non-Match', 'Non-Match', 'Non-Match', 'Non-Match', 'Non-Match', 'Non-Match', 'Non-Match', 'Non-Match', 'Non-Match', 'Non-Match', 'Non-Match', 'Non-Match', 'Non-Match', 'Non-Match', 'Non-Match', 'Non-Match', 'Non-Match', 'Non-Match', 'Non-Match', 'Non-Match', 'Non-Match', 'Non-Match', 'Non-Match', 'Non-Match', 'Non-Match', 'Non-Match', 'Non-Match', 'Non-Match', 'Non-Match', 'Non-Match', 'Non-Match', 'Non-Match', 'Non-Match', 'Non-Match', 'Non-Match', 'Non-Match', 'Non-Match', 'Non-Match', 'Non-Match', 'Non-Match', 'Non-Match', 'Non-Match', 'Non-Match', 'Non-Match', 'Non-Match', 'Non-Match', 'Non-Match', 'Non-Match', 'Non-Match', 'Non-Match', 'Non-Match', 'Non-Match', 'Non-Match', 'Non-Match', 'Non-Match', 'Non-Match', 'Non-Match', 'Non-Match', 'Non-Match', 'Non-Match', 'Non-Match', 'Non-Match', 'Non-Match', 'Non-Match', 'Non-Match', 'Non-Match', 'Non-Match', 'Non-Match', 'Non-Match', 'Non-Match', 'Non-Match', 'Non-Match', 'Non-Match', 'Non-Match', 'Non-Match', 'Non-Match', 'Non-Match', 'Non-Match', 'Non-Match', 'Non-Match', 'Non-Match', 'Non-Match', 'Match', 'Non-Match', 'Non-Match', 'Non-Match', 'Non-Match', 'Non-Match', 'Non-Match', 'Non-Match', 'Non-Match', 'Non-Match', 'Non-Match', 'Non-Match', 'Non-Match', 'Non-Match', 'Non-Match', 'Non-Match', 'Non-Match', 'Non-Match', 'Non-Match', 'Non-Match', 'Non-Match', 'Non-Match', 'Non-Match', 'Non-Match', 'Non-Match', 'Non-Match', 'Non-Match', 'Non-Match', 'Non-Match', 'Non-Match', 'Non-Match', 'Non-Match', 'Non-Match', 'Non-Match', 'Non-Match', 'Non-Match', 'Non-Match', 'Non-Match', 'Non-Match', 'Non-Match', 'Non-Match', 'Non-Match', 'Non-Match', 'Non-Match', 'Non-Match', 'Non-Match', 'Non-Match', 'Non-Match', 'Non-Match', 'Non-Match', 'Non-Match', 'Non-Match', 'Non-Match', 'Non-Match', 'Non-Match', 'Non-Match', 'Non-Match', 'Non-Match', 'Non-Match', 'Non-Match', 'Non-Match', 'Non-Match', 'Non-Match', 'Non-Match', 'Non-Match', 'Non-Match', 'Non-Match', 'Non-Match', 'Non-Match', 'Non-Match', 'Non-Match', 'Non-Match', 'Non-Match', 'Non-Match', 'Non-Match', 'Non-Match', 'Non-Match', 'Non-Match', 'Non-Match', 'Non-Match', 'Non-Match', 'Non-Match', 'Non-Match', 'Non-Match', 'Non-Match', 'Non-Match', 'Non-Match', 'Non-Match', 'Non-Match', 'Non-Match', 'Non-Match', 'Non-Match', 'Non-Match', 'Non-Match', 'Non-Match', 'Non-Match', 'Non-Match', 'Non-Match', 'Non-Match', 'Non-Match', 'Non-Match', 'Non-Match', 'Non-Match', 'Non-Match', 'Non-Match', 'Non-Match', 'Non-Match', 'Non-Match', 'Non-Match', 'Non-Match', 'Non-Match', 'Non-Match', 'Non-Match', 'Non-Match', 'Non-Match', 'Non-Match', 'Non-Match', 'Non-Match', 'Non-Match', 'Non-Match', 'Non-Match', 'Non-Match', 'Non-Match', 'Non-Match', 'Non-Match', 'Non-Match', 'Non-Match', 'Non-Match', 'Non-Match', 'Non-Match', 'Non-Match', 'Non-Match', 'Non-Match', 'Non-Match', 'Non-Match', 'Non-Match', 'Non-Match', 'Non-Match', 'Non-Match', 'Non-Match', 'Non-Match', 'Non-Match', 'Non-Match', 'Non-Match', 'Non-Match', 'Non-Match', 'Non-Match', 'Non-Match', 'Non-Match', 'Non-Match', 'Non-Match', 'Non-Match', 'Non-Match', 'Non-Match', 'Non-Match', 'Non-Match', 'Non-Match', 'Non-Match', 'Non-Match', 'Non-Match', 'Non-Match', 'Non-Match', 'Non-Match', 'Non-Match', 'Non-Match', 'Non-Match', 'Non-Match', 'Non-Match', 'Non-Match', 'Non-Match', 'Non-Match', 'Non-Match', 'Non-Match', 'Non-Match', 'Non-Match', 'Non-Match', 'Non-Match', 'Non-Match', 'Non-Match', 'Non-Match', 'Non-Match', 'Non-Match', 'Non-Match', 'Non-Match', 'Non-Match', 'Non-Match', 'Non-Match', 'Non-Match', 'Non-Match', 'Non-Match', 'Non-Match', 'Non-Match', 'Non-Match', 'Non-Match', 'Non-Match', 'Non-Match', 'Non-Match', 'Non-Match', 'Non-Match', 'Non-Match', 'Non-Match', 'Non-Match', 'Non-Match', 'Non-Match', 'Non-Match', 'Non-Match', 'Non-Match', 'Non-Match', 'Non-Match', 'Non-Match', 'Non-Match', 'Non-Match', 'Non-Match', 'Non-Match', 'Non-Match', 'Non-Match', 'Non-Match', 'Non-Match', 'Non-Match', 'Non-Match', 'Non-Match', 'Non-Match', 'Non-Match', 'Non-Match', 'Non-Match', 'Non-Match', 'Non-Match', 'Non-Match', 'Non-Match', 'Non-Match', 'Non-Match', 'Non-Match', 'Non-Match', 'Non-Match', 'Non-Match', 'Non-Match', 'Non-Match', 'Non-Match', 'Non-Match', 'Non-Match', 'Non-Match', 'Non-Match', 'Non-Match', 'Non-Match', 'Non-Match', 'Non-Match', 'Non-Match', 'Non-Match', 'Non-Match', 'Non-Match', 'Non-Match', 'Non-Match', 'Non-Match', 'Non-Match', 'Non-Match', 'Non-Match', 'Non-Match', 'Non-Match', 'Non-Match', 'Non-Match', 'Non-Match', 'Non-Match', 'Non-Match', 'Non-Match', 'Non-Match', 'Non-Match', 'Non-Match', 'Non-Match', 'Non-Match', 'Non-Match', 'Non-Match', 'Non-Match', 'Non-Match', 'Non-Match', 'Non-Match', 'Non-Match', 'Non-Match', 'Non-Match', 'Non-Match', 'Non-Match', 'Non-Match', 'Non-Match', 'Non-Match', 'Non-Match', 'Non-Match', 'Non-Match', 'Non-Match', 'Non-Match', 'Non-Match', 'Non-Match', 'Non-Match', 'Non-Match', 'Non-Match', 'Non-Match', 'Non-Match', 'Non-Match', 'Non-Match', 'Non-Match', 'Non-Match', 'Match', 'Non-Match', 'Non-Match', 'Non-Match', 'Non-Match', 'Non-Match', 'Non-Match', 'Non-Match', 'Non-Match', 'Non-Match', 'Non-Match', 'Non-Match', 'Non-Match', 'Non-Match', 'Non-Match', 'Non-Match', 'Non-Match', 'Non-Match', 'Non-Match', 'Non-Match', 'Non-Match', 'Non-Match', 'Non-Match', 'Non-Match', 'Non-Match', 'Non-Match', 'Non-Match', 'Non-Match', 'Non-Match', 'Non-Match', 'Non-Match', 'Non-Match', 'Non-Match', 'Non-Match', 'Non-Match', 'Non-Match', 'Non-Match', 'Non-Match', 'Non-Match', 'Non-Match', 'Non-Match', 'Non-Match', 'Non-Match', 'Non-Match', 'Non-Match', 'Non-Match', 'Non-Match', 'Non-Match', 'Non-Match', 'Non-Match', 'Non-Match', 'Non-Match', 'Non-Match', 'Non-Match', 'Non-Match', 'Non-Match', 'Non-Match', 'Non-Match', 'Non-Match', 'Non-Match', 'Non-Match', 'Match', 'Non-Match', 'Non-Match', 'Non-Match', 'Non-Match', 'Non-Match', 'Non-Match', 'Non-Match', 'Non-Match', 'Non-Match', 'Non-Match', 'Non-Match', 'Non-Match', 'Non-Match', 'Non-Match', 'Non-Match', 'Non-Match', 'Non-Match', 'Non-Match', 'Non-Match', 'Non-Match', 'Non-Match', 'Non-Match', 'Non-Match', 'Non-Match', 'Non-Match', 'Non-Match', 'Non-Match', 'Non-Match', 'Non-Match', 'Non-Match', 'Non-Match', 'Non-Match', 'Non-Match', 'Non-Match', 'Non-Match', 'Non-Match', 'Non-Match', 'Non-Match', 'Non-Match', 'Non-Match', 'Non-Match', 'Non-Match', 'Non-Match', 'Non-Match', 'Non-Match', 'Non-Match', 'Non-Match', 'Non-Match', 'Non-Match', 'Non-Match', 'Non-Match', 'Non-Match', 'Non-Match', 'Non-Match', 'Non-Match', 'Non-Match', 'Non-Match', 'Non-Match', 'Non-Match', 'Non-Match', 'Non-Match', 'Non-Match', 'Non-Match', 'Non-Match', 'Non-Match', 'Non-Match', 'Non-Match', 'Non-Match', 'Non-Match', 'Non-Match', 'Non-Match', 'Non-Match', 'Non-Match', 'Non-Match', 'Non-Match', 'Non-Match', 'Non-Match', 'Non-Match', 'Non-Match', 'Match', 'Non-Match', 'Non-Match', 'Non-Match', 'Non-Match', 'Non-Match', 'Non-Match', 'Non-Match', 'Non-Match', 'Non-Match', 'Non-Match', 'Non-Match', 'Non-Match', 'Non-Match', 'Non-Match', 'Non-Match', 'Non-Match', 'Non-Match', 'Non-Match', 'Non-Match', 'Non-Match', 'Non-Match', 'Non-Match', 'Non-Match', 'Non-Match', 'Non-Match', 'Non-Match', 'Non-Match', 'Non-Match', 'Non-Match', 'Non-Match', 'Non-Match', 'Non-Match', 'Non-Match', 'Non-Match', 'Non-Match', 'Match', 'Non-Match', 'Non-Match', 'Non-Match', 'Non-Match', 'Non-Match', 'Match', 'Non-Match', 'Non-Match', 'Non-Match', 'Non-Match', 'Non-Match', 'Non-Match', 'Non-Match', 'Non-Match', 'Non-Match', 'Non-Match', 'Non-Match', 'Non-Match', 'Non-Match', 'Non-Match', 'Non-Match', 'Non-Match', 'Non-Match', 'Non-Match', 'Non-Match', 'Non-Match', 'Non-Match', 'Non-Match', 'Non-Match', 'Non-Match', 'Non-Match', 'Non-Match', 'Match', 'Non-Match', 'Non-Match', 'Non-Match', 'Non-Match', 'Non-Match', 'Non-Match', 'Non-Match', 'Non-Match', 'Non-Match', 'Non-Match', 'Non-Match', 'Non-Match', 'Non-Match', 'Non-Match', 'Non-Match', 'Non-Match', 'Non-Match', 'Non-Match', 'Non-Match', 'Non-Match', 'Non-Match', 'Non-Match', 'Non-Match', 'Non-Match', 'Non-Match', 'Non-Match', 'Non-Match', 'Non-Match', 'Non-Match', 'Non-Match', 'Non-Match', 'Non-Match', 'Non-Match', 'Non-Match', 'Non-Match', 'Non-Match', 'Non-Match', 'Non-Match', 'Match', 'Non-Match', 'Non-Match', 'Non-Match', 'Non-Match', 'Non-Match', 'Non-Match', 'Non-Match', 'Non-Match', 'Non-Match', 'Non-Match', 'Non-Match', 'Non-Match', 'Non-Match', 'Non-Match', 'Non-Match', 'Non-Match', 'Non-Match', 'Non-Match', 'Non-Match', 'Match', 'Non-Match', 'Non-Match', 'Non-Match', 'Non-Match', 'Match', 'Non-Match', 'Non-Match', 'Non-Match', 'Non-Match', 'Non-Match', 'Non-Match', 'Non-Match', 'Non-Match', 'Non-Match', 'Non-Match', 'Non-Match', 'Non-Match', 'Non-Match', 'Match', 'Non-Match', 'Non-Match', 'Non-Match', 'Non-Match', 'Non-Match', 'Non-Match', 'Non-Match', 'Non-Match', 'Non-Match', 'Non-Match', 'Non-Match', 'Non-Match', 'Match', 'Non-Match', 'Non-Match', 'Non-Match', 'Non-Match', 'Non-Match', 'Non-Match', 'Non-Match', 'Non-Match', 'Match', 'Non-Match', 'Non-Match', 'Non-Match', 'Non-Match', 'Non-Match', 'Non-Match', 'Non-Match', 'Non-Match', 'Match', 'Non-Match', 'Non-Match', 'Non-Match', 'Non-Match', 'Non-Match', 'Non-Match', 'Non-Match', 'Non-Match', 'Non-Match', 'Non-Match', 'Non-Match', 'Non-Match', 'Non-Match', 'Non-Match', 'Non-Match', 'Non-Match', 'Non-Match', 'Non-Match', 'Non-Match', 'Non-Match', 'Non-Match', 'Non-Match', 'Non-Match', 'Non-Match', 'Non-Match', 'Non-Match', 'Non-Match', 'Non-Match', 'Non-Match', 'Non-Match', 'Non-Match', 'Non-Match', 'Non-Match', 'Non-Match', 'Non-Match', 'Non-Match', 'Non-Match', 'Non-Match', 'Non-Match', 'Non-Match', 'Non-Match', 'Non-Match', 'Non-Match', 'Non-Match', 'Non-Match', 'Non-Match', 'Non-Match', 'Non-Match', 'Non-Match', 'Non-Match', 'Non-Match', 'Non-Match', 'Non-Match', 'Non-Match', 'Non-Match', 'Non-Match', 'Non-Match', 'Match', 'Non-Match', 'Non-Match', 'Non-Match', 'Non-Match', 'Non-Match', 'Non-Match', 'Non-Match', 'Non-Match', 'Non-Match', 'Non-Match', 'Non-Match', 'Non-Match', 'Non-Match', 'Non-Match', 'Non-Match', 'Non-Match', 'Non-Match', 'Non-Match', 'Non-Match', 'Non-Match', 'Non-Match', 'Non-Match', 'Non-Match', 'Non-Match', 'Non-Match', 'Non-Match', 'Non-Match', 'Non-Match', 'Non-Match', 'Non-Match', 'Non-Match', 'Non-Match', 'Non-Match', 'Non-Match', 'Non-Match', 'Match', 'Non-Match', 'Non-Match', 'Non-Match', 'Non-Match', 'Non-Match', 'Non-Match', 'Non-Match', 'Non-Match', 'Non-Match', 'Non-Match', 'Non-Match', 'Match', 'Non-Match', 'Non-Match', 'Non-Match', 'Non-Match', 'Non-Match', 'Non-Match', 'Non-Match', 'Non-Match', 'Non-Match', 'Non-Match', 'Non-Match', 'Non-Match', 'Non-Match', 'Non-Match', 'Non-Match', 'Non-Match', 'Non-Match', 'Non-Match', 'Non-Match', 'Non-Match', 'Non-Match', 'Non-Match', 'Non-Match', 'Non-Match', 'Non-Match', 'Non-Match', 'Non-Match', 'Non-Match', 'Non-Match', 'Non-Match', 'Non-Match', 'Non-Match', 'Non-Match', 'Non-Match', 'Non-Match', 'Non-Match', 'Non-Match', 'Match', 'Non-Match', 'Non-Match', 'Non-Match', 'Non-Match', 'Non-Match', 'Non-Match', 'Non-Match', 'Non-Match', 'Non-Match', 'Non-Match', 'Non-Match', 'Match', 'Non-Match', 'Non-Match', 'Non-Match', 'Non-Match', 'Non-Match', 'Non-Match', 'Non-Match', 'Non-Match', 'Non-Match', 'Non-Match', 'Non-Match', 'Non-Match', 'Non-Match', 'Non-Match', 'Non-Match', 'Non-Match', 'Non-Match', 'Non-Match', 'Non-Match', 'Non-Match', 'Non-Match', 'Non-Match', 'Non-Match', 'Non-Match', 'Non-Match', 'Non-Match', 'Non-Match', 'Non-Match', 'Non-Match', 'Non-Match', 'Non-Match', 'Match', 'Non-Match', 'Non-Match', 'Non-Match', 'Non-Match', 'Non-Match', 'Non-Match', 'Non-Match', 'Non-Match', 'Non-Match', 'Non-Match', 'Non-Match', 'Non-Match', 'Non-Match', 'Non-Match', 'Non-Match', 'Non-Match', 'Non-Match', 'Non-Match', 'Non-Match', 'Non-Match', 'Non-Match', 'Non-Match', 'Non-Match', 'Non-Match', 'Non-Match', 'Match', 'Non-Match', 'Non-Match', 'Non-Match', 'Non-Match', 'Non-Match', 'Non-Match', 'Non-Match', 'Match', 'Non-Match', 'Non-Match', 'Non-Match', 'Non-Match', 'Non-Match', 'Non-Match', 'Non-Match', 'Non-Match', 'Non-Match', 'Non-Match', 'Non-Match', 'Non-Match', 'Non-Match', 'Non-Match', 'Non-Match', 'Non-Match', 'Non-Match', 'Non-Match', 'Non-Match', 'Non-Match', 'Non-Match', 'Non-Match', 'Non-Match', 'Non-Match', 'Non-Match', 'Non-Match', 'Non-Match', 'Non-Match', 'Non-Match', 'Non-Match', 'Non-Match', 'Non-Match', 'Non-Match', 'Non-Match', 'Non-Match', 'Non-Match', 'Non-Match', 'Non-Match', 'Non-Match', 'Non-Match', 'Non-Match', 'Non-Match', 'Non-Match', 'Non-Match', 'Non-Match', 'Non-Match', 'Non-Match', 'Non-Match', 'Non-Match', 'Non-Match', 'Non-Match', 'Non-Match', 'Non-Match', 'Non-Match', 'Non-Match', 'Non-Match', 'Non-Match', 'Non-Match', 'Non-Match', 'Non-Match', 'Non-Match', 'Non-Match', 'Non-Match', 'Non-Match', 'Non-Match', 'Non-Match', 'Non-Match', 'Non-Match', 'Non-Match', 'Non-Match', 'Non-Match', 'Non-Match', 'Non-Match', 'Non-Match', 'Non-Match', 'Non-Match', 'Non-Match', 'Non-Match', 'Non-Match', 'Non-Match', 'Non-Match', 'Non-Match', 'Non-Match', 'Non-Match', 'Non-Match', 'Non-Match', 'Non-Match', 'Non-Match', 'Non-Match', 'Non-Match', 'Non-Match', 'Non-Match', 'Non-Match', 'Non-Match', 'Non-Match', 'Non-Match', 'Non-Match', 'Non-Match', 'Non-Match', 'Non-Match', 'Non-Match', 'Non-Match', 'Non-Match', 'Non-Match', 'Non-Match', 'Non-Match', 'Non-Match', 'Non-Match', 'Non-Match', 'Non-Match', 'Non-Match', 'Non-Match', 'Non-Match', 'Non-Match', 'Non-Match', 'Non-Match', 'Non-Match', 'Non-Match', 'Non-Match', 'Non-Match', 'Non-Match', 'Non-Match', 'Non-Match', 'Non-Match', 'Non-Match', 'Non-Match', 'Non-Match', 'Non-Match', 'Non-Match', 'Non-Match', 'Non-Match', 'Non-Match', 'Non-Match', 'Non-Match', 'Non-Match', 'Non-Match', 'Non-Match', 'Non-Match', 'Non-Match', 'Non-Match', 'Non-Match', 'Non-Match', 'Non-Match', 'Non-Match', 'Non-Match', 'Non-Match', 'Non-Match', 'Non-Match', 'Non-Match', 'Non-Match', 'Non-Match', 'Non-Match', 'Non-Match', 'Non-Match', 'Non-Match', 'Non-Match', 'Non-Match', 'Non-Match', 'Non-Match', 'Non-Match', 'Non-Match', 'Non-Match', 'Non-Match', 'Non-Match', 'Non-Match', 'Non-Match', 'Non-Match', 'Non-Match', 'Non-Match', 'Non-Match', 'Non-Match', 'Non-Match', 'Non-Match', 'Non-Match', 'Non-Match', 'Non-Match', 'Non-Match', 'Non-Match', 'Non-Match', 'Non-Match', 'Non-Match', 'Non-Match', 'Non-Match', 'Non-Match', 'Non-Match', 'Non-Match', 'Non-Match', 'Non-Match', 'Non-Match', 'Non-Match', 'Non-Match', 'Non-Match', 'Non-Match', 'Non-Match', 'Non-Match', 'Non-Match', 'Non-Match', 'Non-Match', 'Non-Match', 'Non-Match', 'Non-Match', 'Non-Match', 'Non-Match', 'Non-Match', 'Non-Match', 'Non-Match', 'Non-Match', 'Non-Match', 'Non-Match', 'Non-Match', 'Non-Match', 'Non-Match', 'Non-Match', 'Non-Match', 'Non-Match', 'Non-Match', 'Non-Match', 'Non-Match', 'Non-Match', 'Non-Match', 'Non-Match', 'Non-Match', 'Non-Match', 'Non-Match', 'Non-Match', 'Non-Match', 'Non-Match', 'Non-Match', 'Non-Match', 'Non-Match', 'Non-Match', 'Non-Match', 'Non-Match', 'Non-Match', 'Non-Match', 'Non-Match', 'Non-Match', 'Non-Match', 'Non-Match', 'Non-Match', 'Non-Match', 'Non-Match', 'Non-Match', 'Non-Match', 'Non-Match', 'Non-Match', 'Non-Match', 'Non-Match', 'Non-Match', 'Non-Match', 'Non-Match', 'Non-Match', 'Non-Match', 'Non-Match', 'Non-Match', 'Non-Match', 'Non-Match', 'Non-Match', 'Non-Match', 'Match', 'Non-Match', 'Non-Match', 'Non-Match', 'Non-Match', 'Non-Match', 'Non-Match', 'Non-Match', 'Non-Match', 'Non-Match', 'Non-Match', 'Non-Match', 'Non-Match', 'Non-Match', 'Non-Match', 'Non-Match', 'Non-Match', 'Non-Match', 'Non-Match', 'Non-Match', 'Non-Match', 'Non-Match', 'Non-Match', 'Non-Match', 'Non-Match', 'Non-Match', 'Non-Match', 'Non-Match', 'Non-Match', 'Non-Match', 'Non-Match', 'Non-Match', 'Non-Match', 'Non-Match', 'Non-Match', 'Non-Match', 'Non-Match', 'Non-Match', 'Non-Match', 'Non-Match', 'Non-Match', 'Non-Match', 'Non-Match', 'Non-Match', 'Non-Match', 'Non-Match', 'Non-Match', 'Non-Match', 'Non-Match', 'Non-Match', 'Non-Match', 'Non-Match', 'Non-Match', 'Non-Match', 'Non-Match', 'Non-Match', 'Non-Match', 'Non-Match', 'Non-Match', 'Match', 'Non-Match', 'Non-Match', 'Non-Match', 'Non-Match', 'Non-Match', 'Non-Match', 'Non-Match', 'Non-Match', 'Non-Match', 'Non-Match', 'Non-Match', 'Non-Match', 'Non-Match', 'Non-Match', 'Non-Match', 'Non-Match', 'Non-Match', 'Non-Match', 'Non-Match', 'Non-Match', 'Non-Match', 'Non-Match', 'Non-Match', 'Non-Match', 'Non-Match', 'Non-Match', 'Non-Match', 'Non-Match', 'Non-Match', 'Non-Match', 'Non-Match', 'Non-Match', 'Non-Match', 'Non-Match', 'Non-Match', 'Non-Match', 'Non-Match', 'Non-Match', 'Non-Match', 'Non-Match', 'Non-Match', 'Non-Match', 'Non-Match', 'Non-Match', 'Non-Match', 'Non-Match', 'Non-Match', 'Non-Match', 'Non-Match', 'Non-Match', 'Non-Match', 'Non-Match', 'Non-Match', 'Non-Match', 'Non-Match', 'Non-Match', 'Non-Match', 'Non-Match', 'Non-Match', 'Non-Match', 'Non-Match', 'Non-Match', 'Non-Match', 'Non-Match', 'Non-Match', 'Non-Match', 'Non-Match', 'Non-Match', 'Non-Match', 'Non-Match', 'Non-Match', 'Non-Match', 'Non-Match', 'Non-Match', 'Non-Match', 'Non-Match', 'Non-Match', 'Non-Match', 'Non-Match', 'Non-Match', 'Non-Match', 'Non-Match', 'Non-Match', 'Non-Match', 'Non-Match', 'Non-Match', 'Non-Match', 'Non-Match', 'Non-Match', 'Non-Match', 'Non-Match', 'Non-Match', 'Non-Match', 'Non-Match', 'Non-Match', 'Non-Match', 'Non-Match', 'Non-Match', 'Non-Match', 'Non-Match', 'Non-Match', 'Non-Match', 'Non-Match', 'Non-Match', 'Non-Match', 'Non-Match', 'Non-Match', 'Non-Match', 'Non-Match', 'Non-Match', 'Match', 'Non-Match', 'Non-Match', 'Non-Match', 'Non-Match', 'Non-Match', 'Non-Match', 'Non-Match', 'Non-Match', 'Non-Match', 'Non-Match', 'Non-Match', 'Non-Match', 'Non-Match', 'Non-Match', 'Non-Match', 'Non-Match', 'Non-Match', 'Non-Match', 'Non-Match', 'Non-Match', 'Non-Match', 'Non-Match', 'Non-Match', 'Non-Match', 'Non-Match', 'Non-Match', 'Non-Match', 'Non-Match', 'Non-Match', 'Non-Match', 'Non-Match', 'Non-Match', 'Non-Match', 'Non-Match', 'Non-Match', 'Match', 'Non-Match', 'Non-Match', 'Non-Match', 'Non-Match', 'Non-Match', 'Non-Match', 'Non-Match', 'Non-Match', 'Non-Match', 'Non-Match', 'Non-Match', 'Non-Match', 'Non-Match', 'Non-Match', 'Non-Match', 'Non-Match', 'Non-Match', 'Non-Match', 'Non-Match', 'Non-Match', 'Non-Match', 'Non-Match', 'Non-Match', 'Non-Match', 'Non-Match', 'Non-Match', 'Non-Match', 'Non-Match', 'Non-Match', 'Non-Match', 'Non-Match', 'Non-Match', 'Non-Match', 'Non-Match', 'Non-Match', 'Non-Match', 'Non-Match', 'Non-Match', 'Non-Match', 'Non-Match', 'Non-Match', 'Non-Match', 'Non-Match', 'Non-Match', 'Non-Match', 'Non-Match', 'Non-Match', 'Non-Match', 'Non-Match', 'Non-Match', 'Non-Match', 'Non-Match', 'Non-Match', 'Non-Match', 'Non-Match', 'Non-Match', 'Non-Match', 'Non-Match', 'Non-Match', 'Non-Match', 'Non-Match', 'Non-Match', 'Non-Match', 'Non-Match', 'Non-Match', 'Non-Match', 'Non-Match', 'Non-Match', 'Non-Match', 'Non-Match', 'Non-Match', 'Non-Match', 'Non-Match', 'Non-Match', 'Non-Match', 'Non-Match', 'Non-Match', 'Non-Match', 'Non-Match', 'Non-Match', 'Non-Match', 'Non-Match', 'Non-Match', 'Non-Match', 'Non-Match', 'Non-Match', 'Non-Match', 'Non-Match', 'Non-Match', 'Non-Match', 'Non-Match', 'Non-Match', 'Non-Match', 'Non-Match', 'Non-Match', 'Non-Match', 'Non-Match', 'Non-Match', 'Non-Match', 'Non-Match', 'Non-Match', 'Non-Match', 'Non-Match', 'Non-Match', 'Non-Match', 'Non-Match', 'Non-Match', 'Non-Match', 'Non-Match', 'Non-Match', 'Non-Match', 'Match', 'Non-Match', 'Non-Match', 'Non-Match', 'Non-Match', 'Non-Match', 'Non-Match', 'Non-Match', 'Non-Match', 'Non-Match', 'Non-Match', 'Non-Match', 'Non-Match', 'Non-Match', 'Non-Match', 'Non-Match', 'Non-Match', 'Non-Match', 'Non-Match', 'Non-Match', 'Non-Match', 'Non-Match', 'Non-Match', 'Non-Match', 'Non-Match', 'Non-Match', 'Non-Match', 'Non-Match', 'Non-Match', 'Non-Match', 'Non-Match', 'Non-Match', 'Non-Match', 'Non-Match', 'Non-Match', 'Non-Match', 'Non-Match', 'Non-Match', 'Non-Match', 'Non-Match', 'Non-Match', 'Non-Match', 'Non-Match', 'Non-Match', 'Non-Match', 'Non-Match', 'Non-Match', 'Non-Match', 'Non-Match', 'Non-Match', 'Non-Match', 'Non-Match', 'Non-Match', 'Non-Match', 'Non-Match', 'Non-Match', 'Non-Match', 'Non-Match', 'Non-Match', 'Non-Match', 'Non-Match', 'Non-Match', 'Non-Match', 'Non-Match', 'Non-Match', 'Non-Match', 'Non-Match', 'Non-Match', 'Non-Match', 'Non-Match', 'Non-Match', 'Non-Match', 'Non-Match', 'Non-Match', 'Non-Match', 'Non-Match', 'Non-Match', 'Non-Match', 'Non-Match', 'Non-Match', 'Non-Match', 'Non-Match', 'Non-Match', 'Match', 'Non-Match', 'Non-Match', 'Non-Match', 'Non-Match', 'Non-Match', 'Non-Match', 'Non-Match', 'Non-Match', 'Non-Match', 'Non-Match', 'Non-Match', 'Non-Match', 'Non-Match', 'Non-Match', 'Non-Match', 'Non-Match', 'Non-Match', 'Non-Match', 'Non-Match', 'Non-Match', 'Match', 'Non-Match', 'Non-Match', 'Non-Match', 'Non-Match', 'Non-Match', 'Non-Match', 'Non-Match', 'Non-Match', 'Non-Match', 'Non-Match', 'Non-Match', 'Non-Match', 'Non-Match', 'Non-Match', 'Non-Match', 'Non-Match', 'Non-Match', 'Non-Match', 'Non-Match', 'Non-Match', 'Non-Match', 'Non-Match', 'Non-Match', 'Non-Match', 'Non-Match', 'Non-Match', 'Non-Match', 'Non-Match', 'Non-Match', 'Non-Match', 'Non-Match', 'Non-Match', 'Non-Match', 'Non-Match', 'Non-Match', 'Non-Match', 'Non-Match', 'Non-Match', 'Non-Match', 'Non-Match', 'Non-Match', 'Non-Match', 'Non-Match', 'Non-Match', 'Non-Match', 'Non-Match', 'Non-Match', 'Non-Match', 'Non-Match', 'Non-Match', 'Non-Match', 'Non-Match', 'Non-Match', 'Non-Match', 'Non-Match', 'Non-Match', 'Non-Match', 'Non-Match', 'Non-Match', 'Non-Match', 'Non-Match', 'Non-Match', 'Non-Match', 'Non-Match', 'Non-Match', 'Non-Match', 'Non-Match', 'Non-Match', 'Non-Match', 'Non-Match', 'Non-Match', 'Non-Match', 'Non-Match', 'Non-Match', 'Non-Match', 'Non-Match', 'Non-Match', 'Non-Match', 'Non-Match', 'Non-Match', 'Non-Match', 'Non-Match', 'Non-Match', 'Match', 'Non-Match', 'Non-Match', 'Non-Match', 'Non-Match', 'Non-Match', 'Non-Match', 'Non-Match', 'Non-Match', 'Non-Match', 'Non-Match', 'Non-Match', 'Non-Match', 'Non-Match', 'Non-Match', 'Non-Match', 'Non-Match', 'Non-Match', 'Non-Match', 'Non-Match', 'Non-Match', 'Non-Match', 'Non-Match', 'Non-Match', 'Non-Match', 'Non-Match', 'Non-Match', 'Non-Match', 'Non-Match', 'Non-Match', 'Non-Match', 'Non-Match', 'Non-Match', 'Non-Match', 'Non-Match', 'Non-Match', 'Non-Match', 'Non-Match', 'Non-Match', 'Non-Match', 'Non-Match', 'Match', 'Non-Match', 'Non-Match', 'Non-Match', 'Non-Match', 'Non-Match', 'Non-Match', 'Non-Match', 'Non-Match', 'Non-Match', 'Non-Match', 'Non-Match', 'Non-Match', 'Non-Match', 'Non-Match', 'Non-Match', 'Non-Match', 'Non-Match', 'Non-Match', 'Non-Match', 'Non-Match', 'Non-Match', 'Non-Match', 'Non-Match', 'Non-Match', 'Non-Match', 'Non-Match', 'Non-Match', 'Non-Match', 'Non-Match', 'Non-Match', 'Non-Match', 'Non-Match', 'Non-Match', 'Non-Match', 'Non-Match', 'Non-Match', 'Non-Match', 'Non-Match', 'Non-Match', 'Non-Match', 'Non-Match', 'Non-Match', 'Non-Match', 'Non-Match', 'Non-Match', 'Non-Match', 'Non-Match', 'Non-Match', 'Non-Match', 'Non-Match', 'Non-Match', 'Non-Match', 'Non-Match', 'Non-Match', 'Non-Match', 'Non-Match', 'Non-Match', 'Non-Match', 'Non-Match', 'Non-Match', 'Non-Match', 'Non-Match', 'Non-Match', 'Non-Match', 'Non-Match', 'Non-Match', 'Non-Match', 'Non-Match', 'Non-Match', 'Non-Match', 'Non-Match', 'Non-Match', 'Non-Match', 'Non-Match', 'Non-Match', 'Non-Match', 'Non-Match', 'Non-Match', 'Non-Match', 'Non-Match', 'Non-Match', 'Non-Match', 'Non-Match', 'Non-Match', 'Non-Match', 'Non-Match', 'Non-Match', 'Non-Match', 'Non-Match', 'Non-Match', 'Non-Match', 'Non-Match', 'Non-Match', 'Non-Match', 'Non-Match', 'Non-Match', 'Non-Match', 'Non-Match', 'Non-Match', 'Match', 'Non-Match', 'Non-Match', 'Non-Match', 'Non-Match', 'Non-Match', 'Non-Match', 'Non-Match', 'Non-Match', 'Non-Match', 'Non-Match', 'Non-Match', 'Non-Match', 'Non-Match', 'Non-Match', 'Non-Match', 'Non-Match', 'Non-Match', 'Non-Match', 'Non-Match', 'Non-Match', 'Non-Match', 'Non-Match', 'Non-Match', 'Non-Match', 'Non-Match', 'Non-Match', 'Non-Match', 'Non-Match', 'Non-Match', 'Non-Match', 'Non-Match', 'Non-Match', 'Non-Match', 'Non-Match', 'Non-Match', 'Non-Match', 'Non-Match', 'Non-Match', 'Non-Match', 'Non-Match', 'Non-Match', 'Non-Match', 'Non-Match', 'Non-Match', 'Non-Match', 'Non-Match', 'Non-Match', 'Non-Match', 'Non-Match', 'Non-Match', 'Non-Match', 'Non-Match', 'Non-Match', 'Non-Match', 'Non-Match', 'Non-Match', 'Non-Match', 'Non-Match', 'Non-Match', 'Non-Match', 'Non-Match', 'Non-Match', 'Non-Match', 'Non-Match', 'Non-Match', 'Non-Match', 'Non-Match', 'Non-Match', 'Non-Match', 'Non-Match', 'Non-Match', 'Non-Match', 'Non-Match', 'Non-Match', 'Non-Match', 'Non-Match', 'Non-Match', 'Non-Match', 'Non-Match', 'Non-Match', 'Non-Match', 'Non-Match', 'Non-Match', 'Non-Match', 'Non-Match', 'Non-Match', 'Non-Match', 'Non-Match', 'Match', 'Non-Match', 'Non-Match', 'Non-Match', 'Non-Match', 'Non-Match', 'Non-Match', 'Non-Match', 'Non-Match', 'Non-Match', 'Non-Match', 'Non-Match', 'Non-Match', 'Non-Match', 'Non-Match', 'Non-Match', 'Non-Match', 'Non-Match', 'Non-Match', 'Non-Match', 'Non-Match', 'Non-Match', 'Non-Match', 'Non-Match', 'Non-Match', 'Non-Match', 'Non-Match', 'Non-Match', 'Non-Match', 'Non-Match', 'Non-Match', 'Non-Match', 'Non-Match', 'Non-Match', 'Non-Match', 'Non-Match', 'Non-Match', 'Non-Match', 'Match', 'Non-Match', 'Non-Match', 'Non-Match', 'Non-Match', 'Non-Match', 'Non-Match', 'Non-Match', 'Non-Match', 'Non-Match', 'Non-Match', 'Non-Match', 'Match', 'Non-Match', 'Non-Match', 'Non-Match', 'Non-Match', 'Non-Match', 'Non-Match', 'Non-Match', 'Non-Match', 'Non-Match', 'Non-Match', 'Non-Match', 'Non-Match', 'Non-Match', 'Non-Match', 'Non-Match', 'Non-Match', 'Non-Match', 'Non-Match', 'Non-Match', 'Non-Match', 'Non-Match', 'Non-Match', 'Non-Match', 'Non-Match', 'Match', 'Non-Match', 'Non-Match', 'Non-Match', 'Non-Match', 'Non-Match', 'Non-Match', 'Non-Match', 'Non-Match', 'Non-Match', 'Non-Match', 'Non-Match', 'Non-Match', 'Non-Match', 'Non-Match', 'Non-Match', 'Non-Match', 'Non-Match', 'Non-Match', 'Non-Match', 'Non-Match', 'Non-Match', 'Non-Match', 'Non-Match', 'Non-Match', 'Non-Match', 'Non-Match', 'Non-Match', 'Non-Match', 'Non-Match', 'Non-Match', 'Non-Match', 'Non-Match', 'Non-Match', 'Non-Match', 'Non-Match', 'Non-Match', 'Non-Match', 'Non-Match', 'Non-Match', 'Non-Match', 'Non-Match', 'Non-Match', 'Non-Match', 'Non-Match', 'Non-Match', 'Non-Match', 'Non-Match', 'Non-Match', 'Non-Match', 'Non-Match', 'Non-Match', 'Non-Match', 'Non-Match', 'Non-Match', 'Non-Match', 'Non-Match', 'Non-Match', 'Non-Match', 'Non-Match', 'Non-Match', 'Non-Match', 'Non-Match', 'Non-Match', 'Non-Match', 'Non-Match', 'Non-Match', 'Non-Match', 'Non-Match', 'Non-Match', 'Non-Match', 'Match', 'Non-Match', 'Non-Match', 'Non-Match', 'Non-Match', 'Non-Match', 'Non-Match', 'Non-Match', 'Non-Match', 'Non-Match', 'Non-Match', 'Non-Match', 'Non-Match', 'Non-Match', 'Non-Match', 'Non-Match', 'Non-Match', 'Non-Match', 'Non-Match', 'Non-Match', 'Non-Match', 'Non-Match', 'Non-Match', 'Non-Match', 'Non-Match', 'Non-Match', 'Match', 'Non-Match', 'Non-Match', 'Non-Match', 'Non-Match', 'Non-Match', 'Non-Match', 'Non-Match', 'Non-Match', 'Non-Match', 'Non-Match', 'Non-Match', 'Non-Match', 'Non-Match', 'Non-Match', 'Non-Match', 'Non-Match', 'Non-Match', 'Match', 'Non-Match', 'Non-Match', 'Non-Match', 'Non-Match', 'Non-Match', 'Non-Match', 'Non-Match', 'Non-Match', 'Non-Match', 'Non-Match', 'Non-Match', 'Non-Match', 'Non-Match', 'Non-Match', 'Non-Match', 'Non-Match', 'Non-Match', 'Non-Match', 'Non-Match', 'Non-Match', 'Non-Match', 'Non-Match', 'Non-Match', 'Non-Match', 'Non-Match', 'Non-Match', 'Non-Match', 'Non-Match', 'Non-Match', 'Non-Match', 'Non-Match', 'Non-Match', 'Non-Match', 'Non-Match', 'Non-Match', 'Non-Match', 'Non-Match', 'Non-Match', 'Non-Match', 'Non-Match', 'Non-Match', 'Non-Match', 'Non-Match', 'Non-Match', 'Non-Match', 'Non-Match', 'Non-Match', 'Non-Match', 'Non-Match', 'Non-Match', 'Non-Match', 'Non-Match', 'Non-Match', 'Non-Match', 'Non-Match', 'Non-Match', 'Non-Match', 'Non-Match', 'Non-Match', 'Non-Match', 'Non-Match', 'Non-Match', 'Non-Match', 'Non-Match', 'Non-Match', 'Non-Match', 'Match', 'Non-Match', 'Non-Match', 'Non-Match', 'Non-Match', 'Non-Match', 'Non-Match', 'Non-Match', 'Non-Match', 'Non-Match', 'Non-Match', 'Non-Match', 'Non-Match', 'Non-Match', 'Non-Match', 'Non-Match', 'Non-Match', 'Non-Match', 'Non-Match', 'Non-Match', 'Match', 'Non-Match', 'Non-Match', 'Non-Match', 'Non-Match', 'Non-Match', 'Non-Match', 'Non-Match', 'Non-Match', 'Non-Match', 'Non-Match', 'Non-Match', 'Non-Match', 'Non-Match', 'Non-Match', 'Non-Match', 'Non-Match', 'Non-Match', 'Non-Match', 'Non-Match', 'Non-Match', 'Non-Match', 'Non-Match', 'Non-Match', 'Non-Match', 'Non-Match', 'Non-Match', 'Non-Match', 'Non-Match', 'Non-Match', 'Non-Match', 'Non-Match', 'Non-Match', 'Non-Match', 'Non-Match', 'Non-Match', 'Non-Match', 'Non-Match', 'Non-Match', 'Non-Match', 'Non-Match', 'Non-Match', 'Non-Match', 'Non-Match', 'Non-Match', 'Non-Match', 'Non-Match', 'Non-Match', 'Non-Match', 'Non-Match', 'Non-Match', 'Non-Match', 'Non-Match', 'Non-Match', 'Non-Match', 'Non-Match', 'Non-Match', 'Non-Match', 'Non-Match', 'Non-Match', 'Non-Match', 'Non-Match', 'Non-Match', 'Non-Match', 'Non-Match', 'Non-Match', 'Non-Match', 'Non-Match', 'Non-Match', 'Non-Match', 'Non-Match', 'Non-Match', 'Non-Match', 'Non-Match', 'Non-Match', 'Non-Match', 'Non-Match', 'Non-Match', 'Non-Match', 'Non-Match', 'Non-Match', 'Non-Match', 'Non-Match', 'Non-Match', 'Non-Match', 'Non-Match', 'Non-Match', 'Non-Match', 'Non-Match', 'Non-Match', 'Non-Match', 'Non-Match', 'Non-Match', 'Non-Match', 'Non-Match', 'Non-Match', 'Non-Match', 'Non-Match', 'Non-Match', 'Non-Match', 'Non-Match', 'Non-Match', 'Non-Match', 'Non-Match', 'Non-Match', 'Non-Match', 'Non-Match', 'Non-Match', 'Non-Match', 'Non-Match', 'Non-Match', 'Non-Match', 'Non-Match', 'Non-Match', 'Non-Match', 'Non-Match', 'Non-Match', 'Non-Match', 'Non-Match', 'Non-Match', 'Non-Match', 'Non-Match', 'Non-Match', 'Non-Match', 'Non-Match', 'Non-Match', 'Non-Match', 'Non-Match', 'Non-Match', 'Non-Match', 'Non-Match', 'Non-Match', 'Non-Match', 'Non-Match', 'Non-Match', 'Non-Match', 'Non-Match', 'Non-Match', 'Non-Match', 'Non-Match', 'Non-Match', 'Non-Match', 'Non-Match', 'Non-Match', 'Non-Match', 'Non-Match', 'Non-Match', 'Non-Match', 'Non-Match', 'Non-Match', 'Non-Match', 'Non-Match', 'Non-Match', 'Non-Match', 'Non-Match', 'Non-Match', 'Non-Match', 'Non-Match', 'Non-Match', 'Non-Match', 'Non-Match', 'Non-Match', 'Non-Match', 'Non-Match', 'Non-Match', 'Non-Match', 'Non-Match', 'Non-Match', 'Non-Match', 'Non-Match', 'Non-Match', 'Non-Match', 'Non-Match', 'Non-Match', 'Non-Match', 'Non-Match', 'Non-Match', 'Non-Match', 'Non-Match', 'Non-Match', 'Non-Match', 'Non-Match', 'Non-Match', 'Non-Match', 'Non-Match', 'Non-Match', 'Non-Match', 'Non-Match', 'Non-Match', 'Non-Match', 'Non-Match', 'Non-Match', 'Non-Match', 'Non-Match', 'Non-Match', 'Non-Match', 'Non-Match', 'Non-Match', 'Non-Match', 'Non-Match', 'Non-Match', 'Non-Match', 'Non-Match', 'Non-Match', 'Non-Match', 'Non-Match', 'Non-Match', 'Non-Match', 'Non-Match', 'Non-Match', 'Non-Match', 'Non-Match', 'Non-Match', 'Non-Match', 'Non-Match', 'Non-Match', 'Non-Match', 'Non-Match', 'Non-Match', 'Non-Match', 'Non-Match', 'Non-Match', 'Non-Match', 'Non-Match', 'Non-Match', 'Non-Match', 'Non-Match', 'Non-Match', 'Non-Match', 'Non-Match', 'Non-Match', 'Non-Match', 'Non-Match', 'Non-Match', 'Non-Match', 'Non-Match', 'Non-Match', 'Non-Match', 'Non-Match', 'Non-Match', 'Non-Match', 'Non-Match', 'Non-Match', 'Non-Match', 'Non-Match', 'Non-Match', 'Non-Match', 'Non-Match', 'Non-Match', 'Non-Match', 'Non-Match', 'Non-Match', 'Non-Match', 'Non-Match', 'Non-Match', 'Non-Match', 'Non-Match', 'Non-Match', 'Non-Match', 'Non-Match', 'Non-Match', 'Non-Match', 'Non-Match', 'Non-Match', 'Non-Match', 'Non-Match', 'Non-Match', 'Non-Match', 'Non-Match', 'Non-Match', 'Non-Match', 'Non-Match', 'Non-Match', 'Non-Match', 'Non-Match', 'Non-Match', 'Non-Match', 'Non-Match', 'Non-Match', 'Non-Match', 'Non-Match', 'Non-Match', 'Non-Match', 'Non-Match', 'Non-Match', 'Non-Match', 'Non-Match', 'Non-Match', 'Non-Match', 'Non-Match', 'Non-Match', 'Non-Match', 'Non-Match', 'Non-Match', 'Non-Match', 'Non-Match', 'Non-Match', 'Non-Match', 'Non-Match', 'Non-Match', 'Non-Match', 'Non-Match', 'Non-Match', 'Non-Match', 'Non-Match', 'Non-Match', 'Non-Match', 'Non-Match', 'Non-Match', 'Non-Match', 'Non-Match', 'Non-Match', 'Non-Match', 'Non-Match', 'Non-Match', 'Non-Match', 'Non-Match', 'Non-Match', 'Non-Match', 'Non-Match', 'Non-Match', 'Non-Match', 'Non-Match', 'Non-Match', 'Non-Match', 'Non-Match', 'Non-Match', 'Non-Match', 'Non-Match', 'Non-Match', 'Non-Match', 'Non-Match', 'Non-Match', 'Non-Match', 'Non-Match', 'Non-Match', 'Non-Match', 'Non-Match', 'Non-Match', 'Non-Match', 'Non-Match', 'Non-Match', 'Non-Match', 'Non-Match', 'Non-Match', 'Non-Match', 'Non-Match', 'Non-Match', 'Non-Match', 'Non-Match', 'Non-Match', 'Non-Match', 'Non-Match', 'Non-Match', 'Non-Match', 'Non-Match', 'Non-Match', 'Non-Match', 'Non-Match', 'Non-Match', 'Non-Match', 'Non-Match', 'Non-Match', 'Non-Match', 'Non-Match', 'Non-Match', 'Non-Match', 'Non-Match', 'Non-Match', 'Non-Match', 'Non-Match', 'Non-Match', 'Non-Match', 'Non-Match', 'Non-Match', 'Non-Match', 'Non-Match', 'Non-Match', 'Non-Match', 'Non-Match', 'Non-Match', 'Non-Match', 'Non-Match', 'Non-Match', 'Non-Match', 'Non-Match', 'Match', 'Non-Match', 'Non-Match', 'Non-Match', 'Non-Match', 'Non-Match', 'Non-Match', 'Non-Match', 'Non-Match', 'Non-Match', 'Non-Match', 'Non-Match', 'Non-Match', 'Non-Match', 'Non-Match', 'Non-Match', 'Non-Match', 'Non-Match', 'Non-Match', 'Non-Match', 'Non-Match', 'Non-Match', 'Non-Match', 'Non-Match', 'Non-Match', 'Non-Match', 'Non-Match', 'Non-Match', 'Non-Match', 'Non-Match', 'Non-Match', 'Non-Match', 'Non-Match', 'Non-Match', 'Non-Match', 'Non-Match', 'Non-Match', 'Non-Match', 'Non-Match', 'Non-Match', 'Non-Match', 'Non-Match', 'Non-Match', 'Non-Match', 'Non-Match', 'Non-Match', 'Non-Match', 'Non-Match', 'Non-Match', 'Non-Match', 'Non-Match', 'Non-Match', 'Non-Match', 'Non-Match', 'Non-Match', 'Non-Match', 'Non-Match', 'Non-Match', 'Non-Match', 'Non-Match', 'Non-Match', 'Non-Match', 'Non-Match', 'Non-Match', 'Non-Match', 'Non-Match', 'Non-Match', 'Non-Match', 'Non-Match', 'Non-Match', 'Non-Match', 'Non-Match', 'Non-Match', 'Non-Match', 'Non-Match', 'Non-Match', 'Non-Match', 'Non-Match', 'Non-Match', 'Non-Match', 'Non-Match', 'Non-Match', 'Non-Match', 'Non-Match', 'Non-Match', 'Non-Match', 'Non-Match', 'Non-Match', 'Non-Match', 'Non-Match', 'Non-Match', 'Non-Match', 'Non-Match', 'Non-Match', 'Non-Match', 'Non-Match', 'Non-Match', 'Non-Match', 'Non-Match', 'Non-Match', 'Non-Match', 'Non-Match', 'Non-Match', 'Non-Match', 'Non-Match', 'Non-Match', 'Non-Match', 'Non-Match', 'Non-Match', 'Non-Match', 'Non-Match', 'Non-Match', 'Non-Match', 'Non-Match', 'Non-Match', 'Non-Match', 'Non-Match', 'Non-Match', 'Non-Match', 'Non-Match', 'Non-Match', 'Non-Match', 'Non-Match', 'Non-Match', 'Non-Match', 'Non-Match', 'Non-Match', 'Non-Match', 'Non-Match', 'Non-Match', 'Non-Match', 'Non-Match', 'Non-Match', 'Non-Match', 'Non-Match', 'Non-Match', 'Non-Match', 'Non-Match', 'Non-Match', 'Non-Match', 'Non-Match', 'Non-Match', 'Non-Match', 'Non-Match', 'Non-Match', 'Non-Match', 'Non-Match', 'Non-Match', 'Non-Match', 'Non-Match', 'Non-Match', 'Match', 'Non-Match', 'Non-Match', 'Non-Match', 'Non-Match', 'Non-Match', 'Non-Match', 'Non-Match', 'Non-Match', 'Non-Match', 'Non-Match', 'Non-Match', 'Non-Match', 'Non-Match', 'Non-Match', 'Non-Match', 'Non-Match', 'Non-Match', 'Non-Match', 'Non-Match', 'Non-Match', 'Non-Match', 'Non-Match', 'Match', 'Non-Match', 'Non-Match', 'Non-Match', 'Non-Match', 'Non-Match', 'Non-Match', 'Non-Match', 'Non-Match', 'Non-Match', 'Non-Match', 'Non-Match', 'Non-Match', 'Non-Match', 'Non-Match', 'Non-Match', 'Non-Match', 'Non-Match', 'Non-Match', 'Non-Match', 'Non-Match', 'Non-Match', 'Non-Match', 'Non-Match', 'Non-Match', 'Non-Match', 'Non-Match', 'Non-Match', 'Non-Match', 'Non-Match', 'Non-Match', 'Non-Match', 'Non-Match', 'Non-Match', 'Non-Match', 'Non-Match', 'Non-Match', 'Non-Match', 'Non-Match', 'Non-Match', 'Non-Match', 'Non-Match', 'Non-Match', 'Non-Match', 'Non-Match', 'Non-Match', 'Non-Match', 'Non-Match', 'Non-Match', 'Non-Match', 'Non-Match', 'Non-Match', 'Non-Match', 'Non-Match', 'Non-Match', 'Non-Match', 'Non-Match', 'Non-Match', 'Non-Match', 'Non-Match', 'Non-Match', 'Non-Match', 'Non-Match', 'Non-Match', 'Non-Match', 'Non-Match', 'Non-Match', 'Non-Match', 'Non-Match', 'Non-Match', 'Non-Match', 'Non-Match', 'Non-Match', 'Non-Match', 'Non-Match', 'Non-Match', 'Non-Match', 'Non-Match', 'Non-Match', 'Non-Match', 'Non-Match', 'Non-Match', 'Non-Match', 'Non-Match', 'Non-Match', 'Non-Match', 'Non-Match', 'Non-Match', 'Non-Match', 'Non-Match', 'Non-Match', 'Non-Match', 'Non-Match', 'Non-Match', 'Non-Match', 'Non-Match', 'Non-Match', 'Non-Match', 'Non-Match', 'Non-Match', 'Non-Match', 'Non-Match', 'Non-Match', 'Non-Match', 'Non-Match', 'Non-Match', 'Non-Match', 'Non-Match', 'Non-Match', 'Non-Match', 'Non-Match', 'Non-Match', 'Non-Match', 'Non-Match', 'Non-Match', 'Non-Match', 'Non-Match', 'Non-Match', 'Non-Match', 'Non-Match', 'Non-Match', 'Non-Match', 'Non-Match', 'Match', 'Non-Match', 'Non-Match', 'Non-Match', 'Non-Match', 'Non-Match', 'Non-Match', 'Non-Match', 'Non-Match', 'Non-Match', 'Non-Match', 'Non-Match', 'Non-Match', 'Non-Match', 'Non-Match', 'Non-Match', 'Non-Match', 'Non-Match', 'Non-Match', 'Non-Match', 'Non-Match', 'Non-Match', 'Non-Match', 'Non-Match', 'Non-Match', 'Non-Match', 'Non-Match', 'Non-Match', 'Non-Match', 'Non-Match', 'Non-Match', 'Non-Match', 'Non-Match', 'Non-Match', 'Non-Match', 'Non-Match', 'Non-Match', 'Non-Match', 'Non-Match', 'Non-Match', 'Non-Match', 'Non-Match', 'Non-Match', 'Non-Match', 'Non-Match', 'Non-Match', 'Non-Match', 'Non-Match', 'Non-Match', 'Non-Match', 'Non-Match', 'Non-Match', 'Non-Match', 'Non-Match', 'Non-Match', 'Non-Match', 'Non-Match', 'Non-Match', 'Non-Match', 'Non-Match', 'Non-Match', 'Non-Match', 'Non-Match', 'Non-Match', 'Non-Match', 'Non-Match', 'Non-Match', 'Non-Match', 'Non-Match', 'Non-Match', 'Non-Match', 'Non-Match', 'Non-Match', 'Non-Match', 'Match', 'Non-Match', 'Non-Match', 'Non-Match', 'Non-Match', 'Non-Match', 'Non-Match', 'Non-Match', 'Non-Match', 'Non-Match', 'Non-Match', 'Non-Match', 'Non-Match', 'Non-Match', 'Non-Match', 'Non-Match', 'Non-Match', 'Non-Match', 'Non-Match', 'Non-Match', 'Non-Match', 'Non-Match', 'Non-Match', 'Non-Match', 'Non-Match', 'Non-Match', 'Non-Match', 'Non-Match', 'Non-Match', 'Non-Match', 'Non-Match', 'Non-Match', 'Non-Match', 'Non-Match', 'Non-Match', 'Non-Match', 'Non-Match', 'Non-Match', 'Non-Match', 'Non-Match', 'Non-Match', 'Non-Match', 'Non-Match', 'Non-Match', 'Non-Match', 'Non-Match', 'Non-Match', 'Non-Match', 'Non-Match', 'Non-Match', 'Non-Match', 'Non-Match', 'Non-Match', 'Non-Match', 'Non-Match', 'Non-Match', 'Non-Match', 'Non-Match', 'Non-Match', 'Non-Match', 'Non-Match', 'Non-Match', 'Non-Match', 'Non-Match', 'Non-Match', 'Non-Match', 'Non-Match', 'Non-Match', 'Non-Match', 'Non-Match', 'Non-Match', 'Non-Match', 'Non-Match', 'Non-Match', 'Non-Match', 'Non-Match', 'Non-Match', 'Non-Match', 'Non-Match', 'Non-Match', 'Non-Match', 'Non-Match', 'Non-Match', 'Non-Match', 'Non-Match', 'Non-Match', 'Non-Match', 'Non-Match', 'Non-Match', 'Non-Match', 'Non-Match', 'Non-Match', 'Non-Match', 'Non-Match', 'Non-Match', 'Non-Match', 'Non-Match', 'Non-Match', 'Non-Match', 'Non-Match', 'Non-Match', 'Non-Match', 'Non-Match', 'Non-Match', 'Non-Match', 'Non-Match', 'Non-Match', 'Non-Match', 'Non-Match', 'Non-Match', 'Non-Match', 'Non-Match', 'Non-Match', 'Non-Match', 'Non-Match', 'Non-Match', 'Non-Match', 'Non-Match', 'Non-Match', 'Non-Match', 'Non-Match', 'Non-Match', 'Non-Match', 'Non-Match', 'Non-Match', 'Non-Match', 'Non-Match', 'Non-Match', 'Non-Match', 'Non-Match', 'Non-Match', 'Non-Match', 'Non-Match', 'Non-Match', 'Non-Match', 'Non-Match', 'Non-Match', 'Non-Match', 'Non-Match', 'Non-Match', 'Non-Match', 'Non-Match', 'Non-Match', 'Non-Match', 'Non-Match', 'Non-Match', 'Non-Match', 'Non-Match', 'Non-Match', 'Non-Match', 'Non-Match', 'Non-Match', 'Non-Match', 'Non-Match', 'Non-Match', 'Non-Match', 'Non-Match', 'Non-Match', 'Non-Match', 'Non-Match', 'Non-Match', 'Non-Match', 'Non-Match', 'Non-Match', 'Non-Match', 'Non-Match', 'Non-Match', 'Non-Match', 'Non-Match', 'Non-Match', 'Non-Match', 'Non-Match', 'Non-Match', 'Match', 'Non-Match', 'Non-Match', 'Non-Match', 'Non-Match', 'Non-Match', 'Non-Match', 'Non-Match', 'Non-Match', 'Non-Match', 'Non-Match', 'Non-Match', 'Non-Match', 'Non-Match', 'Non-Match', 'Non-Match', 'Non-Match', 'Non-Match', 'Non-Match', 'Non-Match', 'Non-Match', 'Non-Match', 'Non-Match', 'Non-Match', 'Non-Match', 'Non-Match', 'Non-Match', 'Non-Match', 'Non-Match', 'Non-Match', 'Non-Match', 'Non-Match', 'Non-Match', 'Non-Match', 'Non-Match', 'Non-Match', 'Non-Match', 'Non-Match', 'Non-Match', 'Non-Match', 'Non-Match', 'Non-Match', 'Non-Match', 'Non-Match', 'Non-Match', 'Non-Match', 'Non-Match', 'Non-Match', 'Non-Match', 'Non-Match', 'Non-Match', 'Non-Match', 'Non-Match', 'Non-Match', 'Non-Match', 'Non-Match', 'Non-Match', 'Non-Match', 'Non-Match', 'Non-Match', 'Non-Match', 'Non-Match', 'Non-Match', 'Non-Match', 'Non-Match', 'Non-Match', 'Non-Match', 'Non-Match', 'Non-Match', 'Non-Match', 'Non-Match', 'Non-Match', 'Non-Match', 'Non-Match', 'Non-Match', 'Non-Match', 'Non-Match', 'Non-Match', 'Non-Match', 'Match', 'Non-Match', 'Non-Match', 'Non-Match', 'Non-Match', 'Non-Match', 'Non-Match', 'Non-Match', 'Non-Match', 'Non-Match', 'Non-Match', 'Non-Match', 'Non-Match', 'Non-Match', 'Non-Match', 'Non-Match', 'Non-Match', 'Non-Match', 'Non-Match', 'Non-Match', 'Non-Match', 'Non-Match', 'Non-Match', 'Non-Match', 'Non-Match', 'Non-Match', 'Non-Match', 'Non-Match', 'Non-Match', 'Non-Match', 'Non-Match', 'Non-Match', 'Non-Match', 'Non-Match', 'Non-Match', 'Non-Match', 'Non-Match', 'Non-Match', 'Non-Match', 'Non-Match', 'Non-Match', 'Non-Match', 'Non-Match', 'Non-Match', 'Non-Match', 'Non-Match', 'Non-Match', 'Non-Match', 'Non-Match', 'Non-Match', 'Non-Match', 'Non-Match', 'Non-Match', 'Non-Match', 'Non-Match', 'Non-Match', 'Non-Match', 'Non-Match', 'Non-Match', 'Non-Match', 'Non-Match', 'Non-Match', 'Non-Match', 'Non-Match', 'Non-Match', 'Non-Match', 'Non-Match', 'Non-Match', 'Non-Match', 'Non-Match', 'Non-Match', 'Non-Match', 'Non-Match', 'Non-Match', 'Non-Match', 'Non-Match', 'Non-Match', 'Non-Match', 'Non-Match', 'Non-Match', 'Non-Match', 'Non-Match', 'Non-Match', 'Non-Match', 'Non-Match', 'Non-Match', 'Non-Match', 'Non-Match', 'Non-Match', 'Non-Match', 'Non-Match', 'Non-Match', 'Non-Match', 'Non-Match', 'Non-Match', 'Non-Match', 'Non-Match', 'Non-Match', 'Non-Match', 'Non-Match', 'Non-Match', 'Non-Match', 'Non-Match', 'Non-Match', 'Non-Match', 'Non-Match', 'Non-Match', 'Non-Match', 'Non-Match', 'Non-Match', 'Non-Match', 'Non-Match', 'Non-Match', 'Non-Match', 'Non-Match', 'Non-Match', 'Non-Match', 'Non-Match', 'Non-Match', 'Non-Match', 'Non-Match', 'Non-Match', 'Non-Match', 'Non-Match', 'Non-Match', 'Non-Match', 'Non-Match', 'Non-Match', 'Non-Match', 'Non-Match', 'Non-Match', 'Non-Match', 'Non-Match', 'Non-Match', 'Non-Match', 'Non-Match', 'Non-Match', 'Non-Match', 'Non-Match', 'Non-Match', 'Non-Match', 'Non-Match', 'Non-Match', 'Non-Match', 'Non-Match', 'Non-Match', 'Non-Match', 'Non-Match', 'Non-Match', 'Non-Match', 'Non-Match', 'Non-Match', 'Non-Match', 'Non-Match', 'Non-Match', 'Non-Match', 'Non-Match', 'Non-Match', 'Non-Match', 'Non-Match', 'Non-Match', 'Non-Match', 'Non-Match', 'Non-Match', 'Non-Match', 'Non-Match', 'Non-Match', 'Non-Match', 'Non-Match', 'Non-Match', 'Non-Match', 'Non-Match', 'Non-Match', 'Non-Match', 'Non-Match', 'Non-Match', 'Non-Match', 'Non-Match', 'Non-Match', 'Non-Match', 'Non-Match', 'Non-Match', 'Non-Match', 'Non-Match', 'Non-Match', 'Non-Match', 'Non-Match', 'Non-Match', 'Non-Match', 'Non-Match', 'Non-Match', 'Non-Match', 'Non-Match', 'Non-Match', 'Non-Match', 'Non-Match', 'Non-Match', 'Non-Match', 'Non-Match', 'Non-Match', 'Non-Match', 'Non-Match', 'Non-Match', 'Non-Match', 'Non-Match', 'Non-Match', 'Non-Match', 'Non-Match', 'Non-Match', 'Non-Match', 'Non-Match', 'Non-Match', 'Non-Match', 'Non-Match', 'Non-Match', 'Non-Match', 'Non-Match', 'Non-Match', 'Non-Match', 'Non-Match', 'Non-Match', 'Non-Match', 'Non-Match', 'Non-Match', 'Non-Match', 'Non-Match', 'Non-Match', 'Non-Match', 'Non-Match', 'Non-Match', 'Non-Match', 'Non-Match', 'Non-Match', 'Non-Match', 'Non-Match', 'Non-Match', 'Non-Match', 'Non-Match', 'Non-Match', 'Non-Match', 'Non-Match', 'Non-Match', 'Non-Match', 'Non-Match', 'Non-Match', 'Non-Match', 'Non-Match', 'Non-Match', 'Non-Match', 'Non-Match', 'Non-Match', 'Non-Match', 'Non-Match', 'Non-Match', 'Non-Match', 'Non-Match', 'Non-Match', 'Non-Match', 'Non-Match', 'Non-Match', 'Non-Match', 'Non-Match', 'Non-Match', 'Non-Match', 'Non-Match', 'Non-Match', 'Non-Match', 'Non-Match', 'Non-Match', 'Non-Match', 'Non-Match', 'Non-Match', 'Non-Match', 'Non-Match', 'Non-Match', 'Non-Match', 'Non-Match', 'Non-Match', 'Non-Match', 'Non-Match', 'Non-Match', 'Non-Match', 'Non-Match', 'Non-Match', 'Non-Match', 'Non-Match', 'Non-Match', 'Non-Match', 'Non-Match', 'Non-Match', 'Non-Match', 'Non-Match', 'Non-Match', 'Non-Match', 'Non-Match', 'Non-Match', 'Non-Match', 'Non-Match', 'Non-Match', 'Non-Match', 'Non-Match', 'Non-Match', 'Non-Match', 'Non-Match', 'Non-Match', 'Non-Match', 'Non-Match', 'Non-Match', 'Non-Match', 'Non-Match', 'Non-Match', 'Non-Match', 'Non-Match', 'Non-Match', 'Non-Match', 'Non-Match', 'Non-Match', 'Non-Match', 'Non-Match', 'Non-Match', 'Non-Match', 'Non-Match', 'Non-Match', 'Non-Match', 'Non-Match', 'Non-Match', 'Non-Match', 'Non-Match', 'Non-Match', 'Non-Match', 'Non-Match', 'Non-Match', 'Non-Match', 'Non-Match', 'Non-Match', 'Non-Match', 'Non-Match', 'Non-Match', 'Non-Match', 'Non-Match', 'Non-Match', 'Non-Match', 'Non-Match', 'Non-Match', 'Non-Match', 'Non-Match', 'Non-Match', 'Non-Match', 'Non-Match', 'Non-Match', 'Non-Match', 'Non-Match', 'Non-Match', 'Non-Match', 'Non-Match', 'Non-Match', 'Non-Match', 'Non-Match', 'Non-Match', 'Non-Match', 'Non-Match', 'Non-Match', 'Non-Match', 'Non-Match', 'Non-Match', 'Non-Match', 'Non-Match', 'Non-Match', 'Non-Match', 'Non-Match', 'Non-Match', 'Non-Match', 'Non-Match', 'Non-Match', 'Non-Match', 'Non-Match', 'Non-Match', 'Non-Match', 'Non-Match', 'Non-Match', 'Non-Match', 'Non-Match', 'Non-Match', 'Non-Match', 'Non-Match', 'Non-Match', 'Non-Match', 'Non-Match', 'Non-Match', 'Non-Match', 'Non-Match', 'Non-Match', 'Non-Match', 'Non-Match', 'Non-Match', 'Non-Match', 'Non-Match', 'Non-Match', 'Non-Match', 'Non-Match', 'Non-Match', 'Non-Match', 'Non-Match', 'Non-Match', 'Non-Match', 'Non-Match', 'Non-Match', 'Non-Match', 'Non-Match', 'Non-Match', 'Non-Match', 'Non-Match', 'Non-Match', 'Non-Match', 'Non-Match', 'Non-Match', 'Non-Match', 'Non-Match', 'Non-Match', 'Non-Match', 'Non-Match', 'Non-Match', 'Non-Match', 'Non-Match', 'Non-Match', 'Non-Match', 'Non-Match', 'Non-Match', 'Non-Match', 'Non-Match', 'Non-Match', 'Match', 'Non-Match', 'Non-Match', 'Non-Match', 'Non-Match', 'Non-Match', 'Non-Match', 'Non-Match', 'Non-Match', 'Non-Match', 'Non-Match', 'Non-Match', 'Non-Match', 'Non-Match', 'Non-Match', 'Non-Match', 'Non-Match', 'Non-Match', 'Non-Match', 'Non-Match', 'Non-Match', 'Non-Match', 'Non-Match', 'Non-Match', 'Non-Match', 'Non-Match', 'Non-Match', 'Non-Match', 'Non-Match', 'Non-Match', 'Non-Match', 'Non-Match', 'Non-Match', 'Non-Match', 'Non-Match', 'Non-Match', 'Non-Match', 'Non-Match', 'Non-Match', 'Non-Match', 'Non-Match', 'Non-Match', 'Non-Match', 'Non-Match', 'Non-Match', 'Non-Match', 'Non-Match', 'Non-Match', 'Non-Match', 'Non-Match', 'Non-Match', 'Non-Match', 'Non-Match', 'Non-Match', 'Non-Match', 'Non-Match', 'Non-Match', 'Non-Match', 'Non-Match', 'Non-Match', 'Non-Match', 'Non-Match', 'Non-Match', 'Non-Match', 'Non-Match', 'Non-Match', 'Non-Match', 'Non-Match', 'Non-Match', 'Non-Match', 'Non-Match', 'Non-Match', 'Non-Match', 'Non-Match', 'Non-Match', 'Non-Match', 'Non-Match', 'Non-Match', 'Non-Match', 'Non-Match', 'Non-Match', 'Non-Match', 'Non-Match', 'Non-Match', 'Non-Match', 'Non-Match', 'Non-Match', 'Non-Match', 'Non-Match', 'Non-Match', 'Non-Match', 'Non-Match', 'Non-Match', 'Non-Match', 'Non-Match', 'Non-Match', 'Match', 'Non-Match', 'Non-Match', 'Non-Match', 'Non-Match', 'Non-Match', 'Non-Match', 'Non-Match', 'Non-Match', 'Non-Match', 'Non-Match', 'Non-Match', 'Non-Match', 'Non-Match', 'Non-Match', 'Non-Match', 'Non-Match', 'Non-Match', 'Non-Match', 'Non-Match', 'Non-Match', 'Non-Match', 'Non-Match', 'Non-Match', 'Non-Match', 'Non-Match', 'Non-Match', 'Non-Match', 'Non-Match', 'Non-Match', 'Non-Match', 'Non-Match', 'Non-Match', 'Non-Match', 'Non-Match', 'Non-Match', 'Non-Match', 'Non-Match', 'Non-Match', 'Non-Match', 'Non-Match', 'Non-Match', 'Non-Match', 'Non-Match', 'Non-Match', 'Non-Match', 'Non-Match', 'Non-Match', 'Non-Match', 'Non-Match', 'Non-Match', 'Non-Match', 'Non-Match', 'Non-Match', 'Non-Match', 'Non-Match', 'Non-Match', 'Non-Match', 'Non-Match', 'Non-Match', 'Non-Match', 'Non-Match', 'Non-Match', 'Non-Match', 'Non-Match', 'Non-Match', 'Non-Match', 'Non-Match', 'Non-Match', 'Non-Match', 'Non-Match', 'Non-Match', 'Non-Match', 'Non-Match', 'Non-Match', 'Non-Match', 'Non-Match', 'Non-Match', 'Non-Match', 'Non-Match', 'Non-Match', 'Non-Match', 'Non-Match', 'Non-Match', 'Non-Match', 'Non-Match', 'Non-Match', 'Non-Match', 'Non-Match', 'Non-Match', 'Non-Match', 'Non-Match', 'Non-Match', 'Non-Match', 'Non-Match', 'Non-Match', 'Non-Match', 'Non-Match', 'Non-Match', 'Non-Match', 'Non-Match', 'Non-Match', 'Non-Match', 'Non-Match', 'Non-Match', 'Non-Match', 'Non-Match', 'Non-Match', 'Non-Match', 'Non-Match', 'Non-Match', 'Non-Match', 'Non-Match', 'Non-Match', 'Non-Match', 'Non-Match', 'Non-Match', 'Non-Match', 'Non-Match', 'Non-Match', 'Non-Match', 'Non-Match', 'Non-Match', 'Non-Match', 'Non-Match', 'Non-Match', 'Non-Match', 'Non-Match', 'Non-Match', 'Non-Match', 'Non-Match', 'Non-Match', 'Non-Match', 'Non-Match', 'Non-Match', 'Non-Match', 'Non-Match', 'Non-Match', 'Non-Match', 'Non-Match', 'Non-Match', 'Non-Match', 'Non-Match', 'Non-Match', 'Non-Match', 'Non-Match', 'Non-Match', 'Non-Match', 'Non-Match', 'Non-Match', 'Non-Match', 'Non-Match', 'Non-Match', 'Non-Match', 'Non-Match', 'Non-Match', 'Non-Match', 'Non-Match', 'Non-Match', 'Non-Match', 'Non-Match', 'Non-Match', 'Non-Match', 'Non-Match', 'Non-Match', 'Non-Match', 'Non-Match', 'Non-Match', 'Non-Match', 'Non-Match', 'Non-Match', 'Non-Match', 'Non-Match', 'Non-Match', 'Non-Match', 'Non-Match', 'Non-Match', 'Non-Match', 'Non-Match', 'Non-Match', 'Non-Match', 'Non-Match', 'Non-Match', 'Non-Match', 'Non-Match', 'Non-Match', 'Non-Match', 'Non-Match', 'Non-Match', 'Non-Match', 'Non-Match', 'Non-Match', 'Non-Match', 'Non-Match', 'Non-Match', 'Non-Match', 'Non-Match', 'Non-Match', 'Non-Match', 'Non-Match', 'Non-Match', 'Non-Match', 'Non-Match', 'Non-Match', 'Non-Match', 'Non-Match', 'Non-Match', 'Non-Match', 'Non-Match', 'Non-Match', 'Non-Match', 'Non-Match', 'Non-Match', 'Non-Match', 'Non-Match', 'Non-Match', 'Non-Match', 'Non-Match', 'Non-Match', 'Non-Match', 'Non-Match', 'Non-Match', 'Non-Match', 'Non-Match', 'Non-Match', 'Non-Match', 'Non-Match', 'Non-Match', 'Non-Match', 'Non-Match', 'Non-Match', 'Non-Match', 'Non-Match', 'Non-Match', 'Non-Match', 'Non-Match', 'Non-Match', 'Non-Match', 'Non-Match', 'Non-Match', 'Non-Match', 'Non-Match', 'Non-Match', 'Non-Match', 'Non-Match', 'Non-Match', 'Non-Match', 'Non-Match', 'Non-Match', 'Non-Match', 'Non-Match', 'Non-Match', 'Non-Match', 'Non-Match', 'Non-Match', 'Non-Match', 'Non-Match', 'Non-Match', 'Non-Match', 'Non-Match', 'Non-Match', 'Non-Match', 'Non-Match', 'Non-Match', 'Non-Match', 'Non-Match', 'Non-Match', 'Non-Match', 'Non-Match', 'Non-Match', 'Non-Match', 'Non-Match', 'Non-Match', 'Non-Match', 'Non-Match', 'Non-Match', 'Non-Match', 'Non-Match', 'Non-Match', 'Non-Match', 'Non-Match', 'Non-Match', 'Non-Match', 'Non-Match', 'Non-Match', 'Non-Match', 'Non-Match', 'Non-Match', 'Non-Match', 'Non-Match', 'Non-Match', 'Non-Match', 'Non-Match', 'Non-Match', 'Non-Match', 'Non-Match', 'Non-Match', 'Non-Match', 'Non-Match', 'Non-Match', 'Non-Match', 'Non-Match', 'Non-Match', 'Non-Match', 'Non-Match', 'Non-Match', 'Non-Match', 'Non-Match', 'Non-Match', 'Non-Match', 'Non-Match', 'Non-Match', 'Non-Match', 'Non-Match', 'Non-Match', 'Non-Match', 'Non-Match', 'Non-Match', 'Non-Match', 'Non-Match', 'Non-Match', 'Non-Match', 'Non-Match', 'Non-Match', 'Non-Match', 'Non-Match', 'Non-Match', 'Non-Match', 'Non-Match', 'Non-Match', 'Non-Match', 'Non-Match', 'Non-Match', 'Non-Match', 'Non-Match', 'Non-Match', 'Non-Match', 'Non-Match', 'Non-Match', 'Non-Match', 'Non-Match', 'Non-Match', 'Non-Match', 'Non-Match', 'Non-Match', 'Non-Match', 'Non-Match', 'Non-Match', 'Non-Match', 'Non-Match', 'Non-Match', 'Non-Match', 'Non-Match', 'Non-Match', 'Non-Match', 'Non-Match', 'Non-Match', 'Non-Match', 'Non-Match', 'Non-Match', 'Non-Match', 'Non-Match', 'Non-Match', 'Non-Match', 'Non-Match', 'Non-Match', 'Non-Match', 'Non-Match', 'Non-Match', 'Non-Match', 'Non-Match', 'Non-Match', 'Non-Match', 'Non-Match', 'Non-Match', 'Non-Match', 'Non-Match', 'Non-Match', 'Non-Match', 'Non-Match', 'Non-Match', 'Non-Match', 'Non-Match', 'Non-Match', 'Non-Match', 'Non-Match', 'Non-Match', 'Non-Match', 'Non-Match', 'Non-Match', 'Non-Match', 'Non-Match', 'Non-Match', 'Non-Match', 'Non-Match', 'Non-Match', 'Non-Match', 'Non-Match', 'Non-Match', 'Non-Match', 'Non-Match', 'Non-Match', 'Non-Match', 'Non-Match', 'Non-Match', 'Non-Match', 'Non-Match', 'Non-Match', 'Non-Match', 'Non-Match', 'Non-Match', 'Non-Match', 'Non-Match', 'Non-Match', 'Non-Match', 'Non-Match', 'Non-Match', 'Non-Match', 'Non-Match', 'Non-Match', 'Non-Match', 'Non-Match', 'Non-Match', 'Non-Match', 'Non-Match', 'Non-Match', 'Non-Match', 'Non-Match', 'Non-Match', 'Non-Match', 'Non-Match', 'Non-Match', 'Non-Match', 'Non-Match', 'Non-Match', 'Non-Match', 'Non-Match', 'Non-Match', 'Non-Match', 'Non-Match', 'Non-Match', 'Non-Match', 'Non-Match', 'Non-Match', 'Non-Match', 'Non-Match', 'Non-Match', 'Non-Match', 'Non-Match', 'Non-Match', 'Non-Match', 'Non-Match', 'Non-Match', 'Non-Match', 'Non-Match', 'Non-Match', 'Non-Match', 'Non-Match', 'Non-Match', 'Non-Match', 'Non-Match', 'Non-Match', 'Non-Match', 'Non-Match', 'Non-Match', 'Non-Match', 'Non-Match', 'Non-Match', 'Non-Match', 'Non-Match', 'Non-Match', 'Non-Match', 'Non-Match', 'Non-Match', 'Non-Match', 'Non-Match', 'Non-Match', 'Non-Match', 'Non-Match', 'Non-Match', 'Non-Match', 'Non-Match', 'Non-Match', 'Non-Match', 'Non-Match', 'Non-Match', 'Non-Match', 'Non-Match', 'Non-Match', 'Non-Match', 'Non-Match', 'Non-Match', 'Non-Match', 'Non-Match', 'Non-Match', 'Non-Match', 'Non-Match', 'Non-Match', 'Non-Match', 'Non-Match', 'Non-Match', 'Non-Match', 'Non-Match', 'Non-Match', 'Non-Match', 'Non-Match', 'Non-Match', 'Non-Match', 'Non-Match', 'Non-Match', 'Non-Match', 'Non-Match', 'Non-Match', 'Non-Match', 'Non-Match', 'Non-Match', 'Non-Match', 'Non-Match', 'Non-Match', 'Non-Match', 'Non-Match', 'Non-Match', 'Non-Match', 'Non-Match', 'Non-Match', 'Non-Match', 'Non-Match', 'Non-Match', 'Non-Match', 'Non-Match', 'Non-Match', 'Non-Match', 'Non-Match', 'Non-Match', 'Non-Match', 'Non-Match', 'Non-Match', 'Non-Match', 'Non-Match', 'Non-Match', 'Non-Match', 'Non-Match', 'Non-Match', 'Non-Match', 'Non-Match', 'Non-Match', 'Non-Match', 'Non-Match', 'Non-Match', 'Non-Match', 'Non-Match', 'Non-Match', 'Non-Match', 'Non-Match', 'Non-Match', 'Non-Match', 'Non-Match', 'Non-Match', 'Non-Match', 'Non-Match', 'Non-Match', 'Non-Match', 'Non-Match', 'Non-Match', 'Non-Match', 'Non-Match', 'Non-Match', 'Non-Match', 'Non-Match', 'Non-Match', 'Non-Match', 'Non-Match', 'Non-Match', 'Non-Match', 'Non-Match', 'Non-Match', 'Non-Match', 'Non-Match', 'Non-Match', 'Non-Match', 'Non-Match', 'Non-Match', 'Non-Match', 'Non-Match', 'Non-Match', 'Non-Match', 'Non-Match', 'Non-Match', 'Non-Match', 'Non-Match', 'Non-Match', 'Non-Match', 'Non-Match', 'Non-Match', 'Non-Match', 'Non-Match', 'Non-Match', 'Non-Match', 'Non-Match', 'Non-Match', 'Non-Match', 'Non-Match', 'Non-Match', 'Non-Match', 'Non-Match', 'Non-Match', 'Non-Match', 'Non-Match', 'Non-Match', 'Non-Match', 'Non-Match', 'Non-Match', 'Non-Match', 'Non-Match', 'Non-Match', 'Non-Match', 'Non-Match', 'Non-Match', 'Non-Match', 'Non-Match', 'Non-Match', 'Non-Match', 'Non-Match', 'Non-Match', 'Non-Match', 'Non-Match', 'Non-Match', 'Non-Match', 'Non-Match', 'Non-Match', 'Non-Match', 'Non-Match', 'Non-Match', 'Non-Match', 'Non-Match', 'Non-Match', 'Non-Match', 'Non-Match', 'Non-Match', 'Non-Match', 'Non-Match', 'Non-Match', 'Non-Match', 'Non-Match', 'Non-Match', 'Non-Match', 'Non-Match', 'Non-Match', 'Non-Match', 'Non-Match', 'Non-Match', 'Non-Match', 'Non-Match', 'Non-Match', 'Non-Match', 'Non-Match', 'Non-Match', 'Non-Match', 'Non-Match', 'Non-Match', 'Non-Match', 'Non-Match', 'Non-Match', 'Non-Match', 'Non-Match', 'Non-Match', 'Non-Match', 'Non-Match', 'Non-Match', 'Non-Match', 'Non-Match', 'Non-Match', 'Non-Match', 'Non-Match', 'Non-Match', 'Non-Match', 'Non-Match', 'Non-Match', 'Non-Match', 'Non-Match', 'Non-Match', 'Non-Match', 'Non-Match', 'Non-Match', 'Non-Match', 'Non-Match', 'Non-Match', 'Non-Match', 'Non-Match', 'Non-Match', 'Non-Match', 'Non-Match', 'Non-Match', 'Non-Match', 'Non-Match', 'Non-Match', 'Non-Match', 'Non-Match', 'Non-Match', 'Non-Match', 'Non-Match', 'Non-Match', 'Non-Match', 'Non-Match', 'Non-Match', 'Non-Match', 'Non-Match', 'Non-Match', 'Non-Match', 'Non-Match', 'Non-Match', 'Non-Match', 'Non-Match', 'Non-Match', 'Non-Match', 'Non-Match', 'Non-Match', 'Non-Match', 'Non-Match', 'Non-Match', 'Non-Match', 'Non-Match', 'Non-Match', 'Non-Match', 'Non-Match', 'Non-Match', 'Non-Match', 'Non-Match', 'Non-Match', 'Non-Match', 'Non-Match', 'Non-Match', 'Non-Match', 'Non-Match', 'Non-Match', 'Non-Match', 'Non-Match', 'Non-Match', 'Non-Match', 'Non-Match', 'Non-Match', 'Non-Match', 'Non-Match', 'Non-Match', 'Non-Match', 'Non-Match', 'Non-Match', 'Non-Match', 'Non-Match', 'Non-Match', 'Non-Match', 'Non-Match', 'Non-Match', 'Non-Match', 'Non-Match', 'Non-Match', 'Non-Match', 'Non-Match', 'Non-Match', 'Non-Match', 'Non-Match', 'Non-Match', 'Non-Match', 'Non-Match', 'Non-Match', 'Non-Match', 'Non-Match', 'Non-Match', 'Non-Match', 'Non-Match', 'Non-Match', 'Non-Match', 'Non-Match', 'Non-Match', 'Non-Match', 'Non-Match', 'Non-Match', 'Non-Match', 'Non-Match', 'Non-Match', 'Non-Match', 'Non-Match', 'Non-Match', 'Non-Match', 'Non-Match', 'Non-Match', 'Non-Match', 'Non-Match', 'Non-Match', 'Non-Match', 'Non-Match', 'Non-Match', 'Non-Match', 'Non-Match', 'Non-Match', 'Non-Match', 'Non-Match', 'Non-Match', 'Non-Match', 'Non-Match', 'Non-Match', 'Non-Match', 'Non-Match', 'Non-Match', 'Non-Match', 'Non-Match', 'Non-Match', 'Non-Match', 'Non-Match', 'Non-Match', 'Non-Match', 'Non-Match', 'Non-Match', 'Non-Match', 'Non-Match', 'Non-Match', 'Non-Match', 'Non-Match', 'Non-Match', 'Non-Match', 'Non-Match', 'Non-Match', 'Non-Match', 'Non-Match', 'Non-Match', 'Non-Match', 'Non-Match', 'Non-Match', 'Non-Match', 'Non-Match', 'Non-Match', 'Non-Match', 'Non-Match', 'Non-Match', 'Non-Match', 'Non-Match', 'Non-Match', 'Non-Match', 'Non-Match', 'Non-Match', 'Non-Match', 'Non-Match', 'Non-Match', 'Non-Match', 'Non-Match', 'Non-Match', 'Non-Match', 'Non-Match', 'Non-Match', 'Non-Match', 'Non-Match', 'Non-Match', 'Non-Match', 'Non-Match', 'Non-Match', 'Non-Match', 'Non-Match', 'Non-Match', 'Non-Match', 'Non-Match', 'Non-Match', 'Non-Match', 'Non-Match', 'Non-Match', 'Non-Match', 'Non-Match', 'Non-Match', 'Non-Match', 'Non-Match', 'Non-Match', 'Non-Match', 'Non-Match', 'Non-Match', 'Non-Match', 'Non-Match', 'Non-Match', 'Non-Match', 'Non-Match', 'Non-Match', 'Non-Match', 'Non-Match', 'Non-Match', 'Non-Match', 'Non-Match', 'Non-Match', 'Non-Match', 'Non-Match', 'Non-Match', 'Non-Match', 'Non-Match', 'Non-Match', 'Non-Match', 'Non-Match', 'Non-Match', 'Non-Match', 'Non-Match', 'Non-Match', 'Non-Match', 'Non-Match', 'Non-Match', 'Non-Match', 'Non-Match', 'Non-Match', 'Non-Match', 'Non-Match', 'Non-Match', 'Non-Match', 'Non-Match', 'Non-Match', 'Non-Match', 'Non-Match', 'Non-Match', 'Non-Match', 'Non-Match', 'Non-Match', 'Non-Match', 'Non-Match', 'Non-Match', 'Non-Match', 'Non-Match', 'Non-Match', 'Non-Match', 'Non-Match', 'Non-Match', 'Non-Match', 'Non-Match', 'Non-Match', 'Non-Match', 'Non-Match', 'Non-Match', 'Non-Match', 'Non-Match', 'Non-Match', 'Non-Match', 'Non-Match', 'Non-Match', 'Non-Match', 'Non-Match', 'Non-Match', 'Non-Match', 'Non-Match', 'Non-Match', 'Non-Match', 'Non-Match', 'Non-Match', 'Non-Match', 'Non-Match', 'Non-Match', 'Non-Match', 'Non-Match', 'Non-Match', 'Non-Match', 'Non-Match', 'Non-Match', 'Non-Match', 'Non-Match', 'Non-Match', 'Non-Match', 'Non-Match', 'Non-Match', 'Non-Match', 'Non-Match', 'Non-Match', 'Non-Match', 'Non-Match', 'Non-Match', 'Non-Match', 'Non-Match', 'Non-Match', 'Non-Match', 'Non-Match', 'Non-Match', 'Non-Match', 'Non-Match', 'Non-Match', 'Non-Match', 'Non-Match', 'Non-Match', 'Non-Match', 'Non-Match', 'Non-Match', 'Non-Match', 'Non-Match', 'Non-Match', 'Non-Match', 'Non-Match', 'Non-Match', 'Non-Match', 'Non-Match', 'Non-Match', 'Non-Match', 'Non-Match', 'Non-Match', 'Non-Match', 'Non-Match', 'Non-Match', 'Non-Match', 'Non-Match', 'Non-Match', 'Non-Match', 'Non-Match', 'Non-Match', 'Non-Match', 'Non-Match', 'Non-Match', 'Non-Match', 'Non-Match', 'Non-Match', 'Non-Match', 'Non-Match', 'Non-Match', 'Non-Match', 'Non-Match', 'Non-Match', 'Non-Match', 'Non-Match', 'Non-Match', 'Non-Match', 'Non-Match', 'Non-Match', 'Non-Match', 'Non-Match', 'Non-Match', 'Non-Match', 'Non-Match', 'Non-Match', 'Non-Match', 'Non-Match', 'Non-Match', 'Non-Match', 'Non-Match', 'Non-Match', 'Non-Match', 'Non-Match', 'Non-Match', 'Non-Match', 'Non-Match', 'Non-Match', 'Non-Match', 'Non-Match', 'Non-Match', 'Non-Match', 'Non-Match', 'Non-Match', 'Non-Match', 'Non-Match', 'Non-Match', 'Non-Match', 'Non-Match', 'Non-Match', 'Non-Match', 'Non-Match', 'Non-Match', 'Non-Match', 'Non-Match', 'Non-Match', 'Non-Match', 'Non-Match', 'Non-Match', 'Non-Match', 'Non-Match', 'Non-Match', 'Non-Match', 'Non-Match', 'Non-Match', 'Non-Match', 'Non-Match', 'Non-Match', 'Non-Match', 'Non-Match', 'Non-Match', 'Non-Match', 'Non-Match', 'Non-Match', 'Non-Match', 'Non-Match', 'Non-Match', 'Non-Match', 'Non-Match', 'Non-Match', 'Non-Match', 'Non-Match', 'Non-Match', 'Non-Match', 'Non-Match', 'Non-Match', 'Non-Match', 'Non-Match', 'Non-Match', 'Non-Match', 'Non-Match', 'Non-Match', 'Non-Match', 'Non-Match', 'Non-Match', 'Non-Match', 'Non-Match', 'Non-Match', 'Non-Match', 'Non-Match', 'Non-Match', 'Non-Match', 'Non-Match', 'Non-Match', 'Non-Match', 'Non-Match', 'Non-Match', 'Non-Match', 'Non-Match', 'Non-Match', 'Non-Match', 'Non-Match', 'Non-Match', 'Non-Match', 'Non-Match', 'Non-Match', 'Non-Match', 'Non-Match', 'Non-Match', 'Non-Match', 'Non-Match', 'Non-Match', 'Non-Match', 'Non-Match', 'Non-Match', 'Non-Match', 'Non-Match', 'Non-Match', 'Non-Match', 'Non-Match', 'Non-Match', 'Non-Match', 'Non-Match', 'Non-Match', 'Non-Match', 'Non-Match', 'Non-Match', 'Non-Match', 'Non-Match', 'Non-Match', 'Non-Match', 'Non-Match', 'Non-Match', 'Non-Match', 'Non-Match', 'Non-Match', 'Non-Match', 'Non-Match', 'Non-Match', 'Non-Match', 'Non-Match', 'Non-Match', 'Non-Match', 'Non-Match', 'Non-Match', 'Non-Match', 'Non-Match', 'Non-Match', 'Non-Match', 'Non-Match', 'Non-Match', 'Non-Match', 'Non-Match', 'Non-Match', 'Non-Match', 'Non-Match', 'Non-Match', 'Non-Match', 'Non-Match', 'Non-Match', 'Non-Match', 'Non-Match', 'Non-Match', 'Non-Match', 'Non-Match', 'Non-Match', 'Non-Match', 'Non-Match', 'Non-Match', 'Non-Match', 'Non-Match', 'Non-Match', 'Non-Match', 'Non-Match', 'Non-Match', 'Non-Match', 'Non-Match', 'Non-Match', 'Non-Match', 'Non-Match', 'Non-Match', 'Non-Match', 'Non-Match', 'Non-Match', 'Non-Match', 'Non-Match', 'Non-Match', 'Non-Match', 'Non-Match', 'Non-Match', 'Non-Match', 'Non-Match', 'Non-Match', 'Non-Match', 'Non-Match', 'Non-Match', 'Non-Match', 'Non-Match', 'Non-Match', 'Non-Match', 'Non-Match', 'Match', 'Non-Match', 'Non-Match', 'Non-Match', 'Non-Match', 'Non-Match', 'Non-Match', 'Non-Match', 'Non-Match', 'Non-Match', 'Non-Match', 'Non-Match', 'Non-Match', 'Non-Match', 'Non-Match', 'Non-Match', 'Non-Match', 'Non-Match', 'Non-Match', 'Non-Match', 'Non-Match', 'Non-Match', 'Non-Match', 'Non-Match', 'Non-Match', 'Non-Match', 'Non-Match', 'Non-Match', 'Non-Match', 'Non-Match', 'Non-Match', 'Non-Match', 'Non-Match', 'Non-Match', 'Non-Match', 'Non-Match', 'Non-Match', 'Non-Match', 'Non-Match', 'Non-Match', 'Non-Match', 'Non-Match', 'Non-Match', 'Non-Match', 'Non-Match', 'Non-Match', 'Non-Match', 'Non-Match', 'Non-Match', 'Non-Match', 'Non-Match', 'Non-Match', 'Non-Match', 'Non-Match', 'Non-Match', 'Non-Match', 'Non-Match', 'Non-Match', 'Non-Match', 'Non-Match', 'Non-Match', 'Non-Match', 'Non-Match', 'Non-Match', 'Non-Match', 'Non-Match', 'Non-Match', 'Non-Match', 'Non-Match', 'Non-Match', 'Non-Match', 'Non-Match', 'Non-Match', 'Non-Match', 'Non-Match', 'Non-Match', 'Non-Match', 'Non-Match', 'Non-Match', 'Non-Match', 'Non-Match', 'Non-Match', 'Non-Match', 'Non-Match', 'Non-Match', 'Non-Match', 'Non-Match', 'Non-Match', 'Non-Match', 'Non-Match', 'Non-Match', 'Non-Match', 'Non-Match', 'Non-Match', 'Non-Match', 'Non-Match', 'Non-Match', 'Non-Match', 'Non-Match', 'Non-Match', 'Non-Match', 'Non-Match', 'Non-Match', 'Non-Match', 'Non-Match', 'Non-Match', 'Non-Match', 'Non-Match', 'Non-Match', 'Non-Match', 'Non-Match', 'Non-Match', 'Non-Match', 'Non-Match', 'Non-Match', 'Non-Match', 'Non-Match', 'Non-Match', 'Non-Match', 'Non-Match', 'Non-Match', 'Non-Match', 'Non-Match', 'Non-Match', 'Non-Match', 'Non-Match', 'Non-Match', 'Non-Match', 'Non-Match', 'Non-Match', 'Non-Match', 'Non-Match', 'Non-Match', 'Non-Match', 'Non-Match', 'Non-Match', 'Non-Match', 'Non-Match', 'Non-Match', 'Non-Match', 'Non-Match', 'Non-Match', 'Non-Match', 'Non-Match', 'Non-Match', 'Non-Match', 'Non-Match', 'Non-Match', 'Non-Match', 'Non-Match', 'Non-Match', 'Non-Match', 'Non-Match', 'Non-Match', 'Non-Match', 'Non-Match', 'Non-Match', 'Non-Match', 'Non-Match', 'Non-Match', 'Non-Match', 'Non-Match', 'Non-Match', 'Non-Match', 'Non-Match', 'Non-Match', 'Non-Match', 'Non-Match', 'Non-Match', 'Non-Match', 'Non-Match', 'Non-Match', 'Non-Match', 'Non-Match', 'Non-Match', 'Non-Match', 'Non-Match', 'Non-Match', 'Non-Match', 'Non-Match', 'Non-Match', 'Non-Match', 'Non-Match', 'Non-Match', 'Non-Match', 'Non-Match', 'Non-Match', 'Non-Match', 'Non-Match', 'Non-Match', 'Non-Match', 'Non-Match', 'Non-Match', 'Non-Match', 'Non-Match', 'Non-Match', 'Non-Match', 'Non-Match', 'Non-Match', 'Non-Match', 'Non-Match', 'Non-Match', 'Non-Match', 'Non-Match', 'Non-Match', 'Non-Match', 'Non-Match', 'Non-Match', 'Non-Match', 'Non-Match', 'Non-Match', 'Non-Match', 'Non-Match', 'Non-Match', 'Non-Match', 'Non-Match', 'Non-Match', 'Non-Match', 'Non-Match', 'Non-Match', 'Non-Match', 'Non-Match', 'Non-Match', 'Non-Match', 'Non-Match', 'Non-Match', 'Match', 'Non-Match', 'Non-Match', 'Non-Match', 'Non-Match', 'Non-Match', 'Non-Match', 'Non-Match', 'Non-Match', 'Non-Match', 'Non-Match', 'Non-Match', 'Non-Match', 'Non-Match', 'Non-Match', 'Non-Match', 'Non-Match', 'Non-Match', 'Non-Match', 'Non-Match', 'Non-Match', 'Non-Match', 'Non-Match', 'Non-Match', 'Non-Match', 'Non-Match', 'Non-Match', 'Non-Match', 'Non-Match', 'Non-Match', 'Non-Match', 'Non-Match', 'Non-Match', 'Non-Match', 'Non-Match', 'Non-Match', 'Non-Match', 'Non-Match', 'Non-Match', 'Non-Match', 'Non-Match', 'Non-Match', 'Non-Match', 'Non-Match', 'Non-Match', 'Non-Match', 'Non-Match', 'Non-Match', 'Non-Match', 'Non-Match', 'Non-Match', 'Non-Match', 'Non-Match', 'Non-Match', 'Non-Match', 'Non-Match', 'Non-Match', 'Non-Match', 'Non-Match', 'Non-Match', 'Non-Match', 'Non-Match', 'Non-Match', 'Non-Match', 'Non-Match', 'Non-Match', 'Match', 'Non-Match', 'Non-Match', 'Non-Match', 'Non-Match', 'Non-Match', 'Non-Match', 'Non-Match', 'Non-Match', 'Non-Match', 'Non-Match', 'Non-Match', 'Non-Match', 'Non-Match', 'Non-Match', 'Non-Match', 'Non-Match', 'Non-Match', 'Non-Match', 'Non-Match', 'Non-Match', 'Non-Match', 'Non-Match', 'Non-Match', 'Non-Match', 'Non-Match', 'Non-Match', 'Non-Match', 'Non-Match', 'Non-Match', 'Non-Match', 'Match', 'Non-Match', 'Non-Match', 'Non-Match', 'Non-Match', 'Non-Match', 'Non-Match', 'Non-Match', 'Non-Match', 'Non-Match', 'Non-Match', 'Non-Match', 'Non-Match', 'Non-Match', 'Non-Match', 'Non-Match', 'Non-Match', 'Non-Match', 'Non-Match', 'Non-Match', 'Non-Match', 'Non-Match', 'Non-Match', 'Non-Match', 'Non-Match', 'Non-Match', 'Non-Match', 'Non-Match', 'Non-Match', 'Non-Match', 'Non-Match', 'Non-Match', 'Non-Match', 'Non-Match', 'Non-Match', 'Non-Match', 'Match', 'Non-Match', 'Non-Match', 'Non-Match', 'Non-Match', 'Non-Match', 'Non-Match', 'Non-Match', 'Non-Match', 'Non-Match', 'Non-Match', 'Non-Match', 'Non-Match', 'Non-Match', 'Non-Match', 'Non-Match', 'Non-Match', 'Non-Match', 'Non-Match', 'Non-Match', 'Non-Match', 'Non-Match', 'Non-Match', 'Non-Match', 'Non-Match', 'Non-Match', 'Non-Match', 'Non-Match', 'Non-Match', 'Non-Match', 'Non-Match', 'Non-Match', 'Non-Match', 'Non-Match', 'Non-Match', 'Non-Match', 'Match', 'Non-Match', 'Non-Match', 'Non-Match', 'Non-Match', 'Non-Match', 'Non-Match', 'Non-Match', 'Non-Match', 'Non-Match', 'Non-Match', 'Non-Match', 'Non-Match', 'Non-Match', 'Non-Match', 'Non-Match', 'Non-Match', 'Non-Match', 'Non-Match', 'Non-Match', 'Non-Match', 'Non-Match', 'Non-Match', 'Non-Match', 'Non-Match', 'Non-Match', 'Non-Match', 'Non-Match', 'Non-Match', 'Non-Match', 'Non-Match', 'Non-Match', 'Non-Match', 'Non-Match', 'Non-Match', 'Non-Match', 'Non-Match', 'Non-Match', 'Match', 'Non-Match', 'Non-Match', 'Non-Match', 'Non-Match', 'Non-Match', 'Non-Match', 'Non-Match', 'Non-Match', 'Non-Match', 'Non-Match', 'Non-Match', 'Non-Match', 'Non-Match', 'Non-Match', 'Non-Match', 'Non-Match', 'Non-Match', 'Non-Match', 'Non-Match', 'Non-Match', 'Non-Match', 'Non-Match', 'Non-Match', 'Non-Match', 'Non-Match', 'Non-Match', 'Non-Match', 'Non-Match', 'Non-Match', 'Non-Match', 'Non-Match', 'Non-Match', 'Non-Match', 'Non-Match', 'Non-Match', 'Non-Match', 'Non-Match', 'Non-Match', 'Non-Match', 'Non-Match', 'Non-Match', 'Non-Match', 'Non-Match', 'Non-Match', 'Non-Match', 'Non-Match', 'Non-Match', 'Non-Match', 'Non-Match', 'Non-Match', 'Non-Match', 'Non-Match', 'Non-Match', 'Non-Match', 'Non-Match', 'Non-Match', 'Non-Match', 'Non-Match', 'Non-Match', 'Non-Match', 'Non-Match', 'Non-Match', 'Non-Match', 'Non-Match', 'Non-Match', 'Non-Match', 'Non-Match', 'Non-Match', 'Non-Match', 'Non-Match', 'Non-Match', 'Non-Match', 'Non-Match', 'Non-Match', 'Non-Match', 'Non-Match', 'Non-Match', 'Non-Match', 'Non-Match', 'Non-Match', 'Non-Match', 'Non-Match', 'Non-Match', 'Non-Match', 'Non-Match', 'Non-Match', 'Non-Match', 'Non-Match', 'Non-Match', 'Non-Match', 'Non-Match', 'Non-Match', 'Non-Match', 'Non-Match', 'Non-Match', 'Non-Match', 'Non-Match', 'Non-Match', 'Non-Match', 'Non-Match', 'Non-Match', 'Non-Match', 'Non-Match', 'Non-Match', 'Non-Match', 'Non-Match', 'Non-Match', 'Non-Match', 'Non-Match', 'Non-Match', 'Non-Match', 'Non-Match', 'Non-Match', 'Non-Match', 'Non-Match', 'Non-Match', 'Non-Match', 'Non-Match', 'Non-Match', 'Non-Match', 'Non-Match', 'Non-Match', 'Non-Match', 'Non-Match', 'Non-Match', 'Non-Match', 'Non-Match', 'Non-Match', 'Non-Match', 'Non-Match', 'Non-Match', 'Match', 'Non-Match', 'Non-Match', 'Non-Match', 'Non-Match', 'Non-Match', 'Non-Match', 'Non-Match', 'Non-Match', 'Non-Match', 'Non-Match', 'Non-Match', 'Non-Match', 'Non-Match', 'Non-Match', 'Non-Match', 'Non-Match', 'Non-Match', 'Non-Match', 'Non-Match', 'Non-Match', 'Non-Match', 'Non-Match', 'Non-Match', 'Non-Match', 'Non-Match', 'Non-Match', 'Non-Match', 'Non-Match', 'Non-Match', 'Non-Match', 'Non-Match', 'Non-Match', 'Non-Match', 'Non-Match', 'Non-Match', 'Non-Match', 'Non-Match', 'Non-Match', 'Non-Match', 'Non-Match', 'Non-Match', 'Non-Match', 'Non-Match', 'Non-Match', 'Non-Match', 'Non-Match', 'Non-Match', 'Non-Match', 'Non-Match', 'Non-Match', 'Non-Match', 'Non-Match', 'Non-Match', 'Non-Match', 'Non-Match', 'Non-Match', 'Non-Match', 'Non-Match', 'Non-Match', 'Non-Match', 'Non-Match', 'Non-Match', 'Non-Match', 'Non-Match', 'Non-Match', 'Non-Match', 'Non-Match', 'Non-Match', 'Non-Match', 'Non-Match', 'Non-Match', 'Non-Match', 'Non-Match', 'Non-Match', 'Non-Match', 'Non-Match', 'Non-Match', 'Non-Match', 'Non-Match', 'Non-Match', 'Non-Match', 'Non-Match', 'Non-Match', 'Match', 'Non-Match', 'Non-Match', 'Non-Match', 'Non-Match', 'Non-Match', 'Non-Match', 'Non-Match', 'Non-Match', 'Non-Match', 'Non-Match', 'Non-Match', 'Non-Match', 'Non-Match', 'Non-Match', 'Non-Match', 'Non-Match', 'Non-Match', 'Non-Match', 'Non-Match', 'Non-Match', 'Non-Match', 'Non-Match', 'Non-Match', 'Non-Match', 'Non-Match', 'Non-Match', 'Match', 'Non-Match', 'Non-Match', 'Non-Match', 'Non-Match', 'Non-Match', 'Non-Match', 'Non-Match', 'Non-Match', 'Non-Match', 'Non-Match', 'Non-Match', 'Non-Match', 'Match', 'Non-Match', 'Non-Match', 'Non-Match', 'Non-Match', 'Non-Match', 'Non-Match', 'Non-Match', 'Non-Match', 'Non-Match', 'Non-Match', 'Non-Match', 'Non-Match', 'Non-Match', 'Non-Match', 'Non-Match', 'Non-Match', 'Non-Match', 'Non-Match', 'Non-Match', 'Non-Match', 'Non-Match', 'Non-Match', 'Non-Match', 'Non-Match', 'Non-Match', 'Non-Match', 'Non-Match', 'Non-Match', 'Non-Match', 'Non-Match', 'Non-Match', 'Non-Match', 'Non-Match', 'Non-Match', 'Non-Match', 'Match', 'Non-Match', 'Non-Match', 'Non-Match', 'Non-Match', 'Non-Match', 'Non-Match', 'Non-Match', 'Non-Match', 'Non-Match', 'Match', 'Non-Match', 'Non-Match', 'Non-Match', 'Non-Match', 'Non-Match', 'Non-Match', 'Non-Match', 'Non-Match', 'Non-Match', 'Non-Match', 'Non-Match', 'Non-Match', 'Non-Match', 'Non-Match', 'Non-Match', 'Non-Match', 'Non-Match', 'Non-Match', 'Non-Match', 'Non-Match', 'Non-Match', 'Non-Match', 'Non-Match', 'Non-Match', 'Non-Match', 'Non-Match', 'Non-Match', 'Non-Match', 'Non-Match', 'Non-Match', 'Non-Match', 'Non-Match', 'Non-Match', 'Non-Match', 'Non-Match', 'Non-Match', 'Non-Match', 'Non-Match', 'Non-Match', 'Non-Match', 'Non-Match', 'Non-Match', 'Non-Match', 'Non-Match', 'Non-Match', 'Non-Match', 'Non-Match', 'Non-Match', 'Non-Match', 'Non-Match', 'Non-Match', 'Non-Match', 'Non-Match', 'Non-Match', 'Non-Match', 'Non-Match', 'Non-Match', 'Non-Match', 'Non-Match', 'Non-Match', 'Non-Match', 'Non-Match', 'Non-Match', 'Non-Match', 'Non-Match', 'Non-Match', 'Non-Match', 'Non-Match', 'Non-Match', 'Non-Match', 'Non-Match', 'Non-Match', 'Non-Match', 'Non-Match', 'Non-Match', 'Non-Match', 'Non-Match', 'Non-Match', 'Non-Match', 'Non-Match', 'Non-Match', 'Non-Match', 'Non-Match', 'Non-Match', 'Non-Match', 'Non-Match', 'Non-Match', 'Non-Match', 'Non-Match', 'Non-Match', 'Non-Match', 'Non-Match', 'Non-Match', 'Non-Match', 'Non-Match', 'Non-Match', 'Non-Match', 'Non-Match', 'Non-Match', 'Non-Match', 'Non-Match', 'Non-Match', 'Non-Match', 'Non-Match', 'Non-Match', 'Non-Match', 'Non-Match', 'Non-Match', 'Non-Match', 'Non-Match', 'Non-Match', 'Non-Match', 'Non-Match', 'Non-Match', 'Non-Match', 'Non-Match', 'Non-Match', 'Non-Match', 'Non-Match', 'Non-Match', 'Non-Match', 'Non-Match', 'Non-Match', 'Non-Match', 'Non-Match', 'Non-Match', 'Non-Match', 'Non-Match', 'Non-Match', 'Non-Match', 'Non-Match', 'Non-Match', 'Non-Match', 'Non-Match', 'Non-Match', 'Non-Match', 'Non-Match', 'Non-Match', 'Non-Match', 'Non-Match', 'Non-Match', 'Match', 'Non-Match', 'Non-Match', 'Non-Match', 'Non-Match', 'Non-Match', 'Non-Match', 'Non-Match', 'Non-Match', 'Non-Match', 'Non-Match', 'Non-Match', 'Non-Match', 'Non-Match', 'Non-Match', 'Non-Match', 'Non-Match', 'Non-Match', 'Non-Match', 'Non-Match', 'Non-Match', 'Non-Match', 'Non-Match', 'Non-Match', 'Non-Match', 'Non-Match', 'Non-Match', 'Non-Match', 'Non-Match', 'Non-Match', 'Non-Match', 'Non-Match', 'Non-Match', 'Non-Match', 'Non-Match', 'Non-Match', 'Non-Match', 'Non-Match', 'Non-Match', 'Non-Match', 'Non-Match', 'Non-Match', 'Non-Match', 'Non-Match', 'Non-Match', 'Non-Match', 'Non-Match', 'Non-Match', 'Non-Match', 'Non-Match', 'Non-Match', 'Match', 'Non-Match', 'Non-Match', 'Non-Match', 'Non-Match', 'Non-Match', 'Non-Match', 'Non-Match', 'Non-Match', 'Non-Match', 'Non-Match', 'Non-Match', 'Non-Match', 'Non-Match', 'Non-Match', 'Non-Match', 'Non-Match', 'Non-Match', 'Non-Match', 'Non-Match', 'Non-Match', 'Non-Match', 'Non-Match', 'Non-Match', 'Non-Match', 'Non-Match', 'Non-Match', 'Non-Match', 'Non-Match', 'Non-Match', 'Non-Match', 'Non-Match', 'Non-Match', 'Non-Match', 'Non-Match', 'Non-Match', 'Non-Match', 'Non-Match', 'Non-Match', 'Non-Match', 'Non-Match', 'Non-Match', 'Non-Match', 'Non-Match', 'Non-Match', 'Non-Match', 'Non-Match', 'Non-Match', 'Non-Match', 'Non-Match', 'Non-Match', 'Non-Match', 'Non-Match', 'Non-Match', 'Non-Match', 'Non-Match', 'Non-Match', 'Non-Match', 'Non-Match', 'Non-Match', 'Non-Match', 'Non-Match', 'Non-Match', 'Non-Match', 'Non-Match', 'Non-Match', 'Non-Match', 'Non-Match', 'Non-Match', 'Non-Match', 'Non-Match', 'Non-Match', 'Non-Match', 'Non-Match', 'Non-Match', 'Non-Match', 'Non-Match', 'Non-Match', 'Non-Match', 'Non-Match', 'Non-Match', 'Non-Match', 'Non-Match', 'Non-Match', 'Non-Match', 'Non-Match', 'Non-Match', 'Non-Match', 'Non-Match', 'Non-Match', 'Non-Match', 'Non-Match', 'Non-Match', 'Non-Match', 'Non-Match', 'Match', 'Non-Match', 'Non-Match', 'Non-Match', 'Non-Match', 'Non-Match', 'Non-Match', 'Non-Match', 'Non-Match', 'Non-Match', 'Non-Match', 'Non-Match', 'Non-Match', 'Non-Match', 'Non-Match', 'Non-Match', 'Non-Match', 'Non-Match', 'Non-Match', 'Non-Match', 'Non-Match', 'Non-Match', 'Non-Match', 'Non-Match', 'Non-Match', 'Non-Match', 'Non-Match', 'Non-Match', 'Non-Match', 'Non-Match', 'Non-Match', 'Non-Match', 'Non-Match', 'Non-Match', 'Non-Match', 'Non-Match', 'Non-Match', 'Non-Match', 'Non-Match', 'Non-Match', 'Non-Match', 'Non-Match', 'Non-Match', 'Non-Match', 'Non-Match', 'Non-Match', 'Non-Match', 'Non-Match', 'Non-Match', 'Non-Match', 'Match', 'Non-Match', 'Non-Match', 'Non-Match', 'Non-Match', 'Non-Match', 'Non-Match', 'Non-Match', 'Non-Match', 'Non-Match', 'Non-Match', 'Non-Match', 'Non-Match', 'Non-Match', 'Non-Match', 'Non-Match', 'Non-Match', 'Non-Match', 'Non-Match', 'Non-Match', 'Non-Match', 'Non-Match', 'Non-Match', 'Non-Match', 'Non-Match', 'Non-Match', 'Non-Match', 'Non-Match', 'Non-Match', 'Non-Match', 'Non-Match', 'Non-Match', 'Non-Match', 'Non-Match', 'Non-Match', 'Non-Match', 'Non-Match', 'Non-Match', 'Non-Match', 'Non-Match', 'Non-Match', 'Non-Match', 'Non-Match', 'Non-Match', 'Non-Match', 'Non-Match', 'Non-Match', 'Non-Match', 'Non-Match', 'Match', 'Non-Match', 'Non-Match', 'Non-Match', 'Non-Match', 'Non-Match', 'Non-Match', 'Non-Match', 'Non-Match', 'Non-Match', 'Non-Match', 'Non-Match', 'Non-Match', 'Non-Match', 'Non-Match', 'Non-Match', 'Non-Match', 'Non-Match', 'Non-Match', 'Non-Match', 'Non-Match', 'Non-Match', 'Non-Match', 'Match', 'Non-Match', 'Non-Match', 'Non-Match', 'Non-Match', 'Non-Match', 'Non-Match', 'Non-Match', 'Non-Match', 'Non-Match', 'Non-Match', 'Match', 'Non-Match', 'Non-Match', 'Non-Match', 'Non-Match', 'Non-Match', 'Non-Match', 'Non-Match', 'Non-Match', 'Non-Match', 'Non-Match', 'Non-Match', 'Non-Match', 'Non-Match', 'Non-Match', 'Non-Match', 'Non-Match', 'Non-Match', 'Non-Match', 'Non-Match', 'Non-Match', 'Non-Match', 'Non-Match', 'Non-Match', 'Non-Match', 'Non-Match', 'Non-Match', 'Non-Match', 'Non-Match', 'Non-Match', 'Non-Match', 'Non-Match', 'Non-Match', 'Non-Match', 'Non-Match', 'Non-Match', 'Non-Match', 'Non-Match', 'Non-Match', 'Non-Match', 'Non-Match', 'Non-Match', 'Non-Match', 'Non-Match', 'Non-Match', 'Match', 'Non-Match', 'Non-Match', 'Non-Match', 'Non-Match', 'Non-Match', 'Non-Match', 'Non-Match', 'Non-Match', 'Non-Match', 'Non-Match', 'Non-Match', 'Non-Match', 'Non-Match', 'Non-Match', 'Non-Match', 'Non-Match', 'Non-Match', 'Non-Match', 'Non-Match', 'Non-Match', 'Non-Match', 'Non-Match', 'Match', 'Non-Match', 'Non-Match', 'Non-Match', 'Non-Match', 'Non-Match', 'Non-Match', 'Non-Match', 'Non-Match', 'Non-Match', 'Non-Match', 'Non-Match', 'Non-Match', 'Non-Match', 'Non-Match', 'Non-Match', 'Match', 'Non-Match', 'Non-Match', 'Non-Match', 'Non-Match', 'Non-Match', 'Non-Match', 'Non-Match', 'Non-Match', 'Non-Match', 'Non-Match', 'Match', 'Non-Match', 'Non-Match', 'Non-Match', 'Non-Match', 'Non-Match', 'Non-Match', 'Non-Match', 'Match', 'Non-Match', 'Non-Match', 'Non-Match', 'Non-Match', 'Non-Match', 'Non-Match', 'Non-Match', 'Non-Match', 'Non-Match', 'Non-Match', 'Non-Match', 'Non-Match', 'Non-Match', 'Non-Match', 'Non-Match', 'Non-Match', 'Non-Match', 'Non-Match', 'Non-Match', 'Non-Match', 'Non-Match', 'Non-Match', 'Non-Match', 'Non-Match', 'Non-Match', 'Non-Match', 'Non-Match', 'Non-Match', 'Non-Match', 'Non-Match', 'Non-Match', 'Non-Match', 'Match', 'Non-Match', 'Non-Match', 'Non-Match', 'Non-Match', 'Non-Match', 'Non-Match', 'Non-Match', 'Non-Match', 'Match', 'Non-Match', 'Non-Match', 'Non-Match', 'Non-Match', 'Non-Match', 'Non-Match', 'Non-Match', 'Non-Match', 'Non-Match', 'Non-Match', 'Non-Match', 'Non-Match', 'Match', 'Non-Match', 'Non-Match', 'Match', 'Non-Match', 'Non-Match', 'Non-Match', 'Non-Match', 'Non-Match', 'Non-Match', 'Non-Match', 'Non-Match', 'Non-Match', 'Non-Match', 'Non-Match', 'Non-Match', 'Non-Match', 'Non-Match', 'Non-Match', 'Non-Match', 'Non-Match', 'Non-Match', 'Non-Match', 'Non-Match', 'Non-Match', 'Non-Match', 'Non-Match', 'Non-Match', 'Non-Match', 'Non-Match', 'Non-Match', 'Non-Match', 'Non-Match', 'Non-Match', 'Non-Match', 'Non-Match', 'Non-Match', 'Non-Match', 'Non-Match', 'Non-Match', 'Non-Match', 'Non-Match', 'Non-Match', 'Non-Match', 'Non-Match', 'Match', 'Non-Match', 'Non-Match', 'Non-Match', 'Non-Match', 'Non-Match', 'Non-Match', 'Non-Match', 'Non-Match', 'Non-Match', 'Non-Match', 'Non-Match', 'Non-Match', 'Non-Match', 'Non-Match', 'Non-Match', 'Non-Match', 'Non-Match', 'Non-Match', 'Non-Match', 'Non-Match', 'Non-Match', 'Non-Match', 'Non-Match', 'Non-Match', 'Non-Match', 'Non-Match', 'Non-Match', 'Non-Match', 'Non-Match', 'Non-Match', 'Non-Match', 'Non-Match', 'Non-Match', 'Non-Match', 'Non-Match', 'Non-Match', 'Non-Match', 'Non-Match', 'Non-Match', 'Non-Match', 'Non-Match', 'Non-Match', 'Non-Match', 'Non-Match', 'Non-Match', 'Non-Match', 'Non-Match', 'Non-Match', 'Non-Match', 'Non-Match', 'Non-Match', 'Non-Match', 'Non-Match', 'Non-Match', 'Non-Match', 'Non-Match', 'Non-Match', 'Non-Match', 'Non-Match', 'Non-Match', 'Non-Match', 'Non-Match', 'Non-Match', 'Non-Match', 'Non-Match', 'Non-Match', 'Non-Match', 'Non-Match', 'Non-Match', 'Non-Match', 'Non-Match', 'Non-Match', 'Non-Match', 'Non-Match', 'Non-Match', 'Non-Match', 'Non-Match', 'Non-Match', 'Non-Match', 'Non-Match', 'Non-Match', 'Non-Match', 'Non-Match', 'Non-Match', 'Non-Match', 'Non-Match', 'Non-Match', 'Non-Match', 'Non-Match', 'Non-Match', 'Non-Match', 'Non-Match', 'Non-Match', 'Non-Match', 'Non-Match', 'Non-Match', 'Non-Match', 'Non-Match', 'Non-Match', 'Non-Match', 'Non-Match', 'Non-Match', 'Non-Match', 'Non-Match', 'Non-Match', 'Non-Match', 'Non-Match', 'Non-Match', 'Non-Match', 'Non-Match', 'Non-Match', 'Non-Match', 'Non-Match', 'Non-Match', 'Non-Match', 'Non-Match', 'Non-Match', 'Non-Match', 'Non-Match', 'Non-Match', 'Non-Match', 'Non-Match', 'Non-Match', 'Non-Match', 'Non-Match', 'Non-Match', 'Non-Match', 'Non-Match', 'Non-Match', 'Non-Match', 'Non-Match', 'Non-Match', 'Non-Match', 'Non-Match', 'Non-Match', 'Non-Match', 'Non-Match', 'Non-Match', 'Non-Match', 'Non-Match', 'Non-Match', 'Non-Match', 'Non-Match', 'Non-Match', 'Non-Match', 'Non-Match', 'Non-Match', 'Non-Match', 'Non-Match', 'Non-Match', 'Non-Match', 'Non-Match', 'Non-Match', 'Non-Match', 'Non-Match', 'Non-Match', 'Non-Match', 'Non-Match', 'Non-Match', 'Non-Match', 'Non-Match', 'Non-Match', 'Non-Match', 'Non-Match', 'Non-Match', 'Non-Match', 'Non-Match', 'Non-Match', 'Non-Match', 'Non-Match', 'Non-Match', 'Non-Match', 'Non-Match', 'Non-Match', 'Non-Match', 'Non-Match', 'Non-Match', 'Non-Match', 'Non-Match', 'Non-Match', 'Non-Match', 'Non-Match', 'Non-Match', 'Non-Match', 'Non-Match', 'Non-Match', 'Non-Match', 'Non-Match', 'Non-Match', 'Non-Match', 'Non-Match', 'Non-Match', 'Non-Match', 'Non-Match', 'Non-Match', 'Non-Match', 'Non-Match', 'Non-Match', 'Non-Match', 'Non-Match', 'Non-Match', 'Non-Match', 'Non-Match', 'Non-Match', 'Non-Match', 'Non-Match', 'Non-Match', 'Non-Match', 'Non-Match', 'Non-Match', 'Non-Match', 'Non-Match', 'Non-Match', 'Non-Match', 'Non-Match', 'Non-Match', 'Non-Match', 'Non-Match', 'Non-Match', 'Non-Match', 'Non-Match', 'Non-Match', 'Non-Match', 'Non-Match', 'Non-Match', 'Non-Match', 'Non-Match', 'Non-Match', 'Non-Match', 'Non-Match', 'Non-Match', 'Non-Match', 'Non-Match', 'Non-Match', 'Non-Match', 'Non-Match', 'Non-Match', 'Non-Match', 'Non-Match', 'Non-Match', 'Non-Match', 'Non-Match', 'Non-Match', 'Non-Match', 'Non-Match', 'Non-Match', 'Non-Match', 'Match', 'Non-Match', 'Non-Match', 'Non-Match', 'Non-Match', 'Non-Match', 'Non-Match', 'Non-Match', 'Non-Match', 'Non-Match', 'Non-Match', 'Non-Match', 'Non-Match', 'Non-Match', 'Non-Match', 'Non-Match', 'Non-Match', 'Non-Match', 'Non-Match', 'Non-Match', 'Non-Match', 'Non-Match', 'Non-Match', 'Non-Match', 'Non-Match', 'Non-Match', 'Non-Match', 'Non-Match', 'Non-Match', 'Non-Match', 'Non-Match', 'Non-Match', 'Non-Match', 'Non-Match', 'Non-Match', 'Non-Match', 'Non-Match', 'Non-Match', 'Non-Match', 'Non-Match', 'Non-Match', 'Non-Match', 'Non-Match', 'Non-Match', 'Non-Match', 'Non-Match', 'Non-Match', 'Non-Match', 'Non-Match', 'Non-Match', 'Non-Match', 'Non-Match', 'Non-Match', 'Non-Match', 'Non-Match', 'Non-Match', 'Non-Match', 'Non-Match', 'Non-Match', 'Match', 'Non-Match', 'Non-Match', 'Non-Match', 'Non-Match', 'Non-Match', 'Non-Match', 'Non-Match', 'Non-Match', 'Non-Match', 'Non-Match', 'Non-Match', 'Non-Match', 'Non-Match', 'Non-Match', 'Non-Match', 'Non-Match', 'Non-Match', 'Non-Match', 'Non-Match', 'Non-Match', 'Non-Match', 'Non-Match', 'Non-Match', 'Non-Match', 'Non-Match', 'Non-Match', 'Non-Match', 'Non-Match', 'Non-Match', 'Non-Match', 'Non-Match', 'Non-Match', 'Non-Match', 'Non-Match', 'Non-Match', 'Non-Match', 'Non-Match', 'Non-Match', 'Non-Match', 'Non-Match', 'Non-Match', 'Non-Match', 'Non-Match', 'Non-Match', 'Non-Match', 'Non-Match', 'Non-Match', 'Non-Match', 'Non-Match', 'Non-Match', 'Non-Match', 'Non-Match', 'Non-Match', 'Non-Match', 'Non-Match', 'Non-Match', 'Non-Match', 'Non-Match', 'Non-Match', 'Non-Match', 'Non-Match', 'Non-Match', 'Non-Match', 'Non-Match', 'Non-Match', 'Non-Match', 'Non-Match', 'Non-Match', 'Non-Match', 'Non-Match', 'Non-Match', 'Non-Match', 'Non-Match', 'Non-Match', 'Non-Match', 'Non-Match', 'Non-Match', 'Non-Match', 'Non-Match', 'Non-Match', 'Non-Match', 'Non-Match', 'Non-Match', 'Non-Match', 'Non-Match', 'Non-Match', 'Match', 'Non-Match', 'Non-Match', 'Non-Match', 'Non-Match', 'Non-Match', 'Non-Match', 'Non-Match', 'Non-Match', 'Non-Match', 'Non-Match', 'Non-Match', 'Non-Match', 'Non-Match', 'Non-Match', 'Non-Match', 'Non-Match', 'Non-Match', 'Non-Match', 'Non-Match', 'Non-Match', 'Non-Match', 'Non-Match', 'Non-Match', 'Non-Match', 'Non-Match', 'Non-Match', 'Non-Match', 'Non-Match', 'Non-Match', 'Non-Match', 'Non-Match', 'Non-Match', 'Non-Match', 'Non-Match', 'Non-Match', 'Non-Match', 'Non-Match', 'Non-Match', 'Non-Match', 'Non-Match', 'Non-Match', 'Non-Match', 'Non-Match', 'Non-Match', 'Non-Match', 'Non-Match', 'Non-Match', 'Non-Match', 'Non-Match', 'Non-Match', 'Non-Match', 'Non-Match', 'Non-Match', 'Non-Match', 'Non-Match', 'Non-Match', 'Non-Match', 'Non-Match', 'Non-Match', 'Non-Match', 'Non-Match', 'Non-Match', 'Non-Match', 'Non-Match', 'Non-Match', 'Non-Match', 'Non-Match', 'Non-Match', 'Non-Match', 'Non-Match', 'Non-Match', 'Non-Match', 'Non-Match', 'Non-Match', 'Non-Match', 'Non-Match', 'Non-Match', 'Non-Match', 'Non-Match', 'Non-Match', 'Non-Match', 'Non-Match', 'Non-Match', 'Non-Match', 'Non-Match', 'Non-Match', 'Non-Match', 'Non-Match', 'Non-Match', 'Non-Match', 'Non-Match', 'Non-Match', 'Non-Match', 'Non-Match', 'Non-Match', 'Non-Match', 'Non-Match', 'Non-Match', 'Non-Match', 'Non-Match', 'Non-Match', 'Non-Match', 'Non-Match', 'Non-Match', 'Non-Match', 'Non-Match', 'Non-Match', 'Non-Match', 'Non-Match', 'Non-Match', 'Non-Match', 'Non-Match', 'Non-Match', 'Non-Match', 'Non-Match', 'Non-Match', 'Non-Match', 'Non-Match', 'Non-Match', 'Non-Match', 'Non-Match', 'Non-Match', 'Non-Match', 'Non-Match', 'Non-Match', 'Non-Match', 'Non-Match', 'Non-Match', 'Non-Match', 'Non-Match', 'Non-Match', 'Non-Match', 'Non-Match', 'Non-Match', 'Non-Match', 'Non-Match', 'Non-Match', 'Non-Match', 'Non-Match', 'Non-Match', 'Non-Match', 'Non-Match', 'Non-Match', 'Non-Match', 'Non-Match', 'Non-Match', 'Non-Match', 'Non-Match', 'Non-Match', 'Non-Match', 'Non-Match', 'Non-Match', 'Non-Match', 'Non-Match', 'Non-Match', 'Match', 'Non-Match', 'Non-Match', 'Non-Match', 'Non-Match', 'Non-Match', 'Non-Match', 'Non-Match', 'Non-Match', 'Non-Match', 'Non-Match', 'Non-Match', 'Non-Match', 'Non-Match', 'Non-Match', 'Non-Match', 'Non-Match', 'Non-Match', 'Non-Match', 'Non-Match', 'Non-Match', 'Non-Match', 'Non-Match', 'Non-Match', 'Non-Match', 'Non-Match', 'Non-Match', 'Non-Match', 'Non-Match', 'Non-Match', 'Non-Match', 'Non-Match', 'Non-Match', 'Non-Match', 'Non-Match', 'Non-Match', 'Non-Match', 'Non-Match', 'Non-Match', 'Non-Match', 'Non-Match', 'Non-Match', 'Non-Match', 'Non-Match', 'Non-Match', 'Non-Match', 'Non-Match', 'Non-Match', 'Non-Match', 'Non-Match', 'Non-Match', 'Non-Match', 'Non-Match', 'Non-Match', 'Non-Match', 'Non-Match', 'Non-Match', 'Non-Match', 'Non-Match', 'Non-Match', 'Non-Match', 'Non-Match', 'Non-Match', 'Non-Match', 'Non-Match', 'Non-Match', 'Non-Match', 'Non-Match', 'Non-Match', 'Non-Match', 'Non-Match', 'Non-Match', 'Non-Match', 'Non-Match', 'Non-Match', 'Non-Match', 'Non-Match', 'Non-Match', 'Non-Match', 'Non-Match', 'Non-Match', 'Non-Match', 'Non-Match', 'Non-Match', 'Non-Match', 'Match', 'Non-Match', 'Non-Match', 'Non-Match', 'Non-Match', 'Non-Match', 'Non-Match', 'Non-Match', 'Non-Match', 'Non-Match', 'Non-Match', 'Non-Match', 'Non-Match', 'Non-Match', 'Non-Match', 'Non-Match', 'Non-Match', 'Non-Match', 'Non-Match', 'Non-Match', 'Non-Match', 'Non-Match', 'Non-Match', 'Non-Match', 'Non-Match', 'Non-Match', 'Non-Match', 'Non-Match', 'Non-Match', 'Non-Match', 'Non-Match', 'Non-Match', 'Non-Match', 'Non-Match', 'Non-Match', 'Non-Match', 'Non-Match', 'Non-Match', 'Non-Match', 'Non-Match', 'Non-Match', 'Non-Match', 'Non-Match', 'Non-Match', 'Non-Match', 'Non-Match', 'Non-Match', 'Non-Match', 'Non-Match', 'Non-Match', 'Non-Match', 'Non-Match', 'Non-Match', 'Non-Match', 'Non-Match', 'Non-Match', 'Non-Match', 'Non-Match', 'Non-Match', 'Non-Match', 'Non-Match', 'Non-Match', 'Non-Match', 'Non-Match', 'Non-Match', 'Non-Match', 'Non-Match', 'Non-Match', 'Non-Match', 'Non-Match', 'Non-Match', 'Non-Match', 'Non-Match', 'Non-Match', 'Non-Match', 'Non-Match', 'Non-Match', 'Non-Match', 'Non-Match', 'Non-Match', 'Non-Match', 'Non-Match', 'Non-Match', 'Non-Match', 'Non-Match', 'Non-Match', 'Non-Match', 'Non-Match', 'Non-Match', 'Non-Match', 'Non-Match', 'Non-Match', 'Non-Match', 'Non-Match', 'Non-Match', 'Non-Match', 'Non-Match', 'Non-Match', 'Non-Match', 'Non-Match', 'Non-Match', 'Non-Match', 'Non-Match', 'Non-Match', 'Non-Match', 'Non-Match', 'Non-Match', 'Non-Match', 'Non-Match', 'Non-Match', 'Non-Match', 'Non-Match', 'Non-Match', 'Non-Match', 'Non-Match', 'Non-Match', 'Non-Match', 'Non-Match', 'Non-Match', 'Non-Match', 'Non-Match', 'Non-Match', 'Non-Match', 'Non-Match', 'Non-Match', 'Non-Match', 'Non-Match', 'Non-Match', 'Non-Match', 'Non-Match', 'Non-Match', 'Non-Match', 'Non-Match', 'Non-Match', 'Non-Match', 'Non-Match', 'Non-Match', 'Non-Match', 'Non-Match', 'Non-Match', 'Non-Match', 'Non-Match', 'Non-Match', 'Non-Match', 'Non-Match', 'Non-Match', 'Non-Match', 'Non-Match', 'Non-Match', 'Non-Match', 'Non-Match', 'Non-Match', 'Non-Match', 'Non-Match', 'Non-Match', 'Non-Match', 'Non-Match', 'Non-Match', 'Non-Match', 'Non-Match', 'Non-Match', 'Non-Match', 'Non-Match', 'Non-Match', 'Non-Match', 'Non-Match', 'Non-Match', 'Non-Match', 'Non-Match', 'Non-Match', 'Non-Match', 'Non-Match', 'Non-Match', 'Non-Match', 'Non-Match', 'Non-Match', 'Non-Match', 'Non-Match', 'Non-Match', 'Non-Match', 'Non-Match', 'Non-Match', 'Non-Match', 'Non-Match', 'Non-Match', 'Non-Match', 'Non-Match', 'Non-Match', 'Non-Match', 'Non-Match', 'Non-Match', 'Non-Match', 'Non-Match', 'Non-Match', 'Non-Match', 'Non-Match', 'Non-Match', 'Non-Match', 'Non-Match', 'Non-Match', 'Non-Match', 'Non-Match', 'Non-Match', 'Non-Match', 'Non-Match', 'Non-Match', 'Non-Match', 'Non-Match', 'Non-Match', 'Non-Match', 'Non-Match', 'Non-Match', 'Non-Match', 'Non-Match', 'Non-Match', 'Non-Match', 'Non-Match', 'Non-Match', 'Non-Match', 'Non-Match', 'Non-Match', 'Non-Match', 'Non-Match', 'Non-Match', 'Non-Match', 'Non-Match', 'Non-Match', 'Non-Match', 'Non-Match', 'Non-Match', 'Non-Match', 'Non-Match', 'Non-Match', 'Non-Match', 'Non-Match', 'Non-Match', 'Non-Match', 'Non-Match', 'Non-Match', 'Non-Match', 'Non-Match', 'Non-Match', 'Non-Match', 'Non-Match', 'Non-Match', 'Non-Match', 'Non-Match', 'Non-Match', 'Non-Match', 'Non-Match', 'Non-Match', 'Non-Match', 'Non-Match', 'Non-Match', 'Non-Match', 'Non-Match', 'Non-Match', 'Non-Match', 'Non-Match', 'Non-Match', 'Non-Match', 'Non-Match', 'Non-Match', 'Non-Match', 'Non-Match', 'Non-Match', 'Non-Match', 'Non-Match', 'Non-Match', 'Non-Match', 'Non-Match', 'Non-Match', 'Non-Match', 'Non-Match', 'Non-Match', 'Non-Match', 'Non-Match', 'Non-Match', 'Non-Match', 'Non-Match', 'Non-Match', 'Non-Match', 'Non-Match', 'Non-Match', 'Non-Match', 'Non-Match', 'Non-Match', 'Non-Match', 'Non-Match', 'Non-Match', 'Non-Match', 'Non-Match', 'Non-Match', 'Non-Match', 'Non-Match', 'Non-Match', 'Non-Match', 'Non-Match', 'Non-Match', 'Non-Match', 'Non-Match', 'Non-Match', 'Non-Match', 'Non-Match', 'Non-Match', 'Non-Match', 'Non-Match', 'Non-Match', 'Non-Match', 'Non-Match', 'Non-Match', 'Non-Match', 'Non-Match', 'Non-Match', 'Non-Match', 'Non-Match', 'Non-Match', 'Non-Match', 'Non-Match', 'Non-Match', 'Non-Match', 'Non-Match', 'Non-Match', 'Non-Match', 'Non-Match', 'Non-Match', 'Non-Match', 'Non-Match', 'Non-Match', 'Non-Match', 'Non-Match', 'Non-Match', 'Non-Match', 'Non-Match', 'Non-Match', 'Non-Match', 'Non-Match', 'Non-Match', 'Non-Match', 'Non-Match', 'Non-Match', 'Non-Match', 'Non-Match', 'Non-Match', 'Non-Match', 'Non-Match', 'Non-Match', 'Non-Match', 'Non-Match', 'Non-Match', 'Non-Match', 'Non-Match', 'Non-Match', 'Non-Match', 'Non-Match', 'Non-Match', 'Non-Match', 'Non-Match', 'Non-Match', 'Non-Match', 'Non-Match', 'Non-Match', 'Non-Match', 'Non-Match', 'Non-Match', 'Non-Match', 'Non-Match', 'Non-Match', 'Non-Match', 'Non-Match', 'Non-Match', 'Non-Match', 'Non-Match', 'Non-Match', 'Non-Match', 'Non-Match', 'Non-Match', 'Non-Match', 'Non-Match', 'Non-Match', 'Non-Match', 'Non-Match', 'Non-Match', 'Non-Match', 'Non-Match', 'Non-Match', 'Non-Match', 'Non-Match', 'Non-Match', 'Non-Match', 'Non-Match', 'Non-Match', 'Non-Match', 'Non-Match', 'Non-Match', 'Non-Match', 'Non-Match', 'Non-Match', 'Non-Match', 'Non-Match', 'Non-Match', 'Non-Match', 'Non-Match', 'Non-Match', 'Non-Match', 'Non-Match', 'Non-Match', 'Non-Match', 'Non-Match', 'Non-Match', 'Non-Match', 'Non-Match', 'Non-Match', 'Non-Match', 'Non-Match', 'Non-Match', 'Non-Match', 'Non-Match', 'Non-Match', 'Non-Match', 'Non-Match', 'Non-Match', 'Non-Match', 'Non-Match', 'Non-Match', 'Non-Match', 'Non-Match', 'Non-Match', 'Non-Match', 'Non-Match', 'Non-Match', 'Non-Match', 'Non-Match', 'Non-Match', 'Non-Match', 'Non-Match', 'Non-Match', 'Non-Match', 'Non-Match', 'Non-Match', 'Non-Match', 'Non-Match', 'Non-Match', 'Non-Match', 'Non-Match', 'Non-Match', 'Non-Match', 'Non-Match', 'Non-Match', 'Non-Match', 'Non-Match', 'Non-Match', 'Non-Match', 'Non-Match', 'Non-Match', 'Non-Match', 'Non-Match', 'Non-Match', 'Non-Match', 'Non-Match', 'Non-Match', 'Non-Match', 'Non-Match', 'Non-Match', 'Non-Match', 'Non-Match', 'Non-Match', 'Non-Match', 'Non-Match', 'Non-Match', 'Non-Match', 'Non-Match', 'Non-Match', 'Non-Match', 'Non-Match', 'Non-Match', 'Non-Match', 'Non-Match', 'Non-Match', 'Non-Match', 'Non-Match', 'Non-Match', 'Non-Match', 'Non-Match', 'Non-Match', 'Non-Match', 'Non-Match', 'Non-Match', 'Non-Match', 'Non-Match', 'Non-Match', 'Non-Match', 'Non-Match', 'Non-Match', 'Non-Match', 'Non-Match', 'Non-Match', 'Non-Match', 'Non-Match', 'Non-Match', 'Non-Match', 'Non-Match', 'Non-Match', 'Non-Match', 'Non-Match', 'Non-Match', 'Non-Match', 'Non-Match', 'Non-Match', 'Non-Match', 'Non-Match', 'Non-Match', 'Non-Match', 'Non-Match', 'Non-Match', 'Non-Match', 'Non-Match', 'Non-Match', 'Non-Match', 'Non-Match', 'Non-Match', 'Non-Match', 'Non-Match', 'Non-Match', 'Non-Match', 'Non-Match', 'Non-Match', 'Non-Match', 'Non-Match', 'Non-Match', 'Non-Match', 'Non-Match', 'Non-Match', 'Non-Match', 'Non-Match', 'Non-Match', 'Non-Match', 'Non-Match', 'Non-Match', 'Non-Match', 'Non-Match', 'Non-Match', 'Non-Match', 'Non-Match', 'Non-Match', 'Non-Match', 'Non-Match', 'Non-Match', 'Non-Match', 'Non-Match', 'Non-Match', 'Non-Match', 'Non-Match', 'Non-Match', 'Non-Match', 'Non-Match', 'Non-Match', 'Non-Match', 'Non-Match', 'Non-Match', 'Non-Match', 'Non-Match', 'Non-Match', 'Non-Match', 'Non-Match', 'Non-Match', 'Non-Match', 'Non-Match', 'Non-Match', 'Non-Match', 'Non-Match', 'Non-Match', 'Non-Match', 'Non-Match', 'Non-Match', 'Non-Match', 'Non-Match', 'Non-Match', 'Non-Match', 'Non-Match', 'Non-Match', 'Non-Match', 'Non-Match', 'Non-Match', 'Non-Match', 'Non-Match', 'Non-Match', 'Non-Match', 'Non-Match', 'Non-Match', 'Non-Match', 'Non-Match', 'Non-Match', 'Non-Match', 'Non-Match', 'Non-Match', 'Non-Match', 'Non-Match', 'Non-Match', 'Non-Match', 'Non-Match', 'Non-Match', 'Non-Match', 'Non-Match', 'Non-Match', 'Non-Match', 'Non-Match', 'Non-Match', 'Non-Match', 'Non-Match', 'Non-Match', 'Non-Match', 'Non-Match', 'Non-Match', 'Non-Match', 'Non-Match', 'Non-Match', 'Non-Match', 'Non-Match', 'Non-Match', 'Non-Match', 'Non-Match', 'Non-Match', 'Non-Match', 'Non-Match', 'Non-Match', 'Non-Match', 'Non-Match', 'Non-Match', 'Non-Match', 'Non-Match', 'Non-Match', 'Non-Match', 'Match', 'Non-Match', 'Non-Match', 'Non-Match', 'Non-Match', 'Non-Match', 'Non-Match', 'Non-Match', 'Non-Match', 'Non-Match', 'Non-Match', 'Non-Match', 'Non-Match', 'Non-Match', 'Non-Match', 'Non-Match', 'Non-Match', 'Non-Match', 'Non-Match', 'Non-Match', 'Non-Match', 'Non-Match', 'Non-Match', 'Non-Match', 'Non-Match', 'Non-Match', 'Non-Match', 'Non-Match', 'Non-Match', 'Non-Match', 'Non-Match', 'Non-Match', 'Non-Match', 'Non-Match', 'Non-Match', 'Non-Match', 'Non-Match', 'Non-Match', 'Non-Match', 'Non-Match', 'Non-Match', 'Non-Match', 'Non-Match', 'Non-Match', 'Non-Match', 'Non-Match', 'Non-Match', 'Non-Match', 'Non-Match', 'Non-Match', 'Non-Match', 'Non-Match', 'Non-Match', 'Non-Match', 'Non-Match', 'Non-Match', 'Non-Match', 'Non-Match', 'Non-Match', 'Non-Match', 'Non-Match', 'Non-Match', 'Non-Match', 'Non-Match', 'Non-Match', 'Non-Match', 'Non-Match', 'Non-Match', 'Non-Match', 'Non-Match', 'Non-Match', 'Non-Match', 'Non-Match', 'Non-Match', 'Non-Match', 'Non-Match', 'Non-Match', 'Non-Match', 'Non-Match', 'Non-Match', 'Non-Match', 'Non-Match', 'Non-Match', 'Non-Match', 'Non-Match', 'Non-Match', 'Non-Match', 'Non-Match', 'Non-Match', 'Non-Match', 'Non-Match', 'Non-Match', 'Non-Match', 'Non-Match', 'Non-Match', 'Non-Match', 'Non-Match', 'Non-Match', 'Non-Match', 'Non-Match', 'Non-Match', 'Non-Match', 'Non-Match', 'Non-Match', 'Non-Match', 'Non-Match', 'Non-Match', 'Non-Match', 'Non-Match', 'Non-Match', 'Non-Match', 'Non-Match', 'Non-Match', 'Non-Match', 'Non-Match', 'Non-Match', 'Non-Match', 'Non-Match', 'Non-Match', 'Non-Match', 'Non-Match', 'Non-Match', 'Non-Match', 'Non-Match', 'Non-Match', 'Non-Match', 'Non-Match', 'Non-Match', 'Non-Match', 'Non-Match', 'Non-Match', 'Non-Match', 'Non-Match', 'Non-Match', 'Non-Match', 'Non-Match', 'Non-Match', 'Non-Match', 'Non-Match', 'Non-Match', 'Non-Match', 'Non-Match', 'Non-Match', 'Non-Match', 'Non-Match', 'Non-Match', 'Non-Match', 'Non-Match', 'Non-Match', 'Non-Match', 'Non-Match', 'Non-Match', 'Non-Match', 'Non-Match', 'Non-Match', 'Non-Match', 'Non-Match', 'Non-Match', 'Non-Match', 'Non-Match', 'Non-Match', 'Non-Match', 'Non-Match', 'Non-Match', 'Non-Match', 'Non-Match', 'Non-Match', 'Non-Match', 'Non-Match', 'Non-Match', 'Non-Match', 'Non-Match', 'Non-Match', 'Non-Match', 'Non-Match', 'Non-Match', 'Non-Match', 'Non-Match', 'Non-Match', 'Non-Match', 'Non-Match', 'Non-Match', 'Non-Match', 'Non-Match', 'Non-Match', 'Non-Match', 'Non-Match', 'Non-Match', 'Non-Match', 'Non-Match', 'Non-Match', 'Non-Match', 'Non-Match', 'Non-Match', 'Non-Match', 'Non-Match', 'Non-Match', 'Non-Match', 'Non-Match', 'Non-Match', 'Non-Match', 'Non-Match', 'Non-Match', 'Non-Match', 'Non-Match', 'Non-Match', 'Non-Match', 'Non-Match', 'Non-Match', 'Non-Match', 'Non-Match', 'Non-Match', 'Non-Match', 'Non-Match', 'Non-Match', 'Non-Match', 'Non-Match', 'Non-Match', 'Non-Match', 'Non-Match', 'Non-Match', 'Non-Match', 'Non-Match', 'Non-Match', 'Non-Match', 'Non-Match', 'Non-Match', 'Non-Match', 'Non-Match', 'Non-Match', 'Non-Match', 'Non-Match', 'Non-Match', 'Non-Match', 'Non-Match', 'Non-Match', 'Non-Match', 'Non-Match', 'Non-Match', 'Non-Match', 'Non-Match', 'Non-Match', 'Non-Match', 'Non-Match', 'Non-Match', 'Non-Match', 'Non-Match', 'Non-Match', 'Non-Match', 'Non-Match', 'Non-Match', 'Non-Match', 'Non-Match', 'Non-Match', 'Non-Match', 'Non-Match', 'Non-Match', 'Non-Match', 'Non-Match', 'Non-Match', 'Non-Match', 'Non-Match', 'Non-Match', 'Non-Match', 'Non-Match', 'Non-Match', 'Non-Match', 'Non-Match', 'Non-Match', 'Non-Match', 'Non-Match', 'Non-Match', 'Non-Match', 'Non-Match', 'Non-Match', 'Non-Match', 'Non-Match', 'Non-Match', 'Non-Match', 'Non-Match', 'Non-Match', 'Non-Match', 'Non-Match', 'Non-Match', 'Non-Match', 'Non-Match', 'Non-Match', 'Non-Match', 'Non-Match', 'Non-Match', 'Non-Match', 'Non-Match', 'Non-Match', 'Non-Match', 'Non-Match', 'Non-Match', 'Non-Match', 'Non-Match', 'Non-Match', 'Non-Match', 'Non-Match', 'Non-Match', 'Non-Match', 'Non-Match', 'Non-Match', 'Non-Match', 'Non-Match', 'Non-Match', 'Non-Match', 'Non-Match', 'Non-Match', 'Non-Match', 'Non-Match', 'Non-Match', 'Non-Match', 'Non-Match', 'Non-Match', 'Non-Match', 'Non-Match', 'Non-Match', 'Non-Match', 'Non-Match', 'Non-Match', 'Non-Match', 'Non-Match', 'Non-Match', 'Non-Match', 'Non-Match', 'Non-Match', 'Non-Match', 'Non-Match', 'Non-Match', 'Non-Match', 'Non-Match', 'Non-Match', 'Non-Match', 'Non-Match', 'Non-Match', 'Non-Match', 'Non-Match', 'Non-Match', 'Non-Match', 'Non-Match', 'Non-Match', 'Non-Match', 'Non-Match', 'Non-Match', 'Non-Match', 'Non-Match', 'Non-Match', 'Non-Match', 'Match', 'Non-Match', 'Non-Match', 'Non-Match', 'Non-Match', 'Non-Match', 'Non-Match', 'Non-Match', 'Non-Match', 'Non-Match', 'Non-Match', 'Non-Match', 'Non-Match', 'Non-Match', 'Non-Match', 'Non-Match', 'Non-Match', 'Non-Match', 'Non-Match', 'Non-Match', 'Non-Match', 'Non-Match', 'Non-Match', 'Non-Match', 'Non-Match', 'Non-Match', 'Non-Match', 'Non-Match', 'Non-Match', 'Non-Match', 'Non-Match', 'Non-Match', 'Non-Match', 'Non-Match', 'Non-Match', 'Non-Match', 'Non-Match', 'Non-Match', 'Non-Match', 'Non-Match', 'Non-Match', 'Non-Match', 'Non-Match', 'Non-Match', 'Non-Match', 'Non-Match', 'Non-Match', 'Non-Match', 'Non-Match', 'Non-Match', 'Non-Match', 'Non-Match', 'Non-Match', 'Non-Match', 'Non-Match', 'Non-Match', 'Non-Match', 'Non-Match', 'Non-Match', 'Non-Match', 'Non-Match', 'Non-Match', 'Non-Match', 'Non-Match', 'Non-Match', 'Non-Match', 'Non-Match', 'Non-Match', 'Non-Match', 'Non-Match', 'Non-Match', 'Non-Match', 'Non-Match', 'Non-Match', 'Non-Match', 'Non-Match', 'Non-Match', 'Non-Match', 'Non-Match', 'Non-Match', 'Non-Match', 'Non-Match', 'Non-Match', 'Non-Match', 'Non-Match', 'Non-Match', 'Non-Match', 'Non-Match', 'Non-Match', 'Non-Match', 'Non-Match', 'Non-Match', 'Non-Match', 'Non-Match', 'Non-Match', 'Non-Match', 'Non-Match', 'Non-Match', 'Non-Match', 'Non-Match', 'Non-Match', 'Non-Match', 'Non-Match', 'Non-Match', 'Non-Match', 'Non-Match', 'Non-Match', 'Non-Match', 'Non-Match', 'Non-Match', 'Non-Match', 'Non-Match', 'Non-Match', 'Non-Match', 'Non-Match', 'Non-Match', 'Non-Match', 'Non-Match', 'Non-Match', 'Non-Match', 'Non-Match', 'Non-Match', 'Non-Match', 'Non-Match', 'Non-Match', 'Non-Match', 'Non-Match', 'Non-Match', 'Non-Match', 'Non-Match', 'Non-Match', 'Non-Match', 'Non-Match', 'Non-Match', 'Non-Match', 'Non-Match', 'Non-Match', 'Non-Match', 'Non-Match', 'Non-Match', 'Non-Match', 'Non-Match', 'Non-Match', 'Non-Match', 'Non-Match', 'Non-Match', 'Non-Match', 'Non-Match', 'Non-Match', 'Non-Match', 'Non-Match', 'Non-Match', 'Non-Match', 'Non-Match', 'Non-Match', 'Non-Match', 'Non-Match', 'Non-Match', 'Non-Match', 'Non-Match', 'Non-Match', 'Non-Match', 'Non-Match', 'Non-Match', 'Non-Match', 'Non-Match', 'Non-Match', 'Non-Match', 'Non-Match', 'Non-Match', 'Non-Match', 'Non-Match', 'Non-Match', 'Non-Match', 'Non-Match', 'Non-Match', 'Non-Match', 'Non-Match', 'Non-Match', 'Non-Match', 'Non-Match', 'Non-Match', 'Non-Match', 'Non-Match', 'Non-Match', 'Non-Match', 'Non-Match', 'Non-Match', 'Non-Match', 'Non-Match', 'Non-Match', 'Non-Match', 'Non-Match', 'Non-Match', 'Non-Match', 'Non-Match', 'Non-Match', 'Non-Match', 'Non-Match', 'Non-Match', 'Non-Match', 'Non-Match', 'Non-Match', 'Non-Match', 'Non-Match', 'Non-Match', 'Non-Match', 'Non-Match', 'Non-Match', 'Non-Match', 'Non-Match', 'Non-Match', 'Non-Match', 'Non-Match', 'Non-Match', 'Non-Match', 'Non-Match', 'Non-Match', 'Non-Match', 'Non-Match', 'Non-Match', 'Non-Match', 'Non-Match', 'Non-Match', 'Non-Match', 'Non-Match', 'Non-Match', 'Non-Match', 'Non-Match', 'Non-Match', 'Non-Match', 'Non-Match', 'Non-Match', 'Non-Match', 'Non-Match', 'Non-Match', 'Non-Match', 'Non-Match', 'Non-Match', 'Non-Match', 'Non-Match', 'Non-Match', 'Non-Match', 'Non-Match', 'Non-Match', 'Non-Match', 'Non-Match', 'Non-Match', 'Non-Match', 'Non-Match', 'Non-Match', 'Non-Match', 'Non-Match', 'Non-Match', 'Non-Match', 'Non-Match', 'Non-Match', 'Non-Match', 'Non-Match', 'Non-Match', 'Non-Match', 'Non-Match', 'Non-Match', 'Non-Match', 'Non-Match', 'Non-Match', 'Non-Match', 'Non-Match', 'Non-Match', 'Non-Match', 'Non-Match', 'Non-Match', 'Non-Match', 'Non-Match', 'Non-Match', 'Non-Match', 'Non-Match', 'Non-Match', 'Non-Match', 'Non-Match', 'Non-Match', 'Non-Match', 'Non-Match', 'Non-Match', 'Non-Match', 'Non-Match', 'Non-Match', 'Non-Match', 'Non-Match', 'Non-Match', 'Non-Match', 'Non-Match', 'Non-Match', 'Non-Match', 'Non-Match', 'Non-Match', 'Non-Match', 'Non-Match', 'Non-Match', 'Non-Match', 'Non-Match', 'Non-Match', 'Non-Match', 'Non-Match', 'Non-Match', 'Non-Match', 'Non-Match', 'Non-Match', 'Non-Match', 'Non-Match', 'Non-Match', 'Non-Match', 'Non-Match', 'Non-Match', 'Non-Match', 'Non-Match', 'Non-Match', 'Non-Match', 'Non-Match', 'Non-Match', 'Non-Match', 'Non-Match', 'Non-Match', 'Non-Match', 'Non-Match', 'Non-Match', 'Non-Match', 'Non-Match', 'Non-Match', 'Non-Match', 'Non-Match', 'Non-Match', 'Non-Match', 'Non-Match', 'Non-Match', 'Non-Match', 'Non-Match', 'Non-Match', 'Non-Match', 'Non-Match', 'Non-Match', 'Non-Match', 'Non-Match', 'Non-Match', 'Non-Match', 'Non-Match', 'Non-Match', 'Non-Match', 'Non-Match', 'Non-Match', 'Non-Match', 'Non-Match', 'Non-Match', 'Non-Match', 'Non-Match', 'Non-Match', 'Non-Match', 'Non-Match', 'Non-Match', 'Non-Match', 'Non-Match', 'Non-Match', 'Non-Match', 'Non-Match', 'Non-Match', 'Non-Match', 'Non-Match', 'Non-Match', 'Non-Match', 'Non-Match', 'Non-Match', 'Non-Match', 'Non-Match', 'Non-Match', 'Non-Match', 'Non-Match', 'Non-Match', 'Non-Match', 'Non-Match', 'Non-Match', 'Non-Match', 'Non-Match', 'Non-Match', 'Non-Match', 'Non-Match', 'Non-Match', 'Non-Match', 'Non-Match', 'Non-Match', 'Non-Match', 'Non-Match', 'Non-Match', 'Non-Match', 'Non-Match', 'Non-Match', 'Non-Match', 'Non-Match', 'Non-Match', 'Non-Match', 'Non-Match', 'Non-Match', 'Non-Match', 'Non-Match', 'Non-Match', 'Non-Match', 'Non-Match', 'Non-Match', 'Non-Match', 'Non-Match', 'Non-Match', 'Non-Match', 'Non-Match', 'Non-Match', 'Non-Match', 'Non-Match', 'Non-Match', 'Non-Match', 'Non-Match', 'Non-Match', 'Non-Match', 'Non-Match', 'Non-Match', 'Non-Match', 'Non-Match', 'Non-Match', 'Non-Match', 'Non-Match', 'Non-Match', 'Non-Match', 'Non-Match', 'Non-Match', 'Non-Match', 'Non-Match', 'Non-Match', 'Non-Match', 'Non-Match', 'Non-Match', 'Non-Match', 'Non-Match', 'Non-Match', 'Non-Match', 'Non-Match', 'Non-Match', 'Non-Match', 'Non-Match', 'Non-Match', 'Non-Match', 'Non-Match', 'Non-Match', 'Non-Match', 'Non-Match', 'Non-Match', 'Non-Match', 'Non-Match', 'Non-Match', 'Non-Match', 'Non-Match', 'Non-Match', 'Non-Match', 'Non-Match', 'Non-Match', 'Non-Match', 'Non-Match', 'Non-Match', 'Non-Match', 'Non-Match', 'Non-Match', 'Match', 'Non-Match', 'Non-Match', 'Non-Match', 'Non-Match', 'Non-Match', 'Non-Match', 'Non-Match', 'Non-Match', 'Non-Match', 'Non-Match', 'Non-Match', 'Non-Match', 'Non-Match', 'Non-Match', 'Non-Match', 'Non-Match', 'Non-Match', 'Non-Match', 'Non-Match', 'Non-Match', 'Non-Match', 'Non-Match', 'Non-Match', 'Non-Match', 'Non-Match', 'Non-Match', 'Non-Match', 'Non-Match', 'Non-Match', 'Non-Match', 'Non-Match', 'Non-Match', 'Non-Match', 'Non-Match', 'Non-Match', 'Non-Match', 'Non-Match', 'Non-Match', 'Non-Match', 'Non-Match', 'Non-Match', 'Non-Match', 'Non-Match', 'Non-Match', 'Non-Match', 'Non-Match', 'Non-Match', 'Non-Match', 'Non-Match', 'Non-Match', 'Non-Match', 'Non-Match', 'Non-Match', 'Non-Match', 'Non-Match', 'Non-Match', 'Non-Match', 'Non-Match', 'Non-Match', 'Non-Match', 'Non-Match', 'Non-Match', 'Non-Match', 'Non-Match', 'Non-Match', 'Non-Match', 'Non-Match', 'Non-Match', 'Non-Match', 'Non-Match', 'Non-Match', 'Non-Match', 'Non-Match', 'Non-Match', 'Non-Match', 'Non-Match', 'Non-Match', 'Non-Match', 'Non-Match', 'Non-Match', 'Non-Match', 'Non-Match', 'Non-Match', 'Non-Match', 'Non-Match', 'Non-Match', 'Non-Match', 'Non-Match', 'Non-Match', 'Non-Match', 'Non-Match', 'Non-Match', 'Non-Match', 'Non-Match', 'Non-Match', 'Non-Match', 'Non-Match', 'Non-Match', 'Non-Match', 'Non-Match', 'Non-Match', 'Non-Match', 'Non-Match', 'Non-Match', 'Non-Match', 'Non-Match', 'Non-Match', 'Non-Match', 'Non-Match', 'Non-Match', 'Non-Match', 'Non-Match', 'Non-Match', 'Non-Match', 'Non-Match', 'Non-Match', 'Non-Match', 'Non-Match', 'Non-Match', 'Non-Match', 'Non-Match', 'Non-Match', 'Non-Match', 'Non-Match', 'Non-Match', 'Non-Match', 'Non-Match', 'Non-Match', 'Non-Match', 'Non-Match', 'Non-Match', 'Non-Match', 'Non-Match', 'Non-Match', 'Non-Match', 'Non-Match', 'Non-Match', 'Non-Match', 'Non-Match', 'Non-Match', 'Non-Match', 'Non-Match', 'Non-Match', 'Non-Match', 'Non-Match', 'Non-Match', 'Non-Match', 'Non-Match', 'Non-Match', 'Non-Match', 'Non-Match', 'Non-Match', 'Non-Match', 'Non-Match', 'Non-Match', 'Non-Match', 'Non-Match', 'Non-Match', 'Non-Match', 'Non-Match', 'Non-Match', 'Non-Match', 'Non-Match', 'Non-Match', 'Non-Match', 'Non-Match', 'Non-Match', 'Non-Match', 'Non-Match', 'Non-Match', 'Non-Match', 'Non-Match', 'Non-Match', 'Non-Match', 'Non-Match', 'Non-Match', 'Non-Match', 'Non-Match', 'Non-Match', 'Non-Match', 'Non-Match', 'Non-Match', 'Non-Match', 'Non-Match', 'Non-Match', 'Non-Match', 'Non-Match', 'Non-Match', 'Non-Match', 'Non-Match', 'Non-Match', 'Non-Match', 'Non-Match', 'Non-Match', 'Non-Match', 'Non-Match', 'Non-Match', 'Non-Match', 'Non-Match', 'Non-Match', 'Non-Match', 'Non-Match', 'Non-Match', 'Non-Match', 'Non-Match', 'Non-Match', 'Non-Match', 'Non-Match', 'Non-Match', 'Non-Match', 'Non-Match', 'Non-Match', 'Non-Match', 'Non-Match', 'Non-Match', 'Non-Match', 'Non-Match', 'Non-Match', 'Non-Match', 'Non-Match', 'Non-Match', 'Non-Match', 'Non-Match', 'Non-Match', 'Non-Match', 'Non-Match', 'Non-Match', 'Non-Match', 'Non-Match', 'Non-Match', 'Non-Match', 'Non-Match', 'Non-Match', 'Non-Match', 'Non-Match', 'Non-Match', 'Non-Match', 'Non-Match', 'Non-Match', 'Non-Match', 'Non-Match', 'Non-Match', 'Non-Match', 'Non-Match', 'Non-Match', 'Non-Match', 'Non-Match', 'Non-Match', 'Non-Match', 'Non-Match', 'Non-Match', 'Non-Match', 'Non-Match', 'Non-Match', 'Non-Match', 'Non-Match', 'Non-Match', 'Non-Match', 'Non-Match', 'Non-Match', 'Non-Match', 'Non-Match', 'Non-Match', 'Non-Match', 'Non-Match', 'Non-Match', 'Non-Match', 'Non-Match', 'Non-Match', 'Non-Match', 'Non-Match', 'Non-Match', 'Non-Match', 'Non-Match', 'Non-Match', 'Non-Match', 'Non-Match', 'Non-Match', 'Non-Match', 'Non-Match', 'Non-Match', 'Match', 'Non-Match', 'Non-Match', 'Non-Match', 'Non-Match', 'Non-Match', 'Non-Match', 'Non-Match', 'Non-Match', 'Non-Match', 'Non-Match', 'Non-Match', 'Non-Match', 'Non-Match', 'Non-Match', 'Non-Match', 'Non-Match', 'Non-Match', 'Non-Match', 'Non-Match', 'Non-Match', 'Non-Match', 'Non-Match', 'Non-Match', 'Non-Match', 'Non-Match', 'Non-Match', 'Non-Match', 'Non-Match', 'Non-Match', 'Non-Match', 'Non-Match', 'Non-Match', 'Non-Match', 'Non-Match', 'Non-Match', 'Non-Match', 'Non-Match', 'Non-Match', 'Non-Match', 'Non-Match', 'Non-Match', 'Non-Match', 'Non-Match', 'Non-Match', 'Non-Match', 'Non-Match', 'Non-Match', 'Non-Match', 'Non-Match', 'Non-Match', 'Non-Match', 'Non-Match', 'Non-Match', 'Non-Match', 'Non-Match', 'Non-Match', 'Non-Match', 'Non-Match', 'Non-Match', 'Non-Match', 'Non-Match', 'Non-Match', 'Non-Match', 'Non-Match', 'Non-Match', 'Non-Match', 'Non-Match', 'Non-Match', 'Non-Match', 'Non-Match', 'Non-Match', 'Non-Match', 'Non-Match', 'Non-Match', 'Non-Match', 'Non-Match', 'Non-Match', 'Non-Match', 'Non-Match', 'Non-Match', 'Non-Match', 'Non-Match', 'Non-Match', 'Non-Match', 'Non-Match', 'Non-Match', 'Non-Match', 'Non-Match', 'Non-Match', 'Non-Match', 'Non-Match', 'Non-Match', 'Non-Match', 'Non-Match', 'Non-Match', 'Non-Match', 'Non-Match', 'Non-Match', 'Non-Match', 'Non-Match', 'Non-Match', 'Non-Match', 'Non-Match', 'Non-Match', 'Non-Match', 'Non-Match', 'Non-Match', 'Non-Match', 'Non-Match', 'Non-Match', 'Non-Match', 'Non-Match', 'Non-Match', 'Non-Match', 'Non-Match', 'Non-Match', 'Match', 'Non-Match', 'Non-Match', 'Non-Match', 'Non-Match', 'Non-Match', 'Non-Match', 'Non-Match', 'Non-Match', 'Non-Match', 'Non-Match', 'Non-Match', 'Non-Match', 'Non-Match', 'Non-Match', 'Non-Match', 'Non-Match', 'Non-Match', 'Non-Match', 'Non-Match', 'Non-Match', 'Non-Match', 'Non-Match', 'Non-Match', 'Non-Match', 'Non-Match', 'Non-Match', 'Non-Match', 'Non-Match', 'Non-Match', 'Non-Match', 'Non-Match', 'Non-Match', 'Non-Match', 'Non-Match', 'Non-Match', 'Non-Match', 'Non-Match', 'Non-Match', 'Non-Match', 'Non-Match', 'Non-Match', 'Non-Match', 'Non-Match', 'Non-Match', 'Non-Match', 'Non-Match', 'Non-Match', 'Non-Match', 'Non-Match', 'Non-Match', 'Non-Match', 'Non-Match', 'Non-Match', 'Non-Match', 'Non-Match', 'Non-Match', 'Non-Match', 'Non-Match', 'Non-Match', 'Non-Match', 'Non-Match', 'Non-Match', 'Non-Match', 'Non-Match', 'Non-Match', 'Non-Match', 'Non-Match', 'Non-Match', 'Non-Match', 'Non-Match', 'Non-Match', 'Non-Match', 'Non-Match', 'Non-Match', 'Non-Match', 'Non-Match', 'Non-Match', 'Non-Match', 'Non-Match', 'Non-Match', 'Non-Match', 'Non-Match', 'Non-Match', 'Non-Match', 'Non-Match', 'Match', 'Non-Match', 'Non-Match', 'Non-Match', 'Non-Match', 'Non-Match', 'Non-Match', 'Non-Match', 'Non-Match', 'Non-Match', 'Non-Match', 'Non-Match', 'Non-Match', 'Non-Match', 'Non-Match', 'Non-Match', 'Non-Match', 'Non-Match', 'Non-Match', 'Non-Match', 'Non-Match', 'Non-Match', 'Non-Match', 'Non-Match', 'Non-Match', 'Non-Match', 'Non-Match', 'Non-Match', 'Non-Match', 'Non-Match', 'Non-Match', 'Non-Match', 'Non-Match', 'Non-Match', 'Non-Match', 'Non-Match', 'Non-Match', 'Non-Match', 'Non-Match', 'Non-Match', 'Non-Match', 'Non-Match', 'Non-Match', 'Non-Match', 'Non-Match', 'Non-Match', 'Non-Match', 'Non-Match', 'Non-Match', 'Non-Match', 'Non-Match', 'Non-Match', 'Non-Match', 'Non-Match', 'Non-Match', 'Non-Match', 'Non-Match', 'Non-Match', 'Non-Match', 'Non-Match', 'Non-Match', 'Non-Match', 'Non-Match', 'Non-Match', 'Non-Match', 'Non-Match', 'Non-Match', 'Non-Match', 'Non-Match', 'Non-Match', 'Non-Match', 'Non-Match', 'Non-Match', 'Non-Match', 'Non-Match', 'Non-Match', 'Non-Match', 'Non-Match', 'Non-Match', 'Non-Match', 'Non-Match', 'Non-Match', 'Non-Match', 'Non-Match', 'Non-Match', 'Non-Match', 'Non-Match', 'Non-Match', 'Non-Match', 'Non-Match', 'Non-Match', 'Non-Match', 'Non-Match', 'Non-Match', 'Non-Match', 'Non-Match', 'Non-Match', 'Non-Match', 'Non-Match', 'Non-Match', 'Non-Match', 'Non-Match', 'Non-Match', 'Non-Match', 'Non-Match', 'Non-Match', 'Non-Match', 'Non-Match', 'Non-Match', 'Non-Match', 'Non-Match', 'Non-Match', 'Non-Match', 'Non-Match', 'Non-Match', 'Non-Match', 'Non-Match', 'Non-Match', 'Non-Match', 'Non-Match', 'Non-Match', 'Non-Match', 'Non-Match', 'Non-Match', 'Non-Match', 'Non-Match', 'Non-Match', 'Non-Match', 'Non-Match', 'Non-Match', 'Non-Match', 'Non-Match', 'Non-Match', 'Non-Match', 'Non-Match', 'Non-Match', 'Non-Match', 'Non-Match', 'Non-Match', 'Non-Match', 'Non-Match', 'Non-Match', 'Non-Match', 'Non-Match', 'Non-Match', 'Non-Match', 'Non-Match', 'Non-Match', 'Non-Match', 'Non-Match', 'Non-Match', 'Non-Match', 'Non-Match', 'Non-Match', 'Non-Match', 'Non-Match', 'Non-Match', 'Non-Match', 'Non-Match', 'Non-Match', 'Non-Match', 'Non-Match', 'Non-Match', 'Non-Match', 'Non-Match', 'Non-Match', 'Non-Match', 'Non-Match', 'Non-Match', 'Non-Match', 'Non-Match', 'Non-Match', 'Non-Match', 'Non-Match', 'Non-Match', 'Non-Match', 'Non-Match', 'Non-Match', 'Non-Match', 'Non-Match', 'Non-Match', 'Non-Match', 'Non-Match', 'Non-Match', 'Non-Match', 'Non-Match', 'Non-Match', 'Non-Match', 'Non-Match', 'Non-Match', 'Non-Match', 'Non-Match', 'Non-Match', 'Non-Match', 'Non-Match', 'Non-Match', 'Non-Match', 'Non-Match', 'Non-Match', 'Non-Match', 'Non-Match', 'Non-Match', 'Non-Match', 'Non-Match', 'Non-Match', 'Non-Match', 'Non-Match', 'Non-Match', 'Non-Match', 'Non-Match', 'Non-Match', 'Non-Match', 'Non-Match', 'Non-Match', 'Non-Match', 'Non-Match', 'Non-Match', 'Non-Match', 'Non-Match', 'Non-Match', 'Non-Match', 'Non-Match', 'Non-Match', 'Non-Match', 'Non-Match', 'Non-Match', 'Non-Match', 'Non-Match', 'Non-Match', 'Non-Match', 'Non-Match', 'Non-Match', 'Non-Match', 'Non-Match', 'Non-Match', 'Non-Match', 'Non-Match', 'Non-Match', 'Non-Match', 'Non-Match', 'Non-Match', 'Non-Match', 'Non-Match', 'Non-Match', 'Non-Match', 'Non-Match', 'Non-Match', 'Non-Match', 'Non-Match', 'Non-Match', 'Non-Match', 'Non-Match', 'Non-Match', 'Non-Match', 'Non-Match', 'Non-Match', 'Non-Match', 'Non-Match', 'Non-Match', 'Non-Match', 'Non-Match', 'Non-Match', 'Non-Match', 'Non-Match', 'Non-Match', 'Non-Match', 'Non-Match', 'Non-Match', 'Non-Match', 'Non-Match', 'Non-Match', 'Non-Match', 'Non-Match', 'Non-Match', 'Non-Match', 'Non-Match', 'Non-Match', 'Non-Match', 'Non-Match', 'Non-Match', 'Non-Match', 'Non-Match', 'Non-Match', 'Non-Match', 'Non-Match', 'Non-Match', 'Non-Match', 'Non-Match', 'Non-Match', 'Non-Match', 'Non-Match', 'Non-Match', 'Non-Match', 'Non-Match', 'Non-Match', 'Non-Match', 'Non-Match', 'Non-Match', 'Non-Match', 'Non-Match', 'Non-Match', 'Non-Match', 'Non-Match', 'Non-Match', 'Non-Match', 'Non-Match', 'Non-Match', 'Non-Match', 'Non-Match', 'Non-Match', 'Non-Match', 'Non-Match', 'Non-Match', 'Non-Match', 'Non-Match', 'Non-Match', 'Non-Match', 'Non-Match', 'Non-Match', 'Non-Match', 'Non-Match', 'Non-Match', 'Non-Match', 'Non-Match', 'Non-Match', 'Non-Match', 'Non-Match', 'Non-Match', 'Non-Match', 'Non-Match', 'Non-Match', 'Non-Match', 'Non-Match', 'Non-Match', 'Non-Match', 'Non-Match', 'Non-Match', 'Non-Match', 'Non-Match', 'Non-Match', 'Non-Match', 'Non-Match', 'Non-Match', 'Non-Match', 'Non-Match', 'Non-Match', 'Non-Match', 'Non-Match', 'Non-Match', 'Non-Match', 'Non-Match', 'Non-Match', 'Non-Match', 'Non-Match', 'Non-Match', 'Non-Match', 'Non-Match', 'Non-Match', 'Non-Match', 'Non-Match', 'Non-Match', 'Non-Match', 'Non-Match', 'Non-Match', 'Non-Match', 'Non-Match', 'Non-Match', 'Non-Match', 'Non-Match', 'Non-Match', 'Non-Match', 'Non-Match', 'Non-Match', 'Non-Match', 'Non-Match', 'Non-Match', 'Non-Match', 'Non-Match', 'Non-Match', 'Non-Match', 'Non-Match', 'Non-Match', 'Non-Match', 'Non-Match', 'Non-Match', 'Non-Match', 'Non-Match', 'Non-Match', 'Non-Match', 'Non-Match', 'Non-Match', 'Non-Match', 'Non-Match', 'Non-Match', 'Non-Match', 'Non-Match', 'Non-Match', 'Non-Match', 'Non-Match', 'Non-Match', 'Non-Match', 'Non-Match', 'Non-Match', 'Match', 'Non-Match', 'Non-Match', 'Non-Match', 'Non-Match', 'Non-Match', 'Non-Match', 'Non-Match', 'Non-Match', 'Non-Match', 'Non-Match', 'Non-Match', 'Non-Match', 'Non-Match', 'Non-Match', 'Non-Match', 'Non-Match', 'Non-Match', 'Non-Match', 'Non-Match', 'Non-Match', 'Non-Match', 'Non-Match', 'Non-Match', 'Non-Match', 'Non-Match', 'Non-Match', 'Non-Match', 'Non-Match', 'Non-Match', 'Non-Match', 'Non-Match', 'Non-Match', 'Non-Match', 'Non-Match', 'Non-Match', 'Non-Match', 'Non-Match', 'Non-Match', 'Non-Match', 'Non-Match', 'Non-Match', 'Non-Match', 'Non-Match', 'Non-Match', 'Non-Match', 'Non-Match', 'Non-Match', 'Non-Match', 'Non-Match', 'Non-Match', 'Non-Match', 'Non-Match', 'Non-Match', 'Non-Match', 'Non-Match', 'Non-Match', 'Non-Match', 'Non-Match', 'Non-Match', 'Non-Match', 'Non-Match', 'Non-Match', 'Non-Match', 'Non-Match', 'Non-Match', 'Non-Match', 'Non-Match', 'Non-Match', 'Non-Match', 'Non-Match', 'Non-Match', 'Non-Match', 'Non-Match', 'Non-Match', 'Non-Match', 'Non-Match', 'Non-Match', 'Non-Match', 'Match', 'Non-Match', 'Non-Match', 'Non-Match', 'Non-Match', 'Non-Match', 'Non-Match', 'Non-Match', 'Non-Match', 'Non-Match', 'Non-Match', 'Non-Match', 'Non-Match', 'Non-Match', 'Non-Match', 'Non-Match', 'Non-Match', 'Non-Match', 'Non-Match', 'Non-Match', 'Non-Match', 'Non-Match', 'Non-Match', 'Non-Match', 'Non-Match', 'Non-Match', 'Non-Match', 'Non-Match', 'Non-Match', 'Non-Match', 'Non-Match', 'Non-Match', 'Non-Match', 'Non-Match', 'Non-Match', 'Non-Match', 'Non-Match', 'Non-Match', 'Non-Match', 'Non-Match', 'Non-Match', 'Non-Match', 'Non-Match', 'Non-Match', 'Match', 'Non-Match', 'Non-Match', 'Non-Match', 'Non-Match', 'Non-Match', 'Non-Match', 'Non-Match', 'Non-Match', 'Non-Match', 'Non-Match', 'Non-Match', 'Non-Match', 'Non-Match', 'Non-Match', 'Non-Match', 'Non-Match', 'Non-Match', 'Non-Match', 'Non-Match', 'Non-Match', 'Non-Match', 'Non-Match', 'Non-Match', 'Non-Match', 'Non-Match', 'Non-Match', 'Non-Match', 'Non-Match', 'Match', 'Non-Match', 'Non-Match', 'Non-Match', 'Non-Match', 'Non-Match', 'Non-Match', 'Non-Match', 'Non-Match', 'Non-Match', 'Non-Match', 'Non-Match', 'Non-Match', 'Non-Match', 'Non-Match', 'Non-Match', 'Non-Match', 'Non-Match', 'Non-Match', 'Non-Match', 'Non-Match', 'Non-Match', 'Non-Match', 'Non-Match', 'Non-Match', 'Non-Match', 'Non-Match', 'Non-Match', 'Non-Match', 'Non-Match', 'Non-Match', 'Non-Match', 'Non-Match', 'Non-Match', 'Non-Match', 'Non-Match', 'Non-Match', 'Non-Match', 'Non-Match', 'Non-Match', 'Non-Match', 'Non-Match', 'Non-Match', 'Non-Match', 'Non-Match', 'Non-Match', 'Non-Match', 'Non-Match', 'Non-Match', 'Non-Match', 'Non-Match', 'Non-Match', 'Non-Match', 'Non-Match', 'Non-Match', 'Non-Match', 'Non-Match', 'Non-Match', 'Non-Match', 'Non-Match', 'Non-Match', 'Non-Match', 'Non-Match', 'Non-Match', 'Non-Match', 'Non-Match', 'Non-Match', 'Non-Match', 'Non-Match', 'Non-Match', 'Non-Match', 'Non-Match', 'Non-Match', 'Non-Match', 'Non-Match', 'Non-Match', 'Non-Match', 'Non-Match', 'Non-Match', 'Non-Match', 'Non-Match', 'Non-Match', 'Non-Match', 'Non-Match', 'Non-Match', 'Non-Match', 'Non-Match', 'Non-Match', 'Non-Match', 'Non-Match', 'Non-Match', 'Non-Match', 'Non-Match', 'Non-Match', 'Non-Match', 'Non-Match', 'Non-Match', 'Non-Match', 'Non-Match', 'Non-Match', 'Non-Match', 'Non-Match', 'Non-Match', 'Non-Match', 'Non-Match', 'Non-Match', 'Non-Match', 'Non-Match', 'Non-Match', 'Non-Match', 'Non-Match', 'Non-Match', 'Non-Match', 'Non-Match', 'Non-Match', 'Non-Match', 'Non-Match', 'Non-Match', 'Non-Match', 'Non-Match', 'Non-Match', 'Non-Match', 'Non-Match', 'Non-Match', 'Non-Match', 'Non-Match', 'Non-Match', 'Non-Match', 'Non-Match', 'Non-Match', 'Non-Match', 'Non-Match', 'Non-Match', 'Non-Match', 'Non-Match', 'Non-Match', 'Non-Match', 'Non-Match', 'Non-Match', 'Non-Match', 'Non-Match', 'Non-Match', 'Non-Match', 'Non-Match', 'Non-Match', 'Non-Match', 'Non-Match', 'Non-Match', 'Non-Match', 'Non-Match', 'Non-Match', 'Non-Match', 'Non-Match', 'Non-Match', 'Non-Match', 'Non-Match', 'Non-Match', 'Non-Match', 'Non-Match', 'Non-Match', 'Non-Match', 'Non-Match', 'Non-Match', 'Non-Match', 'Non-Match', 'Non-Match', 'Match', 'Non-Match', 'Non-Match', 'Non-Match', 'Non-Match', 'Non-Match', 'Non-Match', 'Non-Match', 'Non-Match', 'Non-Match', 'Non-Match', 'Non-Match', 'Non-Match', 'Non-Match', 'Non-Match', 'Non-Match', 'Non-Match', 'Non-Match', 'Non-Match', 'Non-Match', 'Non-Match', 'Non-Match', 'Non-Match', 'Non-Match', 'Non-Match', 'Non-Match', 'Non-Match', 'Non-Match', 'Non-Match', 'Non-Match', 'Non-Match', 'Non-Match', 'Non-Match', 'Non-Match', 'Non-Match', 'Non-Match', 'Non-Match', 'Non-Match', 'Non-Match', 'Non-Match', 'Non-Match', 'Match', 'Non-Match', 'Non-Match', 'Non-Match', 'Non-Match', 'Non-Match', 'Non-Match', 'Non-Match', 'Non-Match', 'Non-Match', 'Non-Match', 'Non-Match', 'Non-Match', 'Non-Match', 'Non-Match', 'Non-Match', 'Non-Match', 'Non-Match', 'Non-Match', 'Non-Match', 'Non-Match', 'Non-Match', 'Non-Match', 'Non-Match', 'Non-Match', 'Non-Match', 'Non-Match', 'Non-Match', 'Non-Match', 'Non-Match', 'Non-Match', 'Non-Match', 'Non-Match', 'Non-Match', 'Non-Match', 'Non-Match', 'Non-Match', 'Non-Match', 'Non-Match', 'Non-Match', 'Non-Match', 'Non-Match', 'Non-Match', 'Match', 'Non-Match', 'Non-Match', 'Non-Match', 'Non-Match', 'Non-Match', 'Non-Match', 'Non-Match', 'Non-Match', 'Non-Match', 'Non-Match', 'Non-Match', 'Non-Match', 'Non-Match', 'Match', 'Non-Match', 'Non-Match', 'Non-Match', 'Non-Match', 'Non-Match', 'Match', 'Non-Match', 'Non-Match', 'Non-Match', 'Non-Match', 'Non-Match', 'Non-Match', 'Non-Match', 'Non-Match', 'Non-Match', 'Non-Match', 'Match', 'Non-Match', 'Non-Match', 'Non-Match', 'Non-Match', 'Non-Match', 'Non-Match', 'Non-Match', 'Non-Match', 'Non-Match', 'Non-Match', 'Non-Match', 'Match', 'Non-Match', 'Non-Match', 'Non-Match', 'Non-Match', 'Non-Match', 'Non-Match', 'Match', 'Non-Match', 'Non-Match', 'Non-Match', 'Non-Match', 'Non-Match', 'Non-Match', 'Non-Match', 'Non-Match', 'Non-Match', 'Non-Match', 'Non-Match', 'Non-Match', 'Match', 'Non-Match', 'Non-Match', 'Non-Match', 'Non-Match', 'Non-Match', 'Non-Match', 'Non-Match', 'Non-Match', 'Non-Match', 'Non-Match', 'Non-Match', 'Non-Match', 'Non-Match', 'Non-Match', 'Non-Match', 'Non-Match', 'Non-Match', 'Non-Match', 'Non-Match', 'Match', 'Non-Match', 'Non-Match', 'Non-Match', 'Non-Match', 'Non-Match', 'Non-Match', 'Non-Match', 'Non-Match', 'Non-Match', 'Non-Match', 'Non-Match', 'Non-Match', 'Non-Match', 'Non-Match', 'Non-Match', 'Non-Match', 'Non-Match', 'Non-Match', 'Non-Match', 'Non-Match', 'Non-Match', 'Non-Match', 'Non-Match', 'Match', 'Non-Match', 'Non-Match', 'Non-Match', 'Non-Match', 'Non-Match', 'Non-Match', 'Non-Match', 'Non-Match', 'Non-Match', 'Non-Match', 'Non-Match', 'Non-Match', 'Non-Match', 'Non-Match', 'Non-Match', 'Non-Match', 'Non-Match', 'Non-Match', 'Non-Match', 'Non-Match', 'Non-Match', 'Non-Match', 'Non-Match', 'Non-Match', 'Non-Match', 'Non-Match', 'Non-Match', 'Non-Match', 'Non-Match', 'Non-Match', 'Non-Match', 'Non-Match', 'Non-Match', 'Non-Match', 'Non-Match', 'Non-Match', 'Non-Match', 'Non-Match', 'Non-Match', 'Non-Match', 'Non-Match', 'Non-Match', 'Non-Match', 'Non-Match', 'Non-Match', 'Non-Match', 'Non-Match', 'Non-Match', 'Non-Match', 'Non-Match', 'Non-Match', 'Non-Match', 'Non-Match', 'Non-Match', 'Non-Match', 'Non-Match', 'Non-Match', 'Non-Match', 'Non-Match', 'Non-Match', 'Non-Match', 'Non-Match', 'Non-Match', 'Non-Match', 'Non-Match', 'Non-Match', 'Match', 'Non-Match', 'Non-Match', 'Non-Match', 'Non-Match', 'Non-Match', 'Non-Match', 'Non-Match', 'Non-Match', 'Non-Match', 'Non-Match', 'Non-Match', 'Non-Match', 'Non-Match', 'Non-Match', 'Match', 'Non-Match', 'Non-Match', 'Non-Match', 'Non-Match', 'Non-Match', 'Non-Match', 'Non-Match', 'Non-Match', 'Non-Match', 'Non-Match', 'Non-Match', 'Non-Match', 'Non-Match', 'Non-Match', 'Non-Match', 'Non-Match', 'Non-Match', 'Non-Match', 'Non-Match', 'Non-Match', 'Non-Match', 'Non-Match', 'Non-Match', 'Non-Match', 'Match', 'Non-Match', 'Non-Match', 'Non-Match', 'Non-Match', 'Match', 'Non-Match', 'Non-Match', 'Non-Match', 'Non-Match', 'Match', 'Non-Match', 'Match', 'Non-Match', 'Non-Match', 'Non-Match', 'Non-Match', 'Non-Match', 'Non-Match', 'Non-Match', 'Non-Match', 'Non-Match', 'Non-Match', 'Non-Match', 'Non-Match', 'Non-Match', 'Non-Match', 'Non-Match', 'Non-Match', 'Non-Match', 'Non-Match', 'Non-Match', 'Non-Match', 'Non-Match', 'Non-Match', 'Match', 'Non-Match', 'Non-Match', 'Non-Match', 'Non-Match', 'Non-Match', 'Non-Match', 'Non-Match', 'Non-Match', 'Non-Match', 'Non-Match', 'Non-Match', 'Non-Match', 'Non-Match', 'Non-Match', 'Non-Match', 'Non-Match', 'Non-Match', 'Non-Match', 'Non-Match', 'Match', 'Non-Match', 'Non-Match', 'Non-Match', 'Non-Match', 'Non-Match', 'Non-Match', 'Non-Match', 'Non-Match', 'Non-Match', 'Non-Match', 'Non-Match', 'Non-Match', 'Non-Match', 'Non-Match', 'Non-Match', 'Non-Match', 'Non-Match', 'Non-Match', 'Non-Match', 'Non-Match', 'Non-Match', 'Non-Match', 'Non-Match', 'Non-Match', 'Non-Match', 'Non-Match', 'Non-Match', 'Non-Match', 'Non-Match', 'Non-Match', 'Match', 'Non-Match', 'Non-Match', 'Non-Match', 'Non-Match', 'Non-Match', 'Non-Match', 'Non-Match', 'Non-Match', 'Non-Match', 'Non-Match', 'Non-Match', 'Non-Match', 'Non-Match', 'Non-Match', 'Non-Match', 'Non-Match', 'Match', 'Non-Match', 'Non-Match', 'Non-Match', 'Non-Match', 'Non-Match', 'Non-Match', 'Non-Match', 'Non-Match', 'Non-Match', 'Non-Match', 'Non-Match', 'Non-Match', 'Non-Match', 'Non-Match', 'Non-Match', 'Non-Match', 'Non-Match', 'Non-Match', 'Non-Match', 'Match', 'Non-Match', 'Non-Match', 'Non-Match', 'Non-Match', 'Non-Match', 'Non-Match', 'Non-Match', 'Non-Match', 'Non-Match', 'Non-Match', 'Non-Match', 'Non-Match', 'Non-Match', 'Non-Match', 'Non-Match', 'Non-Match', 'Non-Match', 'Non-Match', 'Non-Match', 'Match', 'Non-Match', 'Match', 'Non-Match', 'Non-Match', 'Non-Match', 'Non-Match', 'Non-Match', 'Non-Match', 'Non-Match', 'Match', 'Non-Match', 'Non-Match', 'Non-Match', 'Non-Match', 'Non-Match', 'Non-Match', 'Non-Match', 'Non-Match', 'Non-Match', 'Non-Match', 'Non-Match', 'Non-Match', 'Non-Match', 'Non-Match', 'Non-Match', 'Non-Match', 'Non-Match', 'Non-Match', 'Non-Match', 'Non-Match', 'Non-Match', 'Non-Match', 'Non-Match', 'Non-Match', 'Non-Match', 'Match', 'Non-Match', 'Non-Match', 'Non-Match', 'Non-Match', 'Non-Match', 'Non-Match', 'Non-Match', 'Non-Match', 'Non-Match', 'Non-Match', 'Non-Match', 'Non-Match', 'Non-Match', 'Non-Match', 'Non-Match', 'Non-Match', 'Non-Match', 'Non-Match', 'Non-Match', 'Non-Match', 'Non-Match', 'Non-Match', 'Non-Match', 'Non-Match', 'Non-Match', 'Non-Match', 'Non-Match', 'Non-Match', 'Non-Match', 'Non-Match', 'Non-Match', 'Non-Match', 'Non-Match', 'Non-Match', 'Non-Match', 'Non-Match', 'Non-Match', 'Non-Match', 'Non-Match', 'Non-Match', 'Non-Match', 'Non-Match', 'Non-Match', 'Non-Match', 'Non-Match', 'Match', 'Non-Match', 'Non-Match', 'Non-Match', 'Non-Match', 'Non-Match', 'Non-Match', 'Non-Match', 'Non-Match', 'Non-Match', 'Non-Match', 'Non-Match', 'Non-Match', 'Non-Match', 'Non-Match', 'Non-Match', 'Non-Match', 'Non-Match', 'Non-Match', 'Non-Match', 'Non-Match', 'Non-Match', 'Non-Match', 'Non-Match', 'Non-Match', 'Non-Match', 'Match', 'Non-Match', 'Non-Match', 'Non-Match', 'Non-Match', 'Non-Match', 'Non-Match', 'Match', 'Non-Match', 'Non-Match', 'Non-Match', 'Non-Match', 'Non-Match', 'Non-Match', 'Non-Match', 'Non-Match', 'Non-Match', 'Non-Match', 'Non-Match', 'Non-Match', 'Non-Match', 'Non-Match', 'Non-Match', 'Non-Match', 'Non-Match', 'Non-Match', 'Non-Match', 'Non-Match', 'Non-Match', 'Non-Match', 'Non-Match', 'Non-Match', 'Non-Match', 'Non-Match', 'Non-Match', 'Non-Match', 'Non-Match', 'Non-Match', 'Non-Match', 'Non-Match', 'Non-Match', 'Non-Match', 'Non-Match', 'Non-Match', 'Non-Match', 'Non-Match', 'Non-Match', 'Non-Match', 'Non-Match', 'Match', 'Non-Match', 'Non-Match', 'Non-Match', 'Non-Match', 'Non-Match', 'Non-Match', 'Non-Match', 'Non-Match', 'Non-Match', 'Non-Match', 'Non-Match', 'Non-Match', 'Non-Match', 'Non-Match', 'Non-Match', 'Non-Match', 'Non-Match', 'Non-Match', 'Non-Match', 'Non-Match', 'Non-Match', 'Non-Match', 'Non-Match', 'Non-Match', 'Non-Match', 'Non-Match', 'Non-Match', 'Non-Match', 'Non-Match', 'Non-Match', 'Non-Match', 'Non-Match', 'Non-Match', 'Non-Match', 'Non-Match', 'Non-Match', 'Non-Match', 'Non-Match', 'Non-Match', 'Non-Match', 'Non-Match', 'Non-Match', 'Non-Match', 'Non-Match', 'Non-Match', 'Non-Match', 'Non-Match', 'Non-Match', 'Non-Match', 'Non-Match', 'Non-Match', 'Non-Match', 'Non-Match', 'Non-Match', 'Non-Match', 'Non-Match', 'Non-Match', 'Non-Match', 'Non-Match', 'Non-Match', 'Non-Match', 'Non-Match', 'Non-Match', 'Non-Match', 'Non-Match', 'Non-Match', 'Non-Match', 'Non-Match', 'Non-Match', 'Non-Match', 'Non-Match', 'Non-Match', 'Non-Match', 'Non-Match', 'Non-Match', 'Non-Match', 'Non-Match', 'Non-Match', 'Non-Match', 'Non-Match', 'Non-Match', 'Non-Match', 'Non-Match', 'Non-Match', 'Non-Match', 'Non-Match', 'Non-Match', 'Non-Match', 'Non-Match', 'Non-Match', 'Non-Match', 'Non-Match', 'Non-Match', 'Non-Match', 'Non-Match', 'Non-Match', 'Non-Match', 'Non-Match', 'Non-Match', 'Non-Match', 'Non-Match', 'Non-Match', 'Non-Match', 'Non-Match', 'Non-Match', 'Non-Match', 'Non-Match', 'Non-Match', 'Non-Match', 'Match', 'Non-Match', 'Non-Match', 'Non-Match', 'Non-Match', 'Non-Match', 'Non-Match', 'Non-Match', 'Non-Match', 'Non-Match', 'Non-Match', 'Non-Match', 'Non-Match', 'Non-Match', 'Non-Match', 'Non-Match', 'Non-Match', 'Non-Match', 'Non-Match', 'Non-Match', 'Non-Match', 'Non-Match', 'Non-Match', 'Non-Match', 'Non-Match', 'Non-Match', 'Non-Match', 'Non-Match', 'Non-Match', 'Non-Match', 'Non-Match', 'Non-Match', 'Non-Match', 'Non-Match', 'Non-Match', 'Non-Match', 'Non-Match', 'Non-Match', 'Non-Match', 'Non-Match', 'Non-Match', 'Non-Match', 'Non-Match', 'Non-Match', 'Non-Match', 'Non-Match', 'Non-Match', 'Non-Match', 'Non-Match', 'Non-Match', 'Non-Match', 'Non-Match', 'Non-Match', 'Non-Match', 'Non-Match', 'Non-Match', 'Non-Match', 'Non-Match', 'Non-Match', 'Non-Match', 'Non-Match', 'Non-Match', 'Non-Match', 'Non-Match', 'Non-Match', 'Non-Match', 'Non-Match', 'Non-Match', 'Non-Match', 'Non-Match', 'Non-Match', 'Non-Match', 'Non-Match', 'Non-Match', 'Non-Match', 'Non-Match', 'Non-Match', 'Non-Match', 'Non-Match', 'Non-Match', 'Non-Match', 'Non-Match', 'Non-Match', 'Non-Match', 'Non-Match', 'Non-Match', 'Non-Match', 'Non-Match', 'Non-Match', 'Non-Match', 'Non-Match', 'Non-Match', 'Non-Match', 'Non-Match', 'Non-Match', 'Non-Match', 'Non-Match', 'Non-Match', 'Non-Match', 'Non-Match', 'Non-Match', 'Non-Match', 'Non-Match', 'Non-Match', 'Non-Match', 'Non-Match', 'Non-Match', 'Non-Match', 'Non-Match', 'Non-Match', 'Non-Match', 'Non-Match', 'Non-Match', 'Non-Match', 'Non-Match', 'Non-Match', 'Non-Match', 'Non-Match', 'Non-Match', 'Non-Match', 'Non-Match', 'Non-Match', 'Non-Match', 'Non-Match', 'Non-Match', 'Non-Match', 'Non-Match', 'Non-Match', 'Non-Match', 'Non-Match', 'Non-Match', 'Non-Match', 'Non-Match', 'Non-Match', 'Non-Match', 'Non-Match', 'Non-Match', 'Non-Match', 'Non-Match', 'Non-Match', 'Non-Match', 'Non-Match', 'Non-Match', 'Non-Match', 'Non-Match', 'Non-Match', 'Non-Match', 'Non-Match', 'Non-Match', 'Non-Match', 'Non-Match', 'Non-Match', 'Non-Match', 'Non-Match', 'Non-Match', 'Non-Match', 'Non-Match', 'Non-Match', 'Non-Match', 'Non-Match', 'Non-Match', 'Non-Match', 'Non-Match', 'Non-Match', 'Non-Match', 'Non-Match', 'Non-Match', 'Non-Match', 'Non-Match', 'Non-Match', 'Non-Match', 'Non-Match', 'Non-Match', 'Non-Match', 'Non-Match', 'Non-Match', 'Non-Match', 'Non-Match', 'Non-Match', 'Non-Match', 'Non-Match', 'Non-Match', 'Non-Match', 'Non-Match', 'Non-Match', 'Non-Match', 'Non-Match', 'Non-Match', 'Non-Match', 'Non-Match', 'Non-Match', 'Non-Match', 'Non-Match', 'Non-Match', 'Non-Match', 'Non-Match', 'Non-Match', 'Non-Match', 'Non-Match', 'Non-Match', 'Non-Match', 'Non-Match', 'Non-Match', 'Non-Match', 'Non-Match', 'Non-Match', 'Non-Match', 'Non-Match', 'Non-Match', 'Non-Match', 'Non-Match', 'Non-Match', 'Non-Match', 'Non-Match', 'Non-Match', 'Non-Match', 'Non-Match', 'Non-Match', 'Non-Match', 'Non-Match', 'Non-Match', 'Non-Match', 'Non-Match', 'Non-Match', 'Non-Match', 'Non-Match', 'Non-Match', 'Non-Match', 'Non-Match', 'Non-Match', 'Non-Match', 'Non-Match', 'Non-Match', 'Non-Match', 'Non-Match', 'Non-Match', 'Non-Match', 'Non-Match', 'Non-Match', 'Non-Match', 'Non-Match', 'Non-Match', 'Non-Match', 'Non-Match', 'Non-Match', 'Non-Match', 'Non-Match', 'Non-Match', 'Non-Match', 'Non-Match', 'Non-Match', 'Non-Match', 'Non-Match', 'Non-Match', 'Non-Match', 'Non-Match', 'Non-Match', 'Non-Match', 'Non-Match', 'Non-Match', 'Non-Match', 'Non-Match', 'Non-Match', 'Non-Match', 'Non-Match', 'Non-Match', 'Non-Match', 'Non-Match', 'Non-Match', 'Non-Match', 'Non-Match', 'Non-Match', 'Non-Match', 'Non-Match', 'Non-Match', 'Non-Match', 'Non-Match', 'Non-Match', 'Non-Match', 'Non-Match', 'Non-Match', 'Non-Match', 'Non-Match', 'Non-Match', 'Non-Match', 'Non-Match', 'Non-Match', 'Non-Match', 'Non-Match', 'Non-Match', 'Non-Match', 'Non-Match', 'Non-Match', 'Non-Match', 'Non-Match', 'Non-Match', 'Non-Match', 'Non-Match', 'Non-Match', 'Non-Match', 'Non-Match', 'Non-Match', 'Non-Match', 'Non-Match', 'Non-Match', 'Non-Match', 'Non-Match', 'Non-Match', 'Non-Match', 'Non-Match', 'Non-Match', 'Non-Match', 'Non-Match', 'Non-Match', 'Non-Match', 'Non-Match', 'Non-Match', 'Non-Match', 'Non-Match', 'Non-Match', 'Non-Match', 'Non-Match', 'Non-Match', 'Non-Match', 'Non-Match', 'Non-Match', 'Non-Match', 'Non-Match', 'Non-Match', 'Non-Match', 'Non-Match', 'Non-Match', 'Non-Match', 'Non-Match', 'Non-Match', 'Non-Match', 'Non-Match', 'Non-Match', 'Non-Match', 'Non-Match', 'Non-Match', 'Non-Match', 'Non-Match', 'Non-Match', 'Non-Match', 'Non-Match', 'Non-Match', 'Non-Match', 'Non-Match', 'Non-Match', 'Non-Match', 'Non-Match', 'Non-Match', 'Non-Match', 'Non-Match', 'Non-Match', 'Non-Match', 'Non-Match', 'Non-Match', 'Non-Match', 'Non-Match', 'Non-Match', 'Non-Match', 'Non-Match', 'Non-Match', 'Non-Match', 'Non-Match', 'Non-Match', 'Non-Match', 'Non-Match', 'Non-Match', 'Non-Match', 'Non-Match', 'Non-Match', 'Non-Match', 'Non-Match', 'Non-Match', 'Non-Match', 'Non-Match', 'Non-Match', 'Non-Match', 'Non-Match', 'Non-Match', 'Non-Match', 'Non-Match', 'Non-Match', 'Non-Match', 'Non-Match', 'Non-Match', 'Non-Match', 'Non-Match', 'Non-Match', 'Non-Match', 'Non-Match', 'Non-Match', 'Non-Match', 'Non-Match', 'Non-Match', 'Non-Match', 'Non-Match', 'Non-Match', 'Non-Match', 'Non-Match', 'Non-Match', 'Non-Match', 'Non-Match', 'Non-Match', 'Non-Match', 'Non-Match', 'Non-Match', 'Non-Match', 'Non-Match', 'Non-Match', 'Non-Match', 'Non-Match', 'Non-Match', 'Non-Match', 'Non-Match', 'Non-Match', 'Non-Match', 'Non-Match', 'Non-Match', 'Non-Match', 'Non-Match', 'Non-Match', 'Non-Match', 'Non-Match', 'Non-Match', 'Non-Match', 'Non-Match', 'Non-Match', 'Non-Match', 'Non-Match', 'Non-Match', 'Non-Match', 'Non-Match', 'Non-Match', 'Non-Match', 'Non-Match', 'Non-Match', 'Non-Match', 'Non-Match', 'Match', 'Non-Match', 'Non-Match', 'Non-Match', 'Non-Match', 'Non-Match', 'Non-Match', 'Non-Match', 'Non-Match', 'Non-Match', 'Non-Match', 'Non-Match', 'Non-Match', 'Non-Match', 'Non-Match', 'Non-Match', 'Non-Match', 'Non-Match', 'Non-Match', 'Non-Match', 'Non-Match', 'Non-Match', 'Non-Match', 'Non-Match', 'Non-Match', 'Non-Match', 'Non-Match', 'Non-Match', 'Non-Match', 'Non-Match', 'Non-Match', 'Non-Match', 'Non-Match', 'Non-Match', 'Non-Match', 'Non-Match', 'Non-Match', 'Non-Match', 'Non-Match', 'Non-Match', 'Non-Match', 'Non-Match', 'Non-Match', 'Non-Match', 'Non-Match', 'Non-Match', 'Non-Match', 'Non-Match', 'Non-Match', 'Non-Match', 'Non-Match', 'Non-Match', 'Non-Match', 'Non-Match', 'Non-Match', 'Non-Match', 'Non-Match', 'Non-Match', 'Non-Match', 'Non-Match', 'Non-Match', 'Non-Match', 'Non-Match', 'Non-Match', 'Non-Match', 'Non-Match', 'Non-Match', 'Non-Match', 'Non-Match', 'Non-Match', 'Non-Match', 'Non-Match', 'Non-Match', 'Non-Match', 'Non-Match', 'Non-Match', 'Non-Match', 'Non-Match', 'Non-Match', 'Non-Match', 'Non-Match', 'Non-Match', 'Non-Match', 'Non-Match', 'Non-Match', 'Non-Match', 'Non-Match', 'Non-Match', 'Non-Match', 'Non-Match', 'Non-Match', 'Non-Match', 'Non-Match', 'Non-Match', 'Non-Match', 'Non-Match', 'Non-Match', 'Non-Match', 'Non-Match', 'Non-Match', 'Non-Match', 'Non-Match', 'Non-Match', 'Non-Match', 'Non-Match', 'Non-Match', 'Non-Match', 'Non-Match', 'Non-Match', 'Non-Match', 'Non-Match', 'Non-Match', 'Non-Match', 'Non-Match', 'Non-Match', 'Non-Match', 'Non-Match', 'Non-Match', 'Non-Match', 'Non-Match', 'Non-Match', 'Non-Match', 'Non-Match', 'Non-Match', 'Non-Match', 'Non-Match', 'Non-Match', 'Non-Match', 'Non-Match', 'Non-Match', 'Non-Match', 'Non-Match', 'Non-Match', 'Non-Match', 'Non-Match', 'Non-Match', 'Non-Match', 'Non-Match', 'Non-Match', 'Non-Match', 'Non-Match', 'Non-Match', 'Non-Match', 'Non-Match', 'Non-Match', 'Non-Match', 'Non-Match', 'Non-Match', 'Non-Match', 'Non-Match', 'Non-Match', 'Non-Match', 'Non-Match', 'Non-Match', 'Non-Match', 'Non-Match', 'Non-Match', 'Non-Match', 'Non-Match', 'Non-Match', 'Non-Match', 'Non-Match', 'Non-Match', 'Non-Match', 'Non-Match', 'Non-Match', 'Non-Match', 'Non-Match', 'Non-Match', 'Non-Match', 'Non-Match', 'Non-Match', 'Non-Match', 'Non-Match', 'Non-Match', 'Non-Match', 'Non-Match', 'Non-Match', 'Non-Match', 'Non-Match', 'Non-Match', 'Non-Match', 'Non-Match', 'Non-Match', 'Non-Match', 'Non-Match', 'Non-Match', 'Non-Match', 'Non-Match', 'Non-Match', 'Non-Match', 'Non-Match', 'Non-Match', 'Non-Match', 'Non-Match', 'Non-Match', 'Non-Match', 'Non-Match', 'Non-Match', 'Non-Match', 'Non-Match', 'Non-Match', 'Non-Match', 'Non-Match', 'Non-Match', 'Non-Match', 'Non-Match', 'Non-Match', 'Non-Match', 'Non-Match', 'Non-Match', 'Non-Match', 'Non-Match', 'Non-Match', 'Non-Match', 'Non-Match', 'Non-Match', 'Non-Match', 'Non-Match', 'Non-Match', 'Non-Match', 'Non-Match', 'Non-Match', 'Non-Match', 'Non-Match', 'Non-Match', 'Non-Match', 'Non-Match', 'Non-Match', 'Non-Match', 'Non-Match', 'Non-Match', 'Non-Match', 'Non-Match', 'Non-Match', 'Non-Match', 'Non-Match', 'Non-Match', 'Non-Match', 'Non-Match', 'Non-Match', 'Non-Match', 'Non-Match', 'Non-Match', 'Non-Match', 'Non-Match', 'Non-Match', 'Non-Match', 'Non-Match', 'Non-Match', 'Non-Match', 'Non-Match', 'Non-Match', 'Non-Match', 'Non-Match', 'Non-Match', 'Non-Match', 'Non-Match', 'Non-Match', 'Non-Match', 'Non-Match', 'Non-Match', 'Non-Match', 'Non-Match', 'Non-Match', 'Non-Match', 'Non-Match', 'Non-Match', 'Non-Match', 'Non-Match', 'Non-Match', 'Non-Match', 'Non-Match', 'Non-Match', 'Non-Match', 'Non-Match', 'Non-Match', 'Non-Match', 'Non-Match', 'Non-Match', 'Non-Match', 'Non-Match', 'Non-Match', 'Non-Match', 'Non-Match', 'Non-Match', 'Non-Match', 'Non-Match', 'Non-Match', 'Non-Match', 'Non-Match', 'Non-Match', 'Non-Match', 'Non-Match', 'Non-Match', 'Non-Match', 'Non-Match', 'Non-Match', 'Non-Match', 'Non-Match', 'Non-Match', 'Non-Match', 'Non-Match', 'Non-Match', 'Non-Match', 'Non-Match', 'Non-Match', 'Non-Match', 'Non-Match', 'Non-Match', 'Non-Match', 'Non-Match', 'Non-Match', 'Non-Match', 'Non-Match', 'Non-Match', 'Non-Match', 'Non-Match', 'Non-Match', 'Non-Match', 'Non-Match', 'Non-Match', 'Non-Match', 'Non-Match', 'Non-Match', 'Non-Match', 'Non-Match', 'Non-Match', 'Non-Match', 'Non-Match', 'Non-Match', 'Non-Match', 'Non-Match', 'Non-Match', 'Non-Match', 'Non-Match', 'Match', 'Non-Match', 'Non-Match', 'Non-Match', 'Non-Match', 'Non-Match', 'Non-Match', 'Non-Match', 'Non-Match', 'Non-Match', 'Non-Match', 'Non-Match', 'Non-Match', 'Non-Match', 'Non-Match', 'Non-Match', 'Non-Match', 'Non-Match', 'Non-Match', 'Non-Match', 'Non-Match', 'Non-Match', 'Non-Match', 'Non-Match', 'Non-Match', 'Non-Match', 'Non-Match', 'Non-Match', 'Non-Match', 'Non-Match', 'Non-Match', 'Non-Match', 'Non-Match', 'Non-Match', 'Non-Match', 'Non-Match', 'Non-Match', 'Non-Match', 'Non-Match', 'Non-Match', 'Non-Match', 'Non-Match', 'Non-Match', 'Non-Match', 'Non-Match', 'Non-Match', 'Non-Match', 'Non-Match', 'Non-Match', 'Non-Match', 'Non-Match', 'Non-Match', 'Non-Match', 'Non-Match', 'Non-Match', 'Non-Match', 'Non-Match', 'Non-Match', 'Non-Match', 'Non-Match', 'Non-Match', 'Non-Match', 'Non-Match', 'Non-Match', 'Non-Match', 'Non-Match', 'Non-Match', 'Non-Match', 'Non-Match', 'Non-Match', 'Non-Match', 'Non-Match', 'Non-Match', 'Match', 'Non-Match', 'Non-Match', 'Non-Match', 'Non-Match', 'Non-Match', 'Non-Match', 'Non-Match', 'Non-Match', 'Non-Match', 'Non-Match', 'Non-Match', 'Non-Match', 'Non-Match', 'Non-Match', 'Non-Match', 'Non-Match', 'Non-Match', 'Non-Match', 'Non-Match', 'Non-Match', 'Non-Match', 'Non-Match', 'Non-Match', 'Non-Match', 'Non-Match', 'Non-Match', 'Non-Match', 'Non-Match', 'Non-Match', 'Non-Match', 'Non-Match', 'Non-Match', 'Non-Match', 'Non-Match', 'Non-Match', 'Non-Match', 'Non-Match', 'Non-Match', 'Non-Match', 'Non-Match', 'Non-Match', 'Non-Match', 'Non-Match', 'Non-Match', 'Non-Match', 'Non-Match', 'Non-Match', 'Non-Match', 'Non-Match', 'Non-Match', 'Non-Match', 'Non-Match', 'Non-Match', 'Non-Match', 'Non-Match', 'Non-Match', 'Non-Match', 'Non-Match', 'Non-Match', 'Non-Match', 'Non-Match', 'Non-Match', 'Non-Match', 'Non-Match', 'Non-Match', 'Non-Match', 'Non-Match', 'Non-Match', 'Non-Match', 'Non-Match', 'Non-Match', 'Non-Match', 'Non-Match', 'Non-Match', 'Non-Match', 'Non-Match', 'Non-Match', 'Non-Match', 'Non-Match', 'Non-Match', 'Non-Match', 'Non-Match', 'Non-Match', 'Non-Match', 'Non-Match', 'Non-Match', 'Non-Match', 'Non-Match', 'Non-Match', 'Non-Match', 'Non-Match', 'Non-Match', 'Non-Match', 'Non-Match', 'Non-Match', 'Non-Match', 'Non-Match', 'Non-Match', 'Non-Match', 'Non-Match', 'Non-Match', 'Non-Match', 'Non-Match', 'Non-Match', 'Non-Match', 'Non-Match', 'Non-Match', 'Non-Match', 'Non-Match', 'Non-Match', 'Non-Match', 'Non-Match', 'Non-Match', 'Non-Match', 'Non-Match', 'Non-Match', 'Non-Match', 'Non-Match', 'Non-Match', 'Non-Match', 'Non-Match', 'Non-Match', 'Non-Match', 'Non-Match', 'Non-Match', 'Non-Match', 'Non-Match', 'Non-Match', 'Non-Match', 'Non-Match', 'Non-Match', 'Non-Match', 'Non-Match', 'Non-Match', 'Non-Match', 'Non-Match', 'Non-Match', 'Non-Match', 'Non-Match', 'Non-Match', 'Non-Match', 'Non-Match', 'Non-Match', 'Non-Match', 'Non-Match', 'Non-Match', 'Non-Match', 'Non-Match', 'Non-Match', 'Non-Match', 'Non-Match', 'Non-Match', 'Non-Match', 'Non-Match', 'Non-Match', 'Non-Match', 'Non-Match', 'Non-Match', 'Non-Match', 'Non-Match', 'Non-Match', 'Non-Match', 'Non-Match', 'Non-Match', 'Non-Match', 'Non-Match', 'Non-Match', 'Non-Match', 'Non-Match', 'Non-Match', 'Non-Match', 'Non-Match', 'Non-Match', 'Non-Match', 'Non-Match', 'Non-Match', 'Non-Match', 'Non-Match', 'Non-Match', 'Non-Match', 'Non-Match', 'Non-Match', 'Non-Match', 'Non-Match', 'Non-Match', 'Non-Match', 'Non-Match', 'Non-Match', 'Non-Match', 'Non-Match', 'Non-Match', 'Non-Match', 'Non-Match', 'Non-Match', 'Non-Match', 'Non-Match', 'Non-Match', 'Non-Match', 'Non-Match', 'Non-Match', 'Non-Match', 'Non-Match', 'Non-Match', 'Non-Match', 'Non-Match', 'Non-Match', 'Non-Match', 'Non-Match', 'Non-Match', 'Non-Match', 'Non-Match', 'Non-Match', 'Non-Match', 'Non-Match', 'Non-Match', 'Non-Match', 'Non-Match', 'Non-Match', 'Non-Match', 'Non-Match', 'Non-Match', 'Non-Match', 'Non-Match', 'Non-Match', 'Non-Match', 'Non-Match', 'Non-Match', 'Non-Match', 'Non-Match', 'Non-Match', 'Non-Match', 'Non-Match', 'Non-Match', 'Non-Match', 'Non-Match', 'Non-Match', 'Non-Match', 'Non-Match', 'Non-Match', 'Non-Match', 'Non-Match', 'Non-Match', 'Non-Match', 'Non-Match', 'Non-Match', 'Non-Match', 'Non-Match', 'Non-Match', 'Non-Match', 'Non-Match', 'Non-Match', 'Non-Match', 'Non-Match', 'Non-Match', 'Non-Match', 'Non-Match', 'Non-Match', 'Non-Match', 'Non-Match', 'Non-Match', 'Non-Match', 'Non-Match', 'Non-Match', 'Non-Match', 'Non-Match', 'Non-Match', 'Non-Match', 'Non-Match', 'Non-Match', 'Non-Match', 'Non-Match', 'Non-Match', 'Non-Match', 'Non-Match', 'Non-Match', 'Non-Match', 'Non-Match', 'Non-Match', 'Non-Match', 'Non-Match', 'Non-Match', 'Non-Match', 'Non-Match', 'Non-Match', 'Non-Match', 'Non-Match', 'Non-Match', 'Non-Match', 'Non-Match', 'Non-Match', 'Non-Match', 'Non-Match', 'Non-Match', 'Non-Match', 'Non-Match', 'Non-Match', 'Non-Match', 'Non-Match', 'Non-Match', 'Non-Match', 'Non-Match', 'Non-Match', 'Non-Match', 'Non-Match', 'Non-Match', 'Non-Match', 'Non-Match', 'Non-Match', 'Non-Match', 'Non-Match', 'Non-Match', 'Non-Match', 'Non-Match', 'Non-Match', 'Non-Match', 'Non-Match', 'Non-Match', 'Non-Match', 'Non-Match', 'Non-Match', 'Non-Match', 'Non-Match', 'Non-Match', 'Non-Match', 'Non-Match', 'Non-Match', 'Non-Match', 'Non-Match', 'Non-Match', 'Non-Match', 'Non-Match', 'Non-Match', 'Non-Match', 'Non-Match', 'Non-Match', 'Non-Match', 'Non-Match', 'Non-Match', 'Non-Match', 'Non-Match', 'Non-Match', 'Non-Match', 'Non-Match', 'Non-Match', 'Non-Match', 'Non-Match', 'Non-Match', 'Non-Match', 'Non-Match', 'Non-Match', 'Non-Match', 'Non-Match', 'Non-Match', 'Non-Match', 'Non-Match', 'Non-Match', 'Non-Match', 'Non-Match', 'Non-Match', 'Match', 'Non-Match', 'Non-Match', 'Non-Match', 'Non-Match', 'Non-Match', 'Non-Match', 'Non-Match', 'Non-Match', 'Non-Match', 'Non-Match', 'Non-Match', 'Non-Match', 'Non-Match', 'Non-Match', 'Non-Match', 'Non-Match', 'Non-Match', 'Non-Match', 'Non-Match', 'Non-Match', 'Non-Match', 'Non-Match', 'Non-Match', 'Non-Match', 'Non-Match', 'Non-Match', 'Non-Match', 'Non-Match', 'Non-Match', 'Non-Match', 'Non-Match', 'Non-Match', 'Non-Match', 'Non-Match', 'Non-Match', 'Non-Match', 'Non-Match', 'Non-Match', 'Non-Match', 'Non-Match', 'Non-Match', 'Non-Match', 'Non-Match', 'Non-Match', 'Non-Match', 'Non-Match', 'Non-Match', 'Non-Match', 'Non-Match', 'Non-Match', 'Non-Match', 'Non-Match', 'Non-Match', 'Non-Match', 'Non-Match', 'Non-Match', 'Non-Match', 'Non-Match', 'Non-Match', 'Non-Match', 'Non-Match', 'Non-Match', 'Non-Match', 'Non-Match', 'Non-Match', 'Non-Match', 'Non-Match', 'Non-Match', 'Non-Match', 'Non-Match', 'Non-Match', 'Non-Match', 'Non-Match', 'Non-Match', 'Non-Match', 'Non-Match', 'Non-Match', 'Non-Match', 'Non-Match', 'Non-Match', 'Non-Match', 'Non-Match', 'Non-Match', 'Non-Match', 'Non-Match', 'Non-Match', 'Non-Match', 'Non-Match', 'Non-Match', 'Non-Match', 'Non-Match', 'Non-Match', 'Non-Match', 'Non-Match', 'Non-Match', 'Non-Match', 'Non-Match', 'Non-Match', 'Non-Match', 'Non-Match', 'Non-Match', 'Non-Match', 'Non-Match', 'Non-Match', 'Non-Match', 'Non-Match', 'Non-Match', 'Non-Match', 'Non-Match', 'Non-Match', 'Non-Match', 'Non-Match', 'Non-Match', 'Non-Match', 'Non-Match', 'Non-Match', 'Non-Match', 'Non-Match', 'Non-Match', 'Non-Match', 'Non-Match', 'Non-Match', 'Non-Match', 'Non-Match', 'Non-Match', 'Non-Match', 'Non-Match', 'Non-Match', 'Non-Match', 'Non-Match', 'Non-Match', 'Non-Match', 'Non-Match', 'Non-Match', 'Non-Match', 'Non-Match', 'Non-Match', 'Non-Match', 'Non-Match', 'Non-Match', 'Non-Match', 'Non-Match', 'Non-Match', 'Non-Match', 'Non-Match', 'Non-Match', 'Non-Match', 'Non-Match', 'Non-Match', 'Non-Match', 'Non-Match', 'Non-Match', 'Non-Match', 'Non-Match', 'Non-Match', 'Non-Match', 'Non-Match', 'Non-Match', 'Non-Match', 'Non-Match', 'Non-Match', 'Non-Match', 'Non-Match', 'Non-Match', 'Non-Match', 'Non-Match', 'Non-Match', 'Non-Match', 'Non-Match', 'Non-Match', 'Non-Match', 'Non-Match', 'Non-Match', 'Non-Match', 'Non-Match', 'Non-Match', 'Non-Match', 'Non-Match', 'Non-Match', 'Non-Match', 'Non-Match', 'Non-Match', 'Non-Match', 'Non-Match', 'Non-Match', 'Non-Match', 'Non-Match', 'Non-Match', 'Non-Match', 'Non-Match', 'Non-Match', 'Non-Match', 'Non-Match', 'Non-Match', 'Non-Match', 'Non-Match', 'Non-Match', 'Non-Match', 'Non-Match', 'Non-Match', 'Non-Match', 'Non-Match', 'Non-Match', 'Non-Match', 'Non-Match', 'Non-Match', 'Non-Match', 'Non-Match', 'Non-Match', 'Non-Match', 'Non-Match', 'Non-Match', 'Non-Match', 'Non-Match', 'Non-Match', 'Non-Match', 'Non-Match', 'Non-Match', 'Non-Match', 'Non-Match', 'Non-Match', 'Non-Match', 'Non-Match', 'Non-Match', 'Non-Match', 'Non-Match', 'Non-Match', 'Non-Match', 'Non-Match', 'Non-Match', 'Non-Match', 'Non-Match', 'Non-Match', 'Non-Match', 'Non-Match', 'Non-Match', 'Non-Match', 'Non-Match', 'Non-Match', 'Non-Match', 'Non-Match', 'Non-Match', 'Non-Match', 'Non-Match', 'Non-Match', 'Non-Match', 'Non-Match', 'Non-Match', 'Non-Match', 'Non-Match', 'Non-Match', 'Non-Match', 'Non-Match', 'Non-Match', 'Non-Match', 'Non-Match', 'Non-Match', 'Non-Match', 'Non-Match', 'Non-Match', 'Non-Match', 'Non-Match', 'Non-Match', 'Non-Match', 'Non-Match', 'Non-Match', 'Non-Match', 'Non-Match', 'Non-Match', 'Non-Match', 'Non-Match', 'Non-Match', 'Non-Match', 'Non-Match', 'Non-Match', 'Non-Match', 'Non-Match', 'Non-Match', 'Non-Match', 'Non-Match', 'Non-Match', 'Non-Match', 'Non-Match', 'Non-Match', 'Non-Match', 'Non-Match', 'Non-Match', 'Non-Match', 'Non-Match', 'Non-Match', 'Non-Match', 'Non-Match', 'Non-Match', 'Non-Match', 'Non-Match', 'Non-Match', 'Non-Match', 'Non-Match', 'Non-Match', 'Non-Match', 'Non-Match', 'Non-Match', 'Non-Match', 'Non-Match', 'Non-Match', 'Non-Match', 'Non-Match', 'Non-Match', 'Non-Match', 'Non-Match', 'Non-Match', 'Non-Match', 'Non-Match', 'Non-Match', 'Non-Match', 'Non-Match', 'Non-Match', 'Non-Match', 'Non-Match', 'Non-Match', 'Non-Match', 'Non-Match', 'Non-Match', 'Non-Match', 'Non-Match', 'Non-Match', 'Non-Match', 'Non-Match', 'Non-Match', 'Non-Match', 'Non-Match', 'Non-Match', 'Non-Match', 'Non-Match', 'Non-Match', 'Non-Match', 'Non-Match', 'Non-Match', 'Non-Match', 'Non-Match', 'Non-Match', 'Non-Match', 'Non-Match', 'Non-Match', 'Non-Match', 'Non-Match', 'Non-Match', 'Non-Match', 'Non-Match', 'Non-Match', 'Non-Match', 'Non-Match', 'Non-Match', 'Non-Match', 'Non-Match', 'Non-Match', 'Non-Match', 'Non-Match', 'Non-Match', 'Non-Match', 'Non-Match', 'Non-Match', 'Non-Match', 'Non-Match', 'Non-Match', 'Non-Match', 'Non-Match', 'Non-Match', 'Non-Match', 'Non-Match', 'Non-Match', 'Non-Match', 'Non-Match', 'Non-Match', 'Non-Match', 'Non-Match', 'Non-Match', 'Non-Match', 'Non-Match', 'Non-Match', 'Non-Match', 'Non-Match', 'Non-Match', 'Non-Match', 'Non-Match', 'Non-Match', 'Non-Match', 'Non-Match', 'Non-Match', 'Non-Match', 'Non-Match', 'Non-Match', 'Non-Match', 'Non-Match', 'Non-Match', 'Non-Match', 'Non-Match', 'Non-Match', 'Non-Match', 'Non-Match', 'Non-Match', 'Non-Match', 'Non-Match', 'Non-Match', 'Non-Match', 'Non-Match', 'Non-Match', 'Non-Match', 'Non-Match', 'Non-Match', 'Non-Match', 'Non-Match', 'Non-Match', 'Match', 'Non-Match', 'Non-Match', 'Non-Match', 'Non-Match', 'Non-Match', 'Non-Match', 'Non-Match', 'Non-Match', 'Non-Match', 'Non-Match', 'Non-Match', 'Non-Match', 'Non-Match', 'Non-Match', 'Non-Match', 'Non-Match', 'Non-Match', 'Non-Match', 'Non-Match', 'Non-Match', 'Non-Match', 'Non-Match', 'Non-Match', 'Non-Match', 'Non-Match', 'Non-Match', 'Non-Match', 'Non-Match', 'Non-Match', 'Non-Match', 'Non-Match', 'Non-Match', 'Non-Match', 'Non-Match', 'Non-Match', 'Non-Match', 'Non-Match', 'Non-Match', 'Non-Match', 'Non-Match', 'Non-Match', 'Non-Match', 'Non-Match', 'Non-Match', 'Non-Match', 'Non-Match', 'Non-Match', 'Non-Match', 'Non-Match', 'Non-Match', 'Non-Match', 'Non-Match', 'Non-Match', 'Non-Match', 'Non-Match', 'Non-Match', 'Non-Match', 'Non-Match', 'Non-Match', 'Non-Match', 'Non-Match', 'Non-Match', 'Non-Match', 'Non-Match', 'Non-Match', 'Non-Match', 'Non-Match', 'Non-Match', 'Non-Match', 'Non-Match', 'Non-Match', 'Non-Match', 'Non-Match', 'Non-Match', 'Non-Match', 'Non-Match', 'Non-Match', 'Non-Match', 'Non-Match', 'Non-Match', 'Non-Match', 'Non-Match', 'Non-Match', 'Non-Match', 'Non-Match', 'Non-Match', 'Non-Match', 'Non-Match', 'Non-Match', 'Non-Match', 'Non-Match', 'Non-Match', 'Non-Match', 'Match', 'Non-Match', 'Non-Match', 'Non-Match', 'Non-Match', 'Non-Match', 'Non-Match', 'Non-Match', 'Non-Match', 'Non-Match', 'Non-Match', 'Non-Match', 'Non-Match', 'Non-Match', 'Non-Match', 'Non-Match', 'Non-Match', 'Non-Match', 'Non-Match', 'Non-Match', 'Non-Match', 'Non-Match', 'Non-Match', 'Non-Match', 'Non-Match', 'Non-Match', 'Non-Match', 'Non-Match', 'Non-Match', 'Non-Match', 'Non-Match', 'Non-Match', 'Non-Match', 'Non-Match', 'Non-Match', 'Non-Match', 'Non-Match', 'Non-Match', 'Non-Match', 'Non-Match', 'Non-Match', 'Non-Match', 'Non-Match', 'Non-Match', 'Non-Match', 'Non-Match', 'Non-Match', 'Non-Match', 'Non-Match', 'Non-Match', 'Non-Match', 'Non-Match', 'Non-Match', 'Non-Match', 'Non-Match', 'Non-Match', 'Non-Match', 'Non-Match', 'Non-Match', 'Non-Match', 'Non-Match', 'Non-Match', 'Non-Match', 'Non-Match', 'Non-Match', 'Non-Match', 'Non-Match', 'Non-Match', 'Non-Match', 'Non-Match', 'Non-Match', 'Non-Match', 'Non-Match', 'Non-Match', 'Non-Match', 'Non-Match', 'Non-Match', 'Non-Match', 'Non-Match', 'Non-Match', 'Non-Match', 'Non-Match', 'Non-Match', 'Non-Match', 'Non-Match', 'Non-Match', 'Non-Match', 'Non-Match', 'Non-Match', 'Non-Match', 'Non-Match', 'Non-Match', 'Non-Match', 'Non-Match', 'Non-Match', 'Non-Match', 'Non-Match', 'Non-Match', 'Match', 'Non-Match', 'Non-Match', 'Non-Match', 'Non-Match', 'Non-Match', 'Non-Match', 'Non-Match', 'Non-Match', 'Non-Match', 'Non-Match', 'Non-Match', 'Non-Match', 'Non-Match', 'Non-Match', 'Non-Match', 'Non-Match', 'Non-Match', 'Non-Match', 'Non-Match', 'Non-Match', 'Non-Match', 'Non-Match', 'Non-Match', 'Non-Match', 'Non-Match', 'Non-Match', 'Non-Match', 'Non-Match', 'Non-Match', 'Non-Match', 'Non-Match', 'Non-Match', 'Non-Match', 'Non-Match', 'Non-Match', 'Non-Match', 'Non-Match', 'Non-Match', 'Non-Match', 'Non-Match', 'Non-Match', 'Non-Match', 'Non-Match', 'Non-Match', 'Non-Match', 'Non-Match', 'Non-Match', 'Non-Match', 'Non-Match', 'Non-Match', 'Non-Match', 'Non-Match', 'Non-Match', 'Non-Match', 'Non-Match', 'Non-Match', 'Non-Match', 'Non-Match', 'Non-Match', 'Non-Match', 'Non-Match', 'Non-Match', 'Non-Match', 'Non-Match', 'Non-Match', 'Non-Match', 'Non-Match', 'Non-Match', 'Non-Match', 'Non-Match', 'Non-Match', 'Non-Match', 'Non-Match', 'Non-Match', 'Non-Match', 'Non-Match', 'Non-Match', 'Match', 'Non-Match', 'Non-Match', 'Non-Match', 'Non-Match', 'Non-Match', 'Non-Match', 'Non-Match', 'Non-Match', 'Non-Match', 'Non-Match', 'Non-Match', 'Non-Match', 'Non-Match', 'Non-Match', 'Non-Match', 'Non-Match', 'Non-Match', 'Non-Match', 'Non-Match', 'Non-Match', 'Non-Match', 'Non-Match', 'Non-Match', 'Non-Match', 'Non-Match', 'Non-Match', 'Non-Match', 'Non-Match', 'Non-Match', 'Non-Match', 'Non-Match', 'Non-Match', 'Non-Match', 'Non-Match', 'Non-Match', 'Non-Match', 'Non-Match', 'Non-Match', 'Non-Match', 'Non-Match', 'Non-Match', 'Non-Match', 'Non-Match', 'Non-Match', 'Non-Match', 'Non-Match', 'Non-Match', 'Non-Match', 'Non-Match', 'Non-Match', 'Non-Match', 'Non-Match', 'Non-Match', 'Non-Match', 'Non-Match', 'Non-Match', 'Non-Match', 'Non-Match', 'Non-Match', 'Non-Match', 'Non-Match', 'Non-Match', 'Non-Match', 'Non-Match', 'Non-Match', 'Non-Match', 'Non-Match', 'Non-Match', 'Non-Match', 'Non-Match', 'Non-Match', 'Non-Match', 'Non-Match', 'Non-Match', 'Non-Match', 'Non-Match', 'Non-Match', 'Non-Match', 'Non-Match', 'Non-Match', 'Non-Match', 'Non-Match', 'Non-Match', 'Non-Match', 'Non-Match', 'Non-Match', 'Non-Match', 'Non-Match', 'Non-Match', 'Non-Match', 'Non-Match', 'Non-Match', 'Non-Match', 'Non-Match', 'Non-Match', 'Non-Match', 'Non-Match', 'Non-Match', 'Non-Match', 'Non-Match', 'Non-Match', 'Non-Match', 'Non-Match', 'Non-Match', 'Non-Match', 'Non-Match', 'Non-Match', 'Non-Match', 'Non-Match', 'Non-Match', 'Non-Match', 'Non-Match', 'Non-Match', 'Non-Match', 'Non-Match', 'Non-Match', 'Non-Match', 'Non-Match', 'Non-Match', 'Non-Match', 'Non-Match', 'Non-Match', 'Non-Match', 'Non-Match', 'Non-Match', 'Non-Match', 'Non-Match', 'Non-Match', 'Non-Match', 'Non-Match', 'Non-Match', 'Non-Match', 'Non-Match', 'Non-Match', 'Non-Match', 'Non-Match', 'Non-Match', 'Non-Match', 'Non-Match', 'Non-Match', 'Non-Match', 'Non-Match', 'Non-Match', 'Non-Match', 'Non-Match', 'Non-Match', 'Non-Match', 'Non-Match', 'Non-Match', 'Non-Match', 'Non-Match', 'Non-Match', 'Non-Match', 'Non-Match', 'Non-Match', 'Non-Match', 'Non-Match', 'Non-Match', 'Non-Match', 'Non-Match', 'Non-Match', 'Non-Match', 'Non-Match', 'Non-Match', 'Non-Match', 'Non-Match', 'Non-Match', 'Non-Match', 'Non-Match', 'Non-Match', 'Non-Match', 'Non-Match', 'Non-Match', 'Non-Match', 'Non-Match', 'Non-Match', 'Non-Match', 'Non-Match', 'Non-Match', 'Non-Match', 'Non-Match', 'Non-Match', 'Non-Match', 'Non-Match', 'Non-Match', 'Non-Match', 'Non-Match', 'Non-Match', 'Non-Match', 'Non-Match', 'Non-Match', 'Non-Match', 'Non-Match', 'Non-Match', 'Non-Match', 'Non-Match', 'Non-Match', 'Non-Match', 'Non-Match', 'Non-Match', 'Non-Match', 'Non-Match', 'Non-Match', 'Non-Match', 'Non-Match', 'Non-Match', 'Non-Match', 'Non-Match', 'Non-Match', 'Non-Match', 'Non-Match', 'Non-Match', 'Non-Match', 'Non-Match', 'Non-Match', 'Non-Match', 'Non-Match', 'Non-Match', 'Non-Match', 'Non-Match', 'Non-Match', 'Non-Match', 'Non-Match', 'Non-Match', 'Non-Match', 'Non-Match', 'Non-Match', 'Non-Match', 'Non-Match', 'Non-Match', 'Non-Match', 'Non-Match', 'Non-Match', 'Non-Match', 'Non-Match', 'Non-Match', 'Non-Match', 'Non-Match', 'Non-Match', 'Non-Match', 'Non-Match', 'Non-Match', 'Non-Match', 'Non-Match', 'Non-Match', 'Non-Match', 'Non-Match', 'Non-Match', 'Non-Match', 'Non-Match', 'Non-Match', 'Non-Match', 'Non-Match', 'Non-Match', 'Non-Match', 'Non-Match', 'Non-Match', 'Non-Match', 'Non-Match', 'Non-Match', 'Non-Match', 'Non-Match', 'Non-Match', 'Non-Match', 'Non-Match', 'Non-Match', 'Non-Match', 'Non-Match', 'Non-Match', 'Non-Match', 'Non-Match', 'Non-Match', 'Non-Match', 'Non-Match', 'Non-Match', 'Non-Match', 'Non-Match', 'Non-Match', 'Non-Match', 'Non-Match', 'Non-Match', 'Non-Match', 'Non-Match', 'Non-Match', 'Non-Match', 'Non-Match', 'Non-Match', 'Non-Match', 'Non-Match', 'Non-Match', 'Non-Match', 'Non-Match', 'Non-Match', 'Non-Match', 'Non-Match', 'Non-Match', 'Non-Match', 'Non-Match', 'Non-Match', 'Non-Match', 'Non-Match', 'Non-Match', 'Non-Match', 'Non-Match', 'Non-Match', 'Non-Match', 'Non-Match', 'Non-Match', 'Non-Match', 'Non-Match', 'Non-Match', 'Non-Match', 'Non-Match', 'Non-Match', 'Non-Match', 'Non-Match', 'Non-Match', 'Non-Match', 'Non-Match', 'Non-Match', 'Non-Match', 'Non-Match', 'Non-Match', 'Non-Match', 'Non-Match', 'Non-Match', 'Non-Match', 'Non-Match', 'Non-Match', 'Non-Match', 'Non-Match', 'Non-Match', 'Non-Match', 'Non-Match', 'Non-Match', 'Non-Match', 'Non-Match', 'Non-Match', 'Non-Match', 'Non-Match', 'Non-Match', 'Match', 'Non-Match', 'Non-Match', 'Non-Match', 'Non-Match', 'Non-Match', 'Non-Match', 'Non-Match', 'Non-Match', 'Non-Match', 'Non-Match', 'Non-Match', 'Non-Match', 'Non-Match', 'Non-Match', 'Non-Match', 'Non-Match', 'Non-Match', 'Non-Match', 'Non-Match', 'Non-Match', 'Non-Match', 'Non-Match', 'Non-Match', 'Non-Match', 'Non-Match', 'Non-Match', 'Non-Match', 'Non-Match', 'Non-Match', 'Non-Match', 'Non-Match', 'Non-Match', 'Non-Match', 'Non-Match', 'Non-Match', 'Non-Match', 'Non-Match', 'Non-Match', 'Non-Match', 'Non-Match', 'Non-Match', 'Non-Match', 'Non-Match', 'Non-Match', 'Non-Match', 'Non-Match', 'Non-Match', 'Non-Match', 'Non-Match', 'Non-Match', 'Non-Match', 'Non-Match', 'Non-Match', 'Non-Match', 'Non-Match', 'Non-Match', 'Non-Match', 'Non-Match', 'Non-Match', 'Non-Match', 'Non-Match', 'Non-Match', 'Non-Match', 'Non-Match', 'Non-Match', 'Non-Match', 'Non-Match', 'Non-Match', 'Non-Match', 'Non-Match', 'Non-Match', 'Non-Match', 'Non-Match', 'Non-Match', 'Non-Match', 'Non-Match', 'Non-Match', 'Non-Match', 'Non-Match', 'Non-Match', 'Non-Match', 'Non-Match', 'Non-Match', 'Non-Match', 'Non-Match', 'Non-Match', 'Non-Match', 'Non-Match', 'Non-Match', 'Non-Match', 'Non-Match', 'Non-Match', 'Non-Match', 'Non-Match', 'Non-Match', 'Non-Match', 'Non-Match', 'Non-Match', 'Non-Match', 'Non-Match', 'Non-Match', 'Non-Match', 'Non-Match', 'Non-Match', 'Non-Match', 'Non-Match', 'Non-Match', 'Non-Match', 'Non-Match', 'Non-Match', 'Non-Match', 'Non-Match', 'Non-Match', 'Non-Match', 'Non-Match', 'Non-Match', 'Non-Match', 'Non-Match', 'Non-Match', 'Non-Match', 'Non-Match', 'Non-Match', 'Non-Match', 'Non-Match', 'Non-Match', 'Non-Match', 'Non-Match', 'Non-Match', 'Non-Match', 'Non-Match', 'Non-Match', 'Non-Match', 'Non-Match', 'Non-Match', 'Non-Match', 'Non-Match', 'Non-Match', 'Non-Match', 'Non-Match', 'Non-Match', 'Non-Match', 'Non-Match', 'Non-Match', 'Non-Match', 'Non-Match', 'Non-Match', 'Non-Match', 'Non-Match', 'Non-Match', 'Non-Match', 'Non-Match', 'Non-Match', 'Non-Match', 'Non-Match', 'Non-Match', 'Non-Match', 'Non-Match', 'Non-Match', 'Non-Match', 'Non-Match', 'Non-Match', 'Non-Match', 'Non-Match', 'Non-Match', 'Non-Match', 'Non-Match', 'Non-Match', 'Non-Match', 'Non-Match', 'Non-Match', 'Non-Match', 'Non-Match', 'Non-Match', 'Non-Match', 'Non-Match', 'Non-Match', 'Non-Match', 'Non-Match', 'Non-Match', 'Non-Match', 'Non-Match', 'Non-Match', 'Non-Match', 'Non-Match', 'Non-Match', 'Non-Match', 'Non-Match', 'Non-Match', 'Non-Match', 'Non-Match', 'Non-Match', 'Non-Match', 'Non-Match', 'Non-Match', 'Non-Match', 'Non-Match', 'Non-Match', 'Non-Match', 'Non-Match', 'Non-Match', 'Non-Match', 'Non-Match', 'Non-Match', 'Non-Match', 'Non-Match', 'Non-Match', 'Non-Match', 'Non-Match', 'Non-Match', 'Non-Match', 'Non-Match', 'Non-Match', 'Non-Match', 'Non-Match', 'Non-Match', 'Non-Match', 'Non-Match', 'Non-Match', 'Non-Match', 'Non-Match', 'Non-Match', 'Non-Match', 'Non-Match', 'Non-Match', 'Non-Match', 'Non-Match', 'Non-Match', 'Non-Match', 'Non-Match', 'Non-Match', 'Non-Match', 'Non-Match', 'Non-Match', 'Non-Match', 'Non-Match', 'Non-Match', 'Non-Match', 'Non-Match', 'Non-Match', 'Non-Match', 'Non-Match', 'Non-Match', 'Non-Match', 'Non-Match', 'Non-Match', 'Non-Match', 'Non-Match', 'Non-Match', 'Non-Match', 'Non-Match', 'Non-Match', 'Non-Match', 'Non-Match', 'Non-Match', 'Non-Match', 'Non-Match', 'Non-Match', 'Non-Match', 'Non-Match', 'Non-Match', 'Non-Match', 'Non-Match', 'Non-Match', 'Non-Match', 'Non-Match', 'Non-Match', 'Non-Match', 'Non-Match', 'Non-Match', 'Non-Match', 'Non-Match', 'Non-Match', 'Non-Match', 'Non-Match', 'Non-Match', 'Non-Match', 'Non-Match', 'Non-Match', 'Non-Match', 'Non-Match', 'Non-Match', 'Non-Match', 'Non-Match', 'Non-Match', 'Non-Match', 'Non-Match', 'Non-Match', 'Non-Match', 'Non-Match', 'Non-Match', 'Non-Match', 'Non-Match', 'Non-Match', 'Non-Match', 'Non-Match', 'Non-Match', 'Non-Match', 'Non-Match', 'Non-Match', 'Non-Match', 'Non-Match', 'Non-Match', 'Non-Match', 'Non-Match', 'Non-Match', 'Non-Match', 'Non-Match', 'Non-Match', 'Non-Match', 'Non-Match', 'Non-Match', 'Non-Match', 'Non-Match', 'Non-Match', 'Non-Match', 'Non-Match', 'Non-Match', 'Non-Match', 'Non-Match', 'Non-Match', 'Non-Match', 'Non-Match', 'Non-Match', 'Non-Match', 'Non-Match', 'Non-Match', 'Non-Match', 'Non-Match', 'Non-Match', 'Non-Match', 'Non-Match', 'Non-Match', 'Non-Match', 'Non-Match', 'Non-Match', 'Non-Match', 'Non-Match', 'Non-Match', 'Non-Match', 'Non-Match', 'Non-Match', 'Non-Match', 'Non-Match', 'Non-Match', 'Non-Match', 'Non-Match', 'Non-Match', 'Non-Match', 'Non-Match', 'Non-Match', 'Non-Match', 'Non-Match', 'Non-Match', 'Non-Match', 'Non-Match', 'Non-Match', 'Non-Match', 'Non-Match', 'Non-Match', 'Non-Match', 'Non-Match', 'Non-Match', 'Non-Match', 'Non-Match', 'Non-Match', 'Non-Match', 'Non-Match', 'Non-Match', 'Non-Match', 'Non-Match', 'Non-Match', 'Non-Match', 'Non-Match', 'Non-Match', 'Non-Match', 'Non-Match', 'Non-Match', 'Non-Match', 'Non-Match', 'Non-Match', 'Non-Match', 'Non-Match', 'Non-Match', 'Non-Match', 'Non-Match', 'Non-Match', 'Non-Match', 'Non-Match', 'Non-Match', 'Non-Match', 'Non-Match', 'Non-Match', 'Non-Match', 'Non-Match', 'Non-Match', 'Non-Match', 'Non-Match', 'Non-Match', 'Non-Match', 'Non-Match', 'Non-Match', 'Non-Match', 'Non-Match', 'Non-Match', 'Non-Match', 'Non-Match', 'Non-Match', 'Non-Match', 'Non-Match', 'Non-Match', 'Non-Match', 'Non-Match', 'Non-Match', 'Non-Match', 'Non-Match', 'Non-Match', 'Non-Match', 'Non-Match', 'Non-Match', 'Non-Match', 'Non-Match', 'Non-Match', 'Non-Match', 'Non-Match', 'Non-Match', 'Non-Match', 'Non-Match', 'Non-Match', 'Non-Match', 'Non-Match', 'Non-Match', 'Non-Match', 'Non-Match', 'Non-Match', 'Non-Match', 'Non-Match', 'Non-Match', 'Non-Match', 'Non-Match', 'Non-Match', 'Non-Match', 'Non-Match', 'Non-Match', 'Non-Match', 'Non-Match', 'Non-Match', 'Non-Match', 'Non-Match', 'Non-Match', 'Non-Match', 'Non-Match', 'Non-Match', 'Non-Match', 'Non-Match', 'Non-Match', 'Non-Match', 'Non-Match', 'Non-Match', 'Non-Match', 'Non-Match', 'Non-Match', 'Non-Match', 'Non-Match', 'Non-Match', 'Non-Match', 'Non-Match', 'Non-Match', 'Non-Match', 'Non-Match', 'Non-Match', 'Non-Match', 'Non-Match', 'Non-Match', 'Non-Match', 'Non-Match', 'Non-Match', 'Non-Match', 'Non-Match', 'Non-Match', 'Non-Match', 'Non-Match', 'Non-Match', 'Non-Match', 'Non-Match', 'Non-Match', 'Non-Match', 'Non-Match', 'Non-Match', 'Non-Match', 'Non-Match', 'Non-Match', 'Non-Match', 'Non-Match', 'Non-Match', 'Non-Match', 'Non-Match', 'Non-Match', 'Non-Match', 'Non-Match', 'Non-Match', 'Non-Match', 'Non-Match', 'Non-Match', 'Non-Match', 'Non-Match', 'Non-Match', 'Non-Match', 'Non-Match', 'Non-Match', 'Non-Match', 'Non-Match', 'Non-Match', 'Non-Match', 'Non-Match', 'Non-Match', 'Non-Match', 'Non-Match', 'Non-Match', 'Non-Match', 'Non-Match', 'Non-Match', 'Non-Match', 'Non-Match', 'Non-Match', 'Non-Match', 'Non-Match', 'Non-Match', 'Non-Match', 'Non-Match', 'Non-Match', 'Non-Match', 'Non-Match', 'Non-Match', 'Non-Match', 'Non-Match', 'Non-Match', 'Non-Match', 'Non-Match', 'Non-Match', 'Non-Match', 'Non-Match', 'Non-Match', 'Non-Match', 'Non-Match', 'Non-Match', 'Non-Match', 'Non-Match', 'Non-Match', 'Non-Match', 'Non-Match', 'Non-Match', 'Non-Match', 'Non-Match', 'Non-Match', 'Non-Match', 'Non-Match', 'Non-Match', 'Non-Match', 'Non-Match', 'Non-Match', 'Non-Match', 'Non-Match', 'Non-Match', 'Non-Match', 'Non-Match', 'Non-Match', 'Non-Match', 'Non-Match', 'Non-Match', 'Non-Match', 'Non-Match', 'Non-Match', 'Non-Match', 'Non-Match', 'Non-Match', 'Non-Match', 'Non-Match', 'Non-Match', 'Non-Match', 'Non-Match', 'Non-Match', 'Non-Match', 'Non-Match', 'Non-Match', 'Non-Match', 'Non-Match', 'Non-Match', 'Non-Match', 'Non-Match', 'Non-Match', 'Non-Match', 'Non-Match', 'Non-Match', 'Non-Match', 'Non-Match', 'Non-Match', 'Non-Match', 'Non-Match', 'Non-Match', 'Non-Match', 'Non-Match', 'Non-Match', 'Non-Match', 'Non-Match', 'Non-Match', 'Non-Match', 'Non-Match', 'Non-Match', 'Non-Match', 'Non-Match', 'Non-Match', 'Non-Match', 'Non-Match', 'Non-Match', 'Non-Match', 'Non-Match', 'Non-Match', 'Non-Match', 'Non-Match', 'Non-Match', 'Non-Match', 'Non-Match', 'Non-Match', 'Non-Match', 'Non-Match', 'Non-Match', 'Non-Match', 'Non-Match', 'Non-Match', 'Non-Match', 'Non-Match', 'Non-Match', 'Non-Match', 'Non-Match', 'Non-Match', 'Non-Match', 'Non-Match', 'Non-Match', 'Non-Match', 'Non-Match', 'Non-Match', 'Non-Match', 'Non-Match', 'Non-Match', 'Non-Match', 'Non-Match', 'Non-Match', 'Non-Match', 'Non-Match', 'Non-Match', 'Non-Match', 'Non-Match', 'Non-Match', 'Non-Match', 'Non-Match', 'Non-Match', 'Non-Match', 'Non-Match', 'Non-Match', 'Non-Match', 'Non-Match', 'Non-Match', 'Non-Match', 'Non-Match', 'Non-Match', 'Non-Match', 'Non-Match', 'Non-Match', 'Non-Match', 'Non-Match', 'Non-Match', 'Non-Match', 'Non-Match', 'Non-Match', 'Non-Match', 'Non-Match', 'Non-Match', 'Non-Match', 'Non-Match', 'Non-Match', 'Non-Match', 'Non-Match', 'Non-Match', 'Non-Match', 'Non-Match', 'Non-Match', 'Non-Match', 'Non-Match', 'Non-Match', 'Non-Match', 'Non-Match', 'Non-Match', 'Non-Match', 'Non-Match', 'Non-Match', 'Non-Match', 'Non-Match', 'Non-Match', 'Non-Match', 'Non-Match', 'Non-Match', 'Non-Match', 'Non-Match', 'Non-Match', 'Non-Match', 'Non-Match', 'Non-Match', 'Non-Match', 'Non-Match', 'Non-Match', 'Non-Match', 'Non-Match', 'Non-Match', 'Non-Match', 'Non-Match', 'Non-Match', 'Non-Match', 'Non-Match', 'Non-Match', 'Non-Match', 'Non-Match', 'Non-Match', 'Non-Match', 'Non-Match', 'Non-Match', 'Non-Match', 'Non-Match', 'Non-Match', 'Non-Match', 'Non-Match', 'Non-Match', 'Non-Match', 'Non-Match', 'Non-Match', 'Non-Match', 'Non-Match', 'Non-Match', 'Non-Match', 'Non-Match', 'Non-Match', 'Non-Match', 'Non-Match', 'Non-Match', 'Non-Match', 'Non-Match', 'Non-Match', 'Non-Match', 'Non-Match', 'Non-Match', 'Non-Match', 'Non-Match', 'Non-Match', 'Non-Match', 'Non-Match', 'Non-Match', 'Match', 'Non-Match', 'Non-Match', 'Non-Match', 'Non-Match', 'Non-Match', 'Non-Match', 'Non-Match', 'Non-Match', 'Non-Match', 'Non-Match', 'Non-Match', 'Non-Match', 'Non-Match', 'Non-Match', 'Non-Match', 'Non-Match', 'Non-Match', 'Non-Match', 'Non-Match', 'Non-Match', 'Non-Match', 'Non-Match', 'Non-Match', 'Non-Match', 'Non-Match', 'Non-Match', 'Non-Match', 'Non-Match', 'Non-Match', 'Non-Match', 'Non-Match', 'Non-Match', 'Non-Match', 'Non-Match', 'Non-Match', 'Non-Match', 'Non-Match', 'Non-Match', 'Non-Match', 'Non-Match', 'Non-Match', 'Non-Match', 'Non-Match', 'Non-Match', 'Non-Match', 'Non-Match', 'Non-Match', 'Non-Match', 'Non-Match', 'Non-Match', 'Non-Match', 'Non-Match', 'Non-Match', 'Non-Match', 'Non-Match', 'Non-Match', 'Non-Match', 'Non-Match', 'Non-Match', 'Non-Match', 'Non-Match', 'Non-Match', 'Non-Match', 'Non-Match', 'Non-Match', 'Non-Match', 'Non-Match', 'Non-Match', 'Non-Match', 'Non-Match', 'Match', 'Non-Match', 'Non-Match', 'Non-Match', 'Non-Match', 'Non-Match', 'Non-Match', 'Non-Match', 'Non-Match', 'Non-Match', 'Non-Match', 'Non-Match', 'Non-Match', 'Non-Match', 'Non-Match', 'Non-Match', 'Non-Match', 'Non-Match', 'Non-Match', 'Non-Match', 'Non-Match', 'Non-Match', 'Non-Match', 'Non-Match', 'Non-Match', 'Non-Match', 'Non-Match', 'Non-Match', 'Non-Match', 'Non-Match', 'Non-Match', 'Non-Match', 'Non-Match', 'Non-Match', 'Non-Match', 'Non-Match', 'Non-Match', 'Non-Match', 'Non-Match', 'Non-Match', 'Non-Match', 'Non-Match', 'Non-Match', 'Non-Match', 'Non-Match', 'Non-Match', 'Non-Match', 'Non-Match', 'Non-Match', 'Non-Match', 'Non-Match', 'Non-Match', 'Non-Match', 'Non-Match', 'Non-Match', 'Non-Match', 'Non-Match', 'Non-Match', 'Non-Match', 'Non-Match', 'Non-Match', 'Non-Match', 'Non-Match', 'Non-Match', 'Non-Match', 'Non-Match', 'Non-Match', 'Non-Match', 'Non-Match', 'Non-Match', 'Non-Match', 'Non-Match', 'Non-Match', 'Non-Match', 'Non-Match', 'Non-Match', 'Non-Match', 'Non-Match', 'Non-Match', 'Non-Match', 'Non-Match', 'Non-Match', 'Non-Match', 'Non-Match', 'Non-Match', 'Non-Match', 'Non-Match', 'Non-Match', 'Non-Match', 'Non-Match', 'Non-Match', 'Non-Match', 'Non-Match', 'Non-Match', 'Non-Match', 'Non-Match', 'Non-Match', 'Non-Match', 'Non-Match', 'Non-Match', 'Non-Match', 'Non-Match', 'Non-Match', 'Non-Match', 'Non-Match', 'Non-Match', 'Non-Match', 'Non-Match', 'Non-Match', 'Non-Match', 'Non-Match', 'Non-Match', 'Non-Match', 'Non-Match', 'Non-Match', 'Non-Match', 'Non-Match', 'Non-Match', 'Non-Match', 'Non-Match', 'Non-Match', 'Non-Match', 'Non-Match', 'Non-Match', 'Non-Match', 'Match', 'Non-Match', 'Non-Match', 'Non-Match', 'Non-Match', 'Non-Match', 'Non-Match', 'Non-Match', 'Non-Match', 'Non-Match', 'Non-Match', 'Non-Match', 'Non-Match', 'Non-Match', 'Non-Match', 'Non-Match', 'Non-Match', 'Non-Match', 'Non-Match', 'Non-Match', 'Non-Match', 'Non-Match', 'Non-Match', 'Non-Match', 'Non-Match', 'Non-Match', 'Non-Match', 'Non-Match', 'Non-Match', 'Non-Match', 'Non-Match', 'Non-Match', 'Non-Match', 'Non-Match', 'Non-Match', 'Non-Match', 'Non-Match', 'Non-Match', 'Non-Match', 'Non-Match', 'Non-Match', 'Non-Match', 'Non-Match', 'Non-Match', 'Non-Match', 'Non-Match', 'Non-Match', 'Non-Match', 'Non-Match', 'Non-Match', 'Non-Match', 'Non-Match', 'Non-Match', 'Non-Match', 'Non-Match', 'Non-Match', 'Non-Match', 'Non-Match', 'Non-Match', 'Non-Match', 'Non-Match', 'Non-Match', 'Non-Match', 'Non-Match', 'Non-Match', 'Non-Match', 'Non-Match', 'Non-Match', 'Non-Match', 'Non-Match', 'Non-Match', 'Non-Match', 'Non-Match', 'Non-Match', 'Non-Match', 'Non-Match', 'Non-Match', 'Non-Match', 'Non-Match', 'Non-Match', 'Non-Match', 'Non-Match', 'Non-Match', 'Non-Match', 'Non-Match', 'Non-Match', 'Non-Match', 'Non-Match', 'Non-Match', 'Non-Match', 'Non-Match', 'Non-Match', 'Non-Match', 'Non-Match', 'Non-Match', 'Non-Match', 'Non-Match', 'Non-Match', 'Non-Match', 'Non-Match', 'Non-Match', 'Non-Match', 'Non-Match', 'Non-Match', 'Non-Match', 'Non-Match', 'Non-Match', 'Non-Match', 'Non-Match', 'Non-Match', 'Non-Match', 'Non-Match', 'Non-Match', 'Non-Match', 'Non-Match', 'Non-Match', 'Non-Match', 'Non-Match', 'Non-Match', 'Non-Match', 'Non-Match', 'Non-Match', 'Non-Match', 'Non-Match', 'Non-Match', 'Non-Match', 'Non-Match', 'Non-Match', 'Non-Match', 'Non-Match', 'Non-Match', 'Non-Match', 'Non-Match', 'Non-Match', 'Non-Match', 'Non-Match', 'Non-Match', 'Non-Match', 'Non-Match', 'Non-Match', 'Non-Match', 'Non-Match', 'Non-Match', 'Non-Match', 'Non-Match', 'Non-Match', 'Non-Match', 'Non-Match', 'Non-Match', 'Non-Match', 'Non-Match', 'Non-Match', 'Non-Match', 'Non-Match', 'Non-Match', 'Non-Match', 'Non-Match', 'Non-Match', 'Non-Match', 'Non-Match', 'Non-Match', 'Non-Match', 'Non-Match', 'Non-Match', 'Non-Match', 'Non-Match', 'Non-Match', 'Non-Match', 'Non-Match', 'Non-Match', 'Non-Match', 'Non-Match', 'Non-Match', 'Non-Match', 'Non-Match', 'Non-Match', 'Non-Match', 'Non-Match', 'Non-Match', 'Non-Match', 'Non-Match', 'Non-Match', 'Non-Match', 'Non-Match', 'Non-Match', 'Non-Match', 'Non-Match', 'Non-Match', 'Non-Match', 'Non-Match', 'Non-Match', 'Non-Match', 'Non-Match', 'Non-Match', 'Non-Match', 'Non-Match', 'Non-Match', 'Non-Match', 'Non-Match', 'Non-Match', 'Non-Match', 'Non-Match', 'Non-Match', 'Non-Match', 'Non-Match', 'Non-Match', 'Non-Match', 'Non-Match', 'Non-Match', 'Non-Match', 'Non-Match', 'Non-Match', 'Non-Match', 'Non-Match', 'Non-Match', 'Non-Match', 'Non-Match', 'Non-Match', 'Non-Match', 'Non-Match', 'Non-Match', 'Non-Match', 'Non-Match', 'Non-Match', 'Non-Match', 'Non-Match', 'Non-Match', 'Non-Match', 'Non-Match', 'Non-Match', 'Non-Match', 'Non-Match', 'Non-Match', 'Non-Match', 'Non-Match', 'Non-Match', 'Non-Match', 'Non-Match', 'Non-Match', 'Non-Match', 'Non-Match', 'Non-Match', 'Non-Match', 'Non-Match', 'Non-Match', 'Non-Match', 'Non-Match', 'Non-Match', 'Non-Match', 'Non-Match', 'Non-Match', 'Non-Match', 'Non-Match', 'Non-Match', 'Non-Match', 'Non-Match', 'Non-Match', 'Non-Match', 'Non-Match', 'Non-Match', 'Non-Match', 'Non-Match', 'Non-Match', 'Non-Match', 'Non-Match', 'Non-Match', 'Non-Match', 'Non-Match', 'Non-Match', 'Non-Match', 'Non-Match', 'Non-Match', 'Non-Match', 'Non-Match', 'Non-Match', 'Match', 'Non-Match', 'Non-Match', 'Non-Match', 'Non-Match', 'Non-Match', 'Non-Match', 'Non-Match', 'Non-Match', 'Non-Match', 'Non-Match', 'Non-Match', 'Non-Match', 'Non-Match', 'Non-Match', 'Non-Match', 'Non-Match', 'Non-Match', 'Non-Match', 'Non-Match', 'Non-Match', 'Non-Match', 'Non-Match', 'Non-Match', 'Non-Match', 'Non-Match', 'Non-Match', 'Non-Match', 'Non-Match', 'Non-Match', 'Non-Match', 'Non-Match', 'Non-Match', 'Non-Match', 'Non-Match', 'Non-Match', 'Non-Match', 'Non-Match', 'Non-Match', 'Non-Match', 'Non-Match', 'Non-Match', 'Non-Match', 'Non-Match', 'Non-Match', 'Non-Match', 'Non-Match', 'Non-Match', 'Non-Match', 'Non-Match', 'Non-Match', 'Non-Match', 'Non-Match', 'Non-Match', 'Non-Match', 'Non-Match', 'Non-Match', 'Non-Match', 'Non-Match', 'Non-Match', 'Non-Match', 'Non-Match', 'Non-Match', 'Non-Match', 'Non-Match', 'Non-Match', 'Non-Match', 'Non-Match', 'Non-Match', 'Non-Match', 'Non-Match', 'Non-Match', 'Non-Match', 'Non-Match', 'Non-Match', 'Non-Match', 'Non-Match', 'Non-Match', 'Non-Match', 'Non-Match', 'Non-Match', 'Non-Match', 'Non-Match', 'Non-Match', 'Non-Match', 'Non-Match', 'Non-Match', 'Non-Match', 'Non-Match', 'Non-Match', 'Non-Match', 'Non-Match', 'Non-Match', 'Non-Match', 'Non-Match', 'Non-Match', 'Non-Match', 'Non-Match', 'Non-Match', 'Non-Match', 'Non-Match', 'Non-Match', 'Non-Match', 'Non-Match', 'Non-Match', 'Non-Match', 'Non-Match', 'Non-Match', 'Non-Match', 'Non-Match', 'Non-Match', 'Non-Match', 'Non-Match', 'Non-Match', 'Non-Match', 'Non-Match', 'Non-Match', 'Non-Match', 'Non-Match', 'Non-Match', 'Non-Match', 'Non-Match', 'Non-Match', 'Non-Match', 'Non-Match', 'Non-Match', 'Non-Match', 'Non-Match', 'Non-Match', 'Non-Match', 'Non-Match', 'Non-Match', 'Non-Match', 'Non-Match', 'Non-Match', 'Non-Match', 'Non-Match', 'Non-Match', 'Non-Match', 'Non-Match', 'Non-Match', 'Non-Match', 'Non-Match', 'Non-Match', 'Non-Match', 'Non-Match', 'Non-Match', 'Non-Match', 'Non-Match', 'Non-Match', 'Non-Match', 'Non-Match', 'Non-Match', 'Non-Match', 'Non-Match', 'Non-Match', 'Non-Match', 'Non-Match', 'Non-Match', 'Non-Match', 'Non-Match', 'Non-Match', 'Non-Match', 'Non-Match', 'Non-Match', 'Non-Match', 'Non-Match', 'Non-Match', 'Non-Match', 'Non-Match', 'Non-Match', 'Non-Match', 'Non-Match', 'Non-Match', 'Non-Match', 'Non-Match', 'Non-Match', 'Non-Match', 'Non-Match', 'Non-Match', 'Non-Match', 'Non-Match', 'Non-Match', 'Non-Match', 'Non-Match', 'Non-Match', 'Non-Match', 'Non-Match', 'Non-Match', 'Non-Match', 'Non-Match', 'Non-Match', 'Non-Match', 'Non-Match', 'Non-Match', 'Match', 'Non-Match', 'Non-Match', 'Non-Match', 'Match', 'Non-Match', 'Non-Match', 'Non-Match', 'Non-Match', 'Non-Match', 'Non-Match', 'Non-Match', 'Non-Match', 'Non-Match', 'Non-Match', 'Non-Match', 'Non-Match', 'Non-Match', 'Non-Match', 'Non-Match', 'Non-Match', 'Non-Match', 'Non-Match', 'Non-Match', 'Non-Match', 'Non-Match', 'Non-Match', 'Non-Match', 'Non-Match', 'Non-Match', 'Non-Match', 'Non-Match', 'Non-Match', 'Non-Match', 'Non-Match', 'Non-Match', 'Non-Match', 'Non-Match', 'Non-Match', 'Non-Match', 'Non-Match', 'Non-Match', 'Non-Match', 'Non-Match', 'Non-Match', 'Non-Match', 'Non-Match', 'Non-Match', 'Non-Match', 'Non-Match', 'Non-Match', 'Non-Match', 'Non-Match', 'Non-Match', 'Non-Match', 'Non-Match', 'Non-Match', 'Non-Match', 'Non-Match', 'Non-Match', 'Non-Match', 'Non-Match', 'Non-Match', 'Non-Match', 'Non-Match', 'Non-Match', 'Non-Match', 'Non-Match', 'Non-Match', 'Non-Match', 'Non-Match', 'Non-Match', 'Non-Match', 'Non-Match', 'Non-Match', 'Non-Match', 'Non-Match', 'Non-Match', 'Match', 'Non-Match', 'Non-Match', 'Non-Match', 'Non-Match', 'Non-Match', 'Non-Match', 'Non-Match', 'Non-Match', 'Non-Match', 'Non-Match', 'Non-Match', 'Non-Match', 'Non-Match', 'Non-Match', 'Non-Match', 'Non-Match', 'Non-Match', 'Non-Match', 'Non-Match', 'Non-Match', 'Non-Match', 'Non-Match', 'Non-Match', 'Non-Match', 'Non-Match', 'Non-Match', 'Non-Match', 'Non-Match', 'Non-Match', 'Non-Match', 'Non-Match', 'Non-Match', 'Non-Match', 'Non-Match', 'Non-Match', 'Non-Match', 'Non-Match', 'Non-Match', 'Non-Match', 'Non-Match', 'Non-Match', 'Non-Match', 'Non-Match', 'Non-Match', 'Non-Match', 'Non-Match', 'Non-Match', 'Non-Match', 'Non-Match', 'Non-Match', 'Non-Match', 'Non-Match', 'Non-Match', 'Non-Match', 'Non-Match', 'Non-Match', 'Non-Match', 'Non-Match', 'Non-Match', 'Non-Match', 'Non-Match', 'Non-Match', 'Non-Match', 'Non-Match', 'Non-Match', 'Non-Match', 'Non-Match', 'Non-Match', 'Non-Match', 'Non-Match', 'Non-Match', 'Non-Match', 'Non-Match', 'Non-Match', 'Non-Match', 'Non-Match', 'Non-Match', 'Non-Match', 'Non-Match', 'Non-Match', 'Non-Match', 'Non-Match', 'Non-Match', 'Non-Match', 'Non-Match', 'Non-Match', 'Non-Match', 'Non-Match', 'Non-Match', 'Non-Match', 'Non-Match', 'Non-Match', 'Non-Match', 'Non-Match', 'Non-Match', 'Non-Match', 'Non-Match', 'Non-Match', 'Non-Match', 'Non-Match', 'Non-Match', 'Non-Match', 'Non-Match', 'Non-Match', 'Non-Match', 'Non-Match', 'Non-Match', 'Non-Match', 'Non-Match', 'Non-Match', 'Non-Match', 'Non-Match', 'Non-Match', 'Non-Match', 'Non-Match', 'Non-Match', 'Non-Match', 'Non-Match', 'Non-Match', 'Non-Match', 'Non-Match', 'Non-Match', 'Non-Match', 'Non-Match', 'Non-Match', 'Non-Match', 'Non-Match', 'Non-Match', 'Non-Match', 'Non-Match', 'Non-Match', 'Non-Match', 'Non-Match', 'Non-Match', 'Non-Match', 'Non-Match', 'Non-Match', 'Non-Match', 'Non-Match', 'Non-Match', 'Non-Match', 'Non-Match', 'Non-Match', 'Non-Match', 'Non-Match', 'Non-Match', 'Non-Match', 'Non-Match', 'Non-Match', 'Non-Match', 'Non-Match', 'Non-Match', 'Non-Match', 'Non-Match', 'Non-Match', 'Non-Match', 'Non-Match', 'Non-Match', 'Non-Match', 'Non-Match', 'Non-Match', 'Non-Match', 'Non-Match', 'Non-Match', 'Non-Match', 'Non-Match', 'Non-Match', 'Non-Match', 'Non-Match', 'Non-Match', 'Non-Match', 'Non-Match', 'Non-Match', 'Non-Match', 'Non-Match', 'Non-Match', 'Non-Match', 'Non-Match', 'Non-Match', 'Non-Match', 'Non-Match', 'Non-Match', 'Non-Match', 'Non-Match', 'Non-Match', 'Non-Match', 'Non-Match', 'Non-Match', 'Non-Match', 'Non-Match', 'Non-Match', 'Non-Match', 'Non-Match', 'Non-Match', 'Non-Match', 'Non-Match', 'Non-Match', 'Non-Match', 'Non-Match', 'Non-Match', 'Non-Match', 'Non-Match', 'Non-Match', 'Non-Match', 'Non-Match', 'Non-Match', 'Non-Match', 'Non-Match', 'Non-Match', 'Non-Match', 'Non-Match', 'Non-Match', 'Non-Match', 'Non-Match', 'Non-Match', 'Non-Match', 'Non-Match', 'Non-Match', 'Non-Match', 'Non-Match', 'Non-Match', 'Non-Match', 'Non-Match', 'Non-Match', 'Non-Match', 'Non-Match', 'Non-Match', 'Non-Match', 'Non-Match', 'Non-Match', 'Non-Match', 'Non-Match', 'Non-Match', 'Non-Match', 'Non-Match', 'Non-Match', 'Non-Match', 'Non-Match', 'Match', 'Non-Match', 'Non-Match', 'Non-Match', 'Non-Match', 'Non-Match', 'Non-Match', 'Non-Match', 'Non-Match', 'Non-Match', 'Non-Match', 'Non-Match', 'Non-Match', 'Non-Match', 'Non-Match', 'Non-Match', 'Non-Match', 'Non-Match', 'Non-Match', 'Non-Match', 'Non-Match', 'Non-Match', 'Non-Match', 'Non-Match', 'Non-Match', 'Non-Match', 'Non-Match', 'Non-Match', 'Non-Match', 'Non-Match', 'Non-Match', 'Non-Match', 'Non-Match', 'Non-Match', 'Non-Match', 'Non-Match', 'Non-Match', 'Non-Match', 'Non-Match', 'Non-Match', 'Non-Match', 'Non-Match', 'Non-Match', 'Non-Match', 'Non-Match', 'Non-Match', 'Non-Match', 'Non-Match', 'Non-Match', 'Non-Match', 'Non-Match', 'Non-Match', 'Non-Match', 'Non-Match', 'Non-Match', 'Non-Match', 'Non-Match', 'Non-Match', 'Non-Match', 'Non-Match', 'Non-Match', 'Non-Match', 'Non-Match', 'Non-Match', 'Non-Match', 'Non-Match', 'Non-Match', 'Non-Match', 'Non-Match', 'Non-Match', 'Non-Match', 'Non-Match', 'Non-Match', 'Non-Match', 'Non-Match', 'Non-Match', 'Non-Match', 'Non-Match', 'Non-Match', 'Non-Match', 'Non-Match', 'Non-Match', 'Non-Match', 'Non-Match', 'Non-Match', 'Non-Match', 'Non-Match', 'Non-Match', 'Non-Match', 'Non-Match', 'Non-Match', 'Non-Match', 'Non-Match', 'Non-Match', 'Non-Match', 'Non-Match', 'Non-Match', 'Non-Match', 'Non-Match', 'Non-Match', 'Non-Match', 'Non-Match', 'Non-Match', 'Match', 'Non-Match', 'Non-Match', 'Non-Match', 'Non-Match', 'Non-Match', 'Non-Match', 'Non-Match', 'Non-Match', 'Non-Match', 'Non-Match', 'Non-Match', 'Non-Match', 'Non-Match', 'Non-Match', 'Non-Match', 'Non-Match', 'Non-Match', 'Non-Match', 'Non-Match', 'Non-Match', 'Non-Match', 'Non-Match', 'Non-Match', 'Non-Match', 'Non-Match', 'Non-Match', 'Non-Match', 'Non-Match', 'Non-Match', 'Non-Match', 'Non-Match', 'Non-Match', 'Non-Match', 'Non-Match', 'Non-Match', 'Non-Match', 'Non-Match', 'Non-Match', 'Non-Match', 'Non-Match', 'Non-Match', 'Non-Match', 'Non-Match', 'Non-Match', 'Non-Match', 'Non-Match', 'Match', 'Non-Match', 'Non-Match', 'Non-Match', 'Non-Match', 'Non-Match', 'Non-Match', 'Non-Match', 'Non-Match', 'Non-Match', 'Non-Match', 'Non-Match', 'Non-Match', 'Non-Match', 'Non-Match', 'Non-Match', 'Non-Match', 'Non-Match', 'Non-Match', 'Non-Match', 'Non-Match', 'Non-Match', 'Non-Match', 'Non-Match', 'Non-Match', 'Match', 'Non-Match', 'Non-Match', 'Non-Match', 'Non-Match', 'Non-Match', 'Non-Match', 'Non-Match', 'Non-Match', 'Non-Match', 'Non-Match', 'Non-Match', 'Non-Match', 'Non-Match', 'Non-Match', 'Non-Match', 'Non-Match', 'Non-Match', 'Non-Match', 'Non-Match', 'Non-Match', 'Non-Match', 'Non-Match', 'Non-Match', 'Non-Match', 'Non-Match', 'Non-Match', 'Non-Match', 'Non-Match', 'Non-Match', 'Match', 'Non-Match', 'Non-Match', 'Non-Match', 'Non-Match', 'Non-Match', 'Non-Match', 'Non-Match', 'Non-Match', 'Non-Match', 'Non-Match', 'Non-Match', 'Non-Match', 'Non-Match', 'Non-Match', 'Non-Match', 'Non-Match', 'Non-Match', 'Non-Match', 'Match', 'Non-Match', 'Non-Match', 'Non-Match', 'Non-Match', 'Non-Match', 'Non-Match', 'Non-Match', 'Non-Match', 'Non-Match', 'Non-Match', 'Non-Match', 'Match', 'Non-Match', 'Non-Match', 'Non-Match', 'Non-Match', 'Non-Match', 'Non-Match', 'Non-Match', 'Non-Match', 'Non-Match', 'Non-Match', 'Non-Match', 'Non-Match', 'Non-Match', 'Non-Match', 'Non-Match', 'Non-Match', 'Non-Match', 'Non-Match', 'Non-Match', 'Non-Match', 'Non-Match', 'Non-Match', 'Non-Match', 'Non-Match', 'Non-Match', 'Non-Match', 'Non-Match', 'Match', 'Non-Match', 'Non-Match', 'Non-Match', 'Match', 'Non-Match', 'Non-Match', 'Match', 'Non-Match', 'Non-Match', 'Non-Match', 'Non-Match', 'Non-Match', 'Non-Match', 'Non-Match', 'Non-Match', 'Match', 'Non-Match', 'Non-Match', 'Non-Match', 'Non-Match', 'Non-Match', 'Non-Match', 'Non-Match', 'Non-Match', 'Non-Match', 'Non-Match', 'Non-Match', 'Non-Match', 'Non-Match', 'Non-Match', 'Non-Match', 'Non-Match', 'Non-Match', 'Non-Match', 'Non-Match', 'Non-Match', 'Non-Match', 'Non-Match', 'Non-Match', 'Non-Match', 'Non-Match', 'Non-Match', 'Non-Match', 'Non-Match', 'Non-Match', 'Non-Match', 'Non-Match', 'Non-Match', 'Non-Match', 'Non-Match', 'Non-Match', 'Non-Match', 'Non-Match', 'Non-Match', 'Non-Match', 'Non-Match', 'Non-Match', 'Non-Match', 'Non-Match', 'Match', 'Non-Match', 'Non-Match', 'Non-Match', 'Non-Match', 'Non-Match', 'Non-Match', 'Non-Match', 'Non-Match', 'Non-Match', 'Non-Match', 'Non-Match', 'Non-Match', 'Non-Match', 'Non-Match', 'Non-Match', 'Non-Match', 'Non-Match', 'Non-Match', 'Non-Match', 'Non-Match', 'Non-Match', 'Non-Match', 'Non-Match', 'Non-Match', 'Non-Match', 'Non-Match', 'Non-Match', 'Non-Match', 'Non-Match', 'Non-Match', 'Non-Match', 'Non-Match', 'Non-Match', 'Non-Match', 'Match', 'Non-Match', 'Non-Match', 'Non-Match', 'Non-Match', 'Non-Match', 'Non-Match', 'Non-Match', 'Non-Match', 'Non-Match', 'Non-Match', 'Non-Match', 'Non-Match', 'Non-Match', 'Non-Match', 'Non-Match', 'Non-Match', 'Non-Match', 'Non-Match', 'Non-Match', 'Non-Match', 'Non-Match', 'Non-Match', 'Non-Match', 'Non-Match', 'Non-Match', 'Non-Match', 'Non-Match', 'Non-Match', 'Non-Match', 'Non-Match', 'Match', 'Non-Match', 'Non-Match', 'Non-Match', 'Non-Match', 'Non-Match', 'Non-Match', 'Match', 'Non-Match', 'Non-Match', 'Non-Match', 'Non-Match', 'Non-Match', 'Non-Match', 'Non-Match', 'Non-Match', 'Non-Match', 'Non-Match', 'Non-Match', 'Match', 'Non-Match', 'Non-Match', 'Non-Match', 'Non-Match', 'Non-Match', 'Non-Match', 'Non-Match', 'Non-Match', 'Non-Match', 'Non-Match', 'Match', 'Non-Match', 'Non-Match', 'Non-Match', 'Non-Match', 'Non-Match', 'Non-Match', 'Non-Match', 'Non-Match', 'Match', 'Non-Match', 'Non-Match', 'Non-Match', 'Non-Match', 'Non-Match', 'Non-Match', 'Non-Match', 'Non-Match', 'Non-Match', 'Non-Match', 'Non-Match', 'Non-Match', 'Non-Match', 'Non-Match', 'Non-Match', 'Non-Match', 'Match', 'Non-Match', 'Non-Match', 'Non-Match', 'Non-Match', 'Match', 'Non-Match', 'Non-Match', 'Non-Match', 'Non-Match', 'Non-Match', 'Non-Match', 'Non-Match', 'Non-Match', 'Non-Match', 'Non-Match', 'Non-Match', 'Non-Match', 'Non-Match', 'Non-Match', 'Non-Match', 'Non-Match', 'Non-Match', 'Non-Match', 'Non-Match', 'Non-Match', 'Non-Match', 'Non-Match', 'Non-Match', 'Non-Match', 'Non-Match', 'Non-Match', 'Non-Match', 'Non-Match', 'Non-Match', 'Non-Match', 'Non-Match', 'Non-Match', 'Non-Match', 'Non-Match', 'Non-Match', 'Non-Match', 'Non-Match', 'Non-Match', 'Non-Match', 'Non-Match', 'Non-Match', 'Non-Match', 'Non-Match', 'Non-Match', 'Non-Match', 'Non-Match', 'Non-Match', 'Non-Match', 'Non-Match', 'Non-Match', 'Non-Match', 'Non-Match', 'Non-Match', 'Non-Match', 'Non-Match', 'Non-Match', 'Non-Match', 'Non-Match', 'Non-Match', 'Non-Match', 'Non-Match', 'Non-Match', 'Non-Match', 'Non-Match', 'Non-Match', 'Non-Match', 'Non-Match', 'Non-Match', 'Non-Match', 'Non-Match', 'Non-Match', 'Non-Match', 'Match', 'Non-Match', 'Non-Match', 'Non-Match', 'Non-Match', 'Non-Match', 'Non-Match', 'Non-Match', 'Non-Match', 'Non-Match', 'Non-Match', 'Non-Match', 'Non-Match', 'Non-Match', 'Non-Match', 'Non-Match', 'Non-Match', 'Non-Match', 'Non-Match', 'Match', 'Non-Match', 'Non-Match', 'Non-Match', 'Non-Match', 'Non-Match', 'Non-Match', 'Non-Match', 'Non-Match', 'Non-Match', 'Non-Match', 'Non-Match', 'Non-Match', 'Non-Match', 'Non-Match', 'Non-Match', 'Non-Match', 'Non-Match', 'Non-Match', 'Non-Match', 'Non-Match', 'Non-Match', 'Non-Match', 'Non-Match', 'Non-Match', 'Non-Match', 'Non-Match', 'Match', 'Non-Match', 'Non-Match', 'Non-Match', 'Non-Match', 'Non-Match', 'Non-Match', 'Non-Match', 'Non-Match', 'Non-Match', 'Non-Match', 'Non-Match', 'Non-Match', 'Non-Match', 'Non-Match', 'Non-Match', 'Non-Match', 'Non-Match', 'Non-Match', 'Match', 'Non-Match', 'Non-Match', 'Non-Match', 'Non-Match', 'Match', 'Non-Match', 'Non-Match', 'Non-Match', 'Non-Match', 'Non-Match', 'Non-Match', 'Non-Match', 'Non-Match', 'Non-Match', 'Non-Match', 'Non-Match', 'Match', 'Non-Match', 'Non-Match', 'Non-Match', 'Non-Match', 'Non-Match', 'Non-Match', 'Non-Match', 'Non-Match', 'Non-Match', 'Non-Match', 'Non-Match', 'Non-Match', 'Non-Match', 'Non-Match', 'Non-Match', 'Non-Match', 'Non-Match', 'Non-Match', 'Match', 'Non-Match', 'Non-Match', 'Non-Match', 'Non-Match', 'Non-Match', 'Non-Match', 'Non-Match', 'Non-Match', 'Non-Match', 'Match', 'Non-Match', 'Non-Match', 'Non-Match', 'Non-Match', 'Non-Match', 'Non-Match', 'Non-Match', 'Non-Match', 'Non-Match', 'Non-Match', 'Non-Match', 'Non-Match', 'Non-Match', 'Non-Match', 'Non-Match', 'Non-Match', 'Non-Match', 'Non-Match', 'Non-Match', 'Non-Match', 'Non-Match', 'Non-Match', 'Non-Match', 'Non-Match', 'Non-Match', 'Non-Match', 'Non-Match', 'Non-Match', 'Non-Match', 'Non-Match', 'Non-Match', 'Non-Match', 'Non-Match', 'Non-Match', 'Non-Match', 'Non-Match', 'Non-Match', 'Non-Match', 'Non-Match', 'Non-Match', 'Non-Match', 'Non-Match', 'Non-Match', 'Non-Match', 'Non-Match', 'Non-Match', 'Non-Match', 'Non-Match', 'Non-Match', 'Non-Match', 'Non-Match', 'Non-Match', 'Non-Match', 'Non-Match', 'Non-Match', 'Non-Match', 'Non-Match', 'Non-Match', 'Non-Match', 'Non-Match', 'Non-Match', 'Non-Match', 'Non-Match', 'Non-Match', 'Non-Match', 'Non-Match', 'Non-Match', 'Match', 'Non-Match', 'Non-Match', 'Non-Match', 'Non-Match', 'Non-Match', 'Non-Match', 'Non-Match', 'Non-Match', 'Non-Match', 'Non-Match', 'Non-Match', 'Non-Match', 'Non-Match', 'Non-Match', 'Non-Match', 'Non-Match', 'Non-Match', 'Non-Match', 'Non-Match', 'Non-Match', 'Non-Match', 'Non-Match', 'Non-Match', 'Non-Match', 'Non-Match', 'Non-Match', 'Non-Match', 'Non-Match', 'Non-Match', 'Non-Match', 'Non-Match', 'Non-Match', 'Non-Match', 'Non-Match', 'Non-Match', 'Non-Match', 'Non-Match', 'Non-Match', 'Non-Match', 'Non-Match', 'Non-Match', 'Non-Match', 'Match', 'Non-Match', 'Non-Match', 'Non-Match', 'Non-Match', 'Non-Match', 'Non-Match', 'Non-Match', 'Non-Match', 'Non-Match', 'Non-Match', 'Non-Match', 'Non-Match', 'Non-Match', 'Match', 'Non-Match', 'Non-Match', 'Non-Match', 'Non-Match', 'Non-Match', 'Non-Match', 'Non-Match', 'Non-Match', 'Non-Match', 'Non-Match', 'Non-Match', 'Non-Match', 'Match', 'Non-Match', 'Non-Match', 'Non-Match', 'Non-Match', 'Non-Match', 'Non-Match', 'Non-Match', 'Non-Match', 'Non-Match', 'Non-Match', 'Non-Match', 'Non-Match', 'Non-Match', 'Non-Match', 'Non-Match', 'Non-Match', 'Non-Match', 'Non-Match', 'Non-Match', 'Non-Match', 'Non-Match', 'Match', 'Non-Match', 'Non-Match', 'Non-Match', 'Non-Match', 'Non-Match', 'Non-Match', 'Non-Match', 'Non-Match', 'Non-Match', 'Non-Match', 'Non-Match', 'Non-Match', 'Non-Match', 'Non-Match', 'Non-Match', 'Non-Match', 'Non-Match', 'Non-Match', 'Non-Match', 'Non-Match', 'Non-Match', 'Non-Match', 'Non-Match', 'Non-Match', 'Non-Match', 'Non-Match', 'Non-Match', 'Non-Match', 'Non-Match', 'Non-Match', 'Non-Match', 'Non-Match', 'Non-Match', 'Non-Match', 'Non-Match', 'Non-Match', 'Non-Match', 'Non-Match', 'Non-Match', 'Non-Match', 'Non-Match', 'Non-Match', 'Non-Match', 'Non-Match', 'Non-Match', 'Non-Match', 'Non-Match', 'Non-Match', 'Non-Match', 'Non-Match', 'Non-Match', 'Non-Match', 'Non-Match', 'Non-Match', 'Non-Match', 'Non-Match', 'Non-Match', 'Non-Match', 'Non-Match', 'Non-Match', 'Non-Match', 'Non-Match', 'Non-Match', 'Non-Match', 'Non-Match', 'Non-Match', 'Non-Match', 'Non-Match', 'Non-Match', 'Non-Match', 'Non-Match', 'Non-Match', 'Non-Match', 'Non-Match', 'Non-Match', 'Non-Match', 'Non-Match', 'Non-Match', 'Non-Match', 'Non-Match', 'Non-Match', 'Non-Match', 'Non-Match', 'Non-Match', 'Non-Match', 'Non-Match', 'Non-Match', 'Non-Match', 'Non-Match', 'Non-Match', 'Non-Match', 'Non-Match', 'Non-Match', 'Non-Match', 'Non-Match', 'Non-Match', 'Non-Match', 'Non-Match', 'Non-Match', 'Non-Match', 'Non-Match', 'Match', 'Non-Match', 'Non-Match', 'Non-Match', 'Non-Match', 'Non-Match', 'Non-Match', 'Non-Match', 'Non-Match', 'Non-Match', 'Non-Match', 'Non-Match', 'Non-Match', 'Non-Match', 'Non-Match', 'Non-Match', 'Non-Match', 'Non-Match', 'Non-Match', 'Non-Match', 'Non-Match', 'Non-Match', 'Non-Match', 'Non-Match', 'Non-Match', 'Non-Match', 'Non-Match', 'Non-Match', 'Non-Match', 'Non-Match', 'Non-Match', 'Non-Match', 'Non-Match', 'Non-Match', 'Non-Match', 'Non-Match', 'Non-Match', 'Non-Match', 'Non-Match', 'Non-Match', 'Non-Match', 'Non-Match', 'Non-Match', 'Non-Match', 'Match', 'Non-Match', 'Non-Match', 'Non-Match', 'Non-Match', 'Non-Match', 'Non-Match', 'Non-Match', 'Non-Match', 'Non-Match', 'Non-Match', 'Non-Match', 'Non-Match', 'Non-Match', 'Non-Match', 'Non-Match', 'Non-Match', 'Non-Match', 'Non-Match', 'Non-Match', 'Non-Match', 'Non-Match', 'Match', 'Non-Match', 'Non-Match', 'Non-Match', 'Non-Match', 'Non-Match', 'Match', 'Non-Match', 'Non-Match', 'Non-Match', 'Non-Match', 'Non-Match', 'Non-Match', 'Non-Match', 'Match', 'Non-Match', 'Non-Match', 'Non-Match', 'Non-Match', 'Match', 'Non-Match', 'Non-Match', 'Non-Match', 'Non-Match', 'Match', 'Non-Match', 'Non-Match', 'Non-Match', 'Non-Match', 'Non-Match', 'Non-Match', 'Non-Match', 'Non-Match', 'Non-Match', 'Non-Match', 'Non-Match', 'Match', 'Non-Match', 'Non-Match', 'Non-Match', 'Match', 'Non-Match', 'Non-Match', 'Non-Match', 'Non-Match', 'Non-Match', 'Non-Match', 'Non-Match', 'Non-Match', 'Non-Match', 'Non-Match', 'Non-Match', 'Non-Match', 'Non-Match', 'Non-Match', 'Non-Match', 'Non-Match', 'Match', 'Match', 'Non-Match', 'Non-Match', 'Non-Match', 'Match', 'Non-Match', 'Match', 'Non-Match', 'Non-Match', 'Non-Match', 'Non-Match', 'Non-Match', 'Non-Match', 'Non-Match', 'Non-Match', 'Non-Match', 'Non-Match', 'Non-Match', 'Non-Match', 'Non-Match', 'Non-Match', 'Non-Match', 'Non-Match', 'Non-Match', 'Non-Match', 'Non-Match', 'Non-Match', 'Non-Match', 'Non-Match', 'Non-Match', 'Non-Match', 'Non-Match', 'Non-Match', 'Non-Match', 'Non-Match', 'Non-Match', 'Non-Match', 'Non-Match', 'Non-Match', 'Non-Match', 'Non-Match', 'Non-Match', 'Non-Match', 'Non-Match', 'Non-Match', 'Match', 'Non-Match', 'Non-Match', 'Non-Match', 'Non-Match', 'Non-Match', 'Non-Match', 'Non-Match', 'Non-Match', 'Non-Match', 'Match', 'Non-Match', 'Non-Match', 'Non-Match', 'Non-Match', 'Match', 'Non-Match', 'Non-Match', 'Non-Match', 'Non-Match', 'Non-Match', 'Non-Match', 'Non-Match', 'Non-Match', 'Non-Match', 'Non-Match', 'Non-Match', 'Non-Match', 'Match', 'Non-Match', 'Non-Match', 'Non-Match', 'Non-Match', 'Non-Match', 'Non-Match', 'Non-Match', 'Non-Match', 'Non-Match', 'Non-Match', 'Non-Match', 'Non-Match', 'Non-Match', 'Non-Match', 'Non-Match', 'Non-Match', 'Non-Match', 'Non-Match', 'Non-Match', 'Non-Match', 'Non-Match', 'Non-Match', 'Non-Match', 'Non-Match', 'Non-Match', 'Non-Match', 'Non-Match', 'Non-Match', 'Non-Match', 'Non-Match', 'Non-Match', 'Non-Match', 'Non-Match', 'Non-Match', 'Non-Match', 'Non-Match', 'Non-Match', 'Non-Match', 'Non-Match', 'Non-Match', 'Non-Match', 'Non-Match', 'Non-Match', 'Non-Match', 'Non-Match', 'Non-Match', 'Non-Match', 'Non-Match', 'Non-Match', 'Non-Match', 'Non-Match', 'Non-Match', 'Non-Match', 'Non-Match', 'Non-Match', 'Non-Match', 'Non-Match', 'Non-Match', 'Non-Match', 'Non-Match', 'Non-Match', 'Non-Match', 'Non-Match', 'Non-Match', 'Non-Match', 'Non-Match', 'Non-Match', 'Non-Match', 'Non-Match', 'Non-Match', 'Non-Match', 'Non-Match', 'Non-Match', 'Non-Match', 'Non-Match', 'Non-Match', 'Non-Match', 'Non-Match', 'Non-Match', 'Non-Match', 'Non-Match', 'Non-Match', 'Non-Match', 'Non-Match', 'Non-Match', 'Non-Match', 'Non-Match', 'Non-Match', 'Non-Match', 'Non-Match', 'Non-Match', 'Non-Match', 'Non-Match', 'Non-Match', 'Non-Match', 'Non-Match', 'Non-Match', 'Non-Match', 'Non-Match', 'Non-Match', 'Non-Match', 'Non-Match', 'Non-Match', 'Non-Match', 'Non-Match', 'Match', 'Non-Match', 'Non-Match', 'Non-Match', 'Non-Match', 'Non-Match', 'Non-Match', 'Non-Match', 'Non-Match', 'Non-Match', 'Non-Match', 'Non-Match', 'Non-Match', 'Non-Match', 'Non-Match', 'Non-Match', 'Non-Match', 'Non-Match', 'Non-Match', 'Non-Match', 'Non-Match', 'Non-Match', 'Non-Match', 'Non-Match', 'Non-Match', 'Non-Match', 'Non-Match', 'Non-Match', 'Non-Match', 'Non-Match', 'Non-Match', 'Non-Match', 'Non-Match', 'Non-Match', 'Non-Match', 'Match', 'Non-Match', 'Non-Match', 'Non-Match', 'Non-Match', 'Non-Match', 'Non-Match', 'Non-Match', 'Non-Match', 'Non-Match', 'Non-Match', 'Non-Match', 'Non-Match', 'Non-Match', 'Non-Match', 'Non-Match', 'Non-Match', 'Non-Match', 'Non-Match', 'Non-Match', 'Non-Match', 'Non-Match', 'Non-Match', 'Non-Match', 'Non-Match', 'Non-Match', 'Non-Match', 'Non-Match', 'Non-Match', 'Match', 'Non-Match', 'Non-Match', 'Non-Match', 'Non-Match', 'Non-Match', 'Non-Match', 'Non-Match', 'Non-Match', 'Non-Match', 'Non-Match', 'Non-Match', 'Non-Match', 'Non-Match', 'Non-Match', 'Non-Match', 'Non-Match', 'Non-Match', 'Non-Match', 'Non-Match', 'Non-Match', 'Non-Match', 'Non-Match', 'Non-Match', 'Non-Match', 'Non-Match', 'Non-Match', 'Non-Match', 'Non-Match', 'Non-Match', 'Non-Match', 'Non-Match', 'Non-Match', 'Non-Match', 'Non-Match', 'Non-Match', 'Non-Match', 'Non-Match', 'Non-Match', 'Non-Match', 'Non-Match', 'Non-Match', 'Non-Match', 'Non-Match', 'Non-Match', 'Non-Match', 'Non-Match', 'Non-Match', 'Non-Match', 'Non-Match', 'Non-Match', 'Non-Match', 'Non-Match', 'Non-Match', 'Non-Match', 'Non-Match', 'Non-Match', 'Non-Match', 'Non-Match', 'Non-Match', 'Non-Match', 'Non-Match', 'Non-Match', 'Non-Match', 'Non-Match', 'Non-Match', 'Non-Match', 'Non-Match', 'Non-Match', 'Non-Match', 'Non-Match', 'Non-Match', 'Non-Match', 'Non-Match', 'Non-Match', 'Non-Match', 'Non-Match', 'Non-Match', 'Non-Match', 'Non-Match', 'Non-Match', 'Non-Match', 'Non-Match', 'Non-Match', 'Non-Match', 'Non-Match', 'Non-Match', 'Non-Match', 'Non-Match', 'Non-Match', 'Non-Match', 'Non-Match', 'Non-Match', 'Non-Match', 'Non-Match', 'Non-Match', 'Non-Match', 'Non-Match', 'Non-Match', 'Non-Match', 'Non-Match', 'Non-Match', 'Non-Match', 'Non-Match', 'Non-Match', 'Non-Match', 'Non-Match', 'Non-Match', 'Non-Match', 'Non-Match', 'Non-Match', 'Non-Match', 'Match', 'Non-Match', 'Non-Match', 'Non-Match', 'Non-Match', 'Non-Match', 'Non-Match', 'Non-Match', 'Non-Match', 'Non-Match', 'Non-Match', 'Non-Match', 'Non-Match', 'Non-Match', 'Non-Match', 'Non-Match', 'Non-Match', 'Non-Match', 'Non-Match', 'Non-Match', 'Non-Match', 'Non-Match', 'Non-Match', 'Non-Match', 'Non-Match', 'Non-Match', 'Non-Match', 'Non-Match', 'Non-Match', 'Match', 'Non-Match', 'Non-Match', 'Non-Match', 'Non-Match', 'Non-Match', 'Non-Match', 'Non-Match', 'Non-Match', 'Non-Match', 'Non-Match', 'Non-Match', 'Non-Match', 'Non-Match', 'Non-Match', 'Non-Match', 'Match', 'Non-Match', 'Non-Match', 'Non-Match', 'Non-Match', 'Non-Match', 'Non-Match', 'Non-Match', 'Non-Match', 'Non-Match', 'Non-Match', 'Non-Match', 'Non-Match', 'Non-Match', 'Non-Match', 'Non-Match', 'Non-Match', 'Non-Match', 'Non-Match', 'Non-Match', 'Non-Match', 'Non-Match', 'Non-Match', 'Non-Match', 'Non-Match', 'Non-Match', 'Non-Match', 'Non-Match', 'Non-Match', 'Non-Match', 'Non-Match', 'Non-Match', 'Non-Match', 'Non-Match', 'Non-Match', 'Non-Match', 'Non-Match', 'Non-Match', 'Non-Match', 'Non-Match', 'Non-Match', 'Non-Match', 'Non-Match', 'Non-Match', 'Non-Match', 'Non-Match', 'Non-Match', 'Non-Match', 'Non-Match', 'Non-Match', 'Non-Match', 'Non-Match', 'Non-Match', 'Match', 'Non-Match', 'Non-Match', 'Non-Match', 'Non-Match', 'Non-Match', 'Non-Match', 'Non-Match', 'Non-Match', 'Non-Match', 'Non-Match', 'Non-Match', 'Non-Match', 'Non-Match', 'Non-Match', 'Match', 'Non-Match', 'Non-Match', 'Non-Match', 'Non-Match', 'Non-Match', 'Non-Match', 'Non-Match', 'Non-Match', 'Non-Match', 'Non-Match', 'Non-Match', 'Non-Match', 'Non-Match', 'Non-Match', 'Non-Match', 'Non-Match', 'Non-Match', 'Non-Match', 'Non-Match', 'Non-Match', 'Non-Match', 'Non-Match', 'Non-Match', 'Non-Match', 'Non-Match', 'Non-Match', 'Non-Match', 'Non-Match', 'Non-Match', 'Non-Match', 'Non-Match', 'Non-Match', 'Non-Match', 'Non-Match', 'Non-Match', 'Non-Match', 'Non-Match', 'Non-Match', 'Non-Match', 'Non-Match', 'Non-Match', 'Match', 'Non-Match', 'Non-Match', 'Non-Match', 'Non-Match', 'Non-Match', 'Non-Match', 'Non-Match', 'Non-Match', 'Non-Match', 'Non-Match', 'Non-Match', 'Non-Match', 'Non-Match', 'Non-Match', 'Non-Match', 'Non-Match', 'Non-Match', 'Non-Match', 'Non-Match', 'Non-Match', 'Non-Match', 'Match', 'Non-Match', 'Non-Match', 'Non-Match', 'Non-Match', 'Non-Match', 'Non-Match', 'Non-Match', 'Non-Match', 'Non-Match', 'Non-Match', 'Non-Match', 'Non-Match', 'Non-Match', 'Non-Match', 'Non-Match', 'Non-Match', 'Non-Match', 'Non-Match', 'Non-Match', 'Non-Match', 'Non-Match', 'Non-Match', 'Non-Match', 'Non-Match', 'Non-Match', 'Non-Match', 'Match', 'Non-Match', 'Non-Match', 'Non-Match', 'Non-Match', 'Non-Match', 'Non-Match', 'Non-Match', 'Non-Match', 'Non-Match', 'Non-Match', 'Match', 'Non-Match', 'Non-Match', 'Non-Match', 'Non-Match', 'Non-Match', 'Non-Match', 'Non-Match', 'Non-Match', 'Non-Match', 'Non-Match', 'Non-Match', 'Non-Match', 'Non-Match', 'Non-Match', 'Non-Match', 'Non-Match', 'Non-Match', 'Non-Match', 'Non-Match', 'Non-Match', 'Non-Match', 'Non-Match', 'Non-Match', 'Non-Match', 'Match', 'Non-Match', 'Non-Match', 'Non-Match', 'Non-Match', 'Non-Match', 'Non-Match', 'Non-Match', 'Non-Match', 'Non-Match', 'Non-Match', 'Non-Match', 'Non-Match', 'Non-Match', 'Non-Match', 'Non-Match', 'Non-Match', 'Non-Match', 'Non-Match', 'Non-Match', 'Non-Match', 'Non-Match', 'Non-Match', 'Non-Match', 'Non-Match', 'Non-Match', 'Non-Match', 'Non-Match', 'Non-Match', 'Non-Match', 'Non-Match', 'Non-Match', 'Non-Match', 'Non-Match', 'Non-Match', 'Non-Match', 'Non-Match', 'Non-Match', 'Non-Match', 'Non-Match', 'Non-Match', 'Non-Match', 'Non-Match', 'Non-Match', 'Non-Match', 'Non-Match', 'Match', 'Non-Match', 'Non-Match', 'Non-Match', 'Non-Match', 'Non-Match', 'Non-Match', 'Non-Match', 'Non-Match', 'Non-Match', 'Non-Match', 'Match', 'Non-Match', 'Non-Match', 'Non-Match', 'Non-Match', 'Non-Match', 'Non-Match', 'Non-Match', 'Non-Match', 'Non-Match', 'Non-Match', 'Non-Match', 'Non-Match', 'Non-Match', 'Non-Match', 'Non-Match', 'Non-Match', 'Non-Match', 'Non-Match', 'Non-Match', 'Non-Match', 'Non-Match', 'Non-Match', 'Non-Match', 'Non-Match', 'Non-Match', 'Non-Match', 'Non-Match', 'Non-Match', 'Non-Match', 'Match', 'Non-Match', 'Non-Match', 'Non-Match', 'Non-Match', 'Match', 'Non-Match', 'Non-Match', 'Non-Match', 'Non-Match', 'Non-Match', 'Non-Match', 'Non-Match', 'Non-Match', 'Non-Match', 'Non-Match', 'Non-Match', 'Non-Match', 'Non-Match', 'Non-Match', 'Non-Match', 'Non-Match', 'Non-Match', 'Non-Match', 'Non-Match', 'Non-Match', 'Non-Match', 'Non-Match', 'Non-Match', 'Non-Match', 'Non-Match', 'Non-Match', 'Non-Match', 'Non-Match', 'Non-Match', 'Non-Match', 'Non-Match', 'Non-Match', 'Non-Match', 'Non-Match', 'Non-Match', 'Non-Match', 'Match', 'Non-Match', 'Non-Match', 'Non-Match', 'Non-Match', 'Non-Match', 'Non-Match', 'Non-Match', 'Non-Match', 'Non-Match', 'Non-Match', 'Non-Match', 'Non-Match', 'Non-Match', 'Non-Match', 'Non-Match', 'Non-Match', 'Non-Match', 'Non-Match', 'Non-Match', 'Non-Match', 'Non-Match', 'Non-Match', 'Non-Match', 'Non-Match', 'Non-Match', 'Non-Match', 'Non-Match', 'Non-Match', 'Non-Match', 'Non-Match', 'Non-Match', 'Non-Match', 'Non-Match', 'Non-Match', 'Non-Match', 'Non-Match', 'Non-Match', 'Non-Match', 'Non-Match', 'Match', 'Non-Match', 'Non-Match', 'Non-Match', 'Non-Match', 'Non-Match', 'Non-Match', 'Non-Match', 'Match', 'Non-Match', 'Non-Match', 'Non-Match', 'Non-Match', 'Non-Match', 'Match', 'Non-Match', 'Non-Match', 'Non-Match', 'Non-Match', 'Non-Match', 'Non-Match', 'Non-Match', 'Non-Match', 'Non-Match', 'Non-Match', 'Match', 'Non-Match', 'Non-Match', 'Non-Match', 'Non-Match', 'Non-Match', 'Non-Match', 'Non-Match', 'Non-Match', 'Non-Match', 'Non-Match', 'Non-Match', 'Non-Match', 'Non-Match', 'Non-Match', 'Non-Match', 'Non-Match', 'Non-Match', 'Non-Match', 'Non-Match', 'Non-Match', 'Non-Match', 'Non-Match', 'Non-Match', 'Match', 'Non-Match', 'Non-Match', 'Non-Match', 'Non-Match', 'Non-Match', 'Non-Match', 'Non-Match', 'Non-Match', 'Non-Match', 'Non-Match', 'Non-Match', 'Non-Match', 'Non-Match', 'Non-Match', 'Non-Match', 'Match', 'Non-Match', 'Non-Match', 'Non-Match', 'Non-Match', 'Non-Match', 'Non-Match', 'Non-Match', 'Non-Match', 'Non-Match', 'Non-Match', 'Non-Match', 'Non-Match', 'Non-Match', 'Non-Match', 'Non-Match', 'Non-Match', 'Non-Match', 'Non-Match', 'Non-Match', 'Non-Match', 'Non-Match', 'Non-Match', 'Non-Match', 'Non-Match', 'Non-Match', 'Non-Match', 'Non-Match', 'Non-Match', 'Match', 'Non-Match', 'Non-Match', 'Non-Match', 'Non-Match', 'Non-Match', 'Non-Match', 'Non-Match', 'Non-Match', 'Non-Match', 'Non-Match', 'Non-Match', 'Non-Match', 'Non-Match', 'Non-Match', 'Non-Match', 'Non-Match', 'Non-Match', 'Non-Match', 'Non-Match', 'Non-Match', 'Non-Match', 'Non-Match', 'Non-Match', 'Non-Match', 'Non-Match', 'Non-Match', 'Non-Match', 'Non-Match', 'Non-Match', 'Non-Match', 'Non-Match', 'Non-Match', 'Non-Match', 'Non-Match', 'Non-Match', 'Non-Match', 'Non-Match', 'Non-Match', 'Non-Match', 'Non-Match', 'Non-Match', 'Non-Match', 'Non-Match', 'Non-Match', 'Non-Match', 'Non-Match', 'Non-Match', 'Non-Match', 'Non-Match', 'Non-Match', 'Non-Match', 'Non-Match', 'Non-Match', 'Non-Match', 'Non-Match', 'Non-Match', 'Non-Match', 'Match', 'Non-Match', 'Non-Match', 'Non-Match', 'Non-Match', 'Non-Match', 'Non-Match', 'Non-Match', 'Non-Match', 'Non-Match', 'Non-Match', 'Non-Match', 'Non-Match', 'Non-Match', 'Non-Match', 'Non-Match', 'Non-Match', 'Non-Match', 'Non-Match', 'Non-Match', 'Non-Match', 'Non-Match', 'Non-Match', 'Non-Match', 'Non-Match', 'Non-Match', 'Non-Match', 'Non-Match', 'Non-Match', 'Non-Match', 'Non-Match', 'Non-Match', 'Non-Match', 'Non-Match', 'Non-Match', 'Non-Match', 'Non-Match', 'Non-Match', 'Non-Match', 'Non-Match', 'Non-Match', 'Non-Match', 'Non-Match', 'Non-Match', 'Non-Match', 'Non-Match', 'Non-Match', 'Non-Match', 'Non-Match', 'Non-Match', 'Non-Match', 'Non-Match', 'Non-Match', 'Non-Match', 'Non-Match', 'Non-Match', 'Non-Match', 'Non-Match', 'Non-Match', 'Non-Match', 'Non-Match', 'Non-Match', 'Non-Match', 'Non-Match', 'Non-Match', 'Non-Match', 'Non-Match', 'Non-Match', 'Non-Match', 'Non-Match', 'Non-Match', 'Non-Match', 'Non-Match', 'Non-Match', 'Non-Match', 'Non-Match', 'Non-Match', 'Non-Match', 'Non-Match', 'Non-Match', 'Non-Match', 'Non-Match', 'Non-Match', 'Non-Match', 'Non-Match', 'Non-Match', 'Non-Match', 'Non-Match', 'Non-Match', 'Match', 'Non-Match', 'Non-Match', 'Non-Match', 'Non-Match', 'Non-Match', 'Non-Match', 'Non-Match', 'Non-Match', 'Non-Match', 'Non-Match', 'Non-Match', 'Non-Match', 'Non-Match', 'Non-Match', 'Non-Match', 'Non-Match', 'Non-Match', 'Non-Match', 'Non-Match', 'Non-Match', 'Non-Match', 'Non-Match', 'Non-Match', 'Non-Match', 'Non-Match', 'Non-Match', 'Non-Match', 'Non-Match', 'Non-Match', 'Non-Match', 'Non-Match', 'Non-Match', 'Non-Match', 'Non-Match', 'Non-Match', 'Non-Match', 'Non-Match', 'Non-Match', 'Non-Match', 'Non-Match', 'Non-Match', 'Non-Match', 'Non-Match', 'Non-Match', 'Non-Match', 'Non-Match', 'Non-Match', 'Non-Match', 'Non-Match', 'Non-Match', 'Non-Match', 'Non-Match', 'Non-Match', 'Non-Match', 'Non-Match', 'Non-Match', 'Non-Match', 'Non-Match', 'Non-Match', 'Non-Match', 'Non-Match', 'Non-Match', 'Non-Match', 'Non-Match', 'Non-Match', 'Non-Match', 'Non-Match', 'Non-Match', 'Non-Match', 'Non-Match', 'Non-Match', 'Non-Match', 'Non-Match', 'Non-Match', 'Non-Match', 'Non-Match', 'Non-Match', 'Non-Match', 'Non-Match', 'Non-Match', 'Non-Match', 'Non-Match', 'Non-Match', 'Non-Match', 'Non-Match', 'Non-Match', 'Non-Match', 'Non-Match', 'Non-Match', 'Non-Match', 'Non-Match', 'Non-Match', 'Non-Match', 'Non-Match', 'Non-Match', 'Non-Match', 'Non-Match', 'Non-Match', 'Non-Match', 'Non-Match', 'Non-Match', 'Non-Match', 'Non-Match', 'Non-Match', 'Non-Match', 'Non-Match', 'Non-Match', 'Non-Match', 'Non-Match', 'Non-Match', 'Non-Match', 'Non-Match', 'Non-Match', 'Non-Match', 'Non-Match', 'Non-Match', 'Non-Match', 'Non-Match', 'Non-Match', 'Non-Match', 'Non-Match', 'Non-Match', 'Non-Match', 'Non-Match', 'Non-Match', 'Non-Match', 'Non-Match', 'Non-Match', 'Non-Match', 'Non-Match', 'Non-Match', 'Non-Match', 'Non-Match', 'Non-Match', 'Non-Match', 'Non-Match', 'Non-Match', 'Non-Match', 'Non-Match', 'Non-Match', 'Non-Match', 'Non-Match', 'Non-Match', 'Non-Match', 'Non-Match', 'Non-Match', 'Non-Match', 'Non-Match', 'Non-Match', 'Non-Match', 'Non-Match', 'Non-Match', 'Non-Match', 'Non-Match', 'Non-Match', 'Non-Match', 'Non-Match', 'Non-Match', 'Non-Match', 'Non-Match', 'Non-Match', 'Non-Match', 'Non-Match', 'Non-Match', 'Non-Match', 'Non-Match', 'Non-Match', 'Non-Match', 'Non-Match', 'Non-Match', 'Non-Match', 'Non-Match', 'Non-Match', 'Non-Match', 'Non-Match', 'Non-Match', 'Non-Match', 'Non-Match', 'Non-Match', 'Non-Match', 'Non-Match', 'Non-Match', 'Non-Match', 'Non-Match', 'Non-Match', 'Non-Match', 'Non-Match', 'Non-Match', 'Non-Match', 'Non-Match', 'Non-Match', 'Non-Match', 'Non-Match', 'Non-Match', 'Non-Match', 'Non-Match', 'Non-Match', 'Non-Match', 'Non-Match', 'Non-Match', 'Non-Match', 'Non-Match', 'Non-Match', 'Non-Match', 'Non-Match', 'Non-Match', 'Non-Match', 'Non-Match', 'Non-Match', 'Non-Match', 'Non-Match', 'Non-Match', 'Non-Match', 'Non-Match', 'Non-Match', 'Non-Match', 'Match', 'Non-Match', 'Non-Match', 'Non-Match', 'Non-Match', 'Non-Match', 'Non-Match', 'Non-Match', 'Non-Match', 'Non-Match', 'Non-Match', 'Non-Match', 'Non-Match', 'Non-Match', 'Non-Match', 'Non-Match', 'Non-Match', 'Non-Match', 'Non-Match', 'Non-Match', 'Non-Match', 'Non-Match', 'Non-Match', 'Non-Match', 'Non-Match', 'Non-Match', 'Non-Match', 'Non-Match', 'Non-Match', 'Non-Match', 'Non-Match', 'Non-Match', 'Non-Match', 'Non-Match', 'Non-Match', 'Non-Match', 'Non-Match', 'Non-Match', 'Non-Match', 'Non-Match', 'Non-Match', 'Non-Match', 'Non-Match', 'Non-Match', 'Non-Match', 'Non-Match', 'Non-Match', 'Match', 'Non-Match', 'Non-Match', 'Non-Match', 'Non-Match', 'Non-Match', 'Non-Match', 'Non-Match', 'Non-Match', 'Non-Match', 'Non-Match', 'Non-Match', 'Non-Match', 'Non-Match', 'Non-Match', 'Non-Match', 'Non-Match', 'Non-Match', 'Non-Match', 'Non-Match', 'Non-Match', 'Non-Match', 'Non-Match', 'Non-Match', 'Non-Match', 'Non-Match', 'Non-Match', 'Non-Match', 'Non-Match', 'Non-Match', 'Non-Match', 'Non-Match', 'Non-Match', 'Non-Match', 'Non-Match', 'Non-Match', 'Non-Match', 'Non-Match', 'Non-Match', 'Non-Match', 'Non-Match', 'Non-Match', 'Non-Match', 'Non-Match', 'Non-Match', 'Non-Match', 'Non-Match', 'Non-Match', 'Non-Match', 'Non-Match', 'Non-Match', 'Non-Match', 'Match', 'Non-Match', 'Non-Match', 'Non-Match', 'Non-Match', 'Non-Match', 'Non-Match', 'Non-Match', 'Non-Match', 'Non-Match', 'Non-Match', 'Non-Match', 'Non-Match', 'Non-Match', 'Non-Match', 'Non-Match', 'Non-Match', 'Non-Match', 'Non-Match', 'Non-Match', 'Non-Match', 'Non-Match', 'Non-Match', 'Non-Match', 'Non-Match', 'Non-Match', 'Non-Match', 'Non-Match', 'Non-Match', 'Non-Match', 'Non-Match', 'Non-Match', 'Non-Match', 'Non-Match', 'Non-Match', 'Match', 'Non-Match', 'Non-Match', 'Non-Match', 'Non-Match', 'Non-Match', 'Non-Match', 'Non-Match', 'Non-Match', 'Non-Match', 'Non-Match', 'Non-Match', 'Non-Match', 'Non-Match', 'Non-Match', 'Non-Match', 'Non-Match', 'Non-Match', 'Non-Match', 'Non-Match', 'Non-Match', 'Non-Match', 'Non-Match', 'Non-Match', 'Non-Match', 'Non-Match', 'Non-Match', 'Non-Match', 'Non-Match', 'Non-Match', 'Non-Match', 'Non-Match', 'Non-Match', 'Non-Match', 'Non-Match', 'Non-Match', 'Non-Match', 'Non-Match', 'Non-Match', 'Non-Match', 'Non-Match', 'Non-Match', 'Non-Match', 'Non-Match', 'Non-Match', 'Non-Match', 'Non-Match', 'Non-Match', 'Non-Match', 'Non-Match', 'Non-Match', 'Non-Match', 'Non-Match', 'Non-Match', 'Non-Match', 'Non-Match', 'Non-Match', 'Non-Match', 'Non-Match', 'Non-Match', 'Non-Match', 'Non-Match', 'Non-Match', 'Non-Match', 'Non-Match', 'Non-Match', 'Non-Match', 'Non-Match', 'Non-Match', 'Non-Match', 'Non-Match', 'Non-Match', 'Non-Match', 'Non-Match', 'Non-Match', 'Non-Match', 'Non-Match', 'Non-Match', 'Non-Match', 'Non-Match', 'Non-Match', 'Non-Match', 'Non-Match', 'Non-Match', 'Non-Match', 'Non-Match', 'Non-Match', 'Non-Match', 'Non-Match', 'Non-Match', 'Non-Match', 'Non-Match', 'Non-Match', 'Non-Match', 'Non-Match', 'Non-Match', 'Non-Match', 'Non-Match', 'Non-Match', 'Non-Match', 'Non-Match', 'Non-Match', 'Non-Match', 'Non-Match', 'Non-Match', 'Non-Match', 'Non-Match', 'Non-Match', 'Non-Match', 'Non-Match', 'Non-Match', 'Non-Match', 'Non-Match', 'Non-Match', 'Non-Match', 'Non-Match', 'Non-Match', 'Non-Match', 'Non-Match', 'Non-Match', 'Non-Match', 'Non-Match', 'Non-Match', 'Non-Match', 'Non-Match', 'Non-Match', 'Non-Match', 'Non-Match', 'Non-Match', 'Non-Match', 'Non-Match', 'Match', 'Non-Match', 'Non-Match', 'Non-Match', 'Non-Match', 'Non-Match', 'Non-Match', 'Non-Match', 'Non-Match', 'Non-Match', 'Non-Match', 'Non-Match', 'Non-Match', 'Non-Match', 'Non-Match', 'Non-Match', 'Non-Match', 'Non-Match', 'Non-Match', 'Non-Match', 'Non-Match', 'Non-Match', 'Non-Match', 'Non-Match', 'Non-Match', 'Non-Match', 'Non-Match', 'Non-Match', 'Non-Match', 'Non-Match', 'Non-Match', 'Non-Match', 'Non-Match', 'Non-Match', 'Non-Match', 'Non-Match', 'Non-Match', 'Non-Match', 'Non-Match', 'Non-Match', 'Non-Match', 'Non-Match', 'Non-Match', 'Non-Match', 'Non-Match', 'Non-Match', 'Non-Match', 'Non-Match', 'Non-Match', 'Non-Match', 'Non-Match', 'Non-Match', 'Non-Match', 'Non-Match', 'Non-Match', 'Non-Match', 'Non-Match', 'Non-Match', 'Non-Match', 'Non-Match', 'Non-Match', 'Non-Match', 'Non-Match', 'Non-Match', 'Non-Match', 'Non-Match', 'Non-Match', 'Non-Match', 'Non-Match', 'Non-Match', 'Non-Match', 'Non-Match', 'Non-Match', 'Non-Match', 'Non-Match', 'Non-Match', 'Non-Match', 'Non-Match', 'Non-Match', 'Non-Match', 'Non-Match', 'Non-Match', 'Non-Match', 'Non-Match', 'Non-Match', 'Non-Match', 'Non-Match', 'Non-Match', 'Non-Match', 'Non-Match', 'Non-Match', 'Non-Match', 'Non-Match', 'Non-Match', 'Non-Match', 'Non-Match', 'Non-Match', 'Non-Match', 'Non-Match', 'Non-Match', 'Non-Match', 'Non-Match', 'Non-Match', 'Non-Match', 'Non-Match', 'Non-Match', 'Non-Match', 'Non-Match', 'Non-Match', 'Non-Match', 'Non-Match', 'Non-Match', 'Non-Match', 'Non-Match', 'Non-Match', 'Non-Match', 'Non-Match', 'Non-Match', 'Non-Match', 'Non-Match', 'Non-Match', 'Non-Match', 'Non-Match', 'Non-Match', 'Non-Match', 'Non-Match', 'Non-Match', 'Non-Match', 'Non-Match', 'Non-Match', 'Non-Match', 'Non-Match', 'Non-Match', 'Non-Match', 'Non-Match', 'Non-Match', 'Non-Match', 'Non-Match', 'Non-Match', 'Non-Match', 'Non-Match', 'Non-Match', 'Non-Match', 'Non-Match', 'Non-Match', 'Non-Match', 'Non-Match', 'Non-Match', 'Non-Match', 'Non-Match', 'Non-Match', 'Non-Match', 'Non-Match', 'Non-Match', 'Non-Match', 'Non-Match', 'Non-Match', 'Non-Match', 'Non-Match', 'Non-Match', 'Non-Match', 'Non-Match', 'Non-Match', 'Non-Match', 'Non-Match', 'Non-Match', 'Non-Match', 'Non-Match', 'Non-Match', 'Non-Match', 'Non-Match', 'Non-Match', 'Non-Match', 'Non-Match', 'Non-Match', 'Non-Match', 'Non-Match', 'Non-Match', 'Non-Match', 'Non-Match', 'Non-Match', 'Non-Match', 'Non-Match', 'Non-Match', 'Non-Match', 'Non-Match', 'Non-Match', 'Non-Match', 'Non-Match', 'Non-Match', 'Non-Match', 'Non-Match', 'Non-Match', 'Non-Match', 'Non-Match', 'Non-Match', 'Non-Match', 'Non-Match', 'Non-Match', 'Non-Match', 'Non-Match', 'Non-Match', 'Non-Match', 'Non-Match', 'Non-Match', 'Non-Match', 'Non-Match', 'Non-Match', 'Non-Match', 'Non-Match', 'Non-Match', 'Non-Match', 'Non-Match', 'Non-Match', 'Non-Match', 'Non-Match', 'Non-Match', 'Non-Match', 'Non-Match', 'Non-Match', 'Non-Match', 'Non-Match', 'Non-Match', 'Non-Match', 'Non-Match', 'Non-Match', 'Non-Match', 'Non-Match', 'Non-Match', 'Non-Match', 'Non-Match', 'Non-Match', 'Non-Match', 'Non-Match', 'Non-Match', 'Non-Match', 'Non-Match', 'Non-Match', 'Non-Match', 'Non-Match', 'Non-Match', 'Non-Match', 'Non-Match', 'Non-Match', 'Non-Match', 'Non-Match', 'Non-Match', 'Non-Match', 'Non-Match', 'Non-Match', 'Non-Match', 'Non-Match', 'Non-Match', 'Non-Match', 'Non-Match', 'Non-Match', 'Non-Match', 'Non-Match', 'Non-Match', 'Non-Match', 'Non-Match', 'Non-Match', 'Non-Match', 'Non-Match', 'Non-Match', 'Non-Match', 'Non-Match', 'Non-Match', 'Non-Match', 'Non-Match', 'Non-Match', 'Non-Match', 'Non-Match', 'Non-Match', 'Non-Match', 'Non-Match', 'Non-Match', 'Non-Match', 'Non-Match', 'Non-Match', 'Non-Match', 'Non-Match', 'Non-Match', 'Non-Match', 'Non-Match', 'Non-Match', 'Non-Match', 'Non-Match', 'Non-Match', 'Non-Match', 'Non-Match', 'Non-Match', 'Non-Match', 'Non-Match', 'Non-Match', 'Non-Match', 'Non-Match', 'Non-Match', 'Non-Match', 'Non-Match', 'Non-Match', 'Non-Match', 'Non-Match', 'Non-Match', 'Non-Match', 'Non-Match', 'Non-Match', 'Non-Match', 'Non-Match', 'Non-Match', 'Non-Match', 'Non-Match', 'Non-Match', 'Non-Match', 'Non-Match', 'Non-Match', 'Non-Match', 'Non-Match', 'Non-Match', 'Non-Match', 'Non-Match', 'Non-Match', 'Non-Match', 'Non-Match', 'Non-Match', 'Non-Match', 'Non-Match', 'Non-Match', 'Non-Match', 'Non-Match', 'Non-Match', 'Non-Match', 'Non-Match', 'Non-Match', 'Non-Match', 'Non-Match', 'Non-Match', 'Non-Match', 'Non-Match', 'Non-Match', 'Non-Match', 'Non-Match', 'Non-Match', 'Non-Match', 'Non-Match', 'Non-Match', 'Non-Match', 'Non-Match', 'Non-Match', 'Non-Match', 'Non-Match', 'Non-Match', 'Non-Match', 'Non-Match', 'Non-Match', 'Non-Match', 'Non-Match', 'Non-Match', 'Non-Match', 'Non-Match', 'Non-Match', 'Non-Match', 'Non-Match', 'Non-Match', 'Non-Match', 'Non-Match', 'Non-Match', 'Non-Match', 'Non-Match', 'Non-Match', 'Non-Match', 'Non-Match', 'Non-Match', 'Non-Match', 'Non-Match', 'Non-Match', 'Non-Match', 'Non-Match', 'Non-Match', 'Non-Match', 'Non-Match', 'Non-Match', 'Non-Match', 'Non-Match', 'Non-Match', 'Non-Match', 'Non-Match', 'Non-Match', 'Non-Match', 'Non-Match', 'Non-Match', 'Non-Match', 'Non-Match', 'Non-Match', 'Non-Match', 'Non-Match', 'Non-Match', 'Non-Match', 'Non-Match', 'Non-Match', 'Non-Match', 'Non-Match', 'Non-Match', 'Non-Match', 'Non-Match', 'Non-Match', 'Non-Match', 'Non-Match', 'Non-Match', 'Non-Match', 'Non-Match', 'Non-Match', 'Non-Match', 'Non-Match', 'Non-Match', 'Non-Match', 'Non-Match', 'Non-Match', 'Non-Match', 'Non-Match', 'Non-Match', 'Non-Match', 'Non-Match', 'Non-Match', 'Non-Match', 'Non-Match', 'Non-Match', 'Non-Match', 'Non-Match', 'Non-Match', 'Non-Match', 'Non-Match', 'Non-Match', 'Non-Match', 'Non-Match', 'Non-Match', 'Non-Match', 'Non-Match', 'Non-Match', 'Non-Match', 'Non-Match', 'Non-Match', 'Non-Match', 'Non-Match', 'Non-Match', 'Non-Match', 'Non-Match', 'Non-Match', 'Non-Match', 'Non-Match', 'Non-Match', 'Non-Match', 'Non-Match', 'Non-Match', 'Non-Match', 'Non-Match', 'Non-Match', 'Non-Match', 'Non-Match', 'Non-Match', 'Non-Match', 'Non-Match', 'Non-Match', 'Non-Match', 'Non-Match', 'Non-Match', 'Non-Match', 'Non-Match', 'Non-Match', 'Non-Match', 'Non-Match', 'Non-Match', 'Non-Match', 'Non-Match', 'Non-Match', 'Non-Match', 'Non-Match', 'Non-Match', 'Non-Match', 'Non-Match', 'Non-Match', 'Non-Match', 'Non-Match', 'Non-Match', 'Non-Match', 'Non-Match', 'Non-Match', 'Non-Match', 'Non-Match', 'Non-Match', 'Non-Match', 'Non-Match', 'Non-Match', 'Non-Match', 'Non-Match', 'Non-Match', 'Non-Match', 'Non-Match', 'Non-Match', 'Non-Match', 'Non-Match', 'Non-Match', 'Non-Match', 'Non-Match', 'Match', 'Non-Match', 'Non-Match', 'Non-Match', 'Non-Match', 'Non-Match', 'Non-Match', 'Non-Match', 'Non-Match', 'Non-Match', 'Non-Match', 'Non-Match', 'Non-Match', 'Non-Match', 'Non-Match', 'Non-Match', 'Non-Match', 'Non-Match', 'Non-Match', 'Non-Match', 'Non-Match', 'Non-Match', 'Non-Match', 'Non-Match', 'Non-Match', 'Non-Match', 'Non-Match', 'Non-Match', 'Non-Match', 'Non-Match', 'Non-Match', 'Non-Match', 'Non-Match', 'Non-Match', 'Non-Match', 'Non-Match', 'Non-Match', 'Non-Match', 'Non-Match', 'Non-Match', 'Non-Match', 'Non-Match', 'Non-Match', 'Non-Match', 'Non-Match', 'Non-Match', 'Non-Match', 'Non-Match', 'Non-Match', 'Non-Match', 'Non-Match', 'Non-Match', 'Non-Match', 'Non-Match', 'Non-Match', 'Non-Match', 'Non-Match', 'Non-Match', 'Non-Match', 'Non-Match', 'Non-Match', 'Non-Match', 'Non-Match', 'Non-Match', 'Non-Match', 'Non-Match', 'Non-Match', 'Non-Match', 'Non-Match', 'Non-Match', 'Non-Match', 'Non-Match', 'Non-Match', 'Non-Match', 'Non-Match', 'Non-Match', 'Non-Match', 'Non-Match', 'Non-Match', 'Non-Match', 'Non-Match', 'Non-Match', 'Non-Match', 'Non-Match', 'Non-Match', 'Non-Match', 'Non-Match', 'Non-Match', 'Non-Match', 'Non-Match', 'Non-Match', 'Non-Match', 'Non-Match', 'Non-Match', 'Non-Match', 'Non-Match', 'Non-Match', 'Non-Match', 'Non-Match', 'Non-Match', 'Non-Match', 'Non-Match', 'Non-Match', 'Non-Match', 'Non-Match', 'Non-Match', 'Non-Match', 'Non-Match', 'Non-Match', 'Non-Match', 'Non-Match', 'Non-Match', 'Non-Match', 'Non-Match', 'Non-Match', 'Non-Match', 'Non-Match', 'Non-Match', 'Non-Match', 'Non-Match', 'Non-Match', 'Non-Match', 'Non-Match', 'Non-Match', 'Non-Match', 'Non-Match', 'Non-Match', 'Non-Match', 'Non-Match', 'Non-Match', 'Non-Match', 'Non-Match', 'Non-Match', 'Non-Match', 'Non-Match', 'Non-Match', 'Non-Match', 'Non-Match', 'Non-Match', 'Non-Match', 'Non-Match', 'Non-Match', 'Non-Match', 'Match', 'Non-Match', 'Non-Match', 'Non-Match', 'Non-Match', 'Non-Match', 'Non-Match', 'Non-Match', 'Non-Match', 'Non-Match', 'Non-Match', 'Non-Match', 'Non-Match', 'Non-Match', 'Non-Match', 'Non-Match', 'Non-Match', 'Non-Match', 'Non-Match', 'Non-Match', 'Non-Match', 'Non-Match', 'Non-Match', 'Non-Match', 'Non-Match', 'Non-Match', 'Non-Match', 'Non-Match', 'Non-Match', 'Non-Match', 'Non-Match', 'Non-Match', 'Non-Match', 'Non-Match', 'Non-Match', 'Non-Match', 'Non-Match', 'Non-Match', 'Non-Match', 'Non-Match', 'Non-Match', 'Non-Match', 'Non-Match', 'Non-Match', 'Non-Match', 'Non-Match', 'Non-Match', 'Non-Match', 'Non-Match', 'Non-Match', 'Non-Match', 'Non-Match', 'Non-Match', 'Non-Match', 'Non-Match', 'Non-Match', 'Non-Match', 'Non-Match', 'Non-Match', 'Non-Match', 'Non-Match', 'Match', 'Non-Match', 'Non-Match', 'Non-Match', 'Non-Match', 'Non-Match', 'Non-Match', 'Non-Match', 'Non-Match', 'Non-Match', 'Non-Match', 'Non-Match', 'Non-Match', 'Non-Match', 'Non-Match', 'Non-Match', 'Non-Match', 'Non-Match', 'Non-Match', 'Non-Match', 'Non-Match', 'Non-Match', 'Non-Match', 'Non-Match', 'Non-Match', 'Non-Match', 'Non-Match', 'Non-Match', 'Non-Match', 'Non-Match', 'Non-Match', 'Non-Match', 'Non-Match', 'Non-Match', 'Non-Match', 'Non-Match', 'Non-Match', 'Non-Match', 'Non-Match', 'Non-Match', 'Non-Match', 'Non-Match', 'Non-Match', 'Non-Match', 'Non-Match', 'Non-Match', 'Non-Match', 'Non-Match', 'Non-Match', 'Non-Match', 'Non-Match', 'Non-Match', 'Non-Match', 'Non-Match', 'Non-Match', 'Non-Match', 'Non-Match', 'Non-Match', 'Non-Match', 'Non-Match', 'Non-Match', 'Non-Match', 'Non-Match', 'Non-Match', 'Non-Match', 'Non-Match', 'Non-Match', 'Non-Match', 'Non-Match', 'Non-Match', 'Non-Match', 'Non-Match', 'Non-Match', 'Non-Match', 'Non-Match', 'Non-Match', 'Non-Match', 'Non-Match', 'Non-Match', 'Non-Match', 'Non-Match', 'Non-Match', 'Non-Match', 'Non-Match', 'Non-Match', 'Non-Match', 'Non-Match', 'Non-Match', 'Non-Match', 'Non-Match', 'Non-Match', 'Non-Match', 'Non-Match', 'Non-Match', 'Non-Match', 'Non-Match', 'Non-Match', 'Non-Match', 'Non-Match', 'Non-Match', 'Non-Match', 'Non-Match', 'Non-Match', 'Non-Match', 'Non-Match', 'Non-Match', 'Non-Match', 'Non-Match', 'Non-Match', 'Non-Match', 'Non-Match', 'Non-Match', 'Non-Match', 'Non-Match', 'Non-Match', 'Non-Match', 'Non-Match', 'Non-Match', 'Non-Match', 'Non-Match', 'Non-Match', 'Non-Match', 'Non-Match', 'Non-Match', 'Non-Match', 'Non-Match', 'Non-Match', 'Non-Match', 'Non-Match', 'Non-Match', 'Non-Match', 'Non-Match', 'Non-Match', 'Non-Match', 'Non-Match', 'Non-Match', 'Non-Match', 'Non-Match', 'Non-Match', 'Non-Match', 'Non-Match', 'Non-Match', 'Non-Match', 'Non-Match', 'Non-Match', 'Non-Match', 'Non-Match', 'Non-Match', 'Non-Match', 'Non-Match', 'Non-Match', 'Non-Match', 'Non-Match', 'Non-Match', 'Non-Match', 'Non-Match', 'Non-Match', 'Non-Match', 'Non-Match', 'Non-Match', 'Non-Match', 'Non-Match', 'Non-Match', 'Non-Match', 'Non-Match', 'Non-Match', 'Non-Match', 'Non-Match', 'Non-Match', 'Non-Match', 'Non-Match', 'Non-Match', 'Non-Match', 'Non-Match', 'Non-Match', 'Non-Match', 'Non-Match', 'Non-Match', 'Non-Match', 'Non-Match', 'Non-Match', 'Non-Match', 'Non-Match', 'Non-Match', 'Non-Match', 'Non-Match', 'Non-Match', 'Non-Match', 'Non-Match', 'Non-Match', 'Non-Match', 'Non-Match', 'Non-Match', 'Non-Match', 'Non-Match', 'Non-Match', 'Non-Match', 'Non-Match', 'Non-Match', 'Non-Match', 'Non-Match', 'Non-Match', 'Non-Match', 'Non-Match', 'Non-Match', 'Non-Match', 'Non-Match', 'Non-Match', 'Non-Match', 'Non-Match', 'Non-Match', 'Non-Match', 'Non-Match', 'Non-Match', 'Non-Match', 'Non-Match', 'Non-Match', 'Non-Match', 'Non-Match', 'Non-Match', 'Non-Match', 'Non-Match', 'Non-Match', 'Non-Match', 'Non-Match', 'Non-Match', 'Non-Match', 'Non-Match', 'Non-Match', 'Non-Match', 'Non-Match', 'Non-Match', 'Non-Match', 'Non-Match', 'Non-Match', 'Non-Match', 'Non-Match', 'Non-Match', 'Non-Match', 'Non-Match', 'Non-Match', 'Non-Match', 'Non-Match', 'Non-Match', 'Non-Match', 'Non-Match', 'Non-Match', 'Non-Match', 'Non-Match', 'Non-Match', 'Non-Match', 'Non-Match', 'Non-Match', 'Non-Match', 'Non-Match', 'Non-Match', 'Non-Match', 'Non-Match', 'Non-Match', 'Non-Match', 'Non-Match', 'Non-Match', 'Non-Match', 'Non-Match', 'Non-Match', 'Non-Match', 'Non-Match', 'Non-Match', 'Non-Match', 'Non-Match', 'Non-Match', 'Non-Match', 'Non-Match', 'Non-Match', 'Non-Match', 'Non-Match', 'Non-Match', 'Non-Match', 'Non-Match', 'Non-Match', 'Non-Match', 'Non-Match', 'Non-Match', 'Non-Match', 'Non-Match', 'Non-Match', 'Non-Match', 'Non-Match', 'Non-Match', 'Non-Match', 'Non-Match', 'Non-Match', 'Non-Match', 'Non-Match', 'Non-Match', 'Non-Match', 'Non-Match', 'Non-Match', 'Non-Match', 'Match', 'Non-Match', 'Non-Match', 'Non-Match', 'Non-Match', 'Non-Match', 'Non-Match', 'Non-Match', 'Non-Match', 'Non-Match', 'Non-Match', 'Non-Match', 'Non-Match', 'Non-Match', 'Non-Match', 'Non-Match', 'Non-Match', 'Non-Match', 'Non-Match', 'Non-Match', 'Non-Match', 'Non-Match', 'Non-Match', 'Non-Match', 'Non-Match', 'Non-Match', 'Non-Match', 'Non-Match', 'Non-Match', 'Non-Match', 'Non-Match', 'Non-Match', 'Non-Match', 'Non-Match', 'Non-Match', 'Non-Match', 'Non-Match', 'Non-Match', 'Non-Match', 'Non-Match', 'Non-Match', 'Non-Match', 'Non-Match', 'Match', 'Non-Match', 'Non-Match', 'Non-Match', 'Non-Match', 'Non-Match', 'Non-Match', 'Non-Match', 'Non-Match', 'Non-Match', 'Non-Match', 'Non-Match', 'Non-Match', 'Non-Match', 'Non-Match', 'Non-Match', 'Non-Match', 'Non-Match', 'Non-Match', 'Non-Match', 'Non-Match', 'Non-Match', 'Non-Match', 'Non-Match', 'Non-Match', 'Non-Match', 'Non-Match', 'Non-Match', 'Non-Match', 'Non-Match', 'Non-Match', 'Non-Match', 'Non-Match', 'Non-Match', 'Non-Match', 'Non-Match', 'Non-Match', 'Non-Match', 'Non-Match', 'Non-Match', 'Non-Match', 'Non-Match', 'Non-Match', 'Non-Match', 'Non-Match', 'Non-Match', 'Non-Match', 'Non-Match', 'Non-Match', 'Non-Match', 'Non-Match', 'Non-Match', 'Non-Match', 'Non-Match', 'Non-Match', 'Non-Match', 'Non-Match', 'Non-Match', 'Non-Match', 'Non-Match', 'Non-Match', 'Non-Match', 'Non-Match', 'Non-Match', 'Non-Match', 'Non-Match', 'Non-Match', 'Non-Match', 'Non-Match', 'Non-Match', 'Non-Match', 'Match', 'Non-Match', 'Non-Match', 'Non-Match', 'Non-Match', 'Non-Match', 'Non-Match', 'Non-Match', 'Non-Match', 'Non-Match', 'Non-Match', 'Non-Match', 'Non-Match', 'Non-Match', 'Non-Match', 'Non-Match', 'Non-Match', 'Non-Match', 'Non-Match', 'Non-Match', 'Non-Match', 'Non-Match', 'Non-Match', 'Non-Match', 'Non-Match', 'Non-Match', 'Non-Match', 'Non-Match', 'Non-Match', 'Non-Match', 'Non-Match', 'Non-Match', 'Non-Match', 'Non-Match', 'Non-Match', 'Non-Match', 'Non-Match', 'Non-Match', 'Non-Match', 'Non-Match', 'Non-Match', 'Non-Match', 'Non-Match', 'Non-Match', 'Non-Match', 'Non-Match', 'Non-Match', 'Non-Match', 'Non-Match', 'Non-Match', 'Non-Match', 'Non-Match', 'Non-Match', 'Non-Match', 'Non-Match', 'Non-Match', 'Non-Match', 'Non-Match', 'Non-Match', 'Non-Match', 'Non-Match', 'Non-Match', 'Non-Match', 'Non-Match', 'Non-Match', 'Non-Match', 'Non-Match', 'Non-Match', 'Non-Match', 'Non-Match', 'Non-Match', 'Non-Match', 'Non-Match', 'Non-Match', 'Non-Match', 'Non-Match', 'Non-Match', 'Non-Match', 'Non-Match', 'Non-Match', 'Non-Match', 'Non-Match', 'Non-Match', 'Non-Match', 'Non-Match', 'Non-Match', 'Non-Match', 'Non-Match', 'Non-Match', 'Non-Match', 'Non-Match', 'Non-Match', 'Non-Match', 'Non-Match', 'Non-Match', 'Non-Match', 'Non-Match', 'Non-Match', 'Non-Match', 'Non-Match', 'Non-Match', 'Non-Match', 'Non-Match', 'Non-Match', 'Non-Match', 'Non-Match', 'Non-Match', 'Non-Match', 'Non-Match', 'Non-Match', 'Non-Match', 'Non-Match', 'Non-Match', 'Non-Match', 'Non-Match', 'Non-Match', 'Non-Match', 'Non-Match', 'Non-Match', 'Non-Match', 'Non-Match', 'Non-Match', 'Non-Match', 'Non-Match', 'Non-Match', 'Non-Match', 'Non-Match', 'Non-Match', 'Non-Match', 'Non-Match', 'Non-Match', 'Non-Match', 'Non-Match', 'Non-Match', 'Non-Match', 'Non-Match', 'Non-Match', 'Non-Match', 'Non-Match', 'Non-Match', 'Non-Match', 'Non-Match', 'Non-Match', 'Non-Match', 'Non-Match', 'Non-Match', 'Non-Match', 'Non-Match', 'Non-Match', 'Non-Match', 'Non-Match', 'Non-Match', 'Non-Match', 'Non-Match', 'Non-Match', 'Non-Match', 'Non-Match', 'Non-Match', 'Non-Match', 'Non-Match', 'Non-Match', 'Non-Match', 'Non-Match', 'Non-Match', 'Non-Match', 'Non-Match', 'Non-Match', 'Non-Match', 'Non-Match', 'Non-Match', 'Match', 'Non-Match', 'Non-Match', 'Non-Match', 'Non-Match', 'Non-Match', 'Non-Match', 'Non-Match', 'Non-Match', 'Non-Match', 'Non-Match', 'Non-Match', 'Non-Match', 'Non-Match', 'Non-Match', 'Non-Match', 'Non-Match', 'Non-Match', 'Non-Match', 'Non-Match', 'Non-Match', 'Non-Match', 'Non-Match', 'Non-Match', 'Non-Match', 'Non-Match', 'Non-Match', 'Non-Match', 'Non-Match', 'Non-Match', 'Non-Match', 'Non-Match', 'Non-Match', 'Non-Match', 'Non-Match', 'Non-Match', 'Non-Match', 'Non-Match', 'Non-Match', 'Non-Match', 'Non-Match', 'Non-Match', 'Non-Match', 'Non-Match', 'Non-Match', 'Non-Match', 'Non-Match', 'Non-Match', 'Non-Match', 'Non-Match', 'Non-Match', 'Non-Match', 'Non-Match', 'Non-Match', 'Non-Match', 'Non-Match', 'Non-Match', 'Non-Match', 'Non-Match', 'Non-Match', 'Non-Match', 'Non-Match', 'Non-Match', 'Non-Match', 'Non-Match', 'Non-Match', 'Non-Match', 'Non-Match', 'Non-Match', 'Non-Match', 'Non-Match', 'Non-Match', 'Non-Match', 'Non-Match', 'Non-Match', 'Non-Match', 'Non-Match', 'Non-Match', 'Non-Match', 'Non-Match', 'Non-Match', 'Non-Match', 'Non-Match', 'Non-Match', 'Non-Match', 'Match', 'Non-Match', 'Non-Match', 'Non-Match', 'Non-Match', 'Non-Match', 'Non-Match', 'Non-Match', 'Non-Match', 'Non-Match', 'Non-Match', 'Non-Match', 'Non-Match', 'Non-Match', 'Non-Match', 'Non-Match', 'Non-Match', 'Match', 'Non-Match', 'Non-Match', 'Non-Match', 'Non-Match', 'Non-Match', 'Non-Match', 'Non-Match', 'Non-Match', 'Non-Match', 'Non-Match', 'Non-Match', 'Non-Match', 'Non-Match', 'Non-Match', 'Non-Match', 'Non-Match', 'Non-Match', 'Non-Match', 'Non-Match', 'Non-Match', 'Non-Match', 'Non-Match', 'Non-Match', 'Non-Match', 'Non-Match', 'Non-Match', 'Non-Match', 'Non-Match', 'Non-Match', 'Non-Match', 'Non-Match', 'Non-Match', 'Non-Match', 'Non-Match', 'Non-Match', 'Non-Match', 'Non-Match', 'Non-Match', 'Non-Match', 'Non-Match', 'Non-Match', 'Non-Match', 'Non-Match', 'Non-Match', 'Non-Match', 'Non-Match', 'Non-Match', 'Non-Match', 'Non-Match', 'Non-Match', 'Non-Match', 'Non-Match', 'Non-Match', 'Match', 'Non-Match', 'Non-Match', 'Non-Match', 'Non-Match', 'Non-Match', 'Non-Match', 'Non-Match', 'Non-Match', 'Non-Match', 'Non-Match', 'Non-Match', 'Non-Match', 'Non-Match', 'Non-Match', 'Non-Match', 'Non-Match', 'Non-Match', 'Non-Match', 'Non-Match', 'Non-Match', 'Non-Match', 'Non-Match', 'Non-Match', 'Non-Match', 'Non-Match', 'Non-Match', 'Non-Match', 'Non-Match', 'Non-Match', 'Non-Match', 'Non-Match', 'Non-Match', 'Non-Match', 'Non-Match', 'Non-Match', 'Non-Match', 'Non-Match', 'Non-Match', 'Non-Match', 'Non-Match', 'Non-Match', 'Non-Match', 'Non-Match', 'Non-Match', 'Non-Match', 'Non-Match', 'Non-Match', 'Non-Match', 'Non-Match', 'Non-Match', 'Non-Match', 'Non-Match', 'Non-Match', 'Non-Match', 'Non-Match', 'Non-Match', 'Non-Match', 'Non-Match', 'Non-Match', 'Non-Match', 'Non-Match', 'Non-Match', 'Non-Match', 'Non-Match', 'Non-Match', 'Non-Match', 'Non-Match', 'Non-Match', 'Non-Match', 'Non-Match', 'Non-Match', 'Non-Match', 'Non-Match', 'Non-Match', 'Non-Match', 'Non-Match', 'Non-Match', 'Non-Match', 'Non-Match', 'Non-Match', 'Non-Match', 'Non-Match', 'Match', 'Non-Match', 'Non-Match', 'Non-Match', 'Non-Match', 'Non-Match', 'Non-Match', 'Non-Match', 'Non-Match', 'Non-Match', 'Non-Match', 'Match', 'Non-Match', 'Non-Match', 'Non-Match', 'Non-Match', 'Non-Match', 'Non-Match', 'Non-Match', 'Non-Match', 'Non-Match', 'Non-Match', 'Non-Match', 'Non-Match', 'Non-Match', 'Non-Match', 'Non-Match', 'Non-Match', 'Non-Match', 'Non-Match', 'Non-Match', 'Non-Match', 'Non-Match', 'Non-Match', 'Non-Match', 'Non-Match', 'Non-Match', 'Non-Match', 'Non-Match', 'Non-Match', 'Non-Match', 'Non-Match', 'Non-Match', 'Non-Match', 'Non-Match', 'Non-Match', 'Match', 'Non-Match', 'Non-Match', 'Non-Match', 'Non-Match', 'Non-Match', 'Non-Match', 'Non-Match', 'Non-Match', 'Non-Match', 'Match', 'Non-Match', 'Non-Match', 'Non-Match', 'Non-Match', 'Non-Match', 'Non-Match', 'Non-Match', 'Non-Match', 'Non-Match', 'Non-Match', 'Non-Match', 'Non-Match', 'Non-Match', 'Non-Match', 'Non-Match', 'Non-Match', 'Non-Match', 'Non-Match', 'Non-Match', 'Non-Match', 'Non-Match', 'Non-Match', 'Non-Match', 'Non-Match', 'Non-Match', 'Non-Match', 'Non-Match', 'Non-Match', 'Non-Match', 'Non-Match', 'Non-Match', 'Non-Match', 'Non-Match', 'Non-Match', 'Non-Match', 'Non-Match', 'Non-Match', 'Non-Match', 'Non-Match', 'Non-Match', 'Non-Match', 'Non-Match', 'Non-Match', 'Non-Match', 'Non-Match', 'Non-Match', 'Non-Match', 'Non-Match', 'Non-Match', 'Non-Match', 'Non-Match', 'Non-Match', 'Non-Match', 'Non-Match', 'Non-Match', 'Non-Match', 'Non-Match', 'Non-Match', 'Non-Match', 'Non-Match', 'Non-Match', 'Non-Match', 'Non-Match', 'Non-Match', 'Non-Match', 'Non-Match', 'Non-Match', 'Non-Match', 'Non-Match', 'Non-Match', 'Non-Match', 'Non-Match', 'Non-Match', 'Non-Match', 'Non-Match', 'Non-Match', 'Non-Match', 'Non-Match', 'Non-Match', 'Non-Match', 'Match', 'Non-Match', 'Non-Match', 'Non-Match', 'Non-Match', 'Non-Match', 'Non-Match', 'Non-Match', 'Non-Match', 'Non-Match', 'Non-Match', 'Non-Match', 'Non-Match', 'Non-Match', 'Non-Match', 'Non-Match', 'Non-Match', 'Non-Match', 'Non-Match', 'Non-Match', 'Non-Match', 'Non-Match', 'Non-Match', 'Non-Match', 'Non-Match', 'Non-Match', 'Non-Match', 'Non-Match', 'Non-Match', 'Match', 'Non-Match', 'Non-Match', 'Non-Match', 'Non-Match', 'Non-Match', 'Non-Match', 'Non-Match', 'Non-Match', 'Non-Match', 'Non-Match', 'Non-Match', 'Match', 'Non-Match', 'Non-Match', 'Non-Match', 'Non-Match', 'Non-Match', 'Non-Match', 'Match', 'Non-Match', 'Non-Match', 'Non-Match', 'Non-Match', 'Non-Match', 'Non-Match', 'Non-Match', 'Non-Match', 'Non-Match', 'Non-Match', 'Non-Match', 'Non-Match', 'Non-Match', 'Non-Match', 'Non-Match', 'Non-Match', 'Non-Match', 'Non-Match', 'Non-Match', 'Match', 'Non-Match', 'Non-Match', 'Non-Match', 'Non-Match', 'Non-Match', 'Non-Match', 'Non-Match', 'Non-Match', 'Non-Match', 'Non-Match', 'Non-Match', 'Non-Match', 'Non-Match', 'Non-Match', 'Non-Match', 'Non-Match', 'Non-Match', 'Non-Match', 'Match', 'Non-Match', 'Non-Match', 'Non-Match', 'Non-Match', 'Non-Match', 'Non-Match', 'Non-Match', 'Non-Match', 'Non-Match', 'Non-Match', 'Non-Match', 'Non-Match', 'Non-Match', 'Non-Match', 'Non-Match', 'Non-Match', 'Non-Match', 'Non-Match', 'Non-Match', 'Non-Match', 'Match', 'Non-Match', 'Non-Match', 'Non-Match', 'Non-Match', 'Match', 'Non-Match', 'Non-Match', 'Non-Match', 'Non-Match', 'Non-Match', 'Match', 'Non-Match', 'Non-Match', 'Non-Match', 'Non-Match', 'Match', 'Non-Match', 'Non-Match', 'Non-Match', 'Non-Match', 'Non-Match', 'Non-Match', 'Non-Match', 'Non-Match', 'Non-Match', 'Non-Match', 'Non-Match', 'Non-Match', 'Non-Match', 'Non-Match', 'Non-Match', 'Non-Match', 'Non-Match', 'Non-Match', 'Non-Match', 'Non-Match', 'Non-Match', 'Non-Match', 'Non-Match', 'Non-Match', 'Non-Match', 'Non-Match', 'Non-Match', 'Match', 'Non-Match', 'Non-Match', 'Non-Match', 'Non-Match', 'Non-Match', 'Non-Match', 'Non-Match', 'Match', 'Non-Match', 'Non-Match', 'Non-Match', 'Non-Match', 'Non-Match', 'Non-Match', 'Non-Match', 'Non-Match', 'Non-Match', 'Non-Match', 'Non-Match', 'Non-Match', 'Non-Match', 'Non-Match', 'Non-Match', 'Non-Match', 'Non-Match', 'Non-Match', 'Non-Match', 'Non-Match', 'Non-Match', 'Non-Match', 'Non-Match', 'Non-Match', 'Non-Match', 'Non-Match', 'Non-Match', 'Non-Match', 'Non-Match', 'Non-Match', 'Non-Match', 'Non-Match', 'Non-Match', 'Non-Match', 'Non-Match', 'Non-Match', 'Non-Match', 'Non-Match', 'Non-Match', 'Non-Match', 'Non-Match', 'Non-Match', 'Non-Match', 'Non-Match', 'Non-Match', 'Non-Match', 'Non-Match', 'Non-Match', 'Non-Match', 'Non-Match', 'Non-Match', 'Non-Match', 'Non-Match', 'Non-Match', 'Non-Match', 'Non-Match', 'Match', 'Non-Match', 'Non-Match', 'Non-Match', 'Non-Match', 'Non-Match', 'Non-Match', 'Non-Match', 'Non-Match', 'Non-Match', 'Non-Match', 'Non-Match', 'Non-Match', 'Non-Match', 'Non-Match', 'Non-Match', 'Non-Match', 'Non-Match', 'Non-Match', 'Non-Match', 'Non-Match', 'Non-Match', 'Non-Match', 'Non-Match', 'Non-Match', 'Non-Match', 'Match', 'Non-Match', 'Non-Match', 'Non-Match', 'Match', 'Non-Match', 'Non-Match', 'Non-Match', 'Non-Match', 'Non-Match', 'Non-Match', 'Non-Match', 'Match', 'Non-Match', 'Non-Match', 'Non-Match', 'Non-Match', 'Non-Match', 'Non-Match', 'Non-Match', 'Non-Match', 'Non-Match', 'Non-Match', 'Non-Match', 'Non-Match', 'Non-Match', 'Non-Match', 'Non-Match', 'Non-Match', 'Non-Match', 'Non-Match', 'Non-Match', 'Non-Match', 'Non-Match', 'Non-Match', 'Non-Match', 'Non-Match', 'Non-Match', 'Non-Match', 'Non-Match', 'Non-Match', 'Match', 'Non-Match', 'Non-Match', 'Non-Match', 'Non-Match', 'Non-Match', 'Non-Match', 'Non-Match', 'Non-Match', 'Non-Match', 'Non-Match', 'Non-Match', 'Non-Match', 'Non-Match', 'Non-Match', 'Non-Match', 'Non-Match', 'Non-Match', 'Non-Match', 'Non-Match', 'Non-Match', 'Non-Match', 'Non-Match', 'Non-Match', 'Non-Match', 'Non-Match', 'Non-Match', 'Non-Match', 'Non-Match', 'Non-Match', 'Non-Match', 'Non-Match', 'Non-Match', 'Non-Match', 'Non-Match', 'Non-Match', 'Non-Match', 'Non-Match', 'Non-Match', 'Non-Match', 'Non-Match', 'Non-Match', 'Non-Match', 'Non-Match', 'Non-Match', 'Non-Match', 'Non-Match', 'Non-Match', 'Non-Match', 'Non-Match', 'Non-Match', 'Non-Match', 'Non-Match', 'Non-Match', 'Non-Match', 'Non-Match', 'Non-Match', 'Non-Match', 'Non-Match', 'Non-Match', 'Non-Match', 'Non-Match', 'Non-Match', 'Non-Match', 'Non-Match', 'Non-Match', 'Non-Match', 'Non-Match', 'Non-Match', 'Non-Match', 'Non-Match', 'Non-Match', 'Non-Match', 'Non-Match', 'Non-Match', 'Non-Match', 'Non-Match', 'Non-Match', 'Non-Match', 'Non-Match', 'Non-Match', 'Non-Match', 'Non-Match', 'Non-Match', 'Non-Match', 'Non-Match', 'Non-Match', 'Non-Match', 'Non-Match', 'Non-Match', 'Non-Match', 'Non-Match', 'Non-Match', 'Non-Match', 'Non-Match', 'Non-Match', 'Non-Match', 'Non-Match', 'Non-Match', 'Non-Match', 'Non-Match', 'Non-Match', 'Non-Match', 'Non-Match', 'Non-Match', 'Non-Match', 'Non-Match', 'Non-Match', 'Non-Match', 'Non-Match', 'Non-Match', 'Non-Match', 'Non-Match', 'Non-Match', 'Non-Match', 'Non-Match', 'Non-Match', 'Non-Match', 'Non-Match', 'Non-Match', 'Non-Match', 'Non-Match', 'Non-Match', 'Non-Match', 'Non-Match', 'Non-Match', 'Non-Match', 'Non-Match', 'Non-Match', 'Non-Match', 'Non-Match', 'Non-Match', 'Non-Match', 'Non-Match', 'Non-Match', 'Non-Match', 'Non-Match', 'Non-Match', 'Match', 'Non-Match', 'Non-Match', 'Non-Match', 'Non-Match', 'Non-Match', 'Non-Match', 'Non-Match', 'Non-Match', 'Non-Match', 'Non-Match', 'Non-Match', 'Non-Match', 'Non-Match', 'Non-Match', 'Non-Match', 'Non-Match', 'Non-Match', 'Non-Match', 'Non-Match', 'Non-Match', 'Non-Match', 'Non-Match', 'Non-Match', 'Non-Match', 'Non-Match', 'Non-Match', 'Non-Match', 'Non-Match', 'Non-Match', 'Non-Match', 'Non-Match', 'Match', 'Non-Match', 'Non-Match', 'Non-Match', 'Non-Match', 'Non-Match', 'Non-Match', 'Non-Match', 'Non-Match', 'Non-Match', 'Non-Match', 'Non-Match', 'Non-Match', 'Non-Match', 'Non-Match', 'Non-Match', 'Non-Match', 'Non-Match', 'Non-Match', 'Non-Match', 'Non-Match', 'Non-Match', 'Non-Match', 'Non-Match', 'Non-Match', 'Non-Match', 'Non-Match', 'Non-Match', 'Non-Match', 'Non-Match', 'Non-Match', 'Non-Match', 'Non-Match', 'Non-Match', 'Non-Match', 'Non-Match', 'Non-Match', 'Non-Match', 'Match', 'Non-Match', 'Non-Match', 'Non-Match', 'Non-Match', 'Non-Match', 'Non-Match', 'Non-Match', 'Non-Match', 'Non-Match', 'Non-Match', 'Non-Match', 'Non-Match', 'Non-Match', 'Non-Match', 'Non-Match', 'Non-Match', 'Non-Match', 'Non-Match', 'Non-Match', 'Non-Match', 'Non-Match', 'Non-Match', 'Non-Match', 'Non-Match', 'Non-Match', 'Non-Match', 'Non-Match', 'Non-Match', 'Non-Match', 'Non-Match', 'Non-Match', 'Non-Match', 'Non-Match', 'Non-Match', 'Non-Match', 'Non-Match', 'Non-Match', 'Non-Match', 'Non-Match', 'Non-Match', 'Non-Match', 'Non-Match', 'Non-Match', 'Non-Match', 'Non-Match', 'Match', 'Non-Match', 'Non-Match', 'Non-Match', 'Non-Match', 'Match', 'Non-Match', 'Non-Match', 'Non-Match', 'Non-Match', 'Non-Match', 'Non-Match', 'Non-Match', 'Non-Match', 'Non-Match', 'Non-Match', 'Non-Match', 'Non-Match', 'Non-Match', 'Non-Match', 'Non-Match', 'Non-Match', 'Non-Match', 'Non-Match', 'Non-Match', 'Non-Match', 'Non-Match', 'Non-Match', 'Non-Match', 'Non-Match', 'Non-Match', 'Non-Match', 'Non-Match', 'Non-Match', 'Non-Match', 'Non-Match', 'Non-Match', 'Non-Match', 'Non-Match', 'Non-Match', 'Non-Match', 'Non-Match', 'Non-Match', 'Non-Match', 'Non-Match', 'Non-Match', 'Non-Match', 'Non-Match', 'Non-Match', 'Non-Match', 'Non-Match', 'Non-Match', 'Non-Match', 'Non-Match', 'Non-Match', 'Non-Match', 'Non-Match', 'Non-Match', 'Non-Match', 'Non-Match', 'Non-Match', 'Non-Match', 'Non-Match', 'Non-Match', 'Non-Match', 'Non-Match', 'Non-Match', 'Non-Match', 'Non-Match', 'Non-Match', 'Non-Match', 'Non-Match', 'Non-Match', 'Non-Match', 'Non-Match', 'Non-Match', 'Non-Match', 'Non-Match', 'Non-Match', 'Non-Match', 'Non-Match', 'Non-Match', 'Non-Match', 'Non-Match', 'Non-Match', 'Non-Match', 'Non-Match', 'Non-Match', 'Non-Match', 'Non-Match', 'Non-Match', 'Non-Match', 'Non-Match', 'Non-Match', 'Non-Match', 'Non-Match', 'Non-Match', 'Non-Match', 'Non-Match', 'Non-Match', 'Non-Match', 'Non-Match', 'Non-Match', 'Non-Match', 'Non-Match', 'Non-Match', 'Non-Match', 'Non-Match', 'Non-Match', 'Non-Match', 'Non-Match', 'Non-Match', 'Non-Match', 'Non-Match', 'Non-Match', 'Non-Match', 'Match', 'Non-Match', 'Non-Match', 'Non-Match', 'Non-Match', 'Non-Match', 'Non-Match', 'Non-Match', 'Non-Match', 'Non-Match', 'Non-Match', 'Non-Match', 'Non-Match', 'Non-Match', 'Non-Match', 'Non-Match', 'Non-Match', 'Non-Match', 'Non-Match', 'Match', 'Non-Match', 'Non-Match', 'Non-Match', 'Non-Match', 'Non-Match', 'Non-Match', 'Non-Match', 'Non-Match', 'Non-Match', 'Non-Match', 'Non-Match', 'Non-Match', 'Non-Match', 'Non-Match', 'Non-Match', 'Non-Match', 'Non-Match', 'Non-Match', 'Non-Match', 'Non-Match', 'Non-Match', 'Non-Match', 'Non-Match', 'Non-Match', 'Non-Match', 'Non-Match', 'Match', 'Non-Match', 'Non-Match', 'Non-Match', 'Non-Match', 'Non-Match', 'Non-Match', 'Non-Match', 'Non-Match', 'Non-Match', 'Non-Match', 'Match', 'Non-Match', 'Non-Match', 'Non-Match', 'Non-Match', 'Non-Match', 'Non-Match', 'Non-Match', 'Non-Match', 'Non-Match', 'Non-Match', 'Non-Match', 'Non-Match', 'Non-Match', 'Non-Match', 'Non-Match', 'Non-Match', 'Non-Match', 'Non-Match', 'Non-Match', 'Non-Match', 'Non-Match', 'Non-Match', 'Non-Match', 'Non-Match', 'Non-Match', 'Match', 'Non-Match', 'Non-Match', 'Non-Match', 'Non-Match', 'Non-Match', 'Non-Match', 'Non-Match', 'Non-Match', 'Non-Match', 'Non-Match', 'Non-Match', 'Non-Match', 'Non-Match', 'Non-Match', 'Non-Match', 'Non-Match', 'Non-Match', 'Non-Match', 'Non-Match', 'Non-Match', 'Non-Match', 'Non-Match', 'Non-Match', 'Non-Match', 'Non-Match', 'Non-Match', 'Non-Match', 'Non-Match', 'Non-Match', 'Non-Match', 'Non-Match', 'Non-Match', 'Non-Match', 'Non-Match', 'Match', 'Non-Match', 'Non-Match', 'Non-Match', 'Non-Match', 'Non-Match', 'Non-Match', 'Non-Match', 'Non-Match', 'Non-Match', 'Non-Match', 'Non-Match', 'Non-Match', 'Non-Match', 'Non-Match', 'Non-Match', 'Non-Match', 'Non-Match', 'Non-Match', 'Non-Match', 'Non-Match', 'Non-Match', 'Non-Match', 'Non-Match', 'Non-Match', 'Non-Match', 'Non-Match', 'Non-Match', 'Non-Match', 'Non-Match', 'Non-Match', 'Non-Match', 'Non-Match', 'Non-Match', 'Non-Match', 'Non-Match', 'Non-Match', 'Non-Match', 'Non-Match', 'Non-Match', 'Non-Match', 'Non-Match', 'Non-Match', 'Non-Match', 'Non-Match', 'Non-Match', 'Non-Match', 'Non-Match', 'Non-Match', 'Non-Match', 'Non-Match', 'Match', 'Non-Match', 'Non-Match', 'Non-Match', 'Non-Match', 'Non-Match', 'Non-Match', 'Non-Match', 'Non-Match', 'Non-Match', 'Match', 'Non-Match', 'Non-Match', 'Non-Match', 'Non-Match', 'Non-Match', 'Non-Match', 'Non-Match', 'Match', 'Non-Match', 'Non-Match', 'Non-Match', 'Non-Match', 'Non-Match', 'Non-Match', 'Non-Match', 'Non-Match', 'Non-Match', 'Non-Match', 'Non-Match', 'Non-Match', 'Non-Match', 'Non-Match', 'Non-Match', 'Non-Match', 'Non-Match', 'Non-Match', 'Non-Match', 'Non-Match', 'Non-Match', 'Non-Match', 'Non-Match', 'Non-Match', 'Non-Match', 'Non-Match', 'Non-Match', 'Non-Match', 'Non-Match', 'Non-Match', 'Non-Match', 'Non-Match', 'Non-Match', 'Non-Match', 'Non-Match', 'Non-Match', 'Non-Match', 'Match', 'Non-Match', 'Non-Match', 'Non-Match', 'Non-Match', 'Non-Match', 'Non-Match', 'Non-Match', 'Non-Match', 'Non-Match', 'Non-Match', 'Non-Match', 'Non-Match', 'Non-Match', 'Non-Match', 'Non-Match', 'Non-Match', 'Match', 'Non-Match', 'Non-Match', 'Non-Match', 'Non-Match', 'Non-Match', 'Non-Match', 'Non-Match', 'Non-Match', 'Non-Match', 'Non-Match', 'Non-Match', 'Non-Match', 'Non-Match', 'Non-Match', 'Non-Match', 'Non-Match', 'Non-Match', 'Non-Match', 'Non-Match', 'Non-Match', 'Non-Match', 'Non-Match', 'Non-Match', 'Non-Match', 'Non-Match', 'Non-Match', 'Non-Match', 'Non-Match', 'Match', 'Non-Match', 'Non-Match', 'Non-Match', 'Non-Match', 'Non-Match', 'Non-Match', 'Non-Match', 'Non-Match', 'Non-Match', 'Non-Match', 'Non-Match', 'Non-Match', 'Non-Match', 'Non-Match', 'Non-Match', 'Non-Match', 'Match', 'Non-Match', 'Match', 'Non-Match', 'Non-Match', 'Non-Match', 'Non-Match', 'Non-Match', 'Match', 'Non-Match', 'Non-Match', 'Non-Match', 'Non-Match', 'Non-Match', 'Non-Match', 'Non-Match', 'Non-Match', 'Non-Match', 'Non-Match', 'Match', 'Non-Match', 'Non-Match', 'Non-Match', 'Non-Match', 'Non-Match', 'Non-Match', 'Non-Match', 'Non-Match', 'Non-Match', 'Non-Match', 'Non-Match', 'Non-Match', 'Non-Match', 'Non-Match', 'Non-Match', 'Non-Match', 'Non-Match', 'Non-Match', 'Non-Match', 'Non-Match', 'Non-Match', 'Non-Match', 'Non-Match', 'Non-Match', 'Non-Match', 'Non-Match', 'Non-Match', 'Non-Match', 'Non-Match', 'Non-Match', 'Non-Match', 'Non-Match', 'Non-Match', 'Non-Match', 'Non-Match', 'Non-Match', 'Non-Match', 'Non-Match', 'Non-Match', 'Non-Match', 'Non-Match', 'Non-Match', 'Non-Match', 'Match', 'Non-Match', 'Non-Match', 'Non-Match', 'Non-Match', 'Non-Match', 'Non-Match', 'Non-Match', 'Non-Match', 'Non-Match', 'Non-Match', 'Non-Match', 'Non-Match', 'Non-Match', 'Non-Match', 'Non-Match', 'Non-Match', 'Non-Match', 'Non-Match', 'Non-Match', 'Non-Match', 'Non-Match', 'Non-Match', 'Non-Match', 'Match', 'Non-Match', 'Non-Match', 'Non-Match', 'Non-Match', 'Non-Match', 'Non-Match', 'Non-Match', 'Non-Match', 'Non-Match', 'Non-Match', 'Non-Match', 'Non-Match', 'Non-Match', 'Non-Match', 'Non-Match', 'Match', 'Non-Match', 'Non-Match', 'Non-Match', 'Non-Match', 'Non-Match', 'Non-Match', 'Non-Match', 'Non-Match', 'Non-Match', 'Non-Match', 'Non-Match', 'Non-Match', 'Non-Match', 'Non-Match', 'Non-Match', 'Match', 'Non-Match', 'Non-Match', 'Non-Match', 'Non-Match', 'Non-Match', 'Non-Match', 'Non-Match', 'Non-Match', 'Non-Match', 'Non-Match', 'Non-Match', 'Non-Match', 'Non-Match', 'Non-Match', 'Non-Match', 'Non-Match', 'Non-Match', 'Non-Match', 'Non-Match', 'Non-Match', 'Non-Match', 'Non-Match', 'Non-Match', 'Non-Match', 'Non-Match', 'Non-Match', 'Non-Match', 'Non-Match', 'Non-Match', 'Non-Match', 'Non-Match', 'Non-Match', 'Non-Match', 'Non-Match', 'Non-Match', 'Non-Match', 'Non-Match', 'Non-Match', 'Non-Match', 'Non-Match', 'Non-Match', 'Non-Match', 'Match', 'Non-Match', 'Non-Match', 'Non-Match', 'Non-Match', 'Non-Match', 'Non-Match', 'Non-Match', 'Non-Match', 'Non-Match', 'Non-Match', 'Non-Match', 'Match', 'Non-Match', 'Non-Match', 'Non-Match', 'Non-Match', 'Non-Match', 'Non-Match', 'Non-Match', 'Non-Match', 'Non-Match', 'Non-Match', 'Non-Match', 'Non-Match', 'Non-Match', 'Non-Match', 'Non-Match', 'Non-Match', 'Non-Match', 'Non-Match', 'Non-Match', 'Non-Match', 'Non-Match', 'Non-Match', 'Match', 'Non-Match', 'Non-Match', 'Non-Match', 'Non-Match', 'Non-Match', 'Non-Match', 'Non-Match', 'Match', 'Non-Match', 'Non-Match', 'Non-Match', 'Non-Match', 'Non-Match', 'Non-Match', 'Non-Match', 'Match', 'Non-Match', 'Non-Match', 'Non-Match', 'Non-Match', 'Non-Match', 'Non-Match', 'Non-Match', 'Non-Match', 'Non-Match', 'Non-Match', 'Non-Match', 'Non-Match', 'Non-Match', 'Non-Match', 'Non-Match', 'Non-Match', 'Non-Match', 'Non-Match', 'Non-Match', 'Non-Match', 'Non-Match', 'Non-Match', 'Non-Match', 'Non-Match', 'Non-Match', 'Non-Match', 'Match', 'Non-Match', 'Non-Match', 'Non-Match', 'Non-Match', 'Non-Match', 'Non-Match', 'Non-Match', 'Non-Match', 'Match', 'Non-Match', 'Non-Match', 'Non-Match', 'Non-Match', 'Non-Match', 'Non-Match', 'Non-Match', 'Non-Match', 'Non-Match', 'Non-Match', 'Non-Match', 'Non-Match', 'Non-Match', 'Non-Match', 'Match', 'Non-Match', 'Non-Match', 'Non-Match', 'Non-Match', 'Non-Match', 'Non-Match', 'Non-Match', 'Non-Match', 'Non-Match', 'Non-Match', 'Non-Match', 'Non-Match', 'Non-Match', 'Non-Match', 'Non-Match', 'Non-Match', 'Non-Match', 'Non-Match', 'Non-Match', 'Non-Match', 'Non-Match', 'Non-Match', 'Non-Match', 'Non-Match', 'Non-Match', 'Non-Match', 'Non-Match', 'Non-Match', 'Non-Match', 'Non-Match', 'Non-Match', 'Non-Match', 'Non-Match', 'Non-Match', 'Non-Match', 'Non-Match', 'Non-Match', 'Non-Match', 'Non-Match', 'Non-Match', 'Non-Match', 'Non-Match', 'Non-Match', 'Non-Match', 'Non-Match', 'Non-Match', 'Non-Match', 'Non-Match', 'Non-Match', 'Non-Match', 'Non-Match', 'Non-Match', 'Non-Match', 'Non-Match', 'Non-Match', 'Non-Match', 'Non-Match', 'Non-Match', 'Non-Match', 'Non-Match', 'Non-Match', 'Non-Match', 'Non-Match', 'Match', 'Non-Match', 'Non-Match', 'Non-Match', 'Match', 'Non-Match', 'Non-Match', 'Non-Match', 'Non-Match', 'Non-Match', 'Non-Match', 'Non-Match', 'Non-Match', 'Non-Match', 'Non-Match', 'Non-Match', 'Non-Match', 'Non-Match', 'Non-Match', 'Non-Match', 'Non-Match', 'Non-Match', 'Non-Match', 'Non-Match', 'Non-Match', 'Non-Match', 'Non-Match', 'Non-Match', 'Non-Match', 'Non-Match', 'Non-Match', 'Non-Match', 'Non-Match', 'Non-Match', 'Non-Match', 'Non-Match', 'Non-Match', 'Non-Match', 'Non-Match', 'Non-Match', 'Non-Match', 'Non-Match', 'Non-Match', 'Non-Match', 'Non-Match', 'Non-Match', 'Non-Match', 'Non-Match', 'Non-Match', 'Non-Match', 'Non-Match', 'Non-Match', 'Non-Match', 'Non-Match', 'Non-Match', 'Non-Match', 'Non-Match', 'Non-Match', 'Non-Match', 'Non-Match', 'Non-Match', 'Non-Match', 'Non-Match', 'Non-Match', 'Non-Match', 'Non-Match', 'Non-Match', 'Non-Match', 'Non-Match', 'Non-Match', 'Non-Match', 'Non-Match', 'Non-Match', 'Non-Match', 'Non-Match', 'Non-Match', 'Non-Match', 'Non-Match', 'Non-Match', 'Non-Match', 'Non-Match', 'Non-Match', 'Non-Match', 'Non-Match', 'Non-Match', 'Non-Match', 'Non-Match', 'Non-Match', 'Non-Match', 'Non-Match', 'Non-Match', 'Non-Match', 'Non-Match', 'Non-Match', 'Non-Match', 'Non-Match', 'Non-Match', 'Non-Match', 'Non-Match', 'Non-Match', 'Non-Match', 'Non-Match', 'Non-Match', 'Non-Match', 'Non-Match', 'Non-Match', 'Non-Match', 'Non-Match', 'Non-Match', 'Non-Match', 'Non-Match', 'Non-Match', 'Non-Match', 'Non-Match', 'Non-Match', 'Non-Match', 'Non-Match', 'Non-Match', 'Non-Match', 'Non-Match', 'Non-Match', 'Non-Match', 'Non-Match', 'Non-Match', 'Non-Match', 'Non-Match', 'Non-Match', 'Non-Match', 'Non-Match', 'Non-Match', 'Non-Match', 'Non-Match', 'Non-Match', 'Non-Match', 'Non-Match', 'Non-Match', 'Non-Match', 'Non-Match', 'Non-Match', 'Non-Match', 'Non-Match', 'Non-Match', 'Non-Match', 'Non-Match', 'Non-Match', 'Non-Match', 'Non-Match', 'Non-Match', 'Non-Match', 'Non-Match', 'Non-Match', 'Non-Match', 'Non-Match', 'Non-Match', 'Non-Match', 'Non-Match', 'Non-Match', 'Non-Match', 'Non-Match', 'Non-Match', 'Non-Match', 'Non-Match', 'Non-Match', 'Non-Match', 'Non-Match', 'Non-Match', 'Non-Match', 'Non-Match', 'Non-Match', 'Non-Match', 'Non-Match', 'Non-Match', 'Non-Match', 'Non-Match', 'Non-Match', 'Non-Match', 'Non-Match', 'Non-Match', 'Non-Match', 'Non-Match', 'Non-Match', 'Non-Match', 'Non-Match', 'Non-Match', 'Non-Match', 'Non-Match', 'Non-Match', 'Non-Match', 'Non-Match', 'Non-Match', 'Non-Match', 'Non-Match', 'Non-Match', 'Non-Match', 'Non-Match', 'Non-Match', 'Non-Match', 'Non-Match', 'Non-Match', 'Non-Match', 'Non-Match', 'Non-Match', 'Non-Match', 'Non-Match', 'Non-Match', 'Non-Match', 'Non-Match', 'Non-Match', 'Non-Match', 'Non-Match', 'Non-Match', 'Non-Match', 'Non-Match', 'Non-Match', 'Non-Match', 'Non-Match', 'Non-Match', 'Non-Match', 'Non-Match', 'Non-Match', 'Non-Match', 'Non-Match', 'Non-Match', 'Non-Match', 'Non-Match', 'Non-Match', 'Non-Match', 'Non-Match', 'Non-Match', 'Non-Match', 'Non-Match', 'Non-Match', 'Non-Match', 'Non-Match', 'Non-Match', 'Non-Match', 'Non-Match', 'Non-Match', 'Non-Match', 'Non-Match', 'Non-Match', 'Non-Match', 'Non-Match', 'Non-Match', 'Non-Match', 'Non-Match', 'Non-Match', 'Non-Match', 'Non-Match', 'Match', 'Non-Match', 'Non-Match', 'Non-Match', 'Match', 'Non-Match', 'Non-Match', 'Non-Match', 'Non-Match', 'Non-Match', 'Non-Match', 'Non-Match', 'Non-Match', 'Non-Match', 'Non-Match', 'Non-Match', 'Non-Match', 'Non-Match', 'Non-Match', 'Non-Match', 'Non-Match', 'Non-Match', 'Non-Match', 'Non-Match', 'Non-Match', 'Non-Match', 'Non-Match', 'Non-Match', 'Non-Match', 'Non-Match', 'Non-Match', 'Non-Match', 'Non-Match', 'Non-Match', 'Non-Match', 'Non-Match', 'Non-Match', 'Non-Match', 'Non-Match', 'Non-Match', 'Non-Match', 'Non-Match', 'Non-Match', 'Non-Match', 'Non-Match', 'Non-Match', 'Non-Match', 'Non-Match', 'Non-Match', 'Non-Match', 'Non-Match', 'Non-Match', 'Non-Match', 'Non-Match', 'Non-Match', 'Non-Match', 'Non-Match', 'Non-Match', 'Non-Match', 'Non-Match', 'Non-Match', 'Non-Match', 'Non-Match', 'Non-Match', 'Non-Match', 'Non-Match', 'Non-Match', 'Non-Match', 'Non-Match', 'Non-Match', 'Non-Match', 'Non-Match', 'Non-Match', 'Non-Match', 'Non-Match', 'Non-Match', 'Non-Match', 'Non-Match', 'Non-Match', 'Non-Match', 'Non-Match', 'Non-Match', 'Non-Match', 'Non-Match', 'Non-Match', 'Non-Match', 'Non-Match', 'Non-Match', 'Match', 'Non-Match', 'Non-Match', 'Non-Match', 'Non-Match', 'Non-Match', 'Non-Match', 'Non-Match', 'Non-Match', 'Non-Match', 'Non-Match', 'Non-Match', 'Non-Match', 'Non-Match', 'Non-Match', 'Non-Match', 'Non-Match', 'Non-Match', 'Non-Match', 'Non-Match', 'Non-Match', 'Non-Match', 'Non-Match', 'Non-Match', 'Non-Match', 'Non-Match', 'Non-Match', 'Non-Match', 'Non-Match', 'Non-Match', 'Non-Match', 'Non-Match', 'Non-Match', 'Non-Match', 'Match', 'Non-Match', 'Non-Match', 'Non-Match', 'Non-Match', 'Non-Match', 'Match', 'Non-Match', 'Non-Match', 'Non-Match', 'Non-Match', 'Non-Match', 'Non-Match', 'Non-Match', 'Non-Match', 'Non-Match', 'Non-Match', 'Non-Match', 'Non-Match', 'Non-Match', 'Non-Match', 'Non-Match', 'Non-Match', 'Non-Match', 'Non-Match', 'Non-Match', 'Non-Match', 'Non-Match', 'Non-Match', 'Non-Match', 'Non-Match', 'Non-Match', 'Non-Match', 'Non-Match', 'Non-Match', 'Non-Match', 'Non-Match', 'Non-Match', 'Non-Match', 'Non-Match', 'Non-Match', 'Non-Match', 'Non-Match', 'Non-Match', 'Non-Match', 'Non-Match', 'Non-Match', 'Non-Match', 'Non-Match', 'Non-Match', 'Non-Match', 'Non-Match', 'Non-Match', 'Non-Match', 'Non-Match', 'Non-Match', 'Non-Match', 'Non-Match', 'Match', 'Non-Match', 'Non-Match', 'Non-Match', 'Non-Match', 'Non-Match', 'Non-Match', 'Non-Match', 'Non-Match', 'Non-Match', 'Non-Match', 'Non-Match', 'Non-Match', 'Non-Match', 'Non-Match', 'Non-Match', 'Non-Match', 'Non-Match', 'Non-Match', 'Non-Match', 'Non-Match', 'Non-Match', 'Non-Match', 'Non-Match', 'Non-Match', 'Match', 'Non-Match', 'Non-Match', 'Non-Match', 'Non-Match', 'Non-Match', 'Non-Match', 'Non-Match', 'Non-Match', 'Non-Match', 'Non-Match', 'Non-Match', 'Non-Match', 'Non-Match', 'Non-Match', 'Non-Match', 'Non-Match', 'Non-Match', 'Non-Match', 'Non-Match', 'Non-Match', 'Non-Match', 'Non-Match', 'Non-Match', 'Match', 'Non-Match', 'Non-Match', 'Non-Match', 'Non-Match', 'Non-Match', 'Non-Match', 'Non-Match', 'Non-Match', 'Non-Match', 'Non-Match', 'Non-Match', 'Non-Match', 'Non-Match', 'Non-Match', 'Non-Match', 'Non-Match', 'Non-Match', 'Non-Match', 'Non-Match', 'Non-Match', 'Non-Match', 'Non-Match', 'Non-Match', 'Non-Match', 'Non-Match', 'Non-Match', 'Non-Match', 'Non-Match', 'Non-Match', 'Non-Match', 'Non-Match', 'Non-Match', 'Non-Match', 'Non-Match', 'Non-Match', 'Non-Match', 'Non-Match', 'Non-Match', 'Non-Match', 'Non-Match', 'Non-Match', 'Non-Match', 'Non-Match', 'Non-Match', 'Non-Match', 'Match', 'Non-Match', 'Non-Match', 'Non-Match', 'Non-Match', 'Non-Match', 'Non-Match', 'Non-Match', 'Non-Match', 'Non-Match', 'Non-Match', 'Non-Match', 'Non-Match', 'Non-Match', 'Non-Match', 'Non-Match', 'Non-Match', 'Non-Match', 'Non-Match', 'Non-Match', 'Non-Match', 'Non-Match', 'Match', 'Non-Match', 'Non-Match', 'Non-Match', 'Non-Match', 'Non-Match', 'Non-Match', 'Non-Match', 'Non-Match', 'Non-Match', 'Non-Match', 'Non-Match', 'Non-Match', 'Non-Match', 'Non-Match', 'Non-Match', 'Non-Match', 'Non-Match', 'Non-Match', 'Non-Match', 'Non-Match', 'Non-Match', 'Non-Match', 'Non-Match', 'Non-Match', 'Non-Match', 'Non-Match', 'Non-Match', 'Non-Match', 'Non-Match', 'Non-Match', 'Non-Match', 'Non-Match', 'Non-Match', 'Non-Match', 'Non-Match', 'Non-Match', 'Non-Match', 'Non-Match', 'Non-Match', 'Non-Match', 'Non-Match', 'Non-Match', 'Non-Match', 'Non-Match', 'Non-Match', 'Non-Match', 'Non-Match', 'Non-Match', 'Non-Match', 'Non-Match', 'Non-Match', 'Non-Match', 'Non-Match', 'Non-Match', 'Non-Match', 'Non-Match', 'Non-Match', 'Non-Match', 'Non-Match', 'Non-Match', 'Non-Match', 'Non-Match', 'Non-Match', 'Non-Match', 'Non-Match', 'Match', 'Non-Match', 'Non-Match', 'Non-Match', 'Non-Match', 'Non-Match', 'Non-Match', 'Non-Match', 'Non-Match', 'Non-Match', 'Non-Match', 'Non-Match', 'Non-Match', 'Non-Match', 'Non-Match', 'Non-Match', 'Non-Match', 'Non-Match', 'Non-Match', 'Non-Match', 'Non-Match', 'Non-Match', 'Non-Match', 'Non-Match', 'Non-Match', 'Non-Match', 'Non-Match', 'Non-Match', 'Non-Match', 'Non-Match', 'Non-Match', 'Non-Match', 'Non-Match', 'Non-Match', 'Non-Match', 'Non-Match', 'Non-Match', 'Non-Match', 'Non-Match', 'Non-Match', 'Non-Match', 'Non-Match', 'Non-Match', 'Non-Match', 'Non-Match', 'Non-Match', 'Match', 'Non-Match', 'Non-Match', 'Non-Match', 'Non-Match', 'Non-Match', 'Non-Match', 'Non-Match', 'Non-Match', 'Non-Match', 'Non-Match', 'Non-Match', 'Non-Match', 'Non-Match', 'Non-Match', 'Non-Match', 'Non-Match', 'Non-Match', 'Non-Match', 'Non-Match', 'Non-Match', 'Non-Match', 'Non-Match', 'Non-Match', 'Non-Match', 'Non-Match', 'Non-Match', 'Non-Match', 'Non-Match', 'Non-Match', 'Non-Match', 'Non-Match', 'Non-Match', 'Non-Match', 'Non-Match', 'Non-Match', 'Non-Match', 'Non-Match', 'Non-Match', 'Non-Match', 'Non-Match', 'Non-Match', 'Non-Match', 'Non-Match', 'Non-Match', 'Non-Match', 'Non-Match', 'Non-Match', 'Non-Match', 'Non-Match', 'Non-Match', 'Non-Match', 'Non-Match', 'Non-Match', 'Non-Match', 'Non-Match', 'Non-Match', 'Non-Match', 'Non-Match', 'Non-Match', 'Non-Match', 'Non-Match', 'Non-Match', 'Non-Match', 'Non-Match', 'Non-Match', 'Non-Match', 'Non-Match', 'Non-Match', 'Non-Match', 'Non-Match', 'Non-Match', 'Non-Match', 'Non-Match', 'Non-Match', 'Non-Match', 'Non-Match', 'Non-Match', 'Non-Match', 'Non-Match', 'Non-Match', 'Non-Match', 'Non-Match', 'Non-Match', 'Non-Match', 'Non-Match', 'Non-Match', 'Match', 'Non-Match', 'Non-Match', 'Non-Match', 'Non-Match', 'Non-Match', 'Non-Match', 'Non-Match', 'Non-Match', 'Non-Match', 'Non-Match', 'Non-Match', 'Non-Match', 'Non-Match', 'Non-Match', 'Non-Match', 'Non-Match', 'Non-Match', 'Non-Match', 'Non-Match', 'Non-Match', 'Non-Match', 'Non-Match', 'Non-Match', 'Non-Match', 'Non-Match', 'Match', 'Match', 'Non-Match', 'Non-Match', 'Non-Match', 'Non-Match', 'Non-Match', 'Non-Match', 'Non-Match', 'Non-Match', 'Non-Match', 'Non-Match', 'Non-Match', 'Non-Match', 'Non-Match', 'Non-Match', 'Non-Match', 'Match', 'Non-Match', 'Non-Match', 'Non-Match', 'Non-Match', 'Non-Match', 'Non-Match', 'Non-Match', 'Non-Match', 'Non-Match', 'Non-Match', 'Non-Match', 'Non-Match', 'Non-Match', 'Non-Match', 'Non-Match', 'Non-Match', 'Non-Match', 'Non-Match', 'Non-Match', 'Non-Match', 'Non-Match', 'Non-Match', 'Non-Match', 'Non-Match', 'Match', 'Non-Match', 'Non-Match', 'Non-Match', 'Non-Match', 'Non-Match', 'Non-Match', 'Non-Match', 'Non-Match', 'Non-Match', 'Non-Match', 'Non-Match', 'Non-Match', 'Non-Match', 'Non-Match', 'Non-Match', 'Match', 'Non-Match', 'Non-Match', 'Match', 'Non-Match', 'Non-Match', 'Non-Match', 'Non-Match', 'Non-Match', 'Non-Match', 'Non-Match', 'Non-Match', 'Non-Match', 'Non-Match', 'Non-Match', 'Non-Match', 'Non-Match', 'Non-Match', 'Match', 'Non-Match', 'Non-Match', 'Non-Match', 'Non-Match', 'Non-Match', 'Non-Match', 'Non-Match', 'Non-Match', 'Non-Match', 'Non-Match', 'Non-Match', 'Non-Match', 'Non-Match', 'Non-Match', 'Non-Match', 'Non-Match', 'Non-Match', 'Non-Match', 'Non-Match', 'Non-Match', 'Match', 'Non-Match', 'Non-Match', 'Non-Match', 'Non-Match', 'Non-Match', 'Non-Match', 'Non-Match', 'Non-Match', 'Non-Match', 'Non-Match', 'Non-Match', 'Non-Match', 'Non-Match', 'Non-Match', 'Non-Match', 'Non-Match', 'Non-Match', 'Non-Match', 'Non-Match', 'Non-Match', 'Non-Match', 'Non-Match', 'Non-Match', 'Non-Match', 'Non-Match', 'Non-Match', 'Non-Match', 'Match', 'Non-Match', 'Non-Match', 'Non-Match', 'Non-Match', 'Non-Match', 'Non-Match', 'Non-Match', 'Non-Match', 'Non-Match', 'Non-Match', 'Non-Match', 'Non-Match', 'Non-Match', 'Non-Match', 'Match', 'Non-Match', 'Non-Match', 'Non-Match', 'Non-Match', 'Non-Match', 'Non-Match', 'Non-Match', 'Non-Match', 'Non-Match', 'Non-Match', 'Non-Match', 'Non-Match', 'Non-Match', 'Non-Match', 'Non-Match', 'Non-Match', 'Non-Match', 'Non-Match', 'Non-Match', 'Non-Match', 'Non-Match', 'Non-Match', 'Non-Match', 'Non-Match', 'Non-Match', 'Non-Match', 'Non-Match', 'Non-Match', 'Non-Match', 'Non-Match', 'Non-Match', 'Non-Match', 'Non-Match', 'Non-Match', 'Non-Match', 'Non-Match', 'Non-Match', 'Non-Match', 'Non-Match', 'Match', 'Non-Match', 'Non-Match', 'Non-Match', 'Non-Match', 'Non-Match', 'Non-Match', 'Non-Match', 'Non-Match', 'Non-Match', 'Non-Match', 'Match', 'Non-Match', 'Non-Match', 'Non-Match', 'Non-Match', 'Non-Match', 'Non-Match', 'Non-Match', 'Non-Match', 'Non-Match', 'Non-Match', 'Non-Match', 'Non-Match', 'Non-Match', 'Non-Match', 'Non-Match', 'Non-Match', 'Non-Match', 'Non-Match', 'Non-Match', 'Non-Match', 'Non-Match', 'Non-Match', 'Non-Match', 'Non-Match', 'Non-Match', 'Non-Match', 'Non-Match', 'Non-Match', 'Non-Match', 'Non-Match', 'Non-Match', 'Non-Match', 'Non-Match', 'Non-Match', 'Non-Match', 'Non-Match', 'Non-Match', 'Non-Match', 'Non-Match', 'Non-Match', 'Non-Match', 'Non-Match', 'Non-Match', 'Non-Match', 'Non-Match', 'Non-Match', 'Non-Match', 'Non-Match', 'Non-Match', 'Non-Match', 'Non-Match', 'Non-Match', 'Non-Match', 'Non-Match', 'Non-Match', 'Non-Match', 'Non-Match', 'Non-Match', 'Non-Match', 'Non-Match', 'Non-Match', 'Non-Match', 'Non-Match', 'Non-Match', 'Non-Match', 'Non-Match', 'Non-Match', 'Non-Match', 'Non-Match', 'Non-Match', 'Non-Match', 'Non-Match', 'Non-Match', 'Non-Match', 'Non-Match', 'Non-Match', 'Non-Match', 'Non-Match', 'Non-Match', 'Non-Match', 'Non-Match', 'Non-Match', 'Non-Match', 'Non-Match', 'Non-Match', 'Non-Match', 'Non-Match', 'Non-Match', 'Non-Match', 'Match', 'Non-Match', 'Non-Match', 'Non-Match', 'Non-Match', 'Non-Match', 'Non-Match', 'Non-Match', 'Non-Match', 'Non-Match', 'Non-Match', 'Non-Match', 'Non-Match', 'Non-Match', 'Non-Match', 'Non-Match', 'Non-Match', 'Non-Match', 'Non-Match', 'Non-Match', 'Non-Match', 'Non-Match', 'Non-Match', 'Non-Match', 'Non-Match', 'Non-Match', 'Non-Match', 'Non-Match', 'Non-Match', 'Non-Match', 'Non-Match', 'Non-Match', 'Non-Match', 'Non-Match', 'Non-Match', 'Non-Match', 'Non-Match', 'Non-Match', 'Non-Match', 'Non-Match', 'Match', 'Non-Match', 'Non-Match', 'Non-Match', 'Non-Match', 'Non-Match', 'Non-Match', 'Non-Match', 'Non-Match', 'Non-Match', 'Non-Match', 'Non-Match', 'Non-Match', 'Non-Match', 'Non-Match', 'Non-Match', 'Non-Match', 'Non-Match', 'Non-Match', 'Non-Match', 'Non-Match', 'Non-Match', 'Non-Match', 'Non-Match', 'Non-Match', 'Non-Match', 'Non-Match', 'Non-Match', 'Non-Match', 'Non-Match', 'Non-Match', 'Non-Match', 'Non-Match', 'Non-Match', 'Non-Match', 'Non-Match', 'Non-Match', 'Non-Match', 'Non-Match', 'Non-Match', 'Non-Match', 'Non-Match', 'Non-Match', 'Non-Match', 'Non-Match', 'Non-Match', 'Non-Match', 'Match', 'Non-Match', 'Non-Match', 'Non-Match', 'Non-Match', 'Non-Match', 'Non-Match', 'Non-Match', 'Non-Match', 'Non-Match', 'Non-Match', 'Non-Match', 'Non-Match', 'Non-Match', 'Non-Match', 'Non-Match', 'Non-Match', 'Non-Match', 'Non-Match', 'Non-Match', 'Non-Match', 'Non-Match', 'Non-Match', 'Non-Match', 'Non-Match', 'Non-Match', 'Non-Match', 'Non-Match', 'Non-Match', 'Non-Match', 'Non-Match', 'Non-Match', 'Non-Match', 'Non-Match', 'Non-Match', 'Non-Match', 'Non-Match', 'Non-Match', 'Non-Match', 'Non-Match', 'Non-Match', 'Non-Match', 'Non-Match', 'Non-Match', 'Non-Match', 'Non-Match', 'Non-Match', 'Non-Match', 'Non-Match', 'Non-Match', 'Non-Match', 'Non-Match', 'Non-Match', 'Non-Match', 'Non-Match', 'Non-Match', 'Non-Match', 'Match', 'Non-Match', 'Non-Match', 'Non-Match', 'Non-Match', 'Non-Match', 'Non-Match', 'Non-Match', 'Non-Match', 'Non-Match', 'Non-Match', 'Non-Match', 'Non-Match', 'Non-Match', 'Non-Match', 'Non-Match', 'Non-Match', 'Non-Match', 'Non-Match', 'Non-Match', 'Non-Match', 'Non-Match', 'Non-Match', 'Non-Match', 'Non-Match', 'Non-Match', 'Non-Match', 'Non-Match', 'Non-Match', 'Non-Match', 'Non-Match', 'Non-Match', 'Match', 'Non-Match', 'Non-Match', 'Non-Match', 'Match', 'Non-Match', 'Non-Match', 'Non-Match', 'Non-Match', 'Non-Match', 'Non-Match', 'Non-Match', 'Non-Match', 'Non-Match', 'Non-Match', 'Non-Match', 'Non-Match', 'Non-Match', 'Match', 'Non-Match', 'Non-Match', 'Non-Match', 'Non-Match', 'Non-Match', 'Non-Match', 'Non-Match', 'Non-Match', 'Non-Match', 'Non-Match', 'Non-Match', 'Non-Match', 'Match', 'Non-Match', 'Non-Match', 'Non-Match', 'Non-Match', 'Non-Match', 'Non-Match', 'Non-Match', 'Non-Match', 'Non-Match', 'Non-Match', 'Match', 'Non-Match', 'Non-Match', 'Non-Match', 'Non-Match', 'Non-Match', 'Non-Match', 'Non-Match', 'Non-Match', 'Non-Match', 'Non-Match', 'Non-Match', 'Non-Match', 'Non-Match', 'Non-Match', 'Non-Match', 'Non-Match', 'Non-Match', 'Non-Match', 'Non-Match', 'Match', 'Non-Match', 'Non-Match', 'Non-Match', 'Non-Match', 'Non-Match', 'Non-Match', 'Non-Match', 'Non-Match', 'Non-Match', 'Non-Match', 'Non-Match', 'Non-Match', 'Non-Match', 'Non-Match', 'Non-Match', 'Match', 'Non-Match', 'Non-Match', 'Non-Match', 'Non-Match', 'Match', 'Non-Match', 'Non-Match', 'Non-Match', 'Non-Match', 'Non-Match', 'Non-Match', 'Non-Match', 'Non-Match', 'Non-Match', 'Non-Match', 'Non-Match', 'Non-Match', 'Non-Match', 'Non-Match', 'Non-Match', 'Non-Match', 'Non-Match', 'Non-Match', 'Non-Match', 'Non-Match', 'Non-Match', 'Non-Match', 'Non-Match', 'Non-Match', 'Non-Match', 'Non-Match', 'Non-Match', 'Non-Match', 'Non-Match', 'Non-Match', 'Match', 'Non-Match', 'Non-Match', 'Non-Match', 'Non-Match', 'Non-Match', 'Non-Match', 'Non-Match', 'Non-Match', 'Non-Match', 'Non-Match', 'Non-Match', 'Non-Match', 'Non-Match', 'Non-Match', 'Non-Match', 'Non-Match', 'Non-Match', 'Match', 'Non-Match', 'Non-Match', 'Non-Match', 'Non-Match', 'Non-Match', 'Non-Match', 'Non-Match', 'Non-Match', 'Non-Match', 'Non-Match', 'Non-Match', 'Non-Match', 'Non-Match', 'Non-Match', 'Non-Match', 'Non-Match', 'Non-Match', 'Non-Match', 'Non-Match', 'Match', 'Non-Match', 'Non-Match', 'Non-Match', 'Non-Match', 'Non-Match', 'Non-Match', 'Non-Match', 'Non-Match', 'Non-Match', 'Non-Match', 'Non-Match', 'Non-Match', 'Non-Match', 'Non-Match', 'Non-Match', 'Non-Match', 'Non-Match', 'Non-Match', 'Non-Match', 'Non-Match', 'Non-Match', 'Non-Match', 'Non-Match', 'Non-Match', 'Non-Match', 'Non-Match', 'Non-Match', 'Non-Match', 'Non-Match', 'Non-Match', 'Non-Match', 'Non-Match', 'Non-Match', 'Non-Match', 'Non-Match', 'Non-Match', 'Non-Match', 'Non-Match', 'Non-Match', 'Non-Match', 'Non-Match', 'Non-Match', 'Non-Match', 'Non-Match', 'Non-Match', 'Non-Match', 'Non-Match', 'Non-Match', 'Non-Match', 'Non-Match', 'Non-Match', 'Non-Match', 'Non-Match', 'Non-Match', 'Non-Match', 'Non-Match', 'Non-Match', 'Non-Match', 'Non-Match', 'Non-Match', 'Non-Match', 'Non-Match', 'Non-Match', 'Non-Match', 'Non-Match', 'Non-Match', 'Non-Match', 'Non-Match', 'Non-Match', 'Non-Match', 'Non-Match', 'Non-Match', 'Non-Match', 'Non-Match', 'Non-Match', 'Non-Match', 'Non-Match', 'Non-Match', 'Non-Match', 'Non-Match', 'Non-Match', 'Non-Match', 'Non-Match', 'Non-Match', 'Non-Match', 'Match', 'Non-Match', 'Non-Match', 'Non-Match', 'Non-Match', 'Non-Match', 'Non-Match', 'Non-Match', 'Non-Match', 'Non-Match', 'Non-Match', 'Non-Match', 'Non-Match', 'Non-Match', 'Non-Match', 'Non-Match', 'Non-Match', 'Non-Match', 'Non-Match', 'Non-Match', 'Non-Match', 'Non-Match', 'Non-Match', 'Non-Match', 'Non-Match', 'Non-Match', 'Non-Match', 'Non-Match', 'Non-Match', 'Non-Match', 'Non-Match', 'Non-Match', 'Non-Match', 'Non-Match', 'Match', 'Non-Match', 'Non-Match', 'Non-Match', 'Non-Match', 'Non-Match', 'Non-Match', 'Non-Match', 'Non-Match', 'Non-Match', 'Non-Match', 'Non-Match', 'Non-Match', 'Non-Match', 'Non-Match', 'Non-Match', 'Non-Match', 'Non-Match', 'Non-Match', 'Non-Match', 'Non-Match', 'Non-Match', 'Non-Match', 'Non-Match', 'Non-Match', 'Non-Match', 'Non-Match', 'Non-Match', 'Non-Match', 'Non-Match', 'Non-Match', 'Non-Match', 'Non-Match', 'Non-Match', 'Non-Match', 'Non-Match', 'Non-Match', 'Non-Match', 'Non-Match', 'Non-Match', 'Non-Match', 'Non-Match', 'Non-Match', 'Non-Match', 'Non-Match', 'Non-Match', 'Non-Match', 'Match', 'Non-Match', 'Non-Match', 'Non-Match', 'Non-Match', 'Non-Match', 'Non-Match', 'Non-Match', 'Non-Match', 'Non-Match', 'Non-Match', 'Non-Match', 'Non-Match', 'Non-Match', 'Non-Match', 'Non-Match', 'Non-Match', 'Non-Match', 'Non-Match', 'Non-Match', 'Non-Match', 'Non-Match', 'Non-Match', 'Non-Match', 'Non-Match', 'Non-Match', 'Non-Match', 'Non-Match', 'Non-Match', 'Non-Match', 'Non-Match', 'Non-Match', 'Non-Match', 'Non-Match', 'Non-Match', 'Non-Match', 'Match', 'Non-Match', 'Non-Match', 'Non-Match', 'Non-Match', 'Non-Match', 'Non-Match', 'Non-Match', 'Non-Match', 'Non-Match', 'Non-Match', 'Non-Match', 'Non-Match', 'Non-Match', 'Non-Match', 'Non-Match', 'Non-Match', 'Non-Match', 'Non-Match', 'Non-Match', 'Non-Match', 'Non-Match', 'Non-Match', 'Non-Match', 'Non-Match', 'Non-Match', 'Non-Match', 'Non-Match', 'Non-Match', 'Non-Match', 'Non-Match', 'Non-Match', 'Non-Match', 'Non-Match', 'Non-Match', 'Non-Match', 'Non-Match', 'Non-Match', 'Non-Match', 'Non-Match', 'Non-Match', 'Non-Match', 'Non-Match', 'Non-Match', 'Non-Match', 'Non-Match', 'Non-Match', 'Non-Match', 'Non-Match', 'Non-Match', 'Non-Match', 'Non-Match', 'Non-Match', 'Match', 'Non-Match', 'Non-Match', 'Non-Match', 'Non-Match', 'Non-Match', 'Non-Match', 'Non-Match', 'Match', 'Non-Match', 'Non-Match', 'Non-Match', 'Non-Match', 'Non-Match', 'Non-Match', 'Non-Match', 'Non-Match', 'Non-Match', 'Non-Match', 'Non-Match', 'Non-Match', 'Non-Match', 'Non-Match', 'Non-Match', 'Non-Match', 'Non-Match', 'Non-Match', 'Non-Match', 'Non-Match', 'Non-Match', 'Non-Match', 'Non-Match', 'Non-Match', 'Non-Match', 'Non-Match', 'Non-Match', 'Non-Match', 'Non-Match', 'Non-Match', 'Non-Match', 'Non-Match', 'Non-Match', 'Non-Match', 'Non-Match', 'Non-Match', 'Non-Match', 'Non-Match', 'Non-Match', 'Non-Match', 'Non-Match', 'Non-Match', 'Non-Match', 'Non-Match', 'Non-Match', 'Non-Match', 'Non-Match', 'Match', 'Non-Match', 'Match', 'Match', 'Non-Match', 'Non-Match', 'Non-Match', 'Non-Match', 'Non-Match', 'Non-Match', 'Non-Match', 'Non-Match', 'Non-Match', 'Non-Match', 'Non-Match', 'Non-Match', 'Non-Match', 'Non-Match', 'Non-Match', 'Non-Match', 'Non-Match', 'Non-Match', 'Non-Match', 'Non-Match', 'Non-Match', 'Non-Match', 'Non-Match', 'Non-Match', 'Non-Match', 'Non-Match', 'Non-Match', 'Non-Match', 'Non-Match', 'Non-Match', 'Non-Match', 'Non-Match', 'Non-Match', 'Non-Match', 'Non-Match', 'Non-Match', 'Non-Match', 'Non-Match', 'Non-Match', 'Non-Match', 'Non-Match', 'Non-Match', 'Non-Match', 'Non-Match', 'Non-Match', 'Non-Match', 'Non-Match', 'Non-Match', 'Non-Match', 'Non-Match', 'Non-Match', 'Non-Match', 'Match', 'Non-Match', 'Non-Match', 'Non-Match', 'Non-Match', 'Non-Match', 'Non-Match', 'Non-Match', 'Non-Match', 'Non-Match', 'Non-Match', 'Non-Match', 'Non-Match', 'Non-Match', 'Non-Match', 'Non-Match', 'Non-Match', 'Non-Match', 'Non-Match', 'Match', 'Non-Match', 'Non-Match', 'Non-Match', 'Non-Match', 'Non-Match', 'Non-Match', 'Non-Match', 'Non-Match', 'Non-Match', 'Non-Match', 'Non-Match', 'Non-Match', 'Non-Match', 'Non-Match', 'Non-Match', 'Non-Match', 'Non-Match', 'Non-Match', 'Non-Match', 'Match', 'Non-Match', 'Non-Match', 'Non-Match', 'Non-Match', 'Non-Match', 'Non-Match', 'Non-Match', 'Non-Match', 'Non-Match', 'Non-Match', 'Non-Match', 'Non-Match', 'Non-Match', 'Non-Match', 'Match', 'Non-Match', 'Non-Match', 'Non-Match', 'Non-Match', 'Non-Match', 'Non-Match', 'Non-Match', 'Non-Match', 'Non-Match', 'Non-Match', 'Non-Match', 'Non-Match', 'Non-Match', 'Non-Match', 'Non-Match', 'Non-Match', 'Non-Match', 'Non-Match', 'Non-Match', 'Non-Match', 'Non-Match', 'Non-Match', 'Non-Match', 'Non-Match', 'Non-Match', 'Non-Match', 'Non-Match', 'Non-Match', 'Non-Match', 'Non-Match', 'Non-Match', 'Non-Match', 'Non-Match', 'Non-Match', 'Non-Match', 'Non-Match', 'Non-Match', 'Non-Match', 'Non-Match', 'Non-Match', 'Non-Match', 'Non-Match', 'Non-Match', 'Non-Match', 'Non-Match', 'Non-Match', 'Non-Match', 'Non-Match', 'Non-Match', 'Non-Match', 'Non-Match', 'Non-Match', 'Non-Match', 'Non-Match', 'Non-Match', 'Non-Match', 'Non-Match', 'Non-Match', 'Non-Match', 'Non-Match', 'Non-Match', 'Non-Match', 'Non-Match', 'Non-Match', 'Non-Match', 'Non-Match', 'Non-Match', 'Non-Match', 'Non-Match', 'Non-Match', 'Non-Match', 'Non-Match', 'Non-Match', 'Non-Match', 'Non-Match', 'Non-Match', 'Non-Match', 'Non-Match', 'Non-Match', 'Non-Match', 'Non-Match', 'Non-Match', 'Non-Match', 'Non-Match', 'Non-Match', 'Non-Match', 'Non-Match', 'Non-Match', 'Non-Match', 'Non-Match', 'Non-Match', 'Non-Match', 'Non-Match', 'Non-Match', 'Non-Match', 'Non-Match', 'Non-Match', 'Non-Match', 'Non-Match', 'Non-Match', 'Non-Match', 'Non-Match', 'Non-Match', 'Non-Match', 'Non-Match', 'Non-Match', 'Non-Match', 'Non-Match', 'Non-Match', 'Non-Match', 'Match', 'Non-Match', 'Non-Match', 'Non-Match', 'Non-Match', 'Non-Match', 'Non-Match', 'Match', 'Non-Match', 'Non-Match', 'Non-Match', 'Non-Match', 'Non-Match', 'Non-Match', 'Non-Match', 'Non-Match', 'Non-Match', 'Non-Match', 'Non-Match', 'Non-Match', 'Non-Match', 'Non-Match', 'Non-Match', 'Non-Match', 'Non-Match', 'Non-Match', 'Non-Match', 'Non-Match', 'Non-Match', 'Non-Match', 'Non-Match', 'Non-Match', 'Non-Match', 'Non-Match', 'Non-Match', 'Non-Match', 'Non-Match', 'Non-Match', 'Non-Match', 'Non-Match', 'Non-Match', 'Non-Match', 'Non-Match', 'Non-Match', 'Match', 'Non-Match', 'Non-Match', 'Non-Match', 'Non-Match', 'Non-Match', 'Non-Match', 'Non-Match', 'Non-Match', 'Non-Match', 'Non-Match', 'Non-Match', 'Non-Match', 'Non-Match', 'Match', 'Non-Match', 'Non-Match', 'Non-Match', 'Non-Match', 'Non-Match', 'Non-Match', 'Non-Match', 'Non-Match', 'Non-Match', 'Non-Match', 'Non-Match', 'Non-Match', 'Non-Match', 'Non-Match', 'Non-Match', 'Non-Match', 'Non-Match', 'Non-Match', 'Non-Match', 'Non-Match', 'Non-Match', 'Non-Match', 'Non-Match', 'Non-Match', 'Non-Match', 'Non-Match', 'Non-Match', 'Non-Match', 'Match', 'Non-Match', 'Match', 'Non-Match', 'Non-Match', 'Non-Match', 'Non-Match', 'Match', 'Non-Match', 'Non-Match', 'Non-Match', 'Non-Match', 'Non-Match', 'Non-Match', 'Non-Match', 'Non-Match', 'Non-Match', 'Non-Match', 'Non-Match', 'Non-Match', 'Non-Match', 'Non-Match', 'Non-Match', 'Non-Match', 'Non-Match', 'Non-Match', 'Non-Match', 'Non-Match', 'Non-Match', 'Non-Match', 'Non-Match', 'Match', 'Non-Match', 'Non-Match', 'Non-Match', 'Non-Match', 'Non-Match', 'Non-Match', 'Non-Match', 'Non-Match', 'Non-Match', 'Non-Match', 'Match', 'Non-Match', 'Non-Match', 'Non-Match', 'Non-Match', 'Non-Match', 'Match', 'Non-Match', 'Non-Match', 'Non-Match', 'Non-Match', 'Non-Match', 'Non-Match', 'Non-Match', 'Non-Match', 'Non-Match', 'Non-Match', 'Non-Match', 'Non-Match', 'Non-Match', 'Non-Match', 'Match', 'Non-Match', 'Non-Match', 'Non-Match', 'Non-Match', 'Non-Match', 'Non-Match', 'Non-Match', 'Non-Match', 'Non-Match', 'Non-Match', 'Non-Match', 'Non-Match', 'Non-Match', 'Non-Match', 'Non-Match', 'Non-Match', 'Non-Match', 'Non-Match', 'Non-Match', 'Non-Match', 'Non-Match', 'Non-Match', 'Non-Match', 'Non-Match', 'Non-Match', 'Non-Match', 'Non-Match', 'Non-Match', 'Non-Match', 'Non-Match', 'Non-Match', 'Non-Match', 'Non-Match', 'Non-Match', 'Non-Match', 'Non-Match', 'Non-Match', 'Non-Match', 'Non-Match', 'Non-Match', 'Non-Match', 'Non-Match', 'Non-Match', 'Non-Match', 'Non-Match', 'Non-Match', 'Non-Match', 'Non-Match', 'Non-Match', 'Non-Match', 'Non-Match', 'Non-Match', 'Non-Match', 'Non-Match', 'Non-Match', 'Non-Match', 'Non-Match', 'Non-Match', 'Non-Match', 'Non-Match', 'Non-Match', 'Non-Match', 'Non-Match', 'Non-Match', 'Non-Match', 'Non-Match', 'Non-Match', 'Non-Match', 'Non-Match', 'Non-Match', 'Non-Match', 'Non-Match', 'Non-Match', 'Non-Match', 'Non-Match', 'Match', 'Non-Match', 'Non-Match', 'Non-Match', 'Non-Match', 'Match', 'Non-Match', 'Non-Match', 'Non-Match', 'Non-Match', 'Non-Match', 'Non-Match', 'Non-Match', 'Non-Match', 'Non-Match', 'Non-Match', 'Non-Match', 'Match', 'Non-Match', 'Non-Match', 'Non-Match', 'Non-Match', 'Non-Match', 'Non-Match', 'Non-Match', 'Non-Match', 'Match', 'Non-Match', 'Non-Match', 'Non-Match', 'Non-Match', 'Non-Match', 'Non-Match', 'Non-Match', 'Match', 'Non-Match', 'Non-Match', 'Non-Match', 'Non-Match', 'Non-Match', 'Non-Match', 'Non-Match', 'Non-Match', 'Non-Match', 'Non-Match', 'Non-Match', 'Non-Match', 'Non-Match', 'Non-Match', 'Non-Match', 'Non-Match', 'Match', 'Non-Match', 'Non-Match', 'Non-Match', 'Non-Match', 'Non-Match', 'Non-Match', 'Non-Match', 'Non-Match', 'Non-Match', 'Non-Match', 'Non-Match', 'Non-Match', 'Non-Match', 'Non-Match', 'Non-Match', 'Non-Match', 'Match', 'Non-Match', 'Non-Match', 'Non-Match', 'Non-Match', 'Non-Match', 'Non-Match', 'Non-Match', 'Non-Match', 'Non-Match', 'Match', 'Non-Match', 'Non-Match', 'Non-Match', 'Non-Match', 'Non-Match', 'Non-Match', 'Non-Match', 'Non-Match', 'Non-Match', 'Non-Match', 'Non-Match', 'Non-Match', 'Non-Match', 'Non-Match', 'Non-Match', 'Non-Match', 'Non-Match', 'Non-Match', 'Non-Match', 'Non-Match', 'Non-Match', 'Non-Match', 'Non-Match', 'Non-Match', 'Non-Match', 'Non-Match', 'Non-Match', 'Non-Match', 'Non-Match', 'Non-Match', 'Non-Match', 'Non-Match', 'Non-Match', 'Non-Match', 'Non-Match', 'Non-Match', 'Non-Match', 'Non-Match', 'Non-Match', 'Non-Match', 'Non-Match', 'Non-Match', 'Non-Match', 'Non-Match', 'Non-Match', 'Non-Match', 'Non-Match', 'Non-Match', 'Non-Match', 'Non-Match', 'Non-Match', 'Non-Match', 'Non-Match', 'Non-Match', 'Non-Match', 'Non-Match', 'Non-Match', 'Non-Match', 'Non-Match', 'Match', 'Non-Match', 'Non-Match', 'Match', 'Non-Match', 'Non-Match', 'Non-Match', 'Non-Match', 'Non-Match', 'Non-Match', 'Non-Match', 'Non-Match', 'Non-Match', 'Non-Match', 'Non-Match', 'Non-Match', 'Non-Match', 'Non-Match', 'Non-Match', 'Non-Match', 'Non-Match', 'Non-Match', 'Non-Match', 'Non-Match', 'Non-Match', 'Non-Match', 'Non-Match', 'Non-Match', 'Non-Match', 'Non-Match', 'Non-Match', 'Non-Match', 'Non-Match', 'Non-Match', 'Non-Match', 'Non-Match', 'Non-Match', 'Non-Match', 'Non-Match', 'Non-Match', 'Non-Match', 'Non-Match', 'Non-Match', 'Match', 'Non-Match', 'Non-Match', 'Non-Match', 'Non-Match', 'Non-Match', 'Non-Match', 'Non-Match', 'Non-Match', 'Non-Match', 'Non-Match', 'Non-Match', 'Non-Match', 'Non-Match', 'Non-Match', 'Non-Match', 'Non-Match', 'Non-Match', 'Non-Match', 'Non-Match', 'Non-Match', 'Non-Match', 'Non-Match', 'Non-Match', 'Non-Match', 'Non-Match', 'Non-Match', 'Non-Match', 'Non-Match', 'Non-Match', 'Non-Match', 'Non-Match', 'Non-Match', 'Non-Match', 'Non-Match', 'Non-Match', 'Non-Match', 'Non-Match', 'Non-Match', 'Non-Match', 'Non-Match', 'Non-Match', 'Non-Match', 'Non-Match', 'Non-Match', 'Non-Match', 'Non-Match', 'Non-Match', 'Non-Match', 'Non-Match', 'Non-Match', 'Non-Match', 'Non-Match', 'Non-Match', 'Non-Match', 'Non-Match', 'Non-Match', 'Non-Match', 'Non-Match', 'Non-Match', 'Non-Match', 'Non-Match', 'Non-Match', 'Non-Match', 'Non-Match', 'Non-Match', 'Non-Match', 'Non-Match', 'Non-Match', 'Non-Match', 'Non-Match', 'Non-Match', 'Non-Match', 'Non-Match', 'Non-Match', 'Non-Match', 'Non-Match', 'Non-Match', 'Non-Match', 'Non-Match', 'Non-Match', 'Non-Match', 'Non-Match', 'Non-Match', 'Non-Match', 'Non-Match', 'Non-Match', 'Non-Match', 'Non-Match', 'Non-Match', 'Non-Match', 'Non-Match', 'Non-Match', 'Non-Match', 'Non-Match', 'Non-Match', 'Non-Match', 'Non-Match', 'Non-Match', 'Non-Match', 'Non-Match', 'Non-Match', 'Non-Match', 'Non-Match', 'Match', 'Non-Match', 'Non-Match', 'Non-Match', 'Non-Match', 'Non-Match', 'Non-Match', 'Non-Match', 'Non-Match', 'Non-Match', 'Non-Match', 'Non-Match', 'Non-Match', 'Non-Match', 'Non-Match', 'Non-Match', 'Non-Match', 'Non-Match', 'Non-Match', 'Non-Match', 'Non-Match', 'Non-Match', 'Non-Match', 'Non-Match', 'Non-Match', 'Non-Match', 'Non-Match', 'Match', 'Non-Match', 'Non-Match', 'Non-Match', 'Non-Match', 'Non-Match', 'Non-Match', 'Match', 'Non-Match', 'Non-Match', 'Non-Match', 'Match', 'Non-Match', 'Non-Match', 'Non-Match', 'Non-Match', 'Non-Match', 'Non-Match', 'Non-Match', 'Non-Match', 'Non-Match', 'Non-Match', 'Non-Match', 'Non-Match', 'Non-Match', 'Non-Match', 'Non-Match', 'Non-Match', 'Non-Match', 'Non-Match', 'Non-Match', 'Non-Match', 'Match', 'Match', 'Non-Match', 'Non-Match', 'Non-Match', 'Non-Match', 'Non-Match', 'Non-Match', 'Non-Match', 'Non-Match', 'Non-Match', 'Non-Match', 'Non-Match', 'Non-Match', 'Match', 'Non-Match', 'Non-Match', 'Non-Match', 'Non-Match', 'Non-Match', 'Non-Match', 'Non-Match', 'Non-Match', 'Non-Match', 'Non-Match', 'Non-Match', 'Non-Match', 'Non-Match', 'Match', 'Non-Match', 'Non-Match', 'Non-Match', 'Non-Match', 'Non-Match', 'Non-Match', 'Non-Match', 'Non-Match', 'Non-Match', 'Non-Match', 'Non-Match', 'Non-Match', 'Match', 'Non-Match', 'Non-Match', 'Non-Match', 'Non-Match', 'Non-Match', 'Non-Match', 'Non-Match', 'Non-Match', 'Non-Match', 'Non-Match', 'Non-Match', 'Non-Match', 'Non-Match', 'Non-Match', 'Non-Match', 'Non-Match', 'Non-Match', 'Non-Match', 'Non-Match', 'Non-Match', 'Non-Match', 'Non-Match', 'Non-Match', 'Non-Match', 'Non-Match', 'Non-Match', 'Non-Match', 'Non-Match', 'Non-Match', 'Non-Match', 'Non-Match', 'Non-Match', 'Non-Match', 'Non-Match', 'Non-Match', 'Non-Match', 'Non-Match', 'Non-Match', 'Non-Match', 'Non-Match', 'Non-Match', 'Non-Match', 'Non-Match', 'Non-Match', 'Non-Match', 'Non-Match', 'Non-Match', 'Non-Match', 'Non-Match', 'Non-Match', 'Non-Match', 'Non-Match', 'Non-Match', 'Non-Match', 'Non-Match', 'Non-Match', 'Non-Match', 'Non-Match', 'Non-Match', 'Non-Match', 'Non-Match', 'Non-Match', 'Non-Match', 'Non-Match', 'Non-Match', 'Non-Match', 'Non-Match', 'Non-Match', 'Non-Match', 'Non-Match', 'Non-Match', 'Non-Match', 'Non-Match', 'Non-Match', 'Non-Match', 'Non-Match', 'Non-Match', 'Non-Match', 'Non-Match', 'Non-Match', 'Non-Match', 'Non-Match', 'Non-Match', 'Non-Match', 'Non-Match', 'Non-Match', 'Non-Match', 'Non-Match', 'Non-Match', 'Non-Match', 'Non-Match', 'Non-Match', 'Non-Match', 'Non-Match', 'Non-Match', 'Non-Match', 'Non-Match', 'Non-Match', 'Non-Match', 'Non-Match', 'Non-Match', 'Non-Match', 'Non-Match', 'Non-Match', 'Non-Match', 'Non-Match', 'Non-Match', 'Non-Match', 'Non-Match', 'Non-Match', 'Non-Match', 'Non-Match', 'Non-Match', 'Non-Match', 'Non-Match', 'Non-Match', 'Non-Match', 'Non-Match', 'Non-Match', 'Non-Match', 'Non-Match', 'Non-Match', 'Non-Match', 'Non-Match', 'Non-Match', 'Non-Match', 'Non-Match', 'Non-Match', 'Non-Match', 'Non-Match', 'Non-Match', 'Non-Match', 'Non-Match', 'Non-Match', 'Non-Match', 'Non-Match', 'Non-Match', 'Non-Match', 'Non-Match', 'Non-Match', 'Non-Match', 'Non-Match', 'Non-Match', 'Non-Match', 'Non-Match', 'Non-Match', 'Non-Match', 'Non-Match', 'Non-Match', 'Non-Match', 'Non-Match', 'Non-Match', 'Non-Match', 'Non-Match', 'Non-Match', 'Non-Match', 'Non-Match', 'Non-Match', 'Non-Match', 'Non-Match', 'Non-Match', 'Non-Match', 'Non-Match', 'Non-Match', 'Non-Match', 'Non-Match', 'Match', 'Non-Match', 'Non-Match', 'Non-Match', 'Non-Match', 'Non-Match', 'Non-Match', 'Non-Match', 'Non-Match', 'Non-Match', 'Non-Match', 'Non-Match', 'Non-Match', 'Non-Match', 'Non-Match', 'Non-Match', 'Non-Match', 'Non-Match', 'Non-Match', 'Non-Match', 'Non-Match', 'Non-Match', 'Non-Match', 'Non-Match', 'Non-Match', 'Non-Match', 'Non-Match', 'Non-Match', 'Non-Match', 'Non-Match', 'Non-Match', 'Non-Match', 'Non-Match', 'Non-Match', 'Non-Match', 'Non-Match', 'Non-Match', 'Non-Match', 'Non-Match', 'Non-Match', 'Non-Match', 'Non-Match', 'Non-Match', 'Non-Match', 'Non-Match', 'Non-Match', 'Non-Match', 'Non-Match', 'Non-Match', 'Non-Match', 'Non-Match', 'Non-Match', 'Non-Match', 'Non-Match', 'Non-Match', 'Non-Match', 'Non-Match', 'Non-Match', 'Non-Match', 'Non-Match', 'Non-Match', 'Non-Match', 'Non-Match', 'Non-Match', 'Non-Match', 'Non-Match', 'Non-Match', 'Non-Match', 'Non-Match', 'Non-Match', 'Non-Match', 'Non-Match', 'Non-Match', 'Match', 'Non-Match', 'Non-Match', 'Non-Match', 'Non-Match', 'Non-Match', 'Non-Match', 'Non-Match', 'Non-Match', 'Non-Match', 'Non-Match', 'Non-Match', 'Non-Match', 'Non-Match', 'Non-Match', 'Non-Match', 'Non-Match', 'Non-Match', 'Non-Match', 'Non-Match', 'Non-Match', 'Non-Match', 'Non-Match', 'Non-Match', 'Non-Match', 'Non-Match', 'Non-Match', 'Non-Match', 'Non-Match', 'Non-Match', 'Non-Match', 'Non-Match', 'Non-Match', 'Non-Match', 'Non-Match', 'Non-Match', 'Non-Match', 'Non-Match', 'Non-Match', 'Non-Match', 'Non-Match', 'Non-Match', 'Non-Match', 'Non-Match', 'Non-Match', 'Non-Match', 'Non-Match', 'Non-Match', 'Non-Match', 'Non-Match', 'Non-Match', 'Non-Match', 'Non-Match', 'Non-Match', 'Non-Match', 'Non-Match', 'Non-Match', 'Non-Match', 'Non-Match', 'Non-Match', 'Non-Match', 'Non-Match', 'Non-Match', 'Non-Match', 'Non-Match', 'Non-Match', 'Non-Match', 'Non-Match', 'Non-Match', 'Non-Match', 'Non-Match', 'Non-Match', 'Non-Match', 'Non-Match', 'Non-Match', 'Non-Match', 'Non-Match', 'Non-Match', 'Non-Match', 'Non-Match', 'Non-Match', 'Non-Match', 'Non-Match', 'Non-Match', 'Non-Match', 'Non-Match', 'Non-Match', 'Non-Match', 'Non-Match', 'Non-Match', 'Non-Match', 'Non-Match', 'Non-Match', 'Non-Match', 'Non-Match', 'Non-Match', 'Non-Match', 'Non-Match', 'Non-Match', 'Non-Match', 'Non-Match', 'Non-Match', 'Non-Match', 'Non-Match', 'Match', 'Non-Match', 'Non-Match', 'Non-Match', 'Non-Match', 'Non-Match', 'Non-Match', 'Non-Match', 'Non-Match', 'Non-Match', 'Non-Match', 'Non-Match', 'Non-Match', 'Non-Match', 'Non-Match', 'Non-Match', 'Non-Match', 'Non-Match', 'Non-Match', 'Non-Match', 'Non-Match', 'Non-Match', 'Non-Match', 'Non-Match', 'Non-Match', 'Non-Match', 'Non-Match', 'Non-Match', 'Non-Match', 'Non-Match', 'Non-Match', 'Non-Match', 'Non-Match', 'Non-Match', 'Non-Match', 'Non-Match', 'Non-Match', 'Non-Match', 'Non-Match', 'Non-Match', 'Non-Match', 'Non-Match', 'Non-Match', 'Non-Match', 'Non-Match', 'Non-Match', 'Non-Match', 'Non-Match', 'Non-Match', 'Non-Match', 'Non-Match', 'Non-Match', 'Non-Match', 'Non-Match', 'Non-Match', 'Non-Match', 'Non-Match', 'Non-Match', 'Non-Match', 'Non-Match', 'Non-Match', 'Non-Match', 'Non-Match', 'Non-Match', 'Non-Match', 'Non-Match', 'Non-Match', 'Non-Match', 'Non-Match', 'Non-Match', 'Non-Match', 'Non-Match', 'Non-Match', 'Non-Match', 'Non-Match', 'Non-Match', 'Non-Match', 'Non-Match', 'Non-Match', 'Non-Match', 'Non-Match', 'Non-Match', 'Non-Match', 'Non-Match', 'Non-Match', 'Non-Match', 'Non-Match', 'Non-Match', 'Match', 'Non-Match', 'Non-Match', 'Non-Match', 'Non-Match', 'Non-Match', 'Non-Match', 'Non-Match', 'Non-Match', 'Non-Match', 'Non-Match', 'Non-Match', 'Non-Match', 'Non-Match', 'Non-Match', 'Non-Match', 'Non-Match', 'Non-Match', 'Non-Match', 'Non-Match', 'Non-Match', 'Non-Match', 'Non-Match', 'Non-Match', 'Non-Match', 'Non-Match', 'Non-Match', 'Non-Match', 'Non-Match', 'Non-Match', 'Non-Match', 'Non-Match', 'Non-Match', 'Non-Match', 'Non-Match', 'Non-Match', 'Non-Match', 'Non-Match', 'Non-Match', 'Non-Match', 'Non-Match', 'Non-Match', 'Non-Match', 'Non-Match', 'Non-Match', 'Non-Match', 'Non-Match', 'Non-Match', 'Match', 'Non-Match', 'Non-Match', 'Non-Match', 'Non-Match', 'Non-Match', 'Non-Match', 'Non-Match', 'Non-Match', 'Non-Match', 'Non-Match', 'Non-Match', 'Non-Match', 'Non-Match', 'Non-Match', 'Non-Match', 'Non-Match', 'Non-Match', 'Non-Match', 'Non-Match', 'Non-Match', 'Non-Match', 'Non-Match', 'Non-Match', 'Non-Match', 'Non-Match', 'Non-Match', 'Non-Match', 'Non-Match', 'Non-Match', 'Non-Match', 'Non-Match', 'Non-Match', 'Non-Match', 'Non-Match', 'Non-Match', 'Non-Match', 'Non-Match', 'Non-Match', 'Non-Match', 'Non-Match', 'Non-Match', 'Non-Match', 'Non-Match', 'Non-Match', 'Non-Match', 'Non-Match', 'Non-Match', 'Non-Match', 'Non-Match', 'Non-Match', 'Non-Match', 'Non-Match', 'Non-Match', 'Non-Match', 'Non-Match', 'Non-Match', 'Non-Match', 'Non-Match', 'Non-Match', 'Non-Match', 'Non-Match', 'Non-Match', 'Non-Match', 'Non-Match', 'Non-Match', 'Non-Match', 'Non-Match', 'Non-Match', 'Non-Match', 'Non-Match', 'Non-Match', 'Non-Match', 'Non-Match', 'Match', 'Non-Match', 'Non-Match', 'Non-Match', 'Non-Match', 'Non-Match', 'Non-Match', 'Non-Match', 'Non-Match', 'Non-Match', 'Non-Match', 'Non-Match', 'Non-Match', 'Non-Match', 'Non-Match', 'Non-Match', 'Non-Match', 'Non-Match', 'Non-Match', 'Non-Match', 'Non-Match', 'Non-Match', 'Non-Match', 'Non-Match', 'Non-Match', 'Non-Match', 'Non-Match', 'Non-Match', 'Non-Match', 'Non-Match', 'Non-Match', 'Non-Match', 'Match', 'Non-Match', 'Non-Match', 'Non-Match', 'Non-Match', 'Non-Match', 'Non-Match', 'Non-Match', 'Non-Match', 'Non-Match', 'Non-Match', 'Non-Match', 'Non-Match', 'Non-Match', 'Non-Match', 'Non-Match', 'Non-Match', 'Non-Match', 'Non-Match', 'Non-Match', 'Non-Match', 'Non-Match', 'Non-Match', 'Non-Match', 'Non-Match', 'Non-Match', 'Non-Match', 'Non-Match', 'Non-Match', 'Non-Match', 'Non-Match', 'Non-Match', 'Non-Match', 'Non-Match', 'Non-Match', 'Non-Match', 'Non-Match', 'Non-Match', 'Non-Match', 'Non-Match', 'Non-Match', 'Non-Match', 'Non-Match', 'Non-Match', 'Non-Match', 'Non-Match', 'Non-Match', 'Non-Match', 'Non-Match', 'Non-Match', 'Non-Match', 'Non-Match', 'Non-Match', 'Non-Match', 'Non-Match', 'Non-Match', 'Non-Match', 'Non-Match', 'Non-Match', 'Non-Match', 'Non-Match', 'Non-Match', 'Match', 'Non-Match', 'Non-Match', 'Non-Match', 'Non-Match', 'Non-Match', 'Non-Match', 'Non-Match', 'Non-Match', 'Non-Match', 'Non-Match', 'Non-Match', 'Non-Match', 'Non-Match', 'Non-Match', 'Non-Match', 'Non-Match', 'Non-Match', 'Non-Match', 'Non-Match', 'Non-Match', 'Non-Match', 'Non-Match', 'Non-Match', 'Non-Match', 'Non-Match', 'Non-Match', 'Non-Match', 'Non-Match', 'Non-Match', 'Non-Match', 'Non-Match', 'Non-Match', 'Non-Match', 'Non-Match', 'Non-Match', 'Non-Match', 'Non-Match', 'Non-Match', 'Non-Match', 'Non-Match', 'Non-Match', 'Non-Match', 'Non-Match', 'Non-Match', 'Non-Match', 'Non-Match', 'Non-Match', 'Non-Match', 'Non-Match', 'Non-Match', 'Match', 'Non-Match', 'Non-Match', 'Non-Match', 'Non-Match', 'Non-Match', 'Non-Match', 'Non-Match', 'Non-Match', 'Non-Match', 'Non-Match', 'Non-Match', 'Non-Match', 'Non-Match', 'Non-Match', 'Non-Match', 'Non-Match', 'Non-Match', 'Non-Match', 'Non-Match', 'Non-Match', 'Non-Match', 'Non-Match', 'Non-Match', 'Match', 'Non-Match', 'Non-Match', 'Match', 'Non-Match', 'Non-Match', 'Non-Match', 'Non-Match', 'Non-Match', 'Non-Match', 'Non-Match', 'Non-Match', 'Non-Match', 'Non-Match', 'Non-Match', 'Non-Match', 'Non-Match', 'Non-Match', 'Non-Match', 'Non-Match', 'Non-Match', 'Non-Match', 'Non-Match', 'Match', 'Non-Match', 'Non-Match', 'Non-Match', 'Non-Match', 'Non-Match', 'Match', 'Non-Match', 'Non-Match', 'Non-Match', 'Non-Match', 'Non-Match', 'Non-Match', 'Non-Match', 'Non-Match', 'Non-Match', 'Match', 'Non-Match', 'Non-Match', 'Non-Match', 'Non-Match', 'Non-Match', 'Non-Match', 'Non-Match', 'Non-Match', 'Non-Match', 'Match', 'Non-Match', 'Non-Match', 'Non-Match', 'Non-Match', 'Non-Match', 'Non-Match', 'Non-Match', 'Non-Match', 'Non-Match', 'Non-Match', 'Non-Match', 'Non-Match', 'Match', 'Non-Match', 'Non-Match', 'Non-Match', 'Non-Match', 'Non-Match', 'Match', 'Non-Match', 'Non-Match', 'Non-Match', 'Non-Match', 'Non-Match', 'Non-Match', 'Non-Match', 'Match', 'Non-Match', 'Non-Match', 'Non-Match', 'Non-Match', 'Non-Match', 'Non-Match', 'Non-Match', 'Non-Match', 'Non-Match', 'Non-Match', 'Non-Match', 'Non-Match', 'Match', 'Non-Match', 'Non-Match', 'Non-Match', 'Non-Match', 'Non-Match', 'Match', 'Non-Match', 'Non-Match', 'Non-Match', 'Non-Match', 'Non-Match', 'Non-Match', 'Non-Match', 'Non-Match', 'Non-Match', 'Non-Match', 'Non-Match', 'Non-Match', 'Non-Match', 'Non-Match', 'Non-Match', 'Non-Match', 'Non-Match', 'Non-Match', 'Non-Match', 'Non-Match', 'Match', 'Non-Match', 'Non-Match', 'Non-Match', 'Non-Match', 'Match', 'Non-Match', 'Non-Match', 'Non-Match', 'Non-Match', 'Non-Match', 'Non-Match', 'Non-Match', 'Non-Match', 'Non-Match', 'Non-Match', 'Non-Match', 'Non-Match', 'Non-Match', 'Match', 'Non-Match', 'Non-Match', 'Non-Match', 'Non-Match', 'Non-Match', 'Non-Match', 'Non-Match', 'Non-Match', 'Non-Match', 'Non-Match', 'Non-Match', 'Non-Match', 'Non-Match', 'Non-Match', 'Non-Match', 'Non-Match', 'Non-Match', 'Non-Match', 'Non-Match', 'Non-Match', 'Non-Match', 'Non-Match', 'Non-Match', 'Non-Match', 'Non-Match', 'Non-Match', 'Non-Match', 'Non-Match', 'Non-Match', 'Non-Match', 'Non-Match', 'Non-Match', 'Non-Match', 'Non-Match', 'Non-Match', 'Non-Match', 'Non-Match', 'Non-Match', 'Non-Match', 'Non-Match', 'Non-Match', 'Non-Match', 'Non-Match', 'Non-Match', 'Non-Match', 'Non-Match', 'Non-Match', 'Non-Match', 'Non-Match', 'Non-Match', 'Non-Match', 'Non-Match', 'Non-Match', 'Non-Match', 'Non-Match', 'Non-Match', 'Non-Match', 'Non-Match', 'Non-Match', 'Non-Match', 'Non-Match', 'Non-Match', 'Non-Match', 'Non-Match', 'Non-Match', 'Non-Match', 'Non-Match', 'Non-Match', 'Non-Match', 'Non-Match', 'Non-Match', 'Non-Match', 'Non-Match', 'Non-Match', 'Non-Match', 'Non-Match', 'Non-Match', 'Non-Match', 'Non-Match', 'Non-Match', 'Non-Match', 'Non-Match', 'Non-Match', 'Non-Match', 'Non-Match', 'Non-Match', 'Non-Match', 'Non-Match', 'Non-Match', 'Non-Match', 'Match', 'Non-Match', 'Non-Match', 'Non-Match', 'Non-Match', 'Non-Match', 'Non-Match', 'Non-Match', 'Non-Match', 'Non-Match', 'Non-Match', 'Non-Match', 'Non-Match', 'Non-Match', 'Non-Match', 'Non-Match', 'Non-Match', 'Non-Match', 'Non-Match', 'Non-Match', 'Non-Match', 'Non-Match', 'Non-Match', 'Non-Match', 'Non-Match', 'Non-Match', 'Non-Match', 'Non-Match', 'Non-Match', 'Non-Match', 'Non-Match', 'Non-Match', 'Non-Match', 'Non-Match', 'Non-Match', 'Non-Match', 'Non-Match', 'Non-Match', 'Non-Match', 'Non-Match', 'Non-Match', 'Non-Match', 'Non-Match', 'Non-Match', 'Non-Match', 'Non-Match', 'Non-Match', 'Non-Match', 'Non-Match', 'Non-Match', 'Non-Match', 'Non-Match', 'Non-Match', 'Non-Match', 'Non-Match', 'Non-Match', 'Non-Match', 'Non-Match', 'Non-Match', 'Non-Match', 'Match', 'Non-Match', 'Non-Match', 'Non-Match', 'Non-Match', 'Non-Match', 'Non-Match', 'Non-Match', 'Non-Match', 'Non-Match', 'Non-Match', 'Non-Match', 'Non-Match', 'Non-Match', 'Non-Match', 'Non-Match', 'Non-Match', 'Non-Match', 'Non-Match', 'Non-Match', 'Non-Match', 'Non-Match', 'Non-Match', 'Non-Match', 'Non-Match', 'Non-Match', 'Non-Match', 'Non-Match', 'Non-Match', 'Non-Match', 'Non-Match', 'Non-Match', 'Non-Match', 'Non-Match', 'Non-Match', 'Non-Match', 'Non-Match', 'Non-Match', 'Match', 'Match', 'Non-Match', 'Non-Match', 'Non-Match', 'Non-Match', 'Non-Match', 'Non-Match', 'Non-Match', 'Non-Match', 'Non-Match', 'Non-Match', 'Non-Match', 'Non-Match', 'Non-Match', 'Non-Match', 'Non-Match', 'Non-Match', 'Non-Match', 'Non-Match', 'Non-Match', 'Non-Match', 'Non-Match', 'Non-Match', 'Non-Match', 'Non-Match', 'Non-Match', 'Non-Match', 'Non-Match', 'Non-Match', 'Non-Match', 'Non-Match', 'Non-Match', 'Non-Match', 'Non-Match', 'Non-Match', 'Non-Match', 'Non-Match', 'Non-Match', 'Non-Match', 'Non-Match', 'Non-Match', 'Non-Match', 'Non-Match', 'Non-Match', 'Non-Match', 'Non-Match', 'Non-Match', 'Non-Match', 'Non-Match', 'Non-Match', 'Non-Match', 'Non-Match', 'Non-Match', 'Non-Match', 'Non-Match', 'Non-Match', 'Non-Match', 'Non-Match', 'Non-Match', 'Non-Match', 'Non-Match', 'Non-Match', 'Non-Match', 'Non-Match', 'Non-Match', 'Non-Match', 'Non-Match', 'Non-Match', 'Non-Match', 'Non-Match', 'Non-Match', 'Non-Match', 'Non-Match', 'Match', 'Non-Match', 'Non-Match', 'Non-Match', 'Non-Match', 'Non-Match', 'Non-Match', 'Non-Match', 'Non-Match', 'Non-Match', 'Non-Match', 'Non-Match', 'Non-Match', 'Non-Match', 'Non-Match', 'Non-Match', 'Non-Match', 'Non-Match', 'Non-Match', 'Non-Match', 'Non-Match', 'Non-Match', 'Non-Match', 'Non-Match', 'Non-Match', 'Non-Match', 'Non-Match', 'Non-Match', 'Non-Match', 'Non-Match', 'Non-Match', 'Non-Match', 'Non-Match', 'Non-Match', 'Non-Match', 'Non-Match', 'Non-Match', 'Match', 'Non-Match', 'Non-Match', 'Non-Match', 'Non-Match', 'Non-Match', 'Non-Match', 'Non-Match', 'Non-Match', 'Non-Match', 'Non-Match', 'Non-Match', 'Non-Match', 'Non-Match', 'Non-Match', 'Non-Match', 'Non-Match', 'Non-Match', 'Non-Match', 'Non-Match', 'Non-Match', 'Non-Match', 'Non-Match', 'Non-Match', 'Non-Match', 'Non-Match', 'Non-Match', 'Non-Match', 'Non-Match', 'Non-Match', 'Non-Match', 'Non-Match', 'Non-Match', 'Non-Match', 'Non-Match', 'Non-Match', 'Non-Match', 'Non-Match', 'Non-Match', 'Non-Match', 'Non-Match', 'Non-Match', 'Non-Match', 'Non-Match', 'Non-Match', 'Non-Match', 'Non-Match', 'Non-Match', 'Non-Match', 'Non-Match', 'Non-Match', 'Non-Match', 'Non-Match', 'Non-Match', 'Non-Match', 'Non-Match', 'Non-Match', 'Match', 'Non-Match', 'Non-Match', 'Non-Match', 'Non-Match', 'Non-Match', 'Non-Match', 'Non-Match', 'Non-Match', 'Non-Match', 'Non-Match', 'Non-Match', 'Non-Match', 'Non-Match', 'Non-Match', 'Non-Match', 'Non-Match', 'Non-Match', 'Non-Match', 'Non-Match', 'Non-Match', 'Non-Match', 'Non-Match', 'Non-Match', 'Non-Match', 'Non-Match', 'Non-Match', 'Non-Match', 'Non-Match', 'Non-Match', 'Non-Match', 'Non-Match', 'Non-Match', 'Non-Match', 'Non-Match', 'Non-Match', 'Non-Match', 'Non-Match', 'Non-Match', 'Non-Match', 'Non-Match', 'Non-Match', 'Non-Match', 'Non-Match', 'Non-Match', 'Non-Match', 'Non-Match', 'Non-Match', 'Non-Match', 'Non-Match', 'Non-Match', 'Non-Match', 'Non-Match', 'Non-Match', 'Non-Match', 'Non-Match', 'Non-Match', 'Non-Match', 'Non-Match', 'Non-Match', 'Non-Match', 'Non-Match', 'Non-Match', 'Non-Match', 'Non-Match', 'Non-Match', 'Non-Match', 'Non-Match', 'Non-Match', 'Non-Match', 'Non-Match', 'Non-Match', 'Non-Match', 'Non-Match', 'Non-Match', 'Non-Match', 'Non-Match', 'Non-Match', 'Non-Match', 'Non-Match', 'Non-Match', 'Non-Match', 'Non-Match', 'Non-Match', 'Non-Match', 'Non-Match', 'Match', 'Non-Match', 'Non-Match', 'Non-Match', 'Non-Match', 'Non-Match', 'Non-Match', 'Non-Match', 'Non-Match', 'Match', 'Non-Match', 'Non-Match', 'Non-Match', 'Non-Match', 'Non-Match', 'Non-Match', 'Non-Match', 'Non-Match', 'Non-Match', 'Non-Match', 'Non-Match', 'Non-Match', 'Non-Match', 'Non-Match', 'Non-Match', 'Non-Match', 'Non-Match', 'Non-Match', 'Non-Match', 'Non-Match', 'Non-Match', 'Non-Match', 'Non-Match', 'Non-Match', 'Non-Match', 'Non-Match', 'Non-Match', 'Non-Match', 'Non-Match', 'Non-Match', 'Non-Match', 'Non-Match', 'Non-Match', 'Non-Match', 'Non-Match', 'Non-Match', 'Non-Match', 'Non-Match', 'Non-Match', 'Non-Match', 'Non-Match', 'Non-Match', 'Non-Match', 'Non-Match', 'Non-Match', 'Non-Match', 'Non-Match', 'Non-Match', 'Non-Match', 'Non-Match', 'Non-Match', 'Non-Match', 'Non-Match', 'Non-Match', 'Non-Match', 'Non-Match', 'Non-Match', 'Non-Match', 'Non-Match', 'Non-Match', 'Non-Match', 'Non-Match', 'Match', 'Non-Match', 'Non-Match', 'Non-Match', 'Non-Match', 'Non-Match', 'Non-Match', 'Non-Match', 'Non-Match', 'Non-Match', 'Non-Match', 'Non-Match', 'Non-Match', 'Non-Match', 'Non-Match', 'Non-Match', 'Non-Match', 'Non-Match', 'Non-Match', 'Non-Match', 'Non-Match', 'Non-Match', 'Non-Match', 'Non-Match', 'Non-Match', 'Non-Match', 'Non-Match', 'Non-Match', 'Non-Match', 'Non-Match', 'Non-Match', 'Non-Match', 'Non-Match', 'Non-Match', 'Non-Match', 'Non-Match', 'Non-Match', 'Non-Match', 'Non-Match', 'Non-Match', 'Non-Match', 'Non-Match', 'Non-Match', 'Non-Match', 'Non-Match', 'Non-Match', 'Non-Match', 'Non-Match', 'Non-Match', 'Non-Match', 'Non-Match', 'Non-Match', 'Non-Match', 'Non-Match', 'Non-Match', 'Non-Match', 'Non-Match', 'Non-Match', 'Non-Match', 'Non-Match', 'Non-Match', 'Non-Match', 'Non-Match', 'Non-Match', 'Non-Match', 'Non-Match', 'Non-Match', 'Non-Match', 'Non-Match', 'Non-Match', 'Non-Match', 'Non-Match', 'Non-Match', 'Non-Match', 'Non-Match', 'Non-Match', 'Non-Match', 'Non-Match', 'Non-Match', 'Non-Match', 'Non-Match', 'Non-Match', 'Non-Match', 'Match', 'Non-Match', 'Non-Match', 'Non-Match', 'Non-Match', 'Non-Match', 'Non-Match', 'Non-Match', 'Non-Match', 'Non-Match', 'Non-Match', 'Non-Match', 'Non-Match', 'Non-Match', 'Non-Match', 'Non-Match', 'Non-Match', 'Non-Match', 'Non-Match', 'Non-Match', 'Non-Match', 'Non-Match', 'Non-Match', 'Non-Match', 'Non-Match', 'Non-Match', 'Non-Match', 'Non-Match', 'Non-Match', 'Non-Match', 'Non-Match', 'Non-Match', 'Non-Match', 'Non-Match', 'Non-Match', 'Non-Match', 'Non-Match', 'Non-Match', 'Non-Match', 'Non-Match', 'Non-Match', 'Non-Match', 'Non-Match', 'Non-Match', 'Non-Match', 'Non-Match', 'Non-Match', 'Non-Match', 'Non-Match', 'Non-Match', 'Non-Match', 'Non-Match', 'Non-Match', 'Non-Match', 'Non-Match', 'Non-Match', 'Non-Match', 'Non-Match', 'Non-Match', 'Non-Match', 'Non-Match', 'Non-Match', 'Non-Match', 'Non-Match', 'Non-Match', 'Non-Match', 'Non-Match', 'Non-Match', 'Non-Match', 'Non-Match', 'Non-Match', 'Non-Match', 'Non-Match', 'Non-Match', 'Non-Match', 'Non-Match', 'Non-Match', 'Non-Match', 'Non-Match', 'Non-Match', 'Non-Match', 'Non-Match', 'Non-Match', 'Non-Match', 'Non-Match', 'Non-Match', 'Non-Match', 'Match', 'Non-Match', 'Non-Match', 'Non-Match', 'Non-Match', 'Non-Match', 'Non-Match', 'Non-Match', 'Non-Match', 'Non-Match', 'Non-Match', 'Non-Match', 'Non-Match', 'Non-Match', 'Non-Match', 'Non-Match', 'Non-Match', 'Non-Match', 'Non-Match', 'Non-Match', 'Non-Match', 'Non-Match', 'Non-Match', 'Non-Match', 'Non-Match', 'Non-Match', 'Non-Match', 'Non-Match', 'Non-Match', 'Non-Match', 'Non-Match', 'Non-Match', 'Match', 'Non-Match', 'Non-Match', 'Non-Match', 'Non-Match', 'Non-Match', 'Non-Match', 'Non-Match', 'Non-Match', 'Non-Match', 'Non-Match', 'Non-Match', 'Non-Match', 'Non-Match', 'Non-Match', 'Non-Match', 'Non-Match', 'Non-Match', 'Non-Match', 'Non-Match', 'Non-Match', 'Non-Match', 'Non-Match', 'Non-Match', 'Non-Match', 'Non-Match', 'Non-Match', 'Non-Match', 'Non-Match', 'Non-Match', 'Non-Match', 'Non-Match', 'Non-Match', 'Non-Match', 'Non-Match', 'Non-Match', 'Non-Match', 'Non-Match', 'Match', 'Non-Match', 'Non-Match', 'Non-Match', 'Match', 'Non-Match', 'Non-Match', 'Non-Match', 'Non-Match', 'Non-Match', 'Non-Match', 'Non-Match', 'Non-Match', 'Non-Match', 'Non-Match', 'Non-Match', 'Non-Match', 'Non-Match', 'Non-Match', 'Non-Match', 'Non-Match', 'Non-Match', 'Non-Match', 'Non-Match', 'Non-Match', 'Non-Match', 'Non-Match', 'Non-Match', 'Non-Match', 'Non-Match', 'Non-Match', 'Non-Match', 'Non-Match', 'Non-Match', 'Non-Match', 'Non-Match', 'Non-Match', 'Non-Match', 'Non-Match', 'Non-Match', 'Non-Match', 'Non-Match', 'Non-Match', 'Non-Match', 'Non-Match', 'Match', 'Non-Match', 'Non-Match', 'Non-Match', 'Non-Match', 'Non-Match', 'Non-Match', 'Non-Match', 'Non-Match', 'Non-Match', 'Non-Match', 'Non-Match', 'Non-Match', 'Non-Match', 'Non-Match', 'Non-Match', 'Non-Match', 'Non-Match', 'Match', 'Non-Match', 'Non-Match', 'Non-Match', 'Non-Match', 'Non-Match', 'Match', 'Non-Match', 'Non-Match', 'Non-Match', 'Non-Match', 'Non-Match', 'Non-Match', 'Non-Match', 'Non-Match', 'Non-Match', 'Non-Match', 'Non-Match', 'Non-Match', 'Non-Match', 'Non-Match', 'Non-Match', 'Non-Match', 'Non-Match', 'Non-Match', 'Non-Match', 'Match', 'Non-Match', 'Non-Match', 'Non-Match', 'Match', 'Non-Match', 'Non-Match', 'Non-Match', 'Match', 'Non-Match', 'Non-Match', 'Non-Match', 'Non-Match', 'Non-Match', 'Non-Match', 'Non-Match', 'Non-Match', 'Non-Match', 'Non-Match', 'Non-Match', 'Non-Match', 'Non-Match', 'Non-Match', 'Non-Match', 'Non-Match', 'Non-Match', 'Non-Match', 'Non-Match', 'Non-Match', 'Non-Match', 'Non-Match', 'Non-Match', 'Non-Match', 'Non-Match', 'Non-Match', 'Non-Match', 'Non-Match', 'Non-Match', 'Non-Match', 'Non-Match', 'Non-Match', 'Non-Match', 'Non-Match', 'Non-Match', 'Non-Match', 'Non-Match', 'Non-Match', 'Non-Match', 'Non-Match', 'Non-Match', 'Non-Match', 'Non-Match', 'Non-Match', 'Non-Match', 'Non-Match', 'Non-Match', 'Non-Match', 'Non-Match', 'Non-Match', 'Non-Match', 'Non-Match', 'Non-Match', 'Non-Match', 'Non-Match', 'Non-Match', 'Non-Match', 'Match', 'Non-Match', 'Non-Match', 'Non-Match', 'Non-Match', 'Non-Match', 'Non-Match', 'Non-Match', 'Non-Match', 'Non-Match', 'Non-Match', 'Match', 'Non-Match', 'Non-Match', 'Non-Match', 'Non-Match', 'Non-Match', 'Non-Match', 'Match', 'Non-Match', 'Non-Match', 'Match', 'Non-Match', 'Non-Match', 'Non-Match', 'Non-Match', 'Match', 'Non-Match', 'Non-Match', 'Non-Match', 'Non-Match', 'Non-Match', 'Match', 'Non-Match', 'Non-Match', 'Non-Match', 'Non-Match', 'Non-Match', 'Non-Match', 'Non-Match', 'Non-Match', 'Non-Match', 'Non-Match', 'Non-Match', 'Non-Match', 'Non-Match', 'Non-Match', 'Non-Match', 'Non-Match', 'Non-Match', 'Non-Match', 'Non-Match', 'Non-Match', 'Non-Match', 'Non-Match', 'Non-Match', 'Non-Match', 'Non-Match', 'Non-Match', 'Non-Match', 'Non-Match', 'Match', 'Match', 'Non-Match', 'Non-Match', 'Non-Match', 'Non-Match', 'Non-Match', 'Non-Match', 'Non-Match', 'Non-Match', 'Non-Match', 'Non-Match', 'Non-Match', 'Non-Match', 'Non-Match', 'Non-Match', 'Non-Match', 'Non-Match', 'Non-Match', 'Non-Match', 'Non-Match', 'Non-Match', 'Non-Match', 'Non-Match', 'Non-Match', 'Non-Match', 'Non-Match', 'Non-Match', 'Non-Match', 'Non-Match', 'Non-Match', 'Non-Match', 'Non-Match', 'Non-Match', 'Non-Match', 'Non-Match', 'Match', 'Match', 'Non-Match', 'Non-Match', 'Non-Match', 'Non-Match', 'Non-Match', 'Non-Match', 'Non-Match', 'Non-Match', 'Non-Match', 'Non-Match', 'Non-Match', 'Non-Match', 'Non-Match', 'Non-Match', 'Non-Match', 'Non-Match', 'Non-Match', 'Non-Match', 'Non-Match', 'Non-Match', 'Non-Match', 'Non-Match', 'Non-Match', 'Non-Match', 'Non-Match', 'Non-Match', 'Non-Match', 'Non-Match', 'Non-Match', 'Non-Match', 'Non-Match', 'Non-Match', 'Non-Match', 'Non-Match', 'Non-Match', 'Match', 'Non-Match', 'Non-Match', 'Non-Match', 'Non-Match', 'Non-Match', 'Non-Match', 'Non-Match', 'Non-Match', 'Match', 'Non-Match', 'Non-Match', 'Non-Match', 'Non-Match', 'Non-Match', 'Non-Match', 'Non-Match', 'Non-Match', 'Non-Match', 'Match', 'Non-Match', 'Non-Match', 'Non-Match', 'Non-Match', 'Non-Match', 'Non-Match', 'Non-Match', 'Non-Match', 'Non-Match', 'Non-Match', 'Non-Match', 'Non-Match', 'Non-Match', 'Non-Match', 'Non-Match', 'Non-Match', 'Non-Match', 'Non-Match', 'Match', 'Non-Match', 'Non-Match', 'Non-Match', 'Non-Match', 'Non-Match', 'Non-Match', 'Non-Match', 'Non-Match', 'Non-Match', 'Non-Match', 'Non-Match', 'Non-Match', 'Non-Match', 'Non-Match', 'Non-Match', 'Non-Match', 'Non-Match', 'Non-Match', 'Match', 'Non-Match', 'Non-Match', 'Non-Match', 'Non-Match', 'Non-Match', 'Non-Match', 'Non-Match', 'Non-Match', 'Non-Match', 'Non-Match', 'Non-Match', 'Non-Match', 'Non-Match', 'Non-Match', 'Non-Match', 'Non-Match', 'Non-Match', 'Non-Match', 'Non-Match', 'Non-Match', 'Non-Match', 'Non-Match', 'Non-Match', 'Non-Match', 'Non-Match', 'Non-Match', 'Non-Match', 'Non-Match', 'Non-Match', 'Non-Match', 'Non-Match', 'Non-Match', 'Non-Match', 'Non-Match', 'Non-Match', 'Non-Match', 'Non-Match', 'Non-Match', 'Non-Match', 'Non-Match', 'Non-Match', 'Non-Match', 'Non-Match', 'Non-Match', 'Non-Match', 'Non-Match', 'Non-Match', 'Non-Match', 'Non-Match', 'Non-Match', 'Non-Match', 'Non-Match', 'Non-Match', 'Non-Match', 'Non-Match', 'Non-Match', 'Non-Match', 'Non-Match', 'Non-Match', 'Non-Match', 'Non-Match', 'Non-Match', 'Non-Match', 'Non-Match', 'Non-Match', 'Non-Match', 'Non-Match', 'Non-Match', 'Match', 'Non-Match', 'Non-Match', 'Non-Match', 'Non-Match', 'Non-Match', 'Non-Match', 'Non-Match', 'Non-Match', 'Non-Match', 'Non-Match', 'Non-Match', 'Non-Match', 'Non-Match', 'Non-Match', 'Non-Match', 'Non-Match', 'Non-Match', 'Non-Match', 'Non-Match', 'Non-Match', 'Non-Match', 'Non-Match', 'Non-Match', 'Non-Match', 'Non-Match', 'Non-Match', 'Non-Match', 'Non-Match', 'Non-Match', 'Non-Match', 'Non-Match', 'Non-Match', 'Non-Match', 'Non-Match', 'Non-Match', 'Non-Match', 'Non-Match', 'Non-Match', 'Non-Match', 'Non-Match', 'Non-Match', 'Non-Match', 'Non-Match', 'Non-Match', 'Non-Match', 'Match', 'Non-Match', 'Non-Match', 'Non-Match', 'Non-Match', 'Non-Match', 'Non-Match', 'Non-Match', 'Non-Match', 'Non-Match', 'Non-Match', 'Non-Match', 'Non-Match', 'Non-Match', 'Non-Match', 'Non-Match', 'Match', 'Non-Match', 'Non-Match', 'Non-Match', 'Non-Match', 'Non-Match', 'Non-Match', 'Non-Match', 'Non-Match', 'Non-Match', 'Non-Match', 'Non-Match', 'Non-Match', 'Non-Match', 'Non-Match', 'Non-Match', 'Match', 'Non-Match', 'Non-Match', 'Non-Match', 'Non-Match', 'Non-Match', 'Non-Match', 'Non-Match', 'Non-Match', 'Non-Match', 'Non-Match', 'Non-Match', 'Non-Match', 'Non-Match', 'Non-Match', 'Match', 'Non-Match', 'Match', 'Non-Match', 'Non-Match', 'Non-Match', 'Non-Match', 'Non-Match', 'Non-Match', 'Non-Match', 'Non-Match', 'Non-Match', 'Non-Match', 'Non-Match', 'Non-Match', 'Match', 'Non-Match', 'Non-Match', 'Non-Match', 'Match', 'Match', 'Non-Match', 'Non-Match', 'Non-Match', 'Non-Match', 'Non-Match', 'Non-Match', 'Non-Match', 'Non-Match', 'Non-Match', 'Non-Match', 'Non-Match', 'Non-Match', 'Non-Match', 'Non-Match', 'Non-Match', 'Non-Match', 'Non-Match', 'Non-Match', 'Non-Match', 'Non-Match', 'Non-Match', 'Non-Match', 'Non-Match', 'Non-Match', 'Non-Match', 'Non-Match', 'Match', 'Non-Match', 'Non-Match', 'Non-Match', 'Non-Match', 'Non-Match', 'Non-Match', 'Non-Match', 'Non-Match', 'Non-Match', 'Non-Match', 'Non-Match', 'Non-Match', 'Non-Match', 'Non-Match', 'Non-Match', 'Non-Match', 'Non-Match', 'Non-Match', 'Non-Match', 'Non-Match', 'Non-Match', 'Non-Match', 'Non-Match', 'Non-Match', 'Non-Match', 'Non-Match', 'Non-Match', 'Non-Match', 'Non-Match', 'Non-Match', 'Non-Match', 'Non-Match', 'Non-Match', 'Non-Match', 'Non-Match', 'Non-Match', 'Non-Match', 'Non-Match', 'Non-Match', 'Non-Match', 'Non-Match', 'Non-Match', 'Non-Match', 'Non-Match', 'Non-Match', 'Non-Match', 'Non-Match', 'Match', 'Non-Match', 'Non-Match', 'Non-Match', 'Non-Match', 'Non-Match', 'Non-Match', 'Non-Match', 'Non-Match', 'Non-Match', 'Non-Match', 'Non-Match', 'Non-Match', 'Non-Match', 'Non-Match', 'Non-Match', 'Non-Match', 'Non-Match', 'Non-Match', 'Non-Match', 'Non-Match', 'Non-Match', 'Non-Match', 'Non-Match', 'Non-Match', 'Non-Match', 'Non-Match', 'Non-Match', 'Non-Match', 'Non-Match', 'Non-Match', 'Non-Match', 'Non-Match', 'Non-Match', 'Non-Match', 'Non-Match', 'Non-Match', 'Non-Match', 'Non-Match', 'Non-Match', 'Non-Match', 'Non-Match', 'Non-Match', 'Non-Match', 'Non-Match', 'Non-Match', 'Non-Match', 'Match', 'Non-Match', 'Non-Match', 'Non-Match', 'Non-Match', 'Non-Match', 'Non-Match', 'Non-Match', 'Non-Match', 'Match', 'Non-Match', 'Non-Match', 'Non-Match', 'Non-Match', 'Non-Match', 'Non-Match', 'Non-Match', 'Non-Match', 'Non-Match', 'Non-Match', 'Non-Match', 'Match', 'Non-Match', 'Non-Match', 'Non-Match', 'Non-Match', 'Non-Match', 'Non-Match', 'Non-Match', 'Non-Match', 'Non-Match', 'Non-Match', 'Non-Match', 'Non-Match', 'Non-Match', 'Non-Match', 'Non-Match', 'Non-Match', 'Non-Match', 'Non-Match', 'Non-Match', 'Non-Match', 'Non-Match', 'Non-Match', 'Non-Match', 'Non-Match', 'Non-Match', 'Match', 'Non-Match', 'Non-Match', 'Non-Match', 'Non-Match', 'Non-Match', 'Non-Match', 'Non-Match', 'Non-Match', 'Non-Match', 'Non-Match', 'Non-Match', 'Match', 'Non-Match', 'Non-Match', 'Non-Match', 'Non-Match', 'Match', 'Non-Match', 'Non-Match', 'Non-Match', 'Non-Match', 'Non-Match', 'Non-Match', 'Non-Match', 'Non-Match', 'Non-Match', 'Non-Match', 'Non-Match', 'Non-Match', 'Non-Match', 'Non-Match', 'Non-Match', 'Non-Match', 'Non-Match', 'Non-Match', 'Non-Match', 'Non-Match', 'Non-Match', 'Non-Match', 'Non-Match', 'Non-Match', 'Non-Match', 'Non-Match', 'Non-Match', 'Non-Match', 'Non-Match', 'Non-Match', 'Non-Match', 'Non-Match', 'Non-Match', 'Non-Match', 'Non-Match', 'Non-Match', 'Non-Match', 'Non-Match', 'Non-Match', 'Non-Match', 'Non-Match', 'Non-Match', 'Non-Match', 'Non-Match', 'Non-Match', 'Non-Match', 'Non-Match', 'Non-Match', 'Non-Match', 'Match', 'Non-Match', 'Non-Match', 'Non-Match', 'Non-Match', 'Non-Match', 'Non-Match', 'Non-Match', 'Non-Match', 'Non-Match', 'Non-Match', 'Non-Match', 'Non-Match', 'Non-Match', 'Non-Match', 'Non-Match', 'Non-Match', 'Non-Match', 'Non-Match', 'Non-Match', 'Non-Match', 'Non-Match', 'Non-Match', 'Non-Match', 'Non-Match', 'Non-Match', 'Non-Match', 'Non-Match', 'Non-Match', 'Non-Match', 'Non-Match', 'Non-Match', 'Non-Match', 'Non-Match', 'Non-Match', 'Non-Match', 'Non-Match', 'Non-Match', 'Non-Match', 'Non-Match', 'Non-Match', 'Non-Match', 'Non-Match', 'Non-Match', 'Non-Match', 'Non-Match', 'Non-Match', 'Non-Match', 'Non-Match', 'Non-Match', 'Non-Match', 'Non-Match', 'Non-Match', 'Non-Match', 'Non-Match', 'Non-Match', 'Non-Match', 'Non-Match', 'Non-Match', 'Non-Match', 'Non-Match', 'Non-Match', 'Non-Match', 'Non-Match', 'Non-Match', 'Non-Match', 'Non-Match', 'Non-Match', 'Non-Match', 'Non-Match', 'Match', 'Non-Match', 'Non-Match', 'Non-Match', 'Non-Match', 'Non-Match', 'Non-Match', 'Non-Match', 'Non-Match', 'Non-Match', 'Non-Match', 'Non-Match', 'Non-Match', 'Non-Match', 'Non-Match', 'Non-Match', 'Non-Match', 'Non-Match', 'Non-Match', 'Non-Match', 'Non-Match', 'Non-Match', 'Non-Match', 'Non-Match', 'Non-Match', 'Non-Match', 'Non-Match', 'Non-Match', 'Non-Match', 'Non-Match', 'Non-Match', 'Non-Match', 'Non-Match', 'Non-Match', 'Non-Match', 'Non-Match', 'Non-Match', 'Non-Match', 'Non-Match', 'Non-Match', 'Non-Match', 'Non-Match', 'Non-Match', 'Non-Match', 'Non-Match', 'Non-Match', 'Non-Match', 'Non-Match', 'Non-Match', 'Non-Match', 'Non-Match', 'Non-Match', 'Non-Match', 'Non-Match', 'Non-Match', 'Non-Match', 'Non-Match', 'Non-Match', 'Non-Match', 'Non-Match', 'Non-Match', 'Non-Match', 'Non-Match', 'Non-Match', 'Non-Match', 'Non-Match', 'Non-Match', 'Non-Match', 'Non-Match', 'Non-Match', 'Non-Match', 'Non-Match', 'Non-Match', 'Non-Match', 'Non-Match', 'Non-Match', 'Non-Match', 'Non-Match', 'Non-Match', 'Non-Match', 'Non-Match', 'Non-Match', 'Non-Match', 'Non-Match', 'Non-Match', 'Non-Match', 'Non-Match', 'Non-Match', 'Non-Match', 'Non-Match', 'Non-Match', 'Non-Match', 'Non-Match', 'Non-Match', 'Non-Match', 'Non-Match', 'Non-Match', 'Non-Match', 'Non-Match', 'Non-Match', 'Non-Match', 'Non-Match', 'Non-Match', 'Non-Match', 'Non-Match', 'Non-Match', 'Non-Match', 'Non-Match', 'Non-Match', 'Non-Match', 'Non-Match', 'Non-Match', 'Non-Match', 'Non-Match', 'Non-Match', 'Non-Match', 'Non-Match', 'Non-Match', 'Non-Match', 'Non-Match', 'Non-Match', 'Non-Match', 'Non-Match', 'Non-Match', 'Non-Match', 'Non-Match', 'Non-Match', 'Non-Match', 'Non-Match', 'Non-Match', 'Non-Match', 'Non-Match', 'Non-Match', 'Non-Match', 'Non-Match', 'Non-Match', 'Non-Match', 'Non-Match', 'Non-Match', 'Non-Match', 'Non-Match', 'Non-Match', 'Non-Match', 'Non-Match', 'Non-Match', 'Non-Match', 'Non-Match', 'Non-Match', 'Non-Match', 'Non-Match', 'Non-Match', 'Non-Match', 'Non-Match', 'Non-Match', 'Non-Match', 'Match', 'Non-Match', 'Non-Match', 'Non-Match', 'Non-Match', 'Non-Match', 'Non-Match', 'Non-Match', 'Non-Match', 'Non-Match', 'Non-Match', 'Non-Match', 'Non-Match', 'Non-Match', 'Non-Match', 'Non-Match', 'Non-Match', 'Non-Match', 'Non-Match', 'Non-Match', 'Non-Match', 'Non-Match', 'Non-Match', 'Non-Match', 'Non-Match', 'Non-Match', 'Non-Match', 'Non-Match', 'Non-Match', 'Non-Match', 'Non-Match', 'Non-Match', 'Non-Match', 'Non-Match', 'Non-Match', 'Non-Match', 'Non-Match', 'Non-Match', 'Non-Match', 'Non-Match', 'Non-Match', 'Match', 'Non-Match', 'Non-Match', 'Non-Match', 'Non-Match', 'Non-Match', 'Non-Match', 'Non-Match', 'Non-Match', 'Non-Match', 'Non-Match', 'Non-Match', 'Non-Match', 'Non-Match', 'Non-Match', 'Non-Match', 'Non-Match', 'Non-Match', 'Non-Match', 'Non-Match', 'Non-Match', 'Non-Match', 'Non-Match', 'Non-Match', 'Non-Match', 'Non-Match', 'Non-Match', 'Non-Match', 'Non-Match', 'Non-Match', 'Non-Match', 'Non-Match', 'Non-Match', 'Non-Match', 'Non-Match', 'Non-Match', 'Non-Match', 'Non-Match', 'Non-Match', 'Non-Match', 'Non-Match', 'Non-Match', 'Non-Match', 'Non-Match', 'Non-Match', 'Non-Match', 'Non-Match', 'Non-Match', 'Non-Match', 'Non-Match', 'Non-Match', 'Non-Match', 'Non-Match', 'Non-Match', 'Non-Match', 'Non-Match', 'Non-Match', 'Non-Match', 'Non-Match', 'Non-Match', 'Non-Match', 'Non-Match', 'Non-Match', 'Non-Match', 'Non-Match', 'Non-Match', 'Non-Match', 'Non-Match', 'Non-Match', 'Match', 'Non-Match', 'Non-Match', 'Non-Match', 'Non-Match', 'Non-Match', 'Non-Match', 'Non-Match', 'Non-Match', 'Non-Match', 'Non-Match', 'Non-Match', 'Non-Match', 'Non-Match', 'Non-Match', 'Non-Match', 'Non-Match', 'Non-Match', 'Non-Match', 'Non-Match', 'Non-Match', 'Non-Match', 'Non-Match', 'Non-Match', 'Non-Match', 'Non-Match', 'Non-Match', 'Non-Match', 'Non-Match', 'Non-Match', 'Non-Match', 'Non-Match', 'Non-Match', 'Non-Match', 'Non-Match', 'Non-Match', 'Non-Match', 'Non-Match', 'Non-Match', 'Non-Match', 'Non-Match', 'Non-Match', 'Non-Match', 'Non-Match', 'Match', 'Non-Match', 'Non-Match', 'Non-Match', 'Non-Match', 'Non-Match', 'Non-Match', 'Non-Match', 'Non-Match', 'Non-Match', 'Non-Match', 'Non-Match', 'Non-Match', 'Non-Match', 'Non-Match', 'Non-Match', 'Non-Match', 'Match', 'Non-Match', 'Non-Match', 'Non-Match', 'Non-Match', 'Non-Match', 'Non-Match', 'Non-Match', 'Non-Match', 'Non-Match', 'Non-Match', 'Non-Match', 'Non-Match', 'Non-Match', 'Non-Match', 'Match', 'Non-Match', 'Non-Match', 'Non-Match', 'Non-Match', 'Non-Match', 'Non-Match', 'Non-Match', 'Non-Match', 'Non-Match', 'Non-Match', 'Non-Match', 'Non-Match', 'Non-Match', 'Non-Match', 'Non-Match', 'Non-Match', 'Match', 'Non-Match', 'Non-Match', 'Non-Match', 'Non-Match', 'Non-Match', 'Non-Match', 'Match', 'Non-Match', 'Non-Match', 'Non-Match', 'Non-Match', 'Non-Match', 'Non-Match', 'Non-Match', 'Non-Match', 'Non-Match', 'Non-Match', 'Non-Match', 'Non-Match', 'Non-Match', 'Non-Match', 'Non-Match', 'Non-Match', 'Non-Match', 'Non-Match', 'Non-Match', 'Non-Match', 'Match', 'Non-Match', 'Non-Match', 'Non-Match', 'Non-Match', 'Non-Match', 'Non-Match', 'Non-Match', 'Match', 'Non-Match', 'Non-Match', 'Non-Match', 'Non-Match', 'Non-Match', 'Non-Match', 'Non-Match', 'Non-Match', 'Non-Match', 'Non-Match', 'Non-Match', 'Non-Match', 'Non-Match', 'Non-Match', 'Non-Match', 'Non-Match', 'Non-Match', 'Non-Match', 'Non-Match', 'Non-Match', 'Match', 'Non-Match', 'Non-Match', 'Non-Match', 'Non-Match', 'Non-Match', 'Match', 'Non-Match', 'Non-Match', 'Non-Match', 'Non-Match', 'Non-Match', 'Non-Match', 'Match', 'Non-Match', 'Non-Match', 'Non-Match', 'Non-Match', 'Non-Match', 'Non-Match', 'Non-Match', 'Non-Match', 'Non-Match', 'Non-Match', 'Non-Match', 'Non-Match', 'Match', 'Non-Match', 'Non-Match', 'Non-Match', 'Non-Match', 'Non-Match', 'Non-Match', 'Non-Match', 'Non-Match', 'Match', 'Non-Match', 'Non-Match', 'Non-Match', 'Non-Match', 'Non-Match', 'Non-Match', 'Match', 'Non-Match', 'Non-Match', 'Non-Match', 'Non-Match', 'Non-Match', 'Non-Match', 'Non-Match', 'Non-Match', 'Non-Match', 'Non-Match', 'Non-Match', 'Non-Match', 'Non-Match', 'Non-Match', 'Non-Match', 'Non-Match', 'Non-Match', 'Non-Match', 'Non-Match', 'Non-Match', 'Non-Match', 'Non-Match', 'Match', 'Non-Match', 'Non-Match', 'Non-Match', 'Non-Match', 'Non-Match', 'Non-Match', 'Non-Match', 'Non-Match', 'Match', 'Non-Match', 'Non-Match', 'Non-Match', 'Non-Match', 'Match', 'Match', 'Non-Match', 'Non-Match', 'Non-Match', 'Non-Match', 'Non-Match', 'Match', 'Non-Match', 'Non-Match', 'Non-Match', 'Non-Match', 'Non-Match', 'Non-Match', 'Non-Match', 'Non-Match', 'Non-Match', 'Non-Match', 'Non-Match', 'Non-Match', 'Non-Match', 'Non-Match', 'Non-Match', 'Non-Match', 'Non-Match', 'Non-Match', 'Non-Match', 'Non-Match', 'Non-Match', 'Match', 'Non-Match', 'Non-Match', 'Non-Match', 'Match', 'Non-Match', 'Non-Match', 'Non-Match', 'Non-Match', 'Non-Match', 'Non-Match', 'Non-Match', 'Match', 'Non-Match', 'Match', 'Non-Match', 'Non-Match', 'Non-Match', 'Non-Match', 'Non-Match', 'Non-Match', 'Non-Match', 'Non-Match', 'Non-Match', 'Non-Match', 'Non-Match', 'Match', 'Non-Match', 'Non-Match', 'Non-Match', 'Non-Match', 'Non-Match', 'Non-Match', 'Non-Match', 'Non-Match', 'Non-Match', 'Non-Match', 'Non-Match', 'Non-Match', 'Non-Match', 'Non-Match', 'Non-Match', 'Non-Match', 'Non-Match', 'Non-Match', 'Non-Match', 'Non-Match', 'Non-Match', 'Match', 'Non-Match', 'Non-Match', 'Non-Match', 'Non-Match', 'Match', 'Non-Match', 'Non-Match', 'Non-Match', 'Match', 'Non-Match', 'Non-Match', 'Non-Match', 'Non-Match', 'Non-Match', 'Non-Match', 'Non-Match', 'Non-Match', 'Non-Match', 'Non-Match', 'Non-Match', 'Non-Match', 'Non-Match', 'Non-Match', 'Non-Match', 'Non-Match', 'Non-Match', 'Non-Match', 'Non-Match', 'Non-Match', 'Non-Match', 'Non-Match', 'Non-Match', 'Match', 'Non-Match', 'Non-Match', 'Non-Match', 'Non-Match', 'Non-Match', 'Non-Match', 'Non-Match', 'Non-Match', 'Non-Match', 'Non-Match', 'Non-Match', 'Non-Match', 'Match', 'Non-Match', 'Non-Match', 'Non-Match', 'Non-Match', 'Non-Match', 'Non-Match', 'Non-Match', 'Non-Match', 'Non-Match', 'Non-Match', 'Non-Match', 'Non-Match', 'Non-Match', 'Non-Match', 'Non-Match', 'Non-Match', 'Non-Match', 'Non-Match', 'Non-Match', 'Non-Match', 'Non-Match', 'Match', 'Non-Match', 'Non-Match', 'Non-Match', 'Non-Match', 'Non-Match', 'Non-Match', 'Non-Match', 'Non-Match', 'Non-Match', 'Non-Match', 'Non-Match', 'Non-Match', 'Non-Match', 'Non-Match', 'Non-Match', 'Match', 'Non-Match', 'Non-Match', 'Non-Match', 'Non-Match', 'Match', 'Non-Match', 'Non-Match', 'Non-Match', 'Non-Match', 'Non-Match', 'Match', 'Non-Match', 'Non-Match', 'Non-Match', 'Non-Match', 'Non-Match', 'Non-Match', 'Non-Match', 'Non-Match', 'Non-Match', 'Match', 'Non-Match', 'Non-Match', 'Non-Match', 'Non-Match', 'Match', 'Non-Match', 'Non-Match', 'Non-Match', 'Non-Match', 'Non-Match', 'Non-Match', 'Non-Match', 'Non-Match', 'Non-Match', 'Match', 'Non-Match', 'Non-Match', 'Non-Match', 'Non-Match', 'Non-Match', 'Non-Match', 'Non-Match', 'Non-Match', 'Match', 'Non-Match', 'Non-Match', 'Non-Match', 'Non-Match', 'Match', 'Non-Match', 'Non-Match', 'Non-Match', 'Non-Match', 'Non-Match', 'Non-Match', 'Non-Match', 'Non-Match', 'Match', 'Non-Match', 'Non-Match', 'Non-Match', 'Non-Match', 'Match', 'Non-Match', 'Non-Match', 'Non-Match', 'Non-Match', 'Non-Match', 'Non-Match', 'Non-Match', 'Non-Match', 'Non-Match', 'Non-Match', 'Non-Match', 'Non-Match', 'Non-Match', 'Non-Match', 'Match', 'Non-Match', 'Non-Match', 'Non-Match', 'Non-Match', 'Non-Match', 'Match', 'Non-Match', 'Non-Match', 'Non-Match', 'Non-Match', 'Non-Match', 'Non-Match', 'Non-Match', 'Non-Match', 'Non-Match', 'Non-Match', 'Non-Match', 'Non-Match', 'Non-Match', 'Non-Match', 'Non-Match', 'Non-Match', 'Non-Match', 'Non-Match', 'Non-Match', 'Non-Match', 'Match', 'Non-Match', 'Non-Match', 'Non-Match', 'Non-Match', 'Non-Match', 'Non-Match', 'Non-Match', 'Non-Match', 'Non-Match', 'Non-Match', 'Non-Match', 'Non-Match', 'Non-Match', 'Non-Match', 'Non-Match', 'Non-Match', 'Non-Match', 'Non-Match', 'Non-Match', 'Match', 'Match', 'Non-Match', 'Non-Match', 'Non-Match', 'Non-Match', 'Non-Match', 'Non-Match', 'Non-Match', 'Non-Match', 'Non-Match', 'Non-Match', 'Non-Match', 'Non-Match', 'Non-Match', 'Non-Match', 'Non-Match', 'Non-Match', 'Non-Match', 'Match', 'Non-Match', 'Non-Match', 'Non-Match', 'Non-Match', 'Non-Match', 'Non-Match', 'Non-Match', 'Non-Match', 'Non-Match', 'Non-Match', 'Non-Match', 'Non-Match', 'Non-Match', 'Non-Match', 'Non-Match', 'Non-Match', 'Non-Match', 'Non-Match', 'Non-Match', 'Match', 'Non-Match', 'Non-Match', 'Non-Match', 'Non-Match', 'Non-Match', 'Non-Match', 'Non-Match', 'Match', 'Non-Match', 'Non-Match', 'Non-Match', 'Non-Match', 'Non-Match', 'Non-Match', 'Non-Match', 'Non-Match', 'Non-Match', 'Non-Match', 'Non-Match', 'Non-Match', 'Non-Match', 'Non-Match', 'Non-Match', 'Non-Match', 'Non-Match', 'Non-Match', 'Non-Match', 'Non-Match', 'Non-Match', 'Non-Match', 'Non-Match', 'Non-Match', 'Non-Match', 'Non-Match', 'Non-Match', 'Non-Match', 'Match', 'Non-Match', 'Non-Match', 'Non-Match', 'Non-Match', 'Non-Match', 'Non-Match', 'Non-Match', 'Non-Match', 'Non-Match', 'Non-Match', 'Non-Match', 'Non-Match', 'Non-Match', 'Non-Match', 'Non-Match', 'Non-Match', 'Non-Match', 'Non-Match', 'Match', 'Non-Match', 'Non-Match', 'Non-Match', 'Non-Match', 'Non-Match', 'Non-Match', 'Non-Match', 'Non-Match', 'Match', 'Non-Match', 'Non-Match', 'Non-Match', 'Non-Match', 'Non-Match', 'Non-Match', 'Match', 'Non-Match', 'Non-Match', 'Non-Match', 'Non-Match', 'Non-Match', 'Non-Match', 'Match', 'Non-Match', 'Non-Match', 'Non-Match', 'Non-Match', 'Non-Match', 'Non-Match', 'Non-Match', 'Non-Match', 'Non-Match', 'Non-Match', 'Non-Match', 'Non-Match', 'Non-Match', 'Non-Match', 'Non-Match', 'Non-Match', 'Non-Match', 'Non-Match', 'Non-Match', 'Non-Match', 'Non-Match', 'Non-Match', 'Non-Match', 'Non-Match', 'Non-Match', 'Non-Match', 'Non-Match', 'Non-Match', 'Non-Match', 'Non-Match', 'Non-Match', 'Non-Match', 'Non-Match', 'Non-Match', 'Non-Match', 'Non-Match', 'Non-Match', 'Non-Match', 'Non-Match', 'Non-Match', 'Non-Match', 'Non-Match', 'Non-Match', 'Non-Match', 'Non-Match', 'Non-Match', 'Non-Match', 'Non-Match', 'Non-Match', 'Non-Match', 'Non-Match', 'Non-Match', 'Non-Match', 'Match', 'Non-Match', 'Non-Match', 'Non-Match', 'Non-Match', 'Non-Match', 'Non-Match', 'Non-Match', 'Non-Match', 'Non-Match', 'Non-Match', 'Non-Match', 'Non-Match', 'Non-Match', 'Non-Match', 'Non-Match', 'Non-Match', 'Non-Match', 'Non-Match', 'Non-Match', 'Non-Match', 'Non-Match', 'Match', 'Non-Match', 'Non-Match', 'Non-Match', 'Non-Match', 'Non-Match', 'Non-Match', 'Non-Match', 'Non-Match', 'Non-Match', 'Non-Match', 'Non-Match', 'Non-Match', 'Non-Match', 'Non-Match', 'Match', 'Non-Match', 'Non-Match', 'Non-Match', 'Non-Match', 'Non-Match', 'Non-Match', 'Non-Match', 'Non-Match', 'Non-Match', 'Non-Match', 'Non-Match', 'Match', 'Non-Match', 'Non-Match', 'Non-Match', 'Non-Match', 'Non-Match', 'Non-Match', 'Non-Match', 'Non-Match', 'Non-Match', 'Non-Match', 'Non-Match', 'Non-Match', 'Non-Match', 'Match', 'Non-Match', 'Non-Match', 'Non-Match', 'Non-Match', 'Non-Match', 'Match', 'Non-Match', 'Non-Match', 'Non-Match', 'Non-Match', 'Non-Match', 'Non-Match', 'Non-Match', 'Non-Match', 'Non-Match', 'Non-Match', 'Non-Match', 'Non-Match', 'Non-Match', 'Match', 'Non-Match', 'Non-Match', 'Non-Match', 'Non-Match', 'Non-Match', 'Non-Match', 'Non-Match', 'Non-Match', 'Non-Match', 'Non-Match', 'Non-Match', 'Non-Match', 'Non-Match', 'Non-Match', 'Non-Match', 'Non-Match', 'Non-Match', 'Non-Match', 'Non-Match', 'Non-Match', 'Non-Match', 'Non-Match', 'Non-Match', 'Non-Match', 'Non-Match', 'Non-Match', 'Non-Match', 'Non-Match', 'Non-Match', 'Non-Match', 'Non-Match', 'Non-Match', 'Non-Match', 'Non-Match', 'Non-Match', 'Non-Match', 'Non-Match', 'Non-Match', 'Non-Match', 'Non-Match', 'Non-Match', 'Non-Match', 'Non-Match', 'Non-Match', 'Non-Match', 'Non-Match', 'Non-Match', 'Non-Match', 'Non-Match', 'Non-Match', 'Non-Match', 'Non-Match', 'Non-Match', 'Non-Match', 'Non-Match', 'Non-Match', 'Non-Match', 'Non-Match', 'Non-Match', 'Non-Match', 'Non-Match', 'Non-Match', 'Non-Match', 'Non-Match', 'Non-Match', 'Match', 'Non-Match', 'Non-Match', 'Non-Match', 'Non-Match', 'Non-Match', 'Non-Match', 'Non-Match', 'Non-Match', 'Non-Match', 'Non-Match', 'Non-Match', 'Non-Match', 'Non-Match', 'Non-Match', 'Non-Match', 'Non-Match', 'Non-Match', 'Non-Match', 'Non-Match', 'Non-Match', 'Non-Match', 'Non-Match', 'Non-Match', 'Non-Match', 'Non-Match', 'Non-Match', 'Non-Match', 'Non-Match', 'Non-Match', 'Non-Match', 'Non-Match', 'Non-Match', 'Non-Match', 'Non-Match', 'Non-Match', 'Match', 'Non-Match', 'Non-Match', 'Non-Match', 'Non-Match', 'Non-Match', 'Non-Match', 'Non-Match', 'Non-Match', 'Non-Match', 'Non-Match', 'Non-Match', 'Non-Match', 'Non-Match', 'Match', 'Non-Match', 'Non-Match', 'Match', 'Non-Match', 'Non-Match', 'Non-Match', 'Non-Match', 'Non-Match', 'Non-Match', 'Non-Match', 'Non-Match', 'Non-Match', 'Non-Match', 'Non-Match', 'Non-Match', 'Non-Match', 'Non-Match', 'Non-Match', 'Match', 'Non-Match', 'Non-Match', 'Non-Match', 'Non-Match', 'Match', 'Non-Match', 'Non-Match', 'Non-Match', 'Non-Match', 'Non-Match', 'Non-Match', 'Non-Match', 'Non-Match', 'Non-Match', 'Non-Match', 'Non-Match', 'Non-Match', 'Non-Match', 'Non-Match', 'Non-Match', 'Match', 'Match', 'Non-Match', 'Non-Match', 'Non-Match', 'Non-Match', 'Non-Match', 'Non-Match', 'Non-Match', 'Non-Match', 'Non-Match', 'Non-Match', 'Non-Match', 'Non-Match', 'Non-Match', 'Non-Match', 'Non-Match', 'Match', 'Non-Match', 'Non-Match', 'Non-Match', 'Non-Match', 'Non-Match', 'Non-Match', 'Non-Match', 'Non-Match', 'Non-Match', 'Non-Match', 'Non-Match', 'Non-Match', 'Non-Match', 'Non-Match', 'Non-Match', 'Non-Match', 'Non-Match', 'Non-Match', 'Non-Match', 'Non-Match', 'Non-Match', 'Non-Match', 'Non-Match', 'Non-Match', 'Non-Match', 'Non-Match', 'Non-Match', 'Non-Match', 'Non-Match', 'Non-Match', 'Non-Match', 'Non-Match', 'Non-Match', 'Non-Match', 'Non-Match', 'Non-Match', 'Non-Match', 'Non-Match', 'Non-Match', 'Non-Match', 'Non-Match', 'Non-Match', 'Non-Match', 'Non-Match', 'Non-Match', 'Non-Match', 'Non-Match', 'Match', 'Non-Match', 'Non-Match', 'Non-Match', 'Non-Match', 'Non-Match', 'Non-Match', 'Non-Match', 'Non-Match', 'Non-Match', 'Non-Match', 'Match', 'Non-Match', 'Non-Match', 'Non-Match', 'Non-Match', 'Non-Match', 'Non-Match', 'Non-Match', 'Non-Match', 'Non-Match', 'Non-Match', 'Non-Match', 'Non-Match', 'Non-Match', 'Non-Match', 'Non-Match', 'Non-Match', 'Non-Match', 'Non-Match', 'Non-Match', 'Non-Match', 'Match', 'Non-Match', 'Non-Match', 'Non-Match', 'Non-Match', 'Non-Match', 'Non-Match', 'Non-Match', 'Non-Match', 'Non-Match', 'Non-Match', 'Non-Match', 'Non-Match', 'Non-Match', 'Non-Match', 'Match', 'Non-Match', 'Non-Match', 'Non-Match', 'Non-Match', 'Non-Match', 'Non-Match', 'Non-Match', 'Non-Match', 'Non-Match', 'Non-Match', 'Non-Match', 'Non-Match', 'Non-Match', 'Non-Match', 'Non-Match', 'Non-Match', 'Non-Match', 'Non-Match', 'Non-Match', 'Match', 'Non-Match', 'Non-Match', 'Non-Match', 'Non-Match', 'Non-Match', 'Non-Match', 'Non-Match', 'Non-Match', 'Non-Match', 'Match', 'Non-Match', 'Non-Match', 'Non-Match', 'Non-Match', 'Non-Match', 'Non-Match', 'Non-Match', 'Non-Match', 'Non-Match', 'Non-Match', 'Non-Match', 'Non-Match', 'Non-Match', 'Non-Match', 'Non-Match', 'Non-Match', 'Non-Match', 'Non-Match', 'Non-Match', 'Non-Match', 'Non-Match', 'Non-Match', 'Non-Match', 'Non-Match', 'Non-Match', 'Match', 'Non-Match', 'Non-Match', 'Non-Match', 'Non-Match', 'Non-Match', 'Non-Match', 'Non-Match', 'Non-Match', 'Non-Match', 'Non-Match', 'Non-Match', 'Non-Match', 'Non-Match', 'Non-Match', 'Non-Match', 'Non-Match', 'Match', 'Non-Match', 'Non-Match', 'Non-Match', 'Non-Match', 'Non-Match', 'Non-Match', 'Non-Match', 'Non-Match', 'Non-Match', 'Non-Match', 'Non-Match', 'Non-Match', 'Non-Match', 'Match', 'Non-Match', 'Non-Match', 'Non-Match', 'Non-Match', 'Non-Match', 'Non-Match', 'Non-Match', 'Non-Match', 'Non-Match', 'Non-Match', 'Non-Match', 'Match', 'Non-Match', 'Non-Match', 'Non-Match', 'Non-Match', 'Non-Match', 'Non-Match', 'Non-Match', 'Non-Match', 'Non-Match', 'Non-Match', 'Non-Match', 'Match', 'Non-Match', 'Non-Match', 'Non-Match', 'Non-Match', 'Non-Match', 'Non-Match', 'Non-Match', 'Non-Match', 'Non-Match', 'Non-Match', 'Non-Match', 'Non-Match', 'Non-Match', 'Non-Match', 'Non-Match', 'Non-Match', 'Non-Match', 'Non-Match', 'Non-Match', 'Non-Match', 'Non-Match', 'Non-Match', 'Non-Match', 'Non-Match', 'Match', 'Non-Match', 'Non-Match', 'Non-Match', 'Non-Match', 'Non-Match', 'Non-Match', 'Non-Match', 'Non-Match', 'Non-Match', 'Non-Match', 'Non-Match', 'Non-Match', 'Non-Match', 'Match', 'Non-Match', 'Non-Match', 'Non-Match', 'Match', 'Non-Match', 'Non-Match', 'Non-Match', 'Non-Match', 'Non-Match', 'Non-Match', 'Match', 'Non-Match', 'Non-Match', 'Non-Match', 'Non-Match', 'Non-Match', 'Non-Match', 'Non-Match', 'Non-Match', 'Non-Match', 'Non-Match', 'Non-Match', 'Non-Match', 'Non-Match', 'Non-Match', 'Non-Match', 'Non-Match', 'Non-Match', 'Non-Match', 'Non-Match', 'Non-Match', 'Match', 'Non-Match', 'Non-Match', 'Non-Match', 'Non-Match', 'Non-Match', 'Non-Match', 'Non-Match', 'Non-Match', 'Non-Match', 'Non-Match', 'Non-Match', 'Non-Match', 'Non-Match', 'Non-Match', 'Non-Match', 'Non-Match', 'Non-Match', 'Non-Match', 'Non-Match', 'Non-Match', 'Non-Match', 'Non-Match', 'Non-Match', 'Non-Match', 'Non-Match', 'Non-Match', 'Non-Match', 'Non-Match', 'Non-Match', 'Non-Match', 'Non-Match', 'Non-Match', 'Non-Match', 'Non-Match', 'Non-Match', 'Non-Match', 'Non-Match', 'Non-Match', 'Non-Match', 'Non-Match', 'Non-Match', 'Non-Match', 'Non-Match', 'Non-Match', 'Non-Match', 'Non-Match', 'Non-Match', 'Non-Match', 'Non-Match', 'Non-Match', 'Non-Match', 'Non-Match', 'Non-Match', 'Non-Match', 'Non-Match', 'Non-Match', 'Non-Match', 'Non-Match', 'Non-Match', 'Non-Match', 'Non-Match', 'Non-Match', 'Non-Match', 'Non-Match', 'Non-Match', 'Non-Match', 'Non-Match', 'Non-Match', 'Non-Match', 'Non-Match', 'Non-Match', 'Non-Match', 'Non-Match', 'Non-Match', 'Non-Match', 'Non-Match', 'Non-Match', 'Non-Match', 'Non-Match', 'Non-Match', 'Non-Match', 'Non-Match', 'Non-Match', 'Non-Match', 'Non-Match', 'Non-Match', 'Non-Match', 'Non-Match', 'Non-Match', 'Non-Match', 'Match', 'Non-Match', 'Non-Match', 'Non-Match', 'Non-Match', 'Non-Match', 'Non-Match', 'Non-Match', 'Non-Match', 'Non-Match', 'Match', 'Non-Match', 'Non-Match', 'Non-Match', 'Non-Match', 'Non-Match', 'Non-Match', 'Non-Match', 'Non-Match', 'Non-Match', 'Non-Match', 'Non-Match', 'Non-Match', 'Match', 'Non-Match', 'Non-Match', 'Non-Match', 'Match', 'Non-Match', 'Non-Match', 'Non-Match', 'Non-Match', 'Non-Match', 'Non-Match', 'Non-Match', 'Non-Match', 'Non-Match', 'Non-Match', 'Non-Match', 'Non-Match', 'Non-Match', 'Non-Match', 'Non-Match', 'Non-Match', 'Non-Match', 'Non-Match', 'Non-Match', 'Non-Match', 'Non-Match', 'Non-Match', 'Non-Match', 'Non-Match', 'Non-Match', 'Non-Match', 'Non-Match', 'Non-Match', 'Non-Match', 'Match', 'Non-Match', 'Non-Match', 'Non-Match', 'Non-Match', 'Non-Match', 'Match', 'Non-Match', 'Non-Match', 'Non-Match', 'Non-Match', 'Non-Match', 'Non-Match', 'Non-Match', 'Non-Match', 'Non-Match', 'Match', 'Non-Match', 'Non-Match', 'Non-Match', 'Non-Match', 'Non-Match', 'Non-Match', 'Non-Match', 'Non-Match', 'Non-Match', 'Non-Match', 'Non-Match', 'Non-Match', 'Non-Match', 'Non-Match', 'Non-Match', 'Non-Match', 'Non-Match', 'Non-Match', 'Non-Match', 'Non-Match', 'Non-Match', 'Non-Match', 'Non-Match', 'Non-Match', 'Non-Match', 'Non-Match', 'Non-Match', 'Non-Match', 'Non-Match', 'Non-Match', 'Non-Match', 'Non-Match', 'Non-Match', 'Non-Match', 'Non-Match', 'Non-Match', 'Non-Match', 'Non-Match', 'Non-Match', 'Non-Match', 'Non-Match', 'Non-Match', 'Non-Match', 'Non-Match', 'Non-Match', 'Non-Match', 'Non-Match', 'Non-Match', 'Non-Match', 'Non-Match', 'Non-Match', 'Non-Match', 'Non-Match', 'Non-Match', 'Non-Match', 'Non-Match', 'Non-Match', 'Non-Match', 'Non-Match', 'Non-Match', 'Non-Match', 'Non-Match', 'Match', 'Non-Match', 'Non-Match', 'Match', 'Non-Match', 'Non-Match', 'Non-Match', 'Non-Match', 'Non-Match', 'Non-Match', 'Non-Match', 'Non-Match', 'Non-Match', 'Non-Match', 'Non-Match', 'Non-Match', 'Non-Match', 'Non-Match', 'Non-Match', 'Non-Match', 'Non-Match', 'Non-Match', 'Non-Match', 'Non-Match', 'Non-Match', 'Non-Match', 'Non-Match', 'Match', 'Non-Match', 'Non-Match', 'Non-Match', 'Match', 'Non-Match', 'Non-Match', 'Non-Match', 'Non-Match', 'Non-Match', 'Non-Match', 'Non-Match', 'Non-Match', 'Non-Match', 'Non-Match', 'Non-Match', 'Match', 'Non-Match', 'Non-Match', 'Non-Match', 'Non-Match', 'Non-Match', 'Non-Match', 'Non-Match', 'Non-Match', 'Non-Match', 'Non-Match', 'Non-Match', 'Non-Match', 'Non-Match', 'Non-Match', 'Non-Match', 'Non-Match', 'Non-Match', 'Non-Match', 'Non-Match', 'Non-Match', 'Non-Match', 'Non-Match', 'Non-Match', 'Non-Match', 'Match', 'Non-Match', 'Non-Match', 'Non-Match', 'Non-Match', 'Non-Match', 'Non-Match', 'Non-Match', 'Non-Match', 'Non-Match', 'Non-Match', 'Non-Match', 'Non-Match', 'Non-Match', 'Non-Match', 'Non-Match', 'Non-Match', 'Non-Match', 'Non-Match', 'Non-Match', 'Non-Match', 'Non-Match', 'Non-Match', 'Non-Match', 'Non-Match', 'Non-Match', 'Non-Match', 'Non-Match', 'Non-Match', 'Non-Match', 'Non-Match', 'Non-Match', 'Non-Match', 'Non-Match', 'Non-Match', 'Non-Match', 'Non-Match', 'Non-Match', 'Match', 'Non-Match', 'Non-Match', 'Non-Match', 'Non-Match', 'Non-Match', 'Non-Match', 'Non-Match', 'Non-Match', 'Non-Match', 'Non-Match', 'Non-Match', 'Non-Match', 'Non-Match', 'Non-Match', 'Non-Match', 'Non-Match', 'Non-Match', 'Non-Match', 'Match', 'Non-Match', 'Non-Match', 'Non-Match', 'Non-Match', 'Non-Match', 'Non-Match', 'Non-Match', 'Non-Match', 'Non-Match', 'Non-Match', 'Non-Match', 'Non-Match', 'Non-Match', 'Non-Match', 'Match', 'Non-Match', 'Non-Match', 'Non-Match', 'Non-Match', 'Non-Match', 'Non-Match', 'Non-Match', 'Non-Match', 'Match', 'Non-Match', 'Non-Match', 'Non-Match', 'Non-Match', 'Non-Match', 'Non-Match', 'Non-Match', 'Non-Match', 'Non-Match', 'Non-Match', 'Non-Match', 'Match', 'Non-Match', 'Non-Match', 'Non-Match', 'Non-Match', 'Non-Match', 'Non-Match', 'Non-Match', 'Non-Match', 'Non-Match', 'Match', 'Non-Match', 'Non-Match', 'Non-Match', 'Non-Match', 'Non-Match', 'Non-Match', 'Non-Match', 'Non-Match', 'Non-Match', 'Non-Match', 'Non-Match', 'Non-Match', 'Non-Match', 'Non-Match', 'Non-Match', 'Non-Match', 'Non-Match', 'Non-Match', 'Non-Match', 'Non-Match', 'Non-Match', 'Non-Match', 'Non-Match', 'Non-Match', 'Non-Match', 'Non-Match', 'Non-Match', 'Non-Match', 'Match', 'Non-Match', 'Match', 'Non-Match', 'Match', 'Non-Match', 'Non-Match', 'Match', 'Non-Match', 'Non-Match', 'Non-Match', 'Non-Match', 'Non-Match', 'Non-Match', 'Non-Match', 'Non-Match', 'Non-Match', 'Non-Match', 'Non-Match', 'Non-Match', 'Non-Match', 'Non-Match', 'Non-Match', 'Non-Match', 'Non-Match', 'Non-Match', 'Non-Match', 'Non-Match', 'Non-Match', 'Match', 'Non-Match', 'Non-Match', 'Non-Match', 'Non-Match', 'Non-Match', 'Match', 'Non-Match', 'Non-Match', 'Non-Match', 'Non-Match', 'Non-Match', 'Non-Match', 'Non-Match', 'Non-Match', 'Non-Match', 'Non-Match', 'Non-Match', 'Non-Match', 'Match', 'Non-Match', 'Non-Match', 'Non-Match', 'Non-Match', 'Non-Match', 'Non-Match', 'Match', 'Non-Match', 'Non-Match', 'Non-Match', 'Match', 'Non-Match', 'Non-Match', 'Non-Match', 'Non-Match', 'Non-Match', 'Non-Match', 'Match', 'Non-Match', 'Match', 'Non-Match', 'Non-Match', 'Non-Match', 'Non-Match', 'Non-Match', 'Non-Match', 'Match', 'Non-Match', 'Non-Match', 'Non-Match', 'Non-Match', 'Non-Match', 'Non-Match', 'Non-Match', 'Non-Match', 'Non-Match', 'Non-Match', 'Non-Match', 'Non-Match', 'Non-Match', 'Non-Match', 'Non-Match', 'Non-Match', 'Non-Match', 'Non-Match', 'Non-Match', 'Non-Match', 'Non-Match', 'Non-Match', 'Non-Match', 'Non-Match', 'Non-Match', 'Non-Match', 'Non-Match', 'Non-Match', 'Non-Match', 'Non-Match', 'Non-Match', 'Non-Match', 'Match', 'Non-Match', 'Match', 'Non-Match', 'Non-Match', 'Non-Match', 'Non-Match', 'Non-Match', 'Non-Match', 'Non-Match', 'Non-Match', 'Non-Match', 'Non-Match', 'Non-Match', 'Non-Match', 'Non-Match', 'Match', 'Non-Match', 'Non-Match', 'Non-Match', 'Match', 'Non-Match', 'Non-Match', 'Non-Match', 'Non-Match', 'Non-Match', 'Non-Match', 'Non-Match', 'Non-Match', 'Non-Match', 'Match', 'Non-Match', 'Non-Match', 'Non-Match', 'Non-Match', 'Non-Match', 'Non-Match', 'Match', 'Non-Match', 'Non-Match', 'Non-Match', 'Non-Match', 'Non-Match', 'Non-Match', 'Non-Match', 'Non-Match', 'Non-Match', 'Non-Match', 'Non-Match', 'Non-Match', 'Match', 'Non-Match', 'Non-Match', 'Non-Match', 'Non-Match', 'Non-Match', 'Non-Match', 'Non-Match', 'Non-Match', 'Non-Match', 'Non-Match', 'Non-Match', 'Non-Match', 'Non-Match', 'Match', 'Match', 'Non-Match', 'Non-Match', 'Non-Match', 'Non-Match', 'Non-Match', 'Non-Match', 'Non-Match', 'Non-Match', 'Non-Match', 'Non-Match', 'Non-Match', 'Non-Match', 'Non-Match', 'Non-Match', 'Match', 'Non-Match', 'Non-Match', 'Non-Match', 'Non-Match', 'Non-Match', 'Non-Match', 'Non-Match', 'Non-Match', 'Non-Match', 'Non-Match', 'Non-Match', 'Non-Match', 'Match', 'Non-Match', 'Non-Match', 'Non-Match', 'Non-Match', 'Non-Match', 'Non-Match', 'Non-Match', 'Non-Match', 'Non-Match', 'Non-Match', 'Non-Match', 'Non-Match', 'Non-Match', 'Non-Match', 'Non-Match', 'Non-Match', 'Non-Match', 'Non-Match', 'Non-Match', 'Non-Match', 'Non-Match', 'Non-Match', 'Non-Match', 'Non-Match', 'Match', 'Non-Match', 'Non-Match', 'Non-Match', 'Non-Match', 'Match', 'Non-Match', 'Non-Match', 'Non-Match', 'Non-Match', 'Non-Match', 'Non-Match', 'Non-Match', 'Non-Match', 'Non-Match', 'Non-Match', 'Non-Match', 'Non-Match', 'Non-Match', 'Non-Match', 'Non-Match', 'Non-Match', 'Non-Match', 'Non-Match', 'Non-Match', 'Non-Match', 'Non-Match', 'Non-Match', 'Non-Match', 'Match', 'Non-Match', 'Non-Match', 'Non-Match', 'Non-Match', 'Non-Match', 'Non-Match', 'Non-Match', 'Non-Match', 'Non-Match', 'Non-Match', 'Match', 'Non-Match', 'Non-Match', 'Non-Match', 'Match', 'Non-Match', 'Non-Match', 'Non-Match', 'Non-Match', 'Non-Match', 'Non-Match', 'Non-Match', 'Match', 'Non-Match', 'Non-Match', 'Non-Match', 'Non-Match', 'Match', 'Non-Match', 'Non-Match', 'Non-Match', 'Match', 'Non-Match', 'Non-Match', 'Non-Match', 'Non-Match', 'Non-Match', 'Non-Match', 'Non-Match', 'Non-Match', 'Non-Match', 'Match', 'Match', 'Non-Match', 'Non-Match', 'Non-Match', 'Non-Match', 'Non-Match', 'Non-Match', 'Non-Match', 'Non-Match', 'Non-Match', 'Non-Match', 'Non-Match', 'Non-Match', 'Non-Match', 'Non-Match', 'Non-Match', 'Non-Match', 'Non-Match', 'Non-Match', 'Non-Match', 'Non-Match', 'Non-Match', 'Non-Match', 'Non-Match', 'Non-Match', 'Non-Match', 'Non-Match', 'Non-Match', 'Non-Match', 'Non-Match', 'Non-Match', 'Non-Match', 'Non-Match', 'Non-Match', 'Non-Match', 'Non-Match', 'Non-Match', 'Non-Match', 'Non-Match', 'Non-Match', 'Non-Match', 'Non-Match', 'Non-Match', 'Non-Match', 'Non-Match', 'Non-Match', 'Non-Match', 'Non-Match', 'Non-Match', 'Non-Match', 'Non-Match', 'Non-Match', 'Non-Match', 'Non-Match', 'Non-Match', 'Non-Match', 'Non-Match', 'Non-Match', 'Non-Match', 'Non-Match', 'Non-Match', 'Non-Match', 'Non-Match', 'Non-Match', 'Non-Match', 'Match', 'Non-Match', 'Non-Match', 'Non-Match', 'Non-Match', 'Non-Match', 'Non-Match', 'Non-Match', 'Non-Match', 'Non-Match', 'Non-Match', 'Non-Match', 'Non-Match', 'Non-Match', 'Non-Match', 'Non-Match', 'Non-Match', 'Non-Match', 'Non-Match', 'Non-Match', 'Non-Match', 'Non-Match', 'Non-Match', 'Non-Match', 'Non-Match', 'Non-Match', 'Non-Match', 'Non-Match', 'Non-Match', 'Non-Match', 'Non-Match', 'Non-Match', 'Non-Match', 'Non-Match', 'Non-Match', 'Non-Match', 'Non-Match', 'Non-Match', 'Match', 'Non-Match', 'Non-Match', 'Non-Match', 'Non-Match', 'Non-Match', 'Non-Match', 'Non-Match', 'Non-Match', 'Non-Match', 'Non-Match', 'Non-Match', 'Non-Match', 'Non-Match', 'Non-Match', 'Non-Match', 'Match', 'Non-Match', 'Non-Match', 'Non-Match', 'Non-Match', 'Non-Match', 'Non-Match', 'Non-Match', 'Non-Match', 'Non-Match', 'Non-Match', 'Non-Match', 'Match', 'Non-Match', 'Non-Match', 'Non-Match', 'Non-Match', 'Non-Match', 'Non-Match', 'Non-Match', 'Match', 'Non-Match', 'Non-Match', 'Non-Match', 'Non-Match', 'Match', 'Non-Match', 'Non-Match', 'Non-Match', 'Non-Match', 'Non-Match', 'Non-Match', 'Non-Match', 'Non-Match', 'Non-Match', 'Non-Match', 'Non-Match', 'Non-Match', 'Non-Match', 'Non-Match', 'Non-Match', 'Non-Match', 'Non-Match', 'Non-Match', 'Match', 'Non-Match', 'Non-Match', 'Non-Match', 'Non-Match', 'Non-Match', 'Non-Match', 'Non-Match', 'Non-Match', 'Non-Match', 'Match', 'Non-Match', 'Non-Match', 'Non-Match', 'Non-Match', 'Non-Match', 'Non-Match', 'Non-Match', 'Non-Match', 'Non-Match', 'Non-Match', 'Non-Match', 'Non-Match', 'Non-Match', 'Non-Match', 'Non-Match', 'Match', 'Non-Match', 'Non-Match', 'Non-Match', 'Match', 'Non-Match', 'Non-Match', 'Non-Match', 'Non-Match', 'Non-Match', 'Non-Match', 'Non-Match', 'Non-Match', 'Non-Match', 'Non-Match', 'Non-Match', 'Non-Match', 'Non-Match', 'Match', 'Non-Match', 'Non-Match', 'Non-Match', 'Non-Match', 'Non-Match', 'Non-Match', 'Non-Match', 'Match', 'Non-Match', 'Match', 'Non-Match', 'Non-Match', 'Non-Match', 'Non-Match', 'Non-Match', 'Non-Match', 'Non-Match', 'Non-Match', 'Non-Match', 'Non-Match', 'Non-Match', 'Non-Match', 'Non-Match', 'Non-Match', 'Non-Match', 'Non-Match', 'Non-Match', 'Non-Match', 'Non-Match', 'Non-Match', 'Non-Match', 'Non-Match', 'Non-Match', 'Non-Match', 'Non-Match', 'Match', 'Non-Match', 'Non-Match', 'Non-Match', 'Non-Match', 'Non-Match', 'Non-Match', 'Non-Match', 'Non-Match', 'Non-Match', 'Non-Match', 'Non-Match', 'Non-Match', 'Non-Match', 'Non-Match', 'Non-Match', 'Non-Match', 'Non-Match', 'Non-Match', 'Non-Match', 'Non-Match', 'Non-Match', 'Non-Match', 'Non-Match', 'Non-Match', 'Non-Match', 'Non-Match', 'Non-Match', 'Non-Match', 'Non-Match', 'Non-Match', 'Non-Match', 'Non-Match', 'Match', 'Non-Match', 'Non-Match', 'Non-Match', 'Non-Match', 'Non-Match', 'Non-Match', 'Match', 'Non-Match', 'Non-Match', 'Non-Match', 'Non-Match', 'Non-Match', 'Non-Match', 'Non-Match', 'Non-Match', 'Non-Match', 'Non-Match', 'Non-Match', 'Non-Match', 'Non-Match', 'Non-Match', 'Non-Match', 'Non-Match', 'Non-Match', 'Match', 'Non-Match', 'Non-Match', 'Match', 'Non-Match', 'Non-Match', 'Non-Match', 'Non-Match', 'Non-Match', 'Non-Match', 'Non-Match', 'Non-Match', 'Non-Match', 'Non-Match', 'Non-Match', 'Non-Match', 'Non-Match', 'Non-Match', 'Non-Match', 'Non-Match', 'Non-Match', 'Non-Match', 'Non-Match', 'Non-Match', 'Non-Match', 'Non-Match', 'Non-Match', 'Non-Match', 'Non-Match', 'Non-Match', 'Non-Match', 'Match', 'Non-Match', 'Non-Match', 'Non-Match', 'Non-Match', 'Non-Match', 'Non-Match', 'Non-Match', 'Non-Match', 'Non-Match', 'Non-Match', 'Non-Match', 'Non-Match', 'Non-Match', 'Non-Match', 'Non-Match', 'Non-Match', 'Non-Match', 'Non-Match', 'Match', 'Non-Match', 'Non-Match', 'Non-Match', 'Non-Match', 'Non-Match', 'Non-Match', 'Non-Match', 'Non-Match', 'Non-Match', 'Non-Match', 'Non-Match', 'Non-Match', 'Non-Match', 'Non-Match', 'Non-Match', 'Non-Match', 'Non-Match', 'Non-Match', 'Non-Match', 'Non-Match', 'Non-Match', 'Non-Match', 'Non-Match', 'Non-Match', 'Non-Match', 'Non-Match', 'Non-Match', 'Non-Match', 'Non-Match', 'Non-Match', 'Non-Match', 'Non-Match', 'Non-Match', 'Non-Match', 'Non-Match', 'Non-Match', 'Non-Match', 'Non-Match', 'Non-Match', 'Non-Match', 'Non-Match', 'Non-Match', 'Non-Match', 'Non-Match', 'Non-Match', 'Non-Match', 'Non-Match', 'Non-Match', 'Match', 'Non-Match', 'Non-Match', 'Non-Match', 'Non-Match', 'Non-Match', 'Non-Match', 'Non-Match', 'Non-Match', 'Non-Match', 'Non-Match', 'Non-Match', 'Non-Match', 'Non-Match', 'Non-Match', 'Match', 'Non-Match', 'Non-Match', 'Match', 'Non-Match', 'Non-Match', 'Match', 'Non-Match', 'Non-Match', 'Non-Match', 'Non-Match', 'Non-Match', 'Match', 'Non-Match', 'Non-Match', 'Match', 'Non-Match', 'Non-Match', 'Non-Match', 'Non-Match', 'Non-Match', 'Non-Match', 'Non-Match', 'Non-Match', 'Non-Match', 'Non-Match', 'Non-Match', 'Non-Match', 'Non-Match', 'Non-Match', 'Non-Match', 'Non-Match', 'Non-Match', 'Match', 'Non-Match', 'Non-Match', 'Non-Match', 'Non-Match', 'Non-Match', 'Non-Match', 'Non-Match', 'Non-Match', 'Non-Match', 'Non-Match', 'Non-Match', 'Non-Match', 'Match', 'Non-Match', 'Non-Match', 'Non-Match', 'Non-Match', 'Non-Match', 'Non-Match', 'Non-Match', 'Non-Match', 'Non-Match', 'Non-Match', 'Non-Match', 'Non-Match', 'Non-Match', 'Non-Match', 'Non-Match', 'Non-Match', 'Non-Match', 'Non-Match', 'Non-Match', 'Non-Match', 'Non-Match', 'Non-Match', 'Non-Match', 'Non-Match', 'Match', 'Non-Match', 'Non-Match', 'Non-Match', 'Non-Match', 'Non-Match', 'Non-Match', 'Non-Match', 'Non-Match', 'Non-Match', 'Non-Match', 'Non-Match', 'Non-Match', 'Non-Match', 'Match', 'Non-Match', 'Non-Match', 'Non-Match', 'Non-Match', 'Non-Match', 'Non-Match', 'Non-Match', 'Non-Match', 'Non-Match', 'Non-Match', 'Non-Match', 'Non-Match', 'Non-Match', 'Non-Match', 'Non-Match', 'Non-Match', 'Non-Match', 'Match', 'Non-Match', 'Non-Match', 'Non-Match', 'Match', 'Non-Match', 'Non-Match', 'Non-Match', 'Non-Match', 'Non-Match', 'Non-Match', 'Non-Match', 'Non-Match', 'Non-Match', 'Non-Match', 'Non-Match', 'Non-Match', 'Non-Match', 'Non-Match', 'Non-Match', 'Match', 'Non-Match', 'Non-Match', 'Non-Match', 'Non-Match', 'Non-Match', 'Non-Match', 'Non-Match', 'Non-Match', 'Non-Match', 'Non-Match', 'Non-Match', 'Non-Match', 'Non-Match', 'Non-Match', 'Non-Match', 'Non-Match', 'Non-Match', 'Non-Match', 'Non-Match', 'Non-Match', 'Non-Match', 'Non-Match', 'Non-Match', 'Non-Match', 'Non-Match', 'Non-Match', 'Non-Match', 'Non-Match', 'Non-Match', 'Non-Match', 'Non-Match', 'Non-Match', 'Non-Match', 'Non-Match', 'Non-Match', 'Non-Match', 'Non-Match', 'Non-Match', 'Match', 'Non-Match', 'Non-Match', 'Non-Match', 'Non-Match', 'Non-Match', 'Non-Match', 'Non-Match', 'Non-Match', 'Non-Match', 'Non-Match', 'Non-Match', 'Non-Match', 'Non-Match', 'Match', 'Non-Match', 'Non-Match', 'Non-Match', 'Non-Match', 'Non-Match', 'Non-Match', 'Non-Match', 'Non-Match', 'Match', 'Non-Match', 'Non-Match', 'Match', 'Non-Match', 'Non-Match', 'Non-Match', 'Non-Match', 'Non-Match', 'Non-Match', 'Non-Match', 'Non-Match', 'Non-Match', 'Match', 'Non-Match', 'Non-Match', 'Non-Match', 'Non-Match', 'Non-Match', 'Match', 'Non-Match', 'Non-Match', 'Non-Match', 'Match', 'Non-Match', 'Non-Match', 'Non-Match', 'Non-Match', 'Non-Match', 'Non-Match', 'Non-Match', 'Non-Match', 'Non-Match', 'Non-Match', 'Non-Match', 'Non-Match', 'Non-Match', 'Non-Match', 'Non-Match', 'Non-Match', 'Non-Match', 'Match', 'Non-Match', 'Non-Match', 'Non-Match', 'Non-Match', 'Non-Match', 'Non-Match', 'Non-Match', 'Non-Match', 'Non-Match', 'Non-Match', 'Non-Match', 'Non-Match', 'Non-Match', 'Non-Match', 'Non-Match', 'Non-Match', 'Non-Match', 'Non-Match', 'Non-Match', 'Non-Match', 'Non-Match', 'Non-Match', 'Non-Match', 'Non-Match', 'Non-Match', 'Non-Match', 'Non-Match', 'Non-Match', 'Non-Match', 'Non-Match', 'Non-Match', 'Match', 'Non-Match', 'Non-Match', 'Non-Match', 'Non-Match', 'Non-Match', 'Non-Match', 'Match', 'Non-Match', 'Non-Match', 'Match', 'Non-Match', 'Non-Match', 'Match', 'Non-Match', 'Non-Match', 'Non-Match', 'Match', 'Non-Match', 'Non-Match', 'Non-Match', 'Non-Match', 'Non-Match', 'Non-Match', 'Non-Match', 'Non-Match', 'Non-Match', 'Non-Match', 'Non-Match', 'Non-Match', 'Non-Match', 'Non-Match', 'Non-Match', 'Non-Match', 'Non-Match', 'Non-Match', 'Non-Match', 'Non-Match', 'Non-Match', 'Non-Match', 'Non-Match', 'Non-Match', 'Non-Match', 'Non-Match', 'Non-Match', 'Non-Match', 'Match', 'Non-Match', 'Non-Match', 'Non-Match', 'Non-Match', 'Non-Match', 'Non-Match', 'Non-Match', 'Non-Match', 'Non-Match', 'Non-Match', 'Non-Match', 'Non-Match', 'Non-Match', 'Non-Match', 'Non-Match', 'Match', 'Non-Match', 'Non-Match', 'Non-Match', 'Match', 'Non-Match', 'Non-Match', 'Non-Match', 'Non-Match', 'Non-Match', 'Non-Match', 'Match', 'Non-Match', 'Non-Match', 'Non-Match', 'Non-Match', 'Match', 'Non-Match', 'Non-Match', 'Non-Match', 'Non-Match', 'Non-Match', 'Match', 'Non-Match', 'Non-Match', 'Non-Match', 'Match', 'Non-Match', 'Match', 'Non-Match', 'Non-Match', 'Non-Match', 'Non-Match', 'Non-Match', 'Non-Match', 'Non-Match', 'Non-Match', 'Non-Match', 'Non-Match', 'Non-Match', 'Non-Match', 'Match', 'Non-Match', 'Non-Match', 'Non-Match', 'Non-Match', 'Match', 'Non-Match', 'Non-Match', 'Match', 'Match', 'Non-Match', 'Match', 'Non-Match', 'Non-Match', 'Non-Match', 'Non-Match', 'Non-Match', 'Non-Match', 'Non-Match', 'Non-Match', 'Non-Match', 'Match', 'Non-Match', 'Non-Match', 'Match', 'Non-Match', 'Match', 'Match', 'Match', 'Non-Match', 'Non-Match', 'Non-Match', 'Non-Match', 'Non-Match', 'Non-Match', 'Non-Match', 'Non-Match', 'Non-Match', 'Match', 'Non-Match', 'Non-Match', 'Non-Match', 'Non-Match', 'Non-Match', 'Non-Match', 'Non-Match', 'Match', 'Non-Match', 'Non-Match', 'Non-Match', 'Non-Match', 'Match', 'Non-Match', 'Non-Match', 'Non-Match', 'Match', 'Non-Match', 'Non-Match', 'Non-Match', 'Non-Match', 'Non-Match', 'Non-Match', 'Non-Match', 'Non-Match', 'Non-Match', 'Non-Match', 'Non-Match', 'Non-Match', 'Non-Match', 'Non-Match', 'Non-Match', 'Non-Match', 'Non-Match', 'Non-Match', 'Non-Match', 'Match', 'Non-Match', 'Non-Match', 'Non-Match', 'Non-Match', 'Non-Match', 'Match', 'Non-Match', 'Non-Match', 'Match', 'Non-Match', 'Non-Match', 'Match', 'Non-Match', 'Non-Match', 'Non-Match', 'Non-Match', 'Non-Match', 'Non-Match', 'Non-Match', 'Non-Match', 'Non-Match', 'Non-Match', 'Non-Match', 'Non-Match', 'Non-Match', 'Non-Match', 'Non-Match', 'Non-Match', 'Match', 'Non-Match', 'Non-Match', 'Non-Match', 'Non-Match', 'Non-Match', 'Non-Match', 'Non-Match', 'Non-Match', 'Non-Match', 'Non-Match', 'Non-Match', 'Non-Match', 'Non-Match', 'Non-Match', 'Non-Match', 'Non-Match', 'Non-Match', 'Non-Match', 'Non-Match', 'Non-Match', 'Non-Match', 'Non-Match', 'Non-Match', 'Non-Match', 'Non-Match', 'Non-Match', 'Non-Match', 'Non-Match', 'Non-Match', 'Non-Match', 'Non-Match', 'Non-Match', 'Non-Match', 'Match', 'Non-Match', 'Non-Match', 'Non-Match', 'Non-Match', 'Non-Match', 'Non-Match', 'Non-Match', 'Non-Match', 'Non-Match', 'Non-Match', 'Non-Match', 'Match', 'Match', 'Match', 'Non-Match', 'Non-Match', 'Non-Match', 'Non-Match', 'Non-Match', 'Non-Match', 'Match', 'Match', 'Non-Match', 'Match', 'Non-Match', 'Non-Match', 'Non-Match', 'Non-Match', 'Non-Match', 'Non-Match', 'Non-Match', 'Non-Match', 'Non-Match', 'Non-Match', 'Non-Match', 'Non-Match', 'Non-Match', 'Non-Match', 'Non-Match', 'Non-Match', 'Non-Match', 'Non-Match', 'Non-Match', 'Non-Match', 'Non-Match', 'Non-Match', 'Non-Match', 'Non-Match', 'Non-Match', 'Non-Match', 'Non-Match', 'Non-Match', 'Non-Match', 'Non-Match', 'Non-Match', 'Non-Match', 'Non-Match', 'Match', 'Non-Match', 'Non-Match', 'Non-Match', 'Non-Match', 'Non-Match', 'Non-Match', 'Non-Match', 'Non-Match', 'Non-Match', 'Non-Match', 'Non-Match', 'Non-Match', 'Non-Match', 'Match', 'Non-Match', 'Non-Match', 'Match', 'Non-Match', 'Non-Match', 'Match', 'Non-Match', 'Non-Match', 'Non-Match', 'Non-Match', 'Non-Match', 'Non-Match', 'Non-Match', 'Non-Match', 'Non-Match', 'Non-Match', 'Non-Match', 'Non-Match', 'Non-Match', 'Non-Match', 'Non-Match', 'Non-Match', 'Non-Match', 'Match', 'Non-Match', 'Non-Match', 'Non-Match', 'Non-Match', 'Non-Match', 'Non-Match', 'Non-Match', 'Non-Match', 'Non-Match', 'Non-Match', 'Non-Match', 'Non-Match', 'Non-Match', 'Non-Match', 'Non-Match', 'Non-Match', 'Non-Match', 'Match', 'Non-Match', 'Match', 'Non-Match', 'Non-Match', 'Non-Match', 'Non-Match', 'Non-Match', 'Non-Match', 'Non-Match', 'Non-Match', 'Non-Match', 'Non-Match', 'Non-Match', 'Non-Match', 'Non-Match', 'Non-Match', 'Non-Match', 'Non-Match', 'Non-Match', 'Non-Match', 'Non-Match', 'Non-Match', 'Non-Match', 'Non-Match', 'Non-Match', 'Match', 'Non-Match', 'Non-Match', 'Non-Match', 'Non-Match', 'Non-Match', 'Non-Match', 'Non-Match', 'Non-Match', 'Non-Match', 'Non-Match', 'Non-Match', 'Non-Match', 'Non-Match', 'Non-Match', 'Non-Match', 'Non-Match', 'Non-Match', 'Non-Match', 'Non-Match', 'Non-Match', 'Non-Match', 'Non-Match', 'Non-Match', 'Non-Match', 'Non-Match', 'Non-Match', 'Non-Match', 'Non-Match', 'Non-Match', 'Non-Match', 'Non-Match', 'Match', 'Non-Match', 'Non-Match', 'Non-Match', 'Non-Match', 'Non-Match', 'Non-Match', 'Non-Match', 'Non-Match', 'Non-Match', 'Non-Match', 'Non-Match', 'Match', 'Non-Match', 'Non-Match', 'Non-Match', 'Non-Match', 'Match', 'Non-Match', 'Non-Match', 'Non-Match', 'Non-Match', 'Non-Match', 'Non-Match', 'Non-Match', 'Non-Match', 'Non-Match', 'Match', 'Non-Match', 'Non-Match', 'Match', 'Non-Match', 'Non-Match', 'Match', 'Non-Match', 'Non-Match', 'Non-Match', 'Non-Match', 'Non-Match', 'Non-Match', 'Non-Match', 'Non-Match', 'Non-Match', 'Non-Match', 'Non-Match', 'Non-Match', 'Non-Match', 'Match', 'Non-Match', 'Non-Match', 'Non-Match', 'Non-Match', 'Match', 'Non-Match', 'Non-Match', 'Non-Match', 'Non-Match', 'Non-Match', 'Non-Match', 'Non-Match', 'Non-Match', 'Match', 'Non-Match', 'Non-Match', 'Non-Match', 'Non-Match', 'Non-Match', 'Non-Match', 'Non-Match', 'Non-Match', 'Non-Match', 'Match', 'Non-Match', 'Non-Match', 'Non-Match', 'Non-Match', 'Non-Match', 'Non-Match', 'Non-Match', 'Non-Match', 'Non-Match', 'Match', 'Non-Match', 'Non-Match', 'Non-Match', 'Non-Match', 'Non-Match', 'Match', 'Non-Match', 'Non-Match', 'Non-Match', 'Non-Match', 'Non-Match', 'Non-Match', 'Non-Match', 'Non-Match', 'Non-Match', 'Non-Match', 'Match', 'Non-Match', 'Non-Match', 'Non-Match', 'Non-Match', 'Match', 'Match', 'Non-Match', 'Non-Match', 'Non-Match', 'Match', 'Non-Match', 'Non-Match', 'Non-Match', 'Non-Match', 'Match', 'Non-Match', 'Match', 'Non-Match', 'Non-Match', 'Non-Match', 'Non-Match', 'Non-Match', 'Non-Match', 'Match', 'Non-Match', 'Non-Match', 'Match', 'Non-Match', 'Non-Match', 'Non-Match', 'Non-Match', 'Match', 'Match', 'Match', 'Match', 'Non-Match', 'Non-Match', 'Non-Match', 'Non-Match', 'Non-Match', 'Non-Match', 'Non-Match', 'Match', 'Match', 'Non-Match', 'Non-Match', 'Non-Match', 'Non-Match', 'Non-Match', 'Non-Match', 'Non-Match', 'Non-Match', 'Match', 'Non-Match', 'Non-Match', 'Non-Match', 'Non-Match', 'Non-Match', 'Non-Match', 'Non-Match', 'Non-Match', 'Non-Match', 'Match', 'Non-Match', 'Match', 'Non-Match', 'Match', 'Non-Match', 'Match', 'Non-Match', 'Non-Match', 'Non-Match', 'Non-Match', 'Match', 'Non-Match', 'Non-Match', 'Non-Match', 'Non-Match', 'Non-Match', 'Non-Match', 'Non-Match', 'Non-Match', 'Non-Match', 'Non-Match', 'Match', 'Non-Match', 'Non-Match', 'Non-Match', 'Non-Match', 'Non-Match', 'Non-Match', 'Match', 'Non-Match', 'Non-Match', 'Non-Match', 'Non-Match', 'Non-Match', 'Non-Match', 'Match', 'Match', 'Non-Match', 'Non-Match', 'Non-Match', 'Non-Match', 'Non-Match', 'Match', 'Match', 'Non-Match', 'Match', 'Non-Match', 'Non-Match', 'Non-Match', 'Match', 'Non-Match', 'Non-Match', 'Non-Match', 'Non-Match', 'Non-Match', 'Non-Match', 'Non-Match', 'Non-Match', 'Match', 'Non-Match', 'Non-Match', 'Non-Match', 'Non-Match', 'Non-Match', 'Non-Match', 'Non-Match', 'Non-Match', 'Non-Match', 'Non-Match', 'Non-Match', 'Non-Match', 'Match', 'Match', 'Non-Match', 'Non-Match', 'Non-Match', 'Match', 'Non-Match', 'Non-Match', 'Match', 'Non-Match', 'Non-Match', 'Non-Match', 'Match', 'Non-Match', 'Non-Match', 'Match', 'Non-Match', 'Non-Match', 'Match', 'Match', 'Non-Match', 'Non-Match', 'Non-Match', 'Non-Match', 'Non-Match', 'Non-Match', 'Non-Match', 'Non-Match', 'Non-Match', 'Match', 'Non-Match', 'Match', 'Non-Match', 'Non-Match', 'Non-Match', 'Match', 'Non-Match', 'Non-Match', 'Match', 'Non-Match', 'Non-Match', 'Match', 'Non-Match', 'Non-Match', 'Non-Match', 'Non-Match', 'Non-Match', 'Non-Match', 'Non-Match', 'Non-Match', 'Non-Match', 'Non-Match', 'Non-Match', 'Non-Match', 'Match', 'Non-Match', 'Match', 'Non-Match', 'Non-Match', 'Match', 'Non-Match', 'Match', 'Non-Match', 'Match', 'Match', 'Non-Match', 'Non-Match', 'Match', 'Non-Match', 'Match', 'Non-Match', 'Non-Match', 'Non-Match', 'Non-Match', 'Match', 'Non-Match', 'Non-Match', 'Match', 'Non-Match', 'Non-Match', 'Non-Match', 'Non-Match', 'Non-Match', 'Non-Match', 'Non-Match', 'Match', 'Non-Match', 'Non-Match', 'Non-Match', 'Non-Match', 'Match', 'Non-Match', 'Non-Match', 'Non-Match', 'Non-Match', 'Match', 'Non-Match', 'Non-Match', 'Non-Match', 'Non-Match', 'Non-Match', 'Non-Match', 'Non-Match', 'Match', 'Match', 'Non-Match', 'Non-Match', 'Non-Match', 'Non-Match', 'Non-Match', 'Non-Match', 'Non-Match', 'Non-Match', 'Non-Match', 'Non-Match', 'Non-Match', 'Match', 'Non-Match', 'Non-Match', 'Non-Match', 'Non-Match', 'Non-Match', 'Match', 'Non-Match', 'Non-Match', 'Match', 'Non-Match', 'Non-Match', 'Match', 'Match', 'Non-Match', 'Match', 'Match', 'Match', 'Non-Match', 'Match', 'Non-Match', 'Non-Match', 'Non-Match', 'Non-Match', 'Match', 'Non-Match', 'Match', 'Non-Match']\n"
     ]
    }
   ],
   "source": [
    "import pandas as pd\n",
    "\n",
    "def classify_features(features, match_threshold, non_match_threshold):\n",
    "    classifications = []\n",
    "    for index, row in features.iterrows():\n",
    "        # Extract feature values for the current comparison\n",
    "        feature_values = row.values\n",
    "        \n",
    "        # Check if all features meet match threshold\n",
    "        if all(score >= match_threshold for score in feature_values):\n",
    "            classifications.append('Match')\n",
    "        elif any(score < non_match_threshold for score in feature_values):\n",
    "            classifications.append('Non-Match')\n",
    "        else:\n",
    "            classifications.append('Potential Match')\n",
    "    return classifications\n",
    "\n",
    "\n",
    "match_threshold = 0.8\n",
    "non_match_threshold = 0.5\n",
    "\n",
    "classifications = classify_features(features, match_threshold, non_match_threshold)\n",
    "print(classifications)\n"
   ]
  },
  {
   "cell_type": "code",
   "execution_count": 81,
   "id": "b6ca655c",
   "metadata": {},
   "outputs": [
    {
     "name": "stdout",
     "output_type": "stream",
     "text": [
      "           first_name  sex  dob  lastname   Category\n",
      "0    427            1    1    0       0.0  Non-Match\n",
      "     486            1    1    0       0.0  Non-Match\n",
      "     550            1    1    0       0.0  Non-Match\n",
      "     637            1    1    0       0.0  Non-Match\n",
      "     1136           1    1    0       0.0  Non-Match\n",
      "...               ...  ...  ...       ...        ...\n",
      "4084 1548           1    1    0       1.0  Non-Match\n",
      "4097 1031           1    1    1       1.0      Match\n",
      "     2867           1    1    0       1.0  Non-Match\n",
      "4110 126            1    1    1       1.0      Match\n",
      "     1349           1    1    0       1.0  Non-Match\n",
      "\n",
      "[34093 rows x 5 columns]\n"
     ]
    }
   ],
   "source": [
    "import pandas as pd\n",
    "\n",
    "def classify_features(features_df, match_threshold, non_match_threshold):\n",
    "    classifications = []\n",
    "    for index, row in features_df.iterrows():\n",
    "        # Extract feature values for the current comparison\n",
    "        feature_values = row.values\n",
    "        \n",
    "        # Check if all features meet match threshold\n",
    "        if all(score >= match_threshold for score in feature_values):\n",
    "            classifications.append('Match')\n",
    "        elif any(score < non_match_threshold for score in feature_values):\n",
    "            classifications.append('Non-Match')\n",
    "        else:\n",
    "            classifications.append('Potential Match')\n",
    "    \n",
    "    # Add a new column 'Category' to the DataFrame with the classification results\n",
    "    features_df['Category'] = classifications\n",
    "    return features_df\n",
    "\n",
    "features_df = pd.DataFrame(features)\n",
    "\n",
    "match_threshold = 0.8\n",
    "non_match_threshold = 0.5\n",
    "\n",
    "classified_features_df = classify_features(features_df, match_threshold, non_match_threshold)\n",
    "print(classified_features_df)\n"
   ]
  },
  {
   "cell_type": "code",
   "execution_count": 83,
   "id": "4cb5a7a1",
   "metadata": {},
   "outputs": [
    {
     "data": {
      "text/plain": [
       "2"
      ]
     },
     "execution_count": 83,
     "metadata": {},
     "output_type": "execute_result"
    }
   ],
   "source": [
    "classified_features_df['Category'].nunique()"
   ]
  },
  {
   "cell_type": "code",
   "execution_count": 84,
   "id": "c0a9ac12",
   "metadata": {},
   "outputs": [
    {
     "data": {
      "text/plain": [
       "Category\n",
       "Non-Match    33240\n",
       "Match          853\n",
       "Name: count, dtype: int64"
      ]
     },
     "execution_count": 84,
     "metadata": {},
     "output_type": "execute_result"
    }
   ],
   "source": [
    "classified_features_df['Category'].value_counts()"
   ]
  },
  {
   "cell_type": "code",
   "execution_count": null,
   "id": "1f726f18",
   "metadata": {},
   "outputs": [],
   "source": []
  }
 ],
 "metadata": {
  "kernelspec": {
   "display_name": "Python 3 (ipykernel)",
   "language": "python",
   "name": "python3"
  },
  "language_info": {
   "codemirror_mode": {
    "name": "ipython",
    "version": 3
   },
   "file_extension": ".py",
   "mimetype": "text/x-python",
   "name": "python",
   "nbconvert_exporter": "python",
   "pygments_lexer": "ipython3",
   "version": "3.11.5"
  }
 },
 "nbformat": 4,
 "nbformat_minor": 5
}
